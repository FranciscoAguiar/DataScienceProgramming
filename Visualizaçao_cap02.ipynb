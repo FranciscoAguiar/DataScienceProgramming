{
  "nbformat": 4,
  "nbformat_minor": 0,
  "metadata": {
    "colab": {
      "name": "Visualizaçao-cap02.ipynb",
      "provenance": [],
      "collapsed_sections": [],
      "authorship_tag": "ABX9TyMUVEi1c4ICsgk26L5FFivv",
      "include_colab_link": true
    },
    "kernelspec": {
      "name": "python3",
      "display_name": "Python 3"
    }
  },
  "cells": [
    {
      "cell_type": "markdown",
      "metadata": {
        "id": "view-in-github",
        "colab_type": "text"
      },
      "source": [
        "<a href=\"https://colab.research.google.com/github/FranciscoAguiar/DataScienceProgramming/blob/master/Visualiza%C3%A7ao_cap02.ipynb\" target=\"_parent\"><img src=\"https://colab.research.google.com/assets/colab-badge.svg\" alt=\"Open In Colab\"/></a>"
      ]
    },
    {
      "cell_type": "code",
      "metadata": {
        "id": "LRMSiEd7V6Kn"
      },
      "source": [
        "import matplotlib.pyplot as plt\n",
        "import numpy as np\n",
        "import pandas as pd\n",
        "import seaborn as sns\n",
        "%matplotlib inline"
      ],
      "execution_count": 11,
      "outputs": []
    },
    {
      "cell_type": "code",
      "metadata": {
        "colab": {
          "base_uri": "https://localhost:8080/"
        },
        "id": "TgIg4QX5tyZc",
        "outputId": "998ba70b-274a-4697-ee95-41c5177a7385"
      },
      "source": [
        "!pwd"
      ],
      "execution_count": 12,
      "outputs": [
        {
          "output_type": "stream",
          "text": [
            "/content\n"
          ],
          "name": "stdout"
        }
      ]
    },
    {
      "cell_type": "code",
      "metadata": {
        "id": "YW8iOmdvvKNu"
      },
      "source": [
        "!pip install -q xlrd"
      ],
      "execution_count": 18,
      "outputs": []
    },
    {
      "cell_type": "code",
      "metadata": {
        "colab": {
          "base_uri": "https://localhost:8080/"
        },
        "id": "lVBjA_yIvaE1",
        "outputId": "8d302c70-c3d3-43ca-8500-d27d1571ad51"
      },
      "source": [
        "!pip install xlrd"
      ],
      "execution_count": 20,
      "outputs": [
        {
          "output_type": "stream",
          "text": [
            "Requirement already satisfied: xlrd in /usr/local/lib/python3.6/dist-packages (1.1.0)\n"
          ],
          "name": "stdout"
        }
      ]
    },
    {
      "cell_type": "code",
      "metadata": {
        "colab": {
          "base_uri": "https://localhost:8080/"
        },
        "id": "Zzv0zoB2wJnR",
        "outputId": "da7fe7ea-8788-4af3-d8f2-f232e0c337dc"
      },
      "source": [
        "!pip install openpyxl --upgrade"
      ],
      "execution_count": 26,
      "outputs": [
        {
          "output_type": "stream",
          "text": [
            "Collecting openpyxl\n",
            "\u001b[?25l  Downloading https://files.pythonhosted.org/packages/d4/c5/1a5f82b3020bfb27f21b302f96c8ae6a34475070015d1b1e0b197a97e2af/openpyxl-3.0.6-py2.py3-none-any.whl (242kB)\n",
            "\r\u001b[K     |█▍                              | 10kB 16.1MB/s eta 0:00:01\r\u001b[K     |██▊                             | 20kB 20.6MB/s eta 0:00:01\r\u001b[K     |████                            | 30kB 8.0MB/s eta 0:00:01\r\u001b[K     |█████▍                          | 40kB 8.1MB/s eta 0:00:01\r\u001b[K     |██████▊                         | 51kB 4.2MB/s eta 0:00:01\r\u001b[K     |████████                        | 61kB 4.5MB/s eta 0:00:01\r\u001b[K     |█████████▍                      | 71kB 4.5MB/s eta 0:00:01\r\u001b[K     |██████████▉                     | 81kB 4.9MB/s eta 0:00:01\r\u001b[K     |████████████▏                   | 92kB 5.2MB/s eta 0:00:01\r\u001b[K     |█████████████▌                  | 102kB 5.4MB/s eta 0:00:01\r\u001b[K     |██████████████▉                 | 112kB 5.4MB/s eta 0:00:01\r\u001b[K     |████████████████▏               | 122kB 5.4MB/s eta 0:00:01\r\u001b[K     |█████████████████▌              | 133kB 5.4MB/s eta 0:00:01\r\u001b[K     |██████████████████▉             | 143kB 5.4MB/s eta 0:00:01\r\u001b[K     |████████████████████▎           | 153kB 5.4MB/s eta 0:00:01\r\u001b[K     |█████████████████████▋          | 163kB 5.4MB/s eta 0:00:01\r\u001b[K     |███████████████████████         | 174kB 5.4MB/s eta 0:00:01\r\u001b[K     |████████████████████████▎       | 184kB 5.4MB/s eta 0:00:01\r\u001b[K     |█████████████████████████▋      | 194kB 5.4MB/s eta 0:00:01\r\u001b[K     |███████████████████████████     | 204kB 5.4MB/s eta 0:00:01\r\u001b[K     |████████████████████████████▎   | 215kB 5.4MB/s eta 0:00:01\r\u001b[K     |█████████████████████████████▊  | 225kB 5.4MB/s eta 0:00:01\r\u001b[K     |███████████████████████████████ | 235kB 5.4MB/s eta 0:00:01\r\u001b[K     |████████████████████████████████| 245kB 5.4MB/s \n",
            "\u001b[?25hRequirement already satisfied, skipping upgrade: jdcal in /usr/local/lib/python3.6/dist-packages (from openpyxl) (1.4.1)\n",
            "Requirement already satisfied, skipping upgrade: et-xmlfile in /usr/local/lib/python3.6/dist-packages (from openpyxl) (1.0.1)\n",
            "Installing collected packages: openpyxl\n",
            "  Found existing installation: openpyxl 2.5.9\n",
            "    Uninstalling openpyxl-2.5.9:\n",
            "      Successfully uninstalled openpyxl-2.5.9\n",
            "Successfully installed openpyxl-3.0.6\n"
          ],
          "name": "stdout"
        }
      ]
    },
    {
      "cell_type": "code",
      "metadata": {
        "id": "BaS3ta31aS6d"
      },
      "source": [
        "df_vendas_itens = pd.read_excel('/content/sample_data/Online_Retail.xlsx')"
      ],
      "execution_count": 28,
      "outputs": []
    },
    {
      "cell_type": "code",
      "metadata": {
        "colab": {
          "base_uri": "https://localhost:8080/"
        },
        "id": "wnO5sss-yGtX",
        "outputId": "80a6485d-530e-461e-c2b0-c669d3539ebf"
      },
      "source": [
        "df_vendas_itens.shape"
      ],
      "execution_count": 30,
      "outputs": [
        {
          "output_type": "execute_result",
          "data": {
            "text/plain": [
              "(541909, 8)"
            ]
          },
          "metadata": {
            "tags": []
          },
          "execution_count": 30
        }
      ]
    },
    {
      "cell_type": "code",
      "metadata": {
        "colab": {
          "base_uri": "https://localhost:8080/"
        },
        "id": "kqe6r_5WyL3W",
        "outputId": "7684722b-6a21-4658-f7f1-9d93a41958d8"
      },
      "source": [
        "df_vendas_itens.info()"
      ],
      "execution_count": 32,
      "outputs": [
        {
          "output_type": "stream",
          "text": [
            "<class 'pandas.core.frame.DataFrame'>\n",
            "RangeIndex: 541909 entries, 0 to 541908\n",
            "Data columns (total 8 columns):\n",
            " #   Column       Non-Null Count   Dtype         \n",
            "---  ------       --------------   -----         \n",
            " 0   InvoiceNo    541909 non-null  object        \n",
            " 1   StockCode    541909 non-null  object        \n",
            " 2   Description  540455 non-null  object        \n",
            " 3   Quantity     541909 non-null  int64         \n",
            " 4   InvoiceDate  541909 non-null  datetime64[ns]\n",
            " 5   UnitPrice    541909 non-null  float64       \n",
            " 6   CustomerID   406829 non-null  float64       \n",
            " 7   Country      541909 non-null  object        \n",
            "dtypes: datetime64[ns](1), float64(2), int64(1), object(4)\n",
            "memory usage: 33.1+ MB\n"
          ],
          "name": "stdout"
        }
      ]
    },
    {
      "cell_type": "code",
      "metadata": {
        "id": "NwLN33u5yQJJ"
      },
      "source": [
        "#apagar os nulos\n",
        "df_vendas_itens.dropna(inplace=True)"
      ],
      "execution_count": 33,
      "outputs": []
    },
    {
      "cell_type": "code",
      "metadata": {
        "colab": {
          "base_uri": "https://localhost:8080/"
        },
        "id": "yFnyS9Cqya_g",
        "outputId": "f12d1dad-fb53-47e0-89b5-f3241fd6a9eb"
      },
      "source": [
        "df_vendas_itens.shape"
      ],
      "execution_count": 34,
      "outputs": [
        {
          "output_type": "execute_result",
          "data": {
            "text/plain": [
              "(406829, 8)"
            ]
          },
          "metadata": {
            "tags": []
          },
          "execution_count": 34
        }
      ]
    },
    {
      "cell_type": "code",
      "metadata": {
        "id": "WJiFYcrhyec6"
      },
      "source": [
        "#conversao do tipo\n",
        "df_vendas_itens.CustomerID = df_vendas_itens.CustomerID.astype(int)"
      ],
      "execution_count": 35,
      "outputs": []
    },
    {
      "cell_type": "code",
      "metadata": {
        "colab": {
          "base_uri": "https://localhost:8080/"
        },
        "id": "gwW8Wk3Cy6Z2",
        "outputId": "240d9c61-2d2f-434a-eeea-3863278dcfdb"
      },
      "source": [
        "df_vendas_itens.info()"
      ],
      "execution_count": 36,
      "outputs": [
        {
          "output_type": "stream",
          "text": [
            "<class 'pandas.core.frame.DataFrame'>\n",
            "Int64Index: 406829 entries, 0 to 541908\n",
            "Data columns (total 8 columns):\n",
            " #   Column       Non-Null Count   Dtype         \n",
            "---  ------       --------------   -----         \n",
            " 0   InvoiceNo    406829 non-null  object        \n",
            " 1   StockCode    406829 non-null  object        \n",
            " 2   Description  406829 non-null  object        \n",
            " 3   Quantity     406829 non-null  int64         \n",
            " 4   InvoiceDate  406829 non-null  datetime64[ns]\n",
            " 5   UnitPrice    406829 non-null  float64       \n",
            " 6   CustomerID   406829 non-null  int64         \n",
            " 7   Country      406829 non-null  object        \n",
            "dtypes: datetime64[ns](1), float64(1), int64(2), object(4)\n",
            "memory usage: 27.9+ MB\n"
          ],
          "name": "stdout"
        }
      ]
    },
    {
      "cell_type": "code",
      "metadata": {
        "id": "We8JK0Zqy-W7"
      },
      "source": [
        "#criacao de coluna\n",
        "df_vendas_itens['mes_venda']=df_vendas_itens.InvoiceDate.dt.strftime('%Y-%m')"
      ],
      "execution_count": 37,
      "outputs": []
    },
    {
      "cell_type": "code",
      "metadata": {
        "colab": {
          "base_uri": "https://localhost:8080/",
          "height": 233
        },
        "id": "Dz0Ry8JmzRXS",
        "outputId": "0366c147-355f-4178-c3e4-fd2acc10ba22"
      },
      "source": [
        "df_vendas_itens.head(2)"
      ],
      "execution_count": 38,
      "outputs": [
        {
          "output_type": "execute_result",
          "data": {
            "text/html": [
              "<div>\n",
              "<style scoped>\n",
              "    .dataframe tbody tr th:only-of-type {\n",
              "        vertical-align: middle;\n",
              "    }\n",
              "\n",
              "    .dataframe tbody tr th {\n",
              "        vertical-align: top;\n",
              "    }\n",
              "\n",
              "    .dataframe thead th {\n",
              "        text-align: right;\n",
              "    }\n",
              "</style>\n",
              "<table border=\"1\" class=\"dataframe\">\n",
              "  <thead>\n",
              "    <tr style=\"text-align: right;\">\n",
              "      <th></th>\n",
              "      <th>InvoiceNo</th>\n",
              "      <th>StockCode</th>\n",
              "      <th>Description</th>\n",
              "      <th>Quantity</th>\n",
              "      <th>InvoiceDate</th>\n",
              "      <th>UnitPrice</th>\n",
              "      <th>CustomerID</th>\n",
              "      <th>Country</th>\n",
              "      <th>mes_venda</th>\n",
              "    </tr>\n",
              "  </thead>\n",
              "  <tbody>\n",
              "    <tr>\n",
              "      <th>0</th>\n",
              "      <td>536365</td>\n",
              "      <td>85123A</td>\n",
              "      <td>WHITE HANGING HEART T-LIGHT HOLDER</td>\n",
              "      <td>6</td>\n",
              "      <td>2010-12-01 08:26:00</td>\n",
              "      <td>2.55</td>\n",
              "      <td>17850</td>\n",
              "      <td>United Kingdom</td>\n",
              "      <td>2010-12</td>\n",
              "    </tr>\n",
              "    <tr>\n",
              "      <th>1</th>\n",
              "      <td>536365</td>\n",
              "      <td>71053</td>\n",
              "      <td>WHITE METAL LANTERN</td>\n",
              "      <td>6</td>\n",
              "      <td>2010-12-01 08:26:00</td>\n",
              "      <td>3.39</td>\n",
              "      <td>17850</td>\n",
              "      <td>United Kingdom</td>\n",
              "      <td>2010-12</td>\n",
              "    </tr>\n",
              "  </tbody>\n",
              "</table>\n",
              "</div>"
            ],
            "text/plain": [
              "  InvoiceNo StockCode  ...         Country  mes_venda\n",
              "0    536365    85123A  ...  United Kingdom    2010-12\n",
              "1    536365     71053  ...  United Kingdom    2010-12\n",
              "\n",
              "[2 rows x 9 columns]"
            ]
          },
          "metadata": {
            "tags": []
          },
          "execution_count": 38
        }
      ]
    },
    {
      "cell_type": "code",
      "metadata": {
        "colab": {
          "base_uri": "https://localhost:8080/",
          "height": 233
        },
        "id": "J0LIXYtEzk2f",
        "outputId": "cd5acf69-eb96-4a67-e37f-022fbd994fd8"
      },
      "source": [
        "# criacao da coluna total\n",
        "df_vendas_itens['total']= df_vendas_itens['Quantity'] * df_vendas_itens['UnitPrice']\n",
        "df_vendas_itens.head(2)"
      ],
      "execution_count": 43,
      "outputs": [
        {
          "output_type": "execute_result",
          "data": {
            "text/html": [
              "<div>\n",
              "<style scoped>\n",
              "    .dataframe tbody tr th:only-of-type {\n",
              "        vertical-align: middle;\n",
              "    }\n",
              "\n",
              "    .dataframe tbody tr th {\n",
              "        vertical-align: top;\n",
              "    }\n",
              "\n",
              "    .dataframe thead th {\n",
              "        text-align: right;\n",
              "    }\n",
              "</style>\n",
              "<table border=\"1\" class=\"dataframe\">\n",
              "  <thead>\n",
              "    <tr style=\"text-align: right;\">\n",
              "      <th></th>\n",
              "      <th>InvoiceNo</th>\n",
              "      <th>StockCode</th>\n",
              "      <th>Description</th>\n",
              "      <th>Quantity</th>\n",
              "      <th>InvoiceDate</th>\n",
              "      <th>UnitPrice</th>\n",
              "      <th>CustomerID</th>\n",
              "      <th>Country</th>\n",
              "      <th>mes_venda</th>\n",
              "      <th>total</th>\n",
              "    </tr>\n",
              "  </thead>\n",
              "  <tbody>\n",
              "    <tr>\n",
              "      <th>0</th>\n",
              "      <td>536365</td>\n",
              "      <td>85123A</td>\n",
              "      <td>WHITE HANGING HEART T-LIGHT HOLDER</td>\n",
              "      <td>6</td>\n",
              "      <td>2010-12-01 08:26:00</td>\n",
              "      <td>2.55</td>\n",
              "      <td>17850</td>\n",
              "      <td>United Kingdom</td>\n",
              "      <td>2010-12</td>\n",
              "      <td>15.30</td>\n",
              "    </tr>\n",
              "    <tr>\n",
              "      <th>1</th>\n",
              "      <td>536365</td>\n",
              "      <td>71053</td>\n",
              "      <td>WHITE METAL LANTERN</td>\n",
              "      <td>6</td>\n",
              "      <td>2010-12-01 08:26:00</td>\n",
              "      <td>3.39</td>\n",
              "      <td>17850</td>\n",
              "      <td>United Kingdom</td>\n",
              "      <td>2010-12</td>\n",
              "      <td>20.34</td>\n",
              "    </tr>\n",
              "  </tbody>\n",
              "</table>\n",
              "</div>"
            ],
            "text/plain": [
              "  InvoiceNo StockCode  ... mes_venda  total\n",
              "0    536365    85123A  ...   2010-12  15.30\n",
              "1    536365     71053  ...   2010-12  20.34\n",
              "\n",
              "[2 rows x 10 columns]"
            ]
          },
          "metadata": {
            "tags": []
          },
          "execution_count": 43
        }
      ]
    },
    {
      "cell_type": "code",
      "metadata": {
        "id": "MoM-7P8Cz3an"
      },
      "source": [
        "df_vendas_itens.columns = ['venda_id', 'produto_id', 'descricao', 'quantidade', 'data_venda', 'preco', 'cliente_id', 'cliente_pais', 'mes_venda', 'total']"
      ],
      "execution_count": 45,
      "outputs": []
    },
    {
      "cell_type": "code",
      "metadata": {
        "colab": {
          "base_uri": "https://localhost:8080/",
          "height": 233
        },
        "id": "r1AhRgxn0-el",
        "outputId": "bfe3789a-789d-4ea2-bbf3-8fb3a63d1dd7"
      },
      "source": [
        "df_vendas_itens.head(2)"
      ],
      "execution_count": 46,
      "outputs": [
        {
          "output_type": "execute_result",
          "data": {
            "text/html": [
              "<div>\n",
              "<style scoped>\n",
              "    .dataframe tbody tr th:only-of-type {\n",
              "        vertical-align: middle;\n",
              "    }\n",
              "\n",
              "    .dataframe tbody tr th {\n",
              "        vertical-align: top;\n",
              "    }\n",
              "\n",
              "    .dataframe thead th {\n",
              "        text-align: right;\n",
              "    }\n",
              "</style>\n",
              "<table border=\"1\" class=\"dataframe\">\n",
              "  <thead>\n",
              "    <tr style=\"text-align: right;\">\n",
              "      <th></th>\n",
              "      <th>venda_id</th>\n",
              "      <th>produto_id</th>\n",
              "      <th>descricao</th>\n",
              "      <th>quantidade</th>\n",
              "      <th>data_venda</th>\n",
              "      <th>preco</th>\n",
              "      <th>cliente_id</th>\n",
              "      <th>cliente_pais</th>\n",
              "      <th>mes_venda</th>\n",
              "      <th>total</th>\n",
              "    </tr>\n",
              "  </thead>\n",
              "  <tbody>\n",
              "    <tr>\n",
              "      <th>0</th>\n",
              "      <td>536365</td>\n",
              "      <td>85123A</td>\n",
              "      <td>WHITE HANGING HEART T-LIGHT HOLDER</td>\n",
              "      <td>6</td>\n",
              "      <td>2010-12-01 08:26:00</td>\n",
              "      <td>2.55</td>\n",
              "      <td>17850</td>\n",
              "      <td>United Kingdom</td>\n",
              "      <td>2010-12</td>\n",
              "      <td>15.30</td>\n",
              "    </tr>\n",
              "    <tr>\n",
              "      <th>1</th>\n",
              "      <td>536365</td>\n",
              "      <td>71053</td>\n",
              "      <td>WHITE METAL LANTERN</td>\n",
              "      <td>6</td>\n",
              "      <td>2010-12-01 08:26:00</td>\n",
              "      <td>3.39</td>\n",
              "      <td>17850</td>\n",
              "      <td>United Kingdom</td>\n",
              "      <td>2010-12</td>\n",
              "      <td>20.34</td>\n",
              "    </tr>\n",
              "  </tbody>\n",
              "</table>\n",
              "</div>"
            ],
            "text/plain": [
              "  venda_id produto_id  ... mes_venda  total\n",
              "0   536365     85123A  ...   2010-12  15.30\n",
              "1   536365      71053  ...   2010-12  20.34\n",
              "\n",
              "[2 rows x 10 columns]"
            ]
          },
          "metadata": {
            "tags": []
          },
          "execution_count": 46
        }
      ]
    },
    {
      "cell_type": "code",
      "metadata": {
        "id": "RjsGhcKr1ASA"
      },
      "source": [
        "df_vendas_itens = df_vendas_itens[['venda_id', 'mes_venda', 'data_venda', 'cliente_id', 'cliente_pais', 'produto_id', 'descricao', 'quantidade', 'preco', 'total']]"
      ],
      "execution_count": 47,
      "outputs": []
    },
    {
      "cell_type": "code",
      "metadata": {
        "colab": {
          "base_uri": "https://localhost:8080/"
        },
        "id": "n-DNqoF81tgG",
        "outputId": "25c8d86a-6c7f-4ec6-be39-125a868bb49d"
      },
      "source": [
        "print(df_vendas_itens.dtypes)"
      ],
      "execution_count": 48,
      "outputs": [
        {
          "output_type": "stream",
          "text": [
            "venda_id                object\n",
            "mes_venda               object\n",
            "data_venda      datetime64[ns]\n",
            "cliente_id               int64\n",
            "cliente_pais            object\n",
            "produto_id              object\n",
            "descricao               object\n",
            "quantidade               int64\n",
            "preco                  float64\n",
            "total                  float64\n",
            "dtype: object\n"
          ],
          "name": "stdout"
        }
      ]
    },
    {
      "cell_type": "code",
      "metadata": {
        "colab": {
          "base_uri": "https://localhost:8080/"
        },
        "id": "oZ8ihW5b1xcC",
        "outputId": "9524332b-f060-4708-bb71-f988cd7c85ef"
      },
      "source": [
        "df_vendas_itens.shape"
      ],
      "execution_count": 49,
      "outputs": [
        {
          "output_type": "execute_result",
          "data": {
            "text/plain": [
              "(397884, 10)"
            ]
          },
          "metadata": {
            "tags": []
          },
          "execution_count": 49
        }
      ]
    },
    {
      "cell_type": "code",
      "metadata": {
        "colab": {
          "base_uri": "https://localhost:8080/",
          "height": 915
        },
        "id": "24juUsDc2Jwy",
        "outputId": "43b28e00-a347-40b9-fe52-6e747bf329ad"
      },
      "source": [
        "df_vendas_itens"
      ],
      "execution_count": 50,
      "outputs": [
        {
          "output_type": "execute_result",
          "data": {
            "text/html": [
              "<div>\n",
              "<style scoped>\n",
              "    .dataframe tbody tr th:only-of-type {\n",
              "        vertical-align: middle;\n",
              "    }\n",
              "\n",
              "    .dataframe tbody tr th {\n",
              "        vertical-align: top;\n",
              "    }\n",
              "\n",
              "    .dataframe thead th {\n",
              "        text-align: right;\n",
              "    }\n",
              "</style>\n",
              "<table border=\"1\" class=\"dataframe\">\n",
              "  <thead>\n",
              "    <tr style=\"text-align: right;\">\n",
              "      <th></th>\n",
              "      <th>venda_id</th>\n",
              "      <th>mes_venda</th>\n",
              "      <th>data_venda</th>\n",
              "      <th>cliente_id</th>\n",
              "      <th>cliente_pais</th>\n",
              "      <th>produto_id</th>\n",
              "      <th>descricao</th>\n",
              "      <th>quantidade</th>\n",
              "      <th>preco</th>\n",
              "      <th>total</th>\n",
              "    </tr>\n",
              "  </thead>\n",
              "  <tbody>\n",
              "    <tr>\n",
              "      <th>0</th>\n",
              "      <td>536365</td>\n",
              "      <td>2010-12</td>\n",
              "      <td>2010-12-01 08:26:00</td>\n",
              "      <td>17850</td>\n",
              "      <td>United Kingdom</td>\n",
              "      <td>85123A</td>\n",
              "      <td>WHITE HANGING HEART T-LIGHT HOLDER</td>\n",
              "      <td>6</td>\n",
              "      <td>2.55</td>\n",
              "      <td>15.30</td>\n",
              "    </tr>\n",
              "    <tr>\n",
              "      <th>1</th>\n",
              "      <td>536365</td>\n",
              "      <td>2010-12</td>\n",
              "      <td>2010-12-01 08:26:00</td>\n",
              "      <td>17850</td>\n",
              "      <td>United Kingdom</td>\n",
              "      <td>71053</td>\n",
              "      <td>WHITE METAL LANTERN</td>\n",
              "      <td>6</td>\n",
              "      <td>3.39</td>\n",
              "      <td>20.34</td>\n",
              "    </tr>\n",
              "    <tr>\n",
              "      <th>2</th>\n",
              "      <td>536365</td>\n",
              "      <td>2010-12</td>\n",
              "      <td>2010-12-01 08:26:00</td>\n",
              "      <td>17850</td>\n",
              "      <td>United Kingdom</td>\n",
              "      <td>84406B</td>\n",
              "      <td>CREAM CUPID HEARTS COAT HANGER</td>\n",
              "      <td>8</td>\n",
              "      <td>2.75</td>\n",
              "      <td>22.00</td>\n",
              "    </tr>\n",
              "    <tr>\n",
              "      <th>3</th>\n",
              "      <td>536365</td>\n",
              "      <td>2010-12</td>\n",
              "      <td>2010-12-01 08:26:00</td>\n",
              "      <td>17850</td>\n",
              "      <td>United Kingdom</td>\n",
              "      <td>84029G</td>\n",
              "      <td>KNITTED UNION FLAG HOT WATER BOTTLE</td>\n",
              "      <td>6</td>\n",
              "      <td>3.39</td>\n",
              "      <td>20.34</td>\n",
              "    </tr>\n",
              "    <tr>\n",
              "      <th>4</th>\n",
              "      <td>536365</td>\n",
              "      <td>2010-12</td>\n",
              "      <td>2010-12-01 08:26:00</td>\n",
              "      <td>17850</td>\n",
              "      <td>United Kingdom</td>\n",
              "      <td>84029E</td>\n",
              "      <td>RED WOOLLY HOTTIE WHITE HEART.</td>\n",
              "      <td>6</td>\n",
              "      <td>3.39</td>\n",
              "      <td>20.34</td>\n",
              "    </tr>\n",
              "    <tr>\n",
              "      <th>...</th>\n",
              "      <td>...</td>\n",
              "      <td>...</td>\n",
              "      <td>...</td>\n",
              "      <td>...</td>\n",
              "      <td>...</td>\n",
              "      <td>...</td>\n",
              "      <td>...</td>\n",
              "      <td>...</td>\n",
              "      <td>...</td>\n",
              "      <td>...</td>\n",
              "    </tr>\n",
              "    <tr>\n",
              "      <th>541904</th>\n",
              "      <td>581587</td>\n",
              "      <td>2011-12</td>\n",
              "      <td>2011-12-09 12:50:00</td>\n",
              "      <td>12680</td>\n",
              "      <td>France</td>\n",
              "      <td>22613</td>\n",
              "      <td>PACK OF 20 SPACEBOY NAPKINS</td>\n",
              "      <td>12</td>\n",
              "      <td>0.85</td>\n",
              "      <td>10.20</td>\n",
              "    </tr>\n",
              "    <tr>\n",
              "      <th>541905</th>\n",
              "      <td>581587</td>\n",
              "      <td>2011-12</td>\n",
              "      <td>2011-12-09 12:50:00</td>\n",
              "      <td>12680</td>\n",
              "      <td>France</td>\n",
              "      <td>22899</td>\n",
              "      <td>CHILDREN'S APRON DOLLY GIRL</td>\n",
              "      <td>6</td>\n",
              "      <td>2.10</td>\n",
              "      <td>12.60</td>\n",
              "    </tr>\n",
              "    <tr>\n",
              "      <th>541906</th>\n",
              "      <td>581587</td>\n",
              "      <td>2011-12</td>\n",
              "      <td>2011-12-09 12:50:00</td>\n",
              "      <td>12680</td>\n",
              "      <td>France</td>\n",
              "      <td>23254</td>\n",
              "      <td>CHILDRENS CUTLERY DOLLY GIRL</td>\n",
              "      <td>4</td>\n",
              "      <td>4.15</td>\n",
              "      <td>16.60</td>\n",
              "    </tr>\n",
              "    <tr>\n",
              "      <th>541907</th>\n",
              "      <td>581587</td>\n",
              "      <td>2011-12</td>\n",
              "      <td>2011-12-09 12:50:00</td>\n",
              "      <td>12680</td>\n",
              "      <td>France</td>\n",
              "      <td>23255</td>\n",
              "      <td>CHILDRENS CUTLERY CIRCUS PARADE</td>\n",
              "      <td>4</td>\n",
              "      <td>4.15</td>\n",
              "      <td>16.60</td>\n",
              "    </tr>\n",
              "    <tr>\n",
              "      <th>541908</th>\n",
              "      <td>581587</td>\n",
              "      <td>2011-12</td>\n",
              "      <td>2011-12-09 12:50:00</td>\n",
              "      <td>12680</td>\n",
              "      <td>France</td>\n",
              "      <td>22138</td>\n",
              "      <td>BAKING SET 9 PIECE RETROSPOT</td>\n",
              "      <td>3</td>\n",
              "      <td>4.95</td>\n",
              "      <td>14.85</td>\n",
              "    </tr>\n",
              "  </tbody>\n",
              "</table>\n",
              "<p>397884 rows × 10 columns</p>\n",
              "</div>"
            ],
            "text/plain": [
              "       venda_id mes_venda          data_venda  ...  quantidade preco  total\n",
              "0        536365   2010-12 2010-12-01 08:26:00  ...           6  2.55  15.30\n",
              "1        536365   2010-12 2010-12-01 08:26:00  ...           6  3.39  20.34\n",
              "2        536365   2010-12 2010-12-01 08:26:00  ...           8  2.75  22.00\n",
              "3        536365   2010-12 2010-12-01 08:26:00  ...           6  3.39  20.34\n",
              "4        536365   2010-12 2010-12-01 08:26:00  ...           6  3.39  20.34\n",
              "...         ...       ...                 ...  ...         ...   ...    ...\n",
              "541904   581587   2011-12 2011-12-09 12:50:00  ...          12  0.85  10.20\n",
              "541905   581587   2011-12 2011-12-09 12:50:00  ...           6  2.10  12.60\n",
              "541906   581587   2011-12 2011-12-09 12:50:00  ...           4  4.15  16.60\n",
              "541907   581587   2011-12 2011-12-09 12:50:00  ...           4  4.15  16.60\n",
              "541908   581587   2011-12 2011-12-09 12:50:00  ...           3  4.95  14.85\n",
              "\n",
              "[397884 rows x 10 columns]"
            ]
          },
          "metadata": {
            "tags": []
          },
          "execution_count": 50
        }
      ]
    },
    {
      "cell_type": "code",
      "metadata": {
        "colab": {
          "base_uri": "https://localhost:8080/"
        },
        "id": "XtKyCxKh2bgB",
        "outputId": "46cc044a-2dae-4412-f3ab-d0df8f22ef2e"
      },
      "source": [
        "#produto mes\n",
        "df_vendas_itens.mes_venda.value_counts().sort_index()\n",
        "#cada produto é uma linha"
      ],
      "execution_count": 53,
      "outputs": [
        {
          "output_type": "execute_result",
          "data": {
            "text/plain": [
              "2010-12    26157\n",
              "2011-01    21229\n",
              "2011-02    19927\n",
              "2011-03    27175\n",
              "2011-04    22642\n",
              "2011-05    28320\n",
              "2011-06    27185\n",
              "2011-07    26825\n",
              "2011-08    27007\n",
              "2011-09    40028\n",
              "2011-10    49554\n",
              "2011-11    64531\n",
              "2011-12    17304\n",
              "Name: mes_venda, dtype: int64"
            ]
          },
          "metadata": {
            "tags": []
          },
          "execution_count": 53
        }
      ]
    },
    {
      "cell_type": "code",
      "metadata": {
        "id": "rc175nJU3p2r"
      },
      "source": [
        "df_vendas = df_vendas_itens.groupby(['mes_venda', 'cliente_id', 'cliente_pais', 'venda_id'])\\\n",
        "                        .agg({'total' : ['count', np.sum]})"
      ],
      "execution_count": 55,
      "outputs": []
    },
    {
      "cell_type": "code",
      "metadata": {
        "colab": {
          "base_uri": "https://localhost:8080/",
          "height": 450
        },
        "id": "6qo-8aVu4k7g",
        "outputId": "77f2754a-8f14-4ac6-9a96-fa00ecce7304"
      },
      "source": [
        "df_vendas = df_vendas.sort_index().reset_index()\n",
        "df_vendas"
      ],
      "execution_count": 56,
      "outputs": [
        {
          "output_type": "execute_result",
          "data": {
            "text/html": [
              "<div>\n",
              "<style scoped>\n",
              "    .dataframe tbody tr th:only-of-type {\n",
              "        vertical-align: middle;\n",
              "    }\n",
              "\n",
              "    .dataframe tbody tr th {\n",
              "        vertical-align: top;\n",
              "    }\n",
              "\n",
              "    .dataframe thead tr th {\n",
              "        text-align: left;\n",
              "    }\n",
              "</style>\n",
              "<table border=\"1\" class=\"dataframe\">\n",
              "  <thead>\n",
              "    <tr>\n",
              "      <th></th>\n",
              "      <th>mes_venda</th>\n",
              "      <th>cliente_id</th>\n",
              "      <th>cliente_pais</th>\n",
              "      <th>venda_id</th>\n",
              "      <th colspan=\"2\" halign=\"left\">total</th>\n",
              "    </tr>\n",
              "    <tr>\n",
              "      <th></th>\n",
              "      <th></th>\n",
              "      <th></th>\n",
              "      <th></th>\n",
              "      <th></th>\n",
              "      <th>count</th>\n",
              "      <th>sum</th>\n",
              "    </tr>\n",
              "  </thead>\n",
              "  <tbody>\n",
              "    <tr>\n",
              "      <th>0</th>\n",
              "      <td>2010-12</td>\n",
              "      <td>12347</td>\n",
              "      <td>Iceland</td>\n",
              "      <td>537626</td>\n",
              "      <td>31</td>\n",
              "      <td>711.79</td>\n",
              "    </tr>\n",
              "    <tr>\n",
              "      <th>1</th>\n",
              "      <td>2010-12</td>\n",
              "      <td>12348</td>\n",
              "      <td>Finland</td>\n",
              "      <td>539318</td>\n",
              "      <td>17</td>\n",
              "      <td>892.80</td>\n",
              "    </tr>\n",
              "    <tr>\n",
              "      <th>2</th>\n",
              "      <td>2010-12</td>\n",
              "      <td>12370</td>\n",
              "      <td>Austria</td>\n",
              "      <td>539330</td>\n",
              "      <td>8</td>\n",
              "      <td>277.20</td>\n",
              "    </tr>\n",
              "    <tr>\n",
              "      <th>3</th>\n",
              "      <td>2010-12</td>\n",
              "      <td>12370</td>\n",
              "      <td>Cyprus</td>\n",
              "      <td>538826</td>\n",
              "      <td>83</td>\n",
              "      <td>1590.82</td>\n",
              "    </tr>\n",
              "    <tr>\n",
              "      <th>4</th>\n",
              "      <td>2010-12</td>\n",
              "      <td>12377</td>\n",
              "      <td>Switzerland</td>\n",
              "      <td>539488</td>\n",
              "      <td>43</td>\n",
              "      <td>1001.52</td>\n",
              "    </tr>\n",
              "    <tr>\n",
              "      <th>...</th>\n",
              "      <td>...</td>\n",
              "      <td>...</td>\n",
              "      <td>...</td>\n",
              "      <td>...</td>\n",
              "      <td>...</td>\n",
              "      <td>...</td>\n",
              "    </tr>\n",
              "    <tr>\n",
              "      <th>18527</th>\n",
              "      <td>2011-12</td>\n",
              "      <td>18245</td>\n",
              "      <td>United Kingdom</td>\n",
              "      <td>580311</td>\n",
              "      <td>55</td>\n",
              "      <td>894.25</td>\n",
              "    </tr>\n",
              "    <tr>\n",
              "      <th>18528</th>\n",
              "      <td>2011-12</td>\n",
              "      <td>18272</td>\n",
              "      <td>United Kingdom</td>\n",
              "      <td>581126</td>\n",
              "      <td>23</td>\n",
              "      <td>367.88</td>\n",
              "    </tr>\n",
              "    <tr>\n",
              "      <th>18529</th>\n",
              "      <td>2011-12</td>\n",
              "      <td>18273</td>\n",
              "      <td>United Kingdom</td>\n",
              "      <td>581136</td>\n",
              "      <td>1</td>\n",
              "      <td>51.00</td>\n",
              "    </tr>\n",
              "    <tr>\n",
              "      <th>18530</th>\n",
              "      <td>2011-12</td>\n",
              "      <td>18282</td>\n",
              "      <td>United Kingdom</td>\n",
              "      <td>580173</td>\n",
              "      <td>5</td>\n",
              "      <td>77.84</td>\n",
              "    </tr>\n",
              "    <tr>\n",
              "      <th>18531</th>\n",
              "      <td>2011-12</td>\n",
              "      <td>18283</td>\n",
              "      <td>United Kingdom</td>\n",
              "      <td>580872</td>\n",
              "      <td>50</td>\n",
              "      <td>208.00</td>\n",
              "    </tr>\n",
              "  </tbody>\n",
              "</table>\n",
              "<p>18532 rows × 6 columns</p>\n",
              "</div>"
            ],
            "text/plain": [
              "      mes_venda cliente_id    cliente_pais venda_id total         \n",
              "                                                    count      sum\n",
              "0       2010-12      12347         Iceland   537626    31   711.79\n",
              "1       2010-12      12348         Finland   539318    17   892.80\n",
              "2       2010-12      12370         Austria   539330     8   277.20\n",
              "3       2010-12      12370          Cyprus   538826    83  1590.82\n",
              "4       2010-12      12377     Switzerland   539488    43  1001.52\n",
              "...         ...        ...             ...      ...   ...      ...\n",
              "18527   2011-12      18245  United Kingdom   580311    55   894.25\n",
              "18528   2011-12      18272  United Kingdom   581126    23   367.88\n",
              "18529   2011-12      18273  United Kingdom   581136     1    51.00\n",
              "18530   2011-12      18282  United Kingdom   580173     5    77.84\n",
              "18531   2011-12      18283  United Kingdom   580872    50   208.00\n",
              "\n",
              "[18532 rows x 6 columns]"
            ]
          },
          "metadata": {
            "tags": []
          },
          "execution_count": 56
        }
      ]
    },
    {
      "cell_type": "code",
      "metadata": {
        "id": "iRhTVcJl44Ok"
      },
      "source": [
        "df_vendas.columns = ['mes_venda', 'cliente_id', 'cliente_pais', 'venda_id', 'qtde_itens', 'valor_venda']"
      ],
      "execution_count": 57,
      "outputs": []
    },
    {
      "cell_type": "code",
      "metadata": {
        "id": "ancIZZ6P5MEq"
      },
      "source": [
        "#remocao do mes incompleto\n",
        "df_vendas = df_vendas[df_vendas['mes_venda']!='2011-12']"
      ],
      "execution_count": 58,
      "outputs": []
    },
    {
      "cell_type": "code",
      "metadata": {
        "colab": {
          "base_uri": "https://localhost:8080/"
        },
        "id": "BcMlo9Xq5Yx1",
        "outputId": "d5aea0eb-9583-4833-c201-609e5e6d3c68"
      },
      "source": [
        "print(df_vendas.dtypes)"
      ],
      "execution_count": 59,
      "outputs": [
        {
          "output_type": "stream",
          "text": [
            "mes_venda        object\n",
            "cliente_id        int64\n",
            "cliente_pais     object\n",
            "venda_id          int64\n",
            "qtde_itens        int64\n",
            "valor_venda     float64\n",
            "dtype: object\n"
          ],
          "name": "stdout"
        }
      ]
    },
    {
      "cell_type": "code",
      "metadata": {
        "colab": {
          "base_uri": "https://localhost:8080/",
          "height": 419
        },
        "id": "y2jDJn6B5doA",
        "outputId": "0771e913-6aa2-4e35-f395-d9543d392c69"
      },
      "source": [
        "df_vendas"
      ],
      "execution_count": 60,
      "outputs": [
        {
          "output_type": "execute_result",
          "data": {
            "text/html": [
              "<div>\n",
              "<style scoped>\n",
              "    .dataframe tbody tr th:only-of-type {\n",
              "        vertical-align: middle;\n",
              "    }\n",
              "\n",
              "    .dataframe tbody tr th {\n",
              "        vertical-align: top;\n",
              "    }\n",
              "\n",
              "    .dataframe thead th {\n",
              "        text-align: right;\n",
              "    }\n",
              "</style>\n",
              "<table border=\"1\" class=\"dataframe\">\n",
              "  <thead>\n",
              "    <tr style=\"text-align: right;\">\n",
              "      <th></th>\n",
              "      <th>mes_venda</th>\n",
              "      <th>cliente_id</th>\n",
              "      <th>cliente_pais</th>\n",
              "      <th>venda_id</th>\n",
              "      <th>qtde_itens</th>\n",
              "      <th>valor_venda</th>\n",
              "    </tr>\n",
              "  </thead>\n",
              "  <tbody>\n",
              "    <tr>\n",
              "      <th>0</th>\n",
              "      <td>2010-12</td>\n",
              "      <td>12347</td>\n",
              "      <td>Iceland</td>\n",
              "      <td>537626</td>\n",
              "      <td>31</td>\n",
              "      <td>711.79</td>\n",
              "    </tr>\n",
              "    <tr>\n",
              "      <th>1</th>\n",
              "      <td>2010-12</td>\n",
              "      <td>12348</td>\n",
              "      <td>Finland</td>\n",
              "      <td>539318</td>\n",
              "      <td>17</td>\n",
              "      <td>892.80</td>\n",
              "    </tr>\n",
              "    <tr>\n",
              "      <th>2</th>\n",
              "      <td>2010-12</td>\n",
              "      <td>12370</td>\n",
              "      <td>Austria</td>\n",
              "      <td>539330</td>\n",
              "      <td>8</td>\n",
              "      <td>277.20</td>\n",
              "    </tr>\n",
              "    <tr>\n",
              "      <th>3</th>\n",
              "      <td>2010-12</td>\n",
              "      <td>12370</td>\n",
              "      <td>Cyprus</td>\n",
              "      <td>538826</td>\n",
              "      <td>83</td>\n",
              "      <td>1590.82</td>\n",
              "    </tr>\n",
              "    <tr>\n",
              "      <th>4</th>\n",
              "      <td>2010-12</td>\n",
              "      <td>12377</td>\n",
              "      <td>Switzerland</td>\n",
              "      <td>539488</td>\n",
              "      <td>43</td>\n",
              "      <td>1001.52</td>\n",
              "    </tr>\n",
              "    <tr>\n",
              "      <th>...</th>\n",
              "      <td>...</td>\n",
              "      <td>...</td>\n",
              "      <td>...</td>\n",
              "      <td>...</td>\n",
              "      <td>...</td>\n",
              "      <td>...</td>\n",
              "    </tr>\n",
              "    <tr>\n",
              "      <th>17749</th>\n",
              "      <td>2011-11</td>\n",
              "      <td>18274</td>\n",
              "      <td>United Kingdom</td>\n",
              "      <td>575485</td>\n",
              "      <td>11</td>\n",
              "      <td>175.92</td>\n",
              "    </tr>\n",
              "    <tr>\n",
              "      <th>17750</th>\n",
              "      <td>2011-11</td>\n",
              "      <td>18283</td>\n",
              "      <td>United Kingdom</td>\n",
              "      <td>575668</td>\n",
              "      <td>59</td>\n",
              "      <td>112.35</td>\n",
              "    </tr>\n",
              "    <tr>\n",
              "      <th>17751</th>\n",
              "      <td>2011-11</td>\n",
              "      <td>18283</td>\n",
              "      <td>United Kingdom</td>\n",
              "      <td>575675</td>\n",
              "      <td>1</td>\n",
              "      <td>1.95</td>\n",
              "    </tr>\n",
              "    <tr>\n",
              "      <th>17752</th>\n",
              "      <td>2011-11</td>\n",
              "      <td>18283</td>\n",
              "      <td>United Kingdom</td>\n",
              "      <td>578262</td>\n",
              "      <td>107</td>\n",
              "      <td>313.65</td>\n",
              "    </tr>\n",
              "    <tr>\n",
              "      <th>17753</th>\n",
              "      <td>2011-11</td>\n",
              "      <td>18283</td>\n",
              "      <td>United Kingdom</td>\n",
              "      <td>579673</td>\n",
              "      <td>52</td>\n",
              "      <td>223.61</td>\n",
              "    </tr>\n",
              "  </tbody>\n",
              "</table>\n",
              "<p>17754 rows × 6 columns</p>\n",
              "</div>"
            ],
            "text/plain": [
              "      mes_venda  cliente_id    cliente_pais  venda_id  qtde_itens  valor_venda\n",
              "0       2010-12       12347         Iceland    537626          31       711.79\n",
              "1       2010-12       12348         Finland    539318          17       892.80\n",
              "2       2010-12       12370         Austria    539330           8       277.20\n",
              "3       2010-12       12370          Cyprus    538826          83      1590.82\n",
              "4       2010-12       12377     Switzerland    539488          43      1001.52\n",
              "...         ...         ...             ...       ...         ...          ...\n",
              "17749   2011-11       18274  United Kingdom    575485          11       175.92\n",
              "17750   2011-11       18283  United Kingdom    575668          59       112.35\n",
              "17751   2011-11       18283  United Kingdom    575675           1         1.95\n",
              "17752   2011-11       18283  United Kingdom    578262         107       313.65\n",
              "17753   2011-11       18283  United Kingdom    579673          52       223.61\n",
              "\n",
              "[17754 rows x 6 columns]"
            ]
          },
          "metadata": {
            "tags": []
          },
          "execution_count": 60
        }
      ]
    },
    {
      "cell_type": "code",
      "metadata": {
        "colab": {
          "base_uri": "https://localhost:8080/"
        },
        "id": "G7No-7hO5pWh",
        "outputId": "3e64125b-dde4-427d-d403-556b933e8a3f"
      },
      "source": [
        "df_vendas.mes_venda.value_counts()"
      ],
      "execution_count": 62,
      "outputs": [
        {
          "output_type": "execute_result",
          "data": {
            "text/plain": [
              "2011-11    2657\n",
              "2011-10    1929\n",
              "2011-09    1755\n",
              "2011-05    1555\n",
              "2010-12    1400\n",
              "2011-06    1393\n",
              "2011-07    1331\n",
              "2011-03    1321\n",
              "2011-08    1280\n",
              "2011-04    1149\n",
              "2011-02     997\n",
              "2011-01     987\n",
              "Name: mes_venda, dtype: int64"
            ]
          },
          "metadata": {
            "tags": []
          },
          "execution_count": 62
        }
      ]
    },
    {
      "cell_type": "code",
      "metadata": {
        "colab": {
          "base_uri": "https://localhost:8080/"
        },
        "id": "mAtDm-Hh56lX",
        "outputId": "56cb52eb-68a8-471f-a612-bfc8a6f9622e"
      },
      "source": [
        "df_vendas.mes_venda.value_counts()"
      ],
      "execution_count": 66,
      "outputs": [
        {
          "output_type": "execute_result",
          "data": {
            "text/plain": [
              "2011-11    2657\n",
              "2011-10    1929\n",
              "2011-09    1755\n",
              "2011-05    1555\n",
              "2010-12    1400\n",
              "2011-06    1393\n",
              "2011-07    1331\n",
              "2011-03    1321\n",
              "2011-08    1280\n",
              "2011-04    1149\n",
              "2011-02     997\n",
              "2011-01     987\n",
              "Name: mes_venda, dtype: int64"
            ]
          },
          "metadata": {
            "tags": []
          },
          "execution_count": 66
        }
      ]
    },
    {
      "cell_type": "code",
      "metadata": {
        "colab": {
          "base_uri": "https://localhost:8080/",
          "height": 265
        },
        "id": "t2Xw2lKm6I4V",
        "outputId": "fa87bb63-0844-45c3-e026-dae867708b4d"
      },
      "source": [
        "df_vendas.mes_venda.value_counts().plot()\n",
        "plt.show()"
      ],
      "execution_count": 67,
      "outputs": [
        {
          "output_type": "display_data",
          "data": {
            "image/png": "[encoded data removed]",
            "text/plain": [
              "<Figure size 432x288 with 1 Axes>"
            ]
          },
          "metadata": {
            "tags": [],
            "needs_background": "light"
          }
        }
      ]
    },
    {
      "cell_type": "code",
      "metadata": {
        "colab": {
          "base_uri": "https://localhost:8080/",
          "height": 265
        },
        "id": "LpzfqPGV6XKh",
        "outputId": "4cd6113f-1bc3-4b78-96b9-df40a0a4317e"
      },
      "source": [
        "#ordenando por mes\n",
        "df_vendas.mes_venda.value_counts().sort_index().plot()\n",
        "plt.show()"
      ],
      "execution_count": 68,
      "outputs": [
        {
          "output_type": "display_data",
          "data": {
            "image/png": "[encoded data removed]",
            "text/plain": [
              "<Figure size 432x288 with 1 Axes>"
            ]
          },
          "metadata": {
            "tags": [],
            "needs_background": "light"
          }
        }
      ]
    },
    {
      "cell_type": "code",
      "metadata": {
        "id": "dN64AgQK7OWZ"
      },
      "source": [
        "#new dataframe\n",
        "df_vendas_mes = df_vendas.mes_venda.value_counts().sort_index()\\\n",
        ".rename_axis('mes_venda').reset_index(name='qtde_vendas')"
      ],
      "execution_count": 70,
      "outputs": []
    },
    {
      "cell_type": "code",
      "metadata": {
        "colab": {
          "base_uri": "https://localhost:8080/"
        },
        "id": "emC2kEob7nAw",
        "outputId": "6a564f18-9dbc-4fac-ef33-bcd625aeed28"
      },
      "source": [
        "print(df_vendas_mes)"
      ],
      "execution_count": 71,
      "outputs": [
        {
          "output_type": "stream",
          "text": [
            "   mes_venda  qtde_vendas\n",
            "0    2010-12         1400\n",
            "1    2011-01          987\n",
            "2    2011-02          997\n",
            "3    2011-03         1321\n",
            "4    2011-04         1149\n",
            "5    2011-05         1555\n",
            "6    2011-06         1393\n",
            "7    2011-07         1331\n",
            "8    2011-08         1280\n",
            "9    2011-09         1755\n",
            "10   2011-10         1929\n",
            "11   2011-11         2657\n"
          ],
          "name": "stdout"
        }
      ]
    },
    {
      "cell_type": "code",
      "metadata": {
        "colab": {
          "base_uri": "https://localhost:8080/",
          "height": 297
        },
        "id": "Jy1Ag4Iu7yNr",
        "outputId": "2c1c9216-2717-4604-a07c-25e970e5a3d0"
      },
      "source": [
        "df_vendas_mes.plot(x='mes_venda')"
      ],
      "execution_count": 72,
      "outputs": [
        {
          "output_type": "execute_result",
          "data": {
            "text/plain": [
              "<matplotlib.axes._subplots.AxesSubplot at 0x7efd5b029f28>"
            ]
          },
          "metadata": {
            "tags": []
          },
          "execution_count": 72
        },
        {
          "output_type": "display_data",
          "data": {
            "image/png": "[encoded data removed]",
            "text/plain": [
              "<Figure size 432x288 with 1 Axes>"
            ]
          },
          "metadata": {
            "tags": [],
            "needs_background": "light"
          }
        }
      ]
    },
    {
      "cell_type": "code",
      "metadata": {
        "colab": {
          "base_uri": "https://localhost:8080/",
          "height": 265
        },
        "id": "_2u_Yykg8KCG",
        "outputId": "7251de99-d281-408a-8dbd-90999125a374"
      },
      "source": [
        "#moda antiga\n",
        "plt.plot(df_vendas_mes['mes_venda'],\n",
        "         df_vendas_mes['qtde_vendas'])\n",
        "plt.show()"
      ],
      "execution_count": 73,
      "outputs": [
        {
          "output_type": "display_data",
          "data": {
            "image/png": "[encoded data removed]",
            "text/plain": [
              "<Figure size 432x288 with 1 Axes>"
            ]
          },
          "metadata": {
            "tags": [],
            "needs_background": "light"
          }
        }
      ]
    },
    {
      "cell_type": "code",
      "metadata": {
        "colab": {
          "base_uri": "https://localhost:8080/",
          "height": 292
        },
        "id": "au51ZAPz8eI9",
        "outputId": "676b42d2-ffc3-4315-984b-351686a3c3ed"
      },
      "source": [
        "plt.plot(df_vendas_mes['mes_venda'],\n",
        "         df_vendas_mes['qtde_vendas'],\n",
        "         marker = 'o')\n",
        "plt.xticks(rotation=45)\n",
        "plt.show()"
      ],
      "execution_count": 74,
      "outputs": [
        {
          "output_type": "display_data",
          "data": {
            "image/png": "[encoded data removed]",
            "text/plain": [
              "<Figure size 432x288 with 1 Axes>"
            ]
          },
          "metadata": {
            "tags": [],
            "needs_background": "light"
          }
        }
      ]
    }
  ]
}