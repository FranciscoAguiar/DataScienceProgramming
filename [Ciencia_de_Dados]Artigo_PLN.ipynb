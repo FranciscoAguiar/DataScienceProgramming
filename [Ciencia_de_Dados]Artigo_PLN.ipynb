{
  "nbformat": 4,
  "nbformat_minor": 0,
  "metadata": {
    "colab": {
      "name": "[Ciencia de Dados]Artigo_PLN.ipynb",
      "provenance": [],
      "authorship_tag": "ABX9TyMY6Xg6UAsLbaFzqaOz8/v1",
      "include_colab_link": true
    },
    "kernelspec": {
      "name": "python3",
      "display_name": "Python 3"
    },
    "language_info": {
      "name": "python"
    }
  },
  "cells": [
    {
      "cell_type": "markdown",
      "metadata": {
        "id": "view-in-github",
        "colab_type": "text"
      },
      "source": [
        "<a href=\"https://colab.research.google.com/github/FranciscoAguiar/DataScienceProgramming/blob/master/%5BCiencia_de_Dados%5DArtigo_PLN.ipynb\" target=\"_parent\"><img src=\"https://colab.research.google.com/assets/colab-badge.svg\" alt=\"Open In Colab\"/></a>"
      ]
    },
    {
      "cell_type": "code",
      "execution_count": null,
      "metadata": {
        "id": "CqA1fnhG1XYQ"
      },
      "outputs": [],
      "source": [
        ""
      ]
    }
  ]
}