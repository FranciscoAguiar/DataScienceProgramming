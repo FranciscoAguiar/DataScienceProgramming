{
  "nbformat": 4,
  "nbformat_minor": 0,
  "metadata": {
    "colab": {
      "name": "[Ciencia de Dados]Artigo_PLN.ipynb",
      "private_outputs": true,
      "provenance": [],
      "authorship_tag": "ABX9TyOiSy71o9MeIdzip5pdEjzB",
      "include_colab_link": true
    },
    "kernelspec": {
      "name": "python3",
      "display_name": "Python 3"
    },
    "language_info": {
      "name": "python"
    },
    "accelerator": "GPU"
  },
  "cells": [
    {
      "cell_type": "markdown",
      "metadata": {
        "id": "view-in-github",
        "colab_type": "text"
      },
      "source": [
        "<a href=\"https://colab.research.google.com/github/FranciscoAguiar/DataScienceProgramming/blob/master/%5BCiencia_de_Dados%5DArtigo_PLN.ipynb\" target=\"_parent\"><img src=\"https://colab.research.google.com/assets/colab-badge.svg\" alt=\"Open In Colab\"/></a>"
      ]
    },
    {
      "cell_type": "code",
      "execution_count": null,
      "metadata": {
        "id": "CqA1fnhG1XYQ"
      },
      "outputs": [],
      "source": [
        "%matplotlib inline\n",
        "\n",
        "import numpy as np\n",
        "import warnings\n",
        "import matplotlib.pyplot as plt\n",
        "import numpy as np\n",
        "import pandas as pd\n",
        "import matplotlib.pyplot as plt\n",
        "from matplotlib import style\n",
        "import seaborn as sns\n",
        "import json\n",
        "import csv\n",
        "import nltk\n",
        "sns.set_style('whitegrid')\n",
        "warnings.filterwarnings('ignore')\n",
        "np.random.seed(123)\n",
        "from sklearn.preprocessing import LabelEncoder, MinMaxScaler\n",
        "from sklearn.model_selection import train_test_split, cross_val_predict, TimeSeriesSplit, cross_val_score,cross_val_predict\n",
        "from sklearn.metrics import confusion_matrix,r2_score, accuracy_score, precision_score, recall_score, f1_score,cohen_kappa_score\n",
        "from sklearn.model_selection import cross_validate\n",
        "from sklearn.metrics import confusion_matrix"
      ]
    },
    {
      "cell_type": "code",
      "source": [
        "!pip install -U pip"
      ],
      "metadata": {
        "id": "INpMd9yc7B3C"
      },
      "execution_count": null,
      "outputs": []
    },
    {
      "cell_type": "code",
      "source": [
        "!pip install -U setuptools wheel"
      ],
      "metadata": {
        "id": "lSFk7Dwi72OW"
      },
      "execution_count": null,
      "outputs": []
    },
    {
      "cell_type": "code",
      "source": [
        "!pip install -U \"mxnet<2.0.0\""
      ],
      "metadata": {
        "id": "TnEGijCb7_Zj"
      },
      "execution_count": null,
      "outputs": []
    },
    {
      "cell_type": "code",
      "source": [
        "!pip install autogluon"
      ],
      "metadata": {
        "id": "fQURd6FW8GC1"
      },
      "execution_count": null,
      "outputs": []
    },
    {
      "cell_type": "code",
      "source": [
        "from autogluon.core.utils.loaders import load_pd"
      ],
      "metadata": {
        "id": "J6hJA4ZVKvGm"
      },
      "execution_count": null,
      "outputs": []
    },
    {
      "cell_type": "code",
      "source": [
        "\n",
        "train_data = load_pd.load('https://autogluon-text.s3-accelerate.amazonaws.com/glue/sst/train.parquet')\n",
        "test_data = load_pd.load('https://autogluon-text.s3-accelerate.amazonaws.com/glue/sst/dev.parquet')\n",
        "subsample_size = 1000  # subsample data for faster demo, try setting this to larger values\n",
        "train_data = train_data.sample(n=subsample_size, random_state=0)\n",
        "train_data.head(10)"
      ],
      "metadata": {
        "id": "AaMNoQbk6khb"
      },
      "execution_count": null,
      "outputs": []
    },
    {
      "cell_type": "code",
      "source": [
        "import os\n",
        "os.environ['AUTOGLUON_TEXT_TRAIN_WITHOUT_GPU']='1'"
      ],
      "metadata": {
        "id": "1MudvsWABXrV"
      },
      "execution_count": null,
      "outputs": []
    },
    {
      "cell_type": "code",
      "source": [
        "test_data.head(2)"
      ],
      "metadata": {
        "id": "fx9UQi2XcMrl"
      },
      "execution_count": null,
      "outputs": []
    },
    {
      "cell_type": "code",
      "source": [
        "len(train_data)"
      ],
      "metadata": {
        "id": "SDK3JqCjcoAA"
      },
      "execution_count": null,
      "outputs": []
    },
    {
      "cell_type": "code",
      "source": [
        "len(test_data)"
      ],
      "metadata": {
        "id": "sh3QnSi9cpxH"
      },
      "execution_count": null,
      "outputs": []
    },
    {
      "cell_type": "code",
      "source": [
        "from autogluon.text import TextPredictor\n",
        "\n",
        "predictor = TextPredictor(label='label', eval_metric='acc', path='./ag_sst')\n",
        "predictor.fit(train_data, time_limit=None)"
      ],
      "metadata": {
        "id": "dBJGRgVu7km0"
      },
      "execution_count": null,
      "outputs": []
    },
    {
      "cell_type": "code",
      "source": [
        "print(predictor.evaluate(test_data))\n"
      ],
      "metadata": {
        "id": "20XOunD_CkBm"
      },
      "execution_count": null,
      "outputs": []
    },
    {
      "cell_type": "code",
      "source": [
        "test_score = predictor.evaluate(test_data, metrics=['acc', 'f1'])\n",
        "print(test_score)"
      ],
      "metadata": {
        "id": "dRyX8hKuDND4"
      },
      "execution_count": null,
      "outputs": []
    },
    {
      "cell_type": "code",
      "source": [
        "sentence1 = \"it's a charming and often affecting journey.\"\n",
        "sentence2 = \"It's slow, very, very, very slow.\"\n",
        "predictions = predictor.predict({'sentence': [sentence1, sentence2]})\n",
        "print('\"Sentence\":', sentence1, '\"Predicted Sentiment\":', predictions[0])\n",
        "print('\"Sentence\":', sentence2, '\"Predicted Sentiment\":', predictions[1])"
      ],
      "metadata": {
        "id": "YNIrG_JCDTdz"
      },
      "execution_count": null,
      "outputs": []
    },
    {
      "cell_type": "code",
      "source": [
        "dataset_brasilia = pd.read_csv('brasilia-guru.csv', sep=',')\n",
        "dataset_fortaleza = pd.read_csv('fortaleza-guru.csv', sep=',')\n",
        "dataset_manaus = pd.read_csv('manaus-guru.csv', sep=',')\n",
        "dataset_poa = pd.read_csv('poa-guru.csv', sep=',')\n",
        "dataset_sampa = pd.read_csv('sampa-guru.csv', sep=',')"
      ],
      "metadata": {
        "id": "S253NgenY36w"
      },
      "execution_count": null,
      "outputs": []
    },
    {
      "cell_type": "code",
      "source": [
        "#dataset_brasilia.head(5)\n",
        "#dataset_fortaleza.head(3)\n",
        "#dataset_manaus.head(3)\n",
        "#dataset_poa.head(3)\n",
        "#dataset_sampa.head(3)"
      ],
      "metadata": {
        "id": "RGUgmLaPjrGx"
      },
      "execution_count": null,
      "outputs": []
    },
    {
      "cell_type": "code",
      "source": [
        "dataset_brasilia.shape"
      ],
      "metadata": {
        "id": "0kMCVgLBj1s8"
      },
      "execution_count": null,
      "outputs": []
    },
    {
      "cell_type": "code",
      "source": [
        "dataset_fortaleza.shape"
      ],
      "metadata": {
        "id": "fYCBYiCP_xqi"
      },
      "execution_count": null,
      "outputs": []
    },
    {
      "cell_type": "code",
      "source": [
        "dataset_manaus.shape"
      ],
      "metadata": {
        "id": "8rO6aMto_ztJ"
      },
      "execution_count": null,
      "outputs": []
    },
    {
      "cell_type": "code",
      "source": [
        "dataset_poa.shape"
      ],
      "metadata": {
        "id": "eWlSYr4K_34Q"
      },
      "execution_count": null,
      "outputs": []
    },
    {
      "cell_type": "code",
      "source": [
        "dataset_sampa.shape"
      ],
      "metadata": {
        "id": "-QvNtzEz_-fn"
      },
      "execution_count": null,
      "outputs": []
    },
    {
      "cell_type": "code",
      "source": [
        "from sklearn.preprocessing import LabelEncoder, MinMaxScaler"
      ],
      "metadata": {
        "id": "NH4yK5Y9Kn9x"
      },
      "execution_count": null,
      "outputs": []
    },
    {
      "cell_type": "code",
      "source": [
        "dataset_brasilia[\"classe\"] = \" \"\n",
        "dataset_fortaleza[\"classe\"] = \" \"\n",
        "dataset_manaus[\"classe\"] = \" \"\n",
        "dataset_poa[\"classe\"] = \" \"\n",
        "dataset_sampa[\"classe\"] = \" \""
      ],
      "metadata": {
        "id": "a_4jEJrbviHY"
      },
      "execution_count": null,
      "outputs": []
    },
    {
      "cell_type": "code",
      "source": [
        "#dataset_brasilia.info()\n",
        "#dataset_fortaleza.info()\n",
        "#dataset_manaus.info()\n",
        "#dataset_poa.info()\n",
        "dataset_sampa.info()"
      ],
      "metadata": {
        "id": "iZcHupjqj50W"
      },
      "execution_count": null,
      "outputs": []
    },
    {
      "cell_type": "code",
      "source": [
        "nltk.download()"
      ],
      "metadata": {
        "id": "XIlfIckGlJG0"
      },
      "execution_count": null,
      "outputs": []
    },
    {
      "cell_type": "code",
      "source": [
        "from nltk.tokenize import RegexpTokenizer"
      ],
      "metadata": {
        "id": "bADSqkp7R3W9"
      },
      "execution_count": null,
      "outputs": []
    },
    {
      "cell_type": "code",
      "source": [
        "def handleText(feedback):\n",
        "  text = feedback\n",
        " \n",
        "  sentences_text =  x = text.split(\".\") #nltk.sent_tokenize(text, language=\"portuguese\") \n",
        "  #print(sentences_text)\n",
        "  #new_lista = []\n",
        "  #stop_words = nltk.corpus.stopwords.words(\"portuguese\")\n",
        "  #new_lista = [token.lower() for token in sentences_text if token.lower() not in stop_words]\n",
        "  #print(new_lista)\n",
        "  #freq = nltk.FreqDist(new_lista)\n",
        "  #freq.most_common()\n",
        "  return sentences_text"
      ],
      "metadata": {
        "id": "hM9RTsU5lEVS"
      },
      "execution_count": null,
      "outputs": []
    },
    {
      "cell_type": "code",
      "source": [
        "textsample =\"This thing seemed to overpower and astonish the little dark-brown dog, and wounded him to the heart. He sank down in despair at the child's feet. When the blow was repeated, together with an admonition in childish sentences, he turned over upon his back, and held his paws in a peculiar manner. At the same time with his ears and his eyes he offered a small prayer to the child.\" "
      ],
      "metadata": {
        "id": "7G5QReQJ9aIn"
      },
      "execution_count": null,
      "outputs": []
    },
    {
      "cell_type": "code",
      "source": [
        "sentences = nltk.sent_tokenize(textsample)  \n",
        "sentences"
      ],
      "metadata": {
        "id": "lXY7ku6L9eV7"
      },
      "execution_count": null,
      "outputs": []
    },
    {
      "cell_type": "code",
      "source": [
        "handleText(textsample)"
      ],
      "metadata": {
        "id": "HNbiITQQdQD2"
      },
      "execution_count": null,
      "outputs": []
    },
    {
      "cell_type": "code",
      "source": [
        "handleText('uma experiência muito boa, fomos atendidos pelo jakson e a fernanda, fomos muito bem atendidos e a culinária maravilhosa.')"
      ],
      "metadata": {
        "id": "iZL6AJDp90A8"
      },
      "execution_count": null,
      "outputs": []
    },
    {
      "cell_type": "code",
      "source": [
        ""
      ],
      "metadata": {
        "id": "X8bCXEIgiZJ2"
      },
      "execution_count": null,
      "outputs": []
    },
    {
      "cell_type": "code",
      "source": [
        "food = [\"refeição\",\"almoço\", \"jantar\", \"lanche\", \"culinária\",\"cozinha\", \"gastronomia\", \"ingredientes\", \"cardápio\", \"buffet\", \"prato\",\"degustação\", \"guarnições\", \"acompanhamentos\", \"entradas\", \"sobremessa\", \"petiscos\", \"alimentação\",\"comida\"]"
      ],
      "metadata": {
        "id": "dQcfeL_0lS24"
      },
      "execution_count": null,
      "outputs": []
    },
    {
      "cell_type": "code",
      "source": [
        "drink = [\"água\", \"vinho\", \"whisky\", \"cachaça\",\"refrigerante\", \"drinque\", \"licor\", \"cerveja\", \"choop\", \"coquetel\", \"suco\", \"caipirinha\", \"café\" , \"capuccino\", \"Chá\", \"Guaraná\"]"
      ],
      "metadata": {
        "id": "iMDfi4LOmwNi"
      },
      "execution_count": null,
      "outputs": []
    },
    {
      "cell_type": "code",
      "source": [
        "service = [\"Atendimento\",\"garçom\",\"Pedido\",\"Vale-refeição\" ,\"Vale-alimentação\",\"delivery\",\"online\",\"aplicativo\",\"evento\",\"Vale refeição\" ,\"Vale alimentação\"]"
      ],
      "metadata": {
        "id": "6sm90FOanWJs"
      },
      "execution_count": null,
      "outputs": []
    },
    {
      "cell_type": "code",
      "source": [
        "price = [\"valor\", \"pagamento\",  \"custo\" , \"gorjeta\", \"conta\", \"preço\", \"despesa\", \"nota fiscal\"]"
      ],
      "metadata": {
        "id": "lhu9dSpVoBSD"
      },
      "execution_count": null,
      "outputs": []
    },
    {
      "cell_type": "code",
      "source": [
        "enviroment = [\"Talheres\",\"Copos\", \"Taças\", \"Guardanapos\", \"Toalha\", \"Decoração\", \"experiência\", \"ar condicionado\", \"cozinha\",\"balcão\", \"limpeza\", \"organização\", \"fila\", \"estacionamento\", \"música\", \"Som\",\"espaço\", \"área\", \"estabelecimento\", \"lounge\", \"unidade\", \"pessoas\", \"conforto\", \"segurança\", \"funcionamento\", \"horário\", \"briquedoteca\", \"dj\"]"
      ],
      "metadata": {
        "id": "rWlRx-DDpeDd"
      },
      "execution_count": null,
      "outputs": []
    },
    {
      "cell_type": "code",
      "source": [
        "location = [\"local\", \"lugar\", \"shopping\", \"praia\", \"avenida\", \"rua\", \"prédio\", \"beira mar\", \"região\", \"bairro\"]"
      ],
      "metadata": {
        "id": "rXbKJivpqBdi"
      },
      "execution_count": null,
      "outputs": []
    },
    {
      "cell_type": "code",
      "source": [
        "import re"
      ],
      "metadata": {
        "id": "vOIBOSv5J6Fh"
      },
      "execution_count": null,
      "outputs": []
    },
    {
      "cell_type": "code",
      "source": [
        "texto = \"uma pessoa boa\"\n",
        "resultado = re.search(r\"cavalo\", texto)\n",
        "print (isinstance(resultado, re.Match))"
      ],
      "metadata": {
        "id": "ICCazEkFJ_Uv"
      },
      "execution_count": null,
      "outputs": []
    },
    {
      "cell_type": "code",
      "source": [
        "def checkString(title,list):\n",
        "  result = False\n",
        "  if (isinstance(title, str)):\n",
        "      title = title.lower()\n",
        "      sentences = handleText(title)\n",
        "      for j in list:\n",
        "        value = j.lower()\n",
        "       \n",
        "        for frase in sentences:\n",
        "           result = re.search(value, frase.lower())\n",
        "           if(isinstance(result, re.Match)):\n",
        "             print(\"frase:\",frase)\n",
        "             return True, frase\n",
        "  return result, \"\"   \n",
        "\n",
        "\n"
      ],
      "metadata": {
        "id": "U7x_wDHYsIKQ"
      },
      "execution_count": null,
      "outputs": []
    },
    {
      "cell_type": "code",
      "source": [
        "def addCategory(element, value, frase, local):\n",
        "    \n",
        "    register = {}\n",
        "    register[\"classe\"] = value\n",
        "    register[\"local\"] = local\n",
        "    register[\"comentario\"] = frase\n",
        "    return register, True\n",
        "\n"
      ],
      "metadata": {
        "id": "rO1s_QVNUOg5"
      },
      "execution_count": null,
      "outputs": []
    },
    {
      "cell_type": "code",
      "source": [
        "newRegister = []\n",
        "frames = []\n",
        "dataset_list =[dataset_brasilia, dataset_fortaleza, dataset_manaus, dataset_poa, dataset_sampa]\n",
        "for dataset in dataset_list:\n",
        "  for i in dataset.index:\n",
        "    reviewBody = (dataset[\"comentario\"][i])\n",
        "    local = dataset[\"local\"][i]\n",
        "    isPresent,frase = checkString(reviewBody,food)\n",
        "    if isPresent:\n",
        "      row, newElement = addCategory(i, \"comida\", frase, local)\n",
        "      newRegister.append(row)\n",
        "\n",
        "\n",
        "\n",
        "    isPresent, frase = checkString(reviewBody,drink)\n",
        "\n",
        "    if isPresent:\n",
        "      row, newElement = addCategory(i, 'bebida', frase, local)\n",
        "      newRegister.append(row)\n",
        "\n",
        "  \n",
        "    isPresent, frase = checkString(reviewBody,service)\n",
        "  \n",
        "    if isPresent:\n",
        "      row, newElement = addCategory(i, 'serviço', frase, local)\n",
        "      newRegister.append(row)\n",
        "\n",
        "\n",
        "    isPresent,frase = checkString(reviewBody,price)\n",
        "  \n",
        "    if isPresent:\n",
        "      row, newElement = addCategory(i, 'preço', frase, local)\n",
        "      newRegister.append(row)\n",
        "\n",
        "\n",
        "    isPresent,frase = checkString(reviewBody,enviroment)\n",
        "  \n",
        "    if isPresent:\n",
        "      row, newElement = addCategory(i,  'ambiente', frase, local)\n",
        "      newRegister.append(row)\n",
        "\n",
        "  \n",
        "    isPresent,frase = checkString(reviewBody,location)\n",
        "  \n",
        "    if isPresent:\n",
        "      row, newElement = addCategory(i,'localização', frase, local)\n",
        "      newRegister.append(row)\n",
        "    \n",
        "  df_temp = pd.DataFrame(newRegister,columns =['local','comentario','classe'])\n",
        "  dataset_temp = df_temp\n",
        "  result_dataset_temp = dataset_temp[(dataset_temp['classe']!=\" \")]\n",
        "  frames.append(result_dataset_temp)\n",
        "  newRegister = []\n",
        "  \n"
      ],
      "metadata": {
        "id": "tS9hixy7qWlL"
      },
      "execution_count": null,
      "outputs": []
    },
    {
      "cell_type": "code",
      "source": [
        "result_dataset = pd.concat(frames, ignore_index=True, sort=False)"
      ],
      "metadata": {
        "id": "D_hIi85G1oSG"
      },
      "execution_count": null,
      "outputs": []
    },
    {
      "cell_type": "code",
      "source": [
        "result_dataset.head(5)"
      ],
      "metadata": {
        "id": "Nl_SCn7Y8m7b"
      },
      "execution_count": null,
      "outputs": []
    },
    {
      "cell_type": "code",
      "source": [
        "result_dataset.shape"
      ],
      "metadata": {
        "id": "qN6Vokoy8vvF"
      },
      "execution_count": null,
      "outputs": []
    },
    {
      "cell_type": "code",
      "source": [
        "le = LabelEncoder()\n",
        "result_dataset[\"comentario\"] = le.fit_transform(result_dataset[\"comentario\"].astype(str))\n",
        "str_cols = result_dataset.columns[result_dataset.columns.str.contains('(?:comentario)')]\n",
        "clfs = {c:LabelEncoder() for c in str_cols}\n",
        "\n",
        "for col, clf in clfs.items():\n",
        "    result_dataset[col] = clfs[col].fit_transform(result_dataset[col])\n",
        "\n",
        "result_dataset[\"local\"] = le.fit_transform(result_dataset[\"local\"].astype(str))   \n",
        "str_cols = result_dataset.columns[result_dataset.columns.str.contains('(?:local)')]\n",
        "clfs = {c:LabelEncoder() for c in str_cols} \n",
        "\n",
        "for col, clf in clfs.items():\n",
        "    result_dataset[col] = clfs[col].fit_transform(result_dataset[col])\n",
        "\n",
        "result_dataset[\"classe\"] = le.fit_transform(result_dataset[\"classe\"].astype(str))   \n",
        "str_cols = result_dataset.columns[result_dataset.columns.str.contains('(?:classe)')]\n",
        "clfs = {c:LabelEncoder() for c in str_cols} \n",
        "\n",
        "for col, clf in clfs.items():\n",
        "    result_dataset[col] = clfs[col].fit_transform(result_dataset[col])\n"
      ],
      "metadata": {
        "id": "hoTKRXA9Na3K"
      },
      "execution_count": null,
      "outputs": []
    },
    {
      "cell_type": "code",
      "source": [
        "result_dataset.head(3)"
      ],
      "metadata": {
        "id": "y9dnLMqINmjl"
      },
      "execution_count": null,
      "outputs": []
    },
    {
      "cell_type": "code",
      "source": [
        "print(len(newRegister))"
      ],
      "metadata": {
        "id": "bY1LI5CBdA6E"
      },
      "execution_count": null,
      "outputs": []
    },
    {
      "cell_type": "code",
      "source": [
        "from nltk.tokenize import RegexpTokenizer\n"
      ],
      "metadata": {
        "id": "1tGAnerm95Zi"
      },
      "execution_count": null,
      "outputs": []
    },
    {
      "cell_type": "code",
      "source": [
        "def findTermsbyCity(dataset):\n",
        "  dt_temp = dataset.query('classe == \"serviço\" and local == \"manaus\"')\n",
        "  \n",
        "  print(dt_temp.shape)\n",
        "  comentarios = \"\"\n",
        "  for j in dt_temp.index:\n",
        "    comentarios += (dt_temp[\"comentario\"][j]) \n",
        "    comentarios += \"\\n\"\n",
        "  \n",
        "  tokenizer = RegexpTokenizer(r'\\w+')\n",
        "  tokens = tokenizer.tokenize(comentarios)\n",
        "  nova_lista = []\n",
        "  stop_words = nltk.corpus.stopwords.words(\"portuguese\")\n",
        "  nova_lista = [token.lower() for token in tokens if token.lower() not in stop_words]\n",
        "  freq = nltk.FreqDist(nova_lista)\n",
        "  print(freq.most_common())\n",
        "\n"
      ],
      "metadata": {
        "id": "5_EOB0iW4Nfh"
      },
      "execution_count": null,
      "outputs": []
    },
    {
      "cell_type": "code",
      "source": [
        "findTermsbyCity(result_dataset)"
      ],
      "metadata": {
        "id": "06TlGLEL5P5g"
      },
      "execution_count": null,
      "outputs": []
    },
    {
      "cell_type": "code",
      "source": [
        "df_bsb = pd.DataFrame(newRegister,columns =['local','comentario','classe'])\n",
        "df_bsb.head(20)"
      ],
      "metadata": {
        "id": "CaTsuKjod0Au"
      },
      "execution_count": null,
      "outputs": []
    },
    {
      "cell_type": "code",
      "source": [
        "#dataset = dataset.append(newRegister, ignore_index=True)"
      ],
      "metadata": {
        "id": "JFGaTGfYhRQR"
      },
      "execution_count": null,
      "outputs": []
    },
    {
      "cell_type": "code",
      "source": [
        "#newRegister"
      ],
      "metadata": {
        "id": "iGc-XHBuxttM"
      },
      "execution_count": null,
      "outputs": []
    },
    {
      "cell_type": "code",
      "source": [
        "df_fort = pd.DataFrame(newRegister,columns =['local','comentario','classe'])\n",
        "df_fort.head(10)"
      ],
      "metadata": {
        "id": "_IJM9uOaQVhK"
      },
      "execution_count": null,
      "outputs": []
    },
    {
      "cell_type": "code",
      "source": [
        "df_mao = pd.DataFrame(newRegister,columns =['local','comentario','classe'])\n",
        "df_mao.head(3)"
      ],
      "metadata": {
        "id": "pqPpF98uSvFx"
      },
      "execution_count": null,
      "outputs": []
    },
    {
      "cell_type": "code",
      "source": [
        "df_poa = pd.DataFrame(newRegister,columns =['local','comentario','classe'])\n",
        "df_poa.head(3)"
      ],
      "metadata": {
        "id": "QrcsxMJnUXHY"
      },
      "execution_count": null,
      "outputs": []
    },
    {
      "cell_type": "code",
      "source": [
        "df_sp = pd.DataFrame(newRegister,columns =['local','comentario','classe'])\n",
        "df_sp.head(3)"
      ],
      "metadata": {
        "id": "QTKen7iVV5hr"
      },
      "execution_count": null,
      "outputs": []
    },
    {
      "cell_type": "code",
      "source": [
        "dataset_brasilia = df_bsb\n",
        "#dataset_fortaleza = df_fort\n",
        "#dataset_manaus = df_mao\n",
        "#dataset_poa = df_poa\n",
        "#dataset_sp = df_sp"
      ],
      "metadata": {
        "id": "uupC0DR9hdlK"
      },
      "execution_count": null,
      "outputs": []
    },
    {
      "cell_type": "code",
      "source": [
        "#dataset_brasilia.shape\n",
        "#dataset_sp.shape"
      ],
      "metadata": {
        "id": "nZ1L35ulhsYr"
      },
      "execution_count": null,
      "outputs": []
    },
    {
      "cell_type": "code",
      "source": [
        "dataset_manaus.shape"
      ],
      "metadata": {
        "id": "ORDHaHb1S7v8"
      },
      "execution_count": null,
      "outputs": []
    },
    {
      "cell_type": "code",
      "source": [
        "#dataset_brasilia.tail(10)\n",
        "#dataset_fortaleza.tail(10)\n",
        "#dataset_manaus.tail(3)\n",
        "#dataset_poa.tail(3)\n",
        "#dataset_sp.tail(3)"
      ],
      "metadata": {
        "id": "L-pNdYKju4Ex"
      },
      "execution_count": null,
      "outputs": []
    },
    {
      "cell_type": "code",
      "source": [
        "result_dataset_brasilia = dataset_brasilia[(dataset_brasilia['classe']!=\" \")]"
      ],
      "metadata": {
        "id": "2E4RrvHzKo0A"
      },
      "execution_count": null,
      "outputs": []
    },
    {
      "cell_type": "code",
      "source": [
        "result_dataset_fortaleza = dataset_fortaleza[(dataset_fortaleza['classe']!=\" \")]"
      ],
      "metadata": {
        "id": "IZBllo3YRKaz"
      },
      "execution_count": null,
      "outputs": []
    },
    {
      "cell_type": "code",
      "source": [
        "result_dataset_manaus = dataset_manaus[(dataset_manaus['classe']!=\" \")]"
      ],
      "metadata": {
        "id": "YIv0AyhDTE8_"
      },
      "execution_count": null,
      "outputs": []
    },
    {
      "cell_type": "code",
      "source": [
        "result_dataset_poa = dataset_poa[(dataset_poa['classe']!=\" \")]"
      ],
      "metadata": {
        "id": "V_Dx9LbEUzmn"
      },
      "execution_count": null,
      "outputs": []
    },
    {
      "cell_type": "code",
      "source": [
        "result_dataset_sp = dataset_sp[(dataset_sp['classe']!=\" \")]"
      ],
      "metadata": {
        "id": "H8dEH5ImWK5V"
      },
      "execution_count": null,
      "outputs": []
    },
    {
      "cell_type": "code",
      "source": [
        "result_dataset_brasilia['classe'].value_counts()"
      ],
      "metadata": {
        "id": "b23kUWsAJdBd"
      },
      "execution_count": null,
      "outputs": []
    },
    {
      "cell_type": "code",
      "source": [
        "result_dataset_fortaleza['classe'].value_counts()"
      ],
      "metadata": {
        "id": "PLmA4C8aR5sT"
      },
      "execution_count": null,
      "outputs": []
    },
    {
      "cell_type": "code",
      "source": [
        "result_dataset_manaus['classe'].value_counts()"
      ],
      "metadata": {
        "id": "tVBanFIpTQon"
      },
      "execution_count": null,
      "outputs": []
    },
    {
      "cell_type": "code",
      "source": [
        "result_dataset_poa['classe'].value_counts()"
      ],
      "metadata": {
        "id": "SaYzSPoJU7_K"
      },
      "execution_count": null,
      "outputs": []
    },
    {
      "cell_type": "code",
      "source": [
        "result_dataset_sp['classe'].value_counts()"
      ],
      "metadata": {
        "id": "q65wp1HGWQHs"
      },
      "execution_count": null,
      "outputs": []
    },
    {
      "cell_type": "code",
      "source": [
        "result_dataset = result_dataset.drop(labels=[\"local\"], axis=1)"
      ],
      "metadata": {
        "id": "ZYxQ0wv5RLdc"
      },
      "execution_count": null,
      "outputs": []
    },
    {
      "cell_type": "code",
      "source": [
        "result_dataset_brasilia.groupby('classe').classe.count().nlargest(7).plot(kind='barh', figsize=(10, 8))\n",
        "plt.title('Categorias')\n",
        "plt.xlabel('Quantidade de comentários')\n",
        "plt.ylabel('Classes')\n",
        "plt.legend(loc='best') #colocando a legenda no melhor lugar\n",
        "plt.grid(axis='x')\n",
        "plt.show()"
      ],
      "metadata": {
        "id": "sFfONsl6lgKO"
      },
      "execution_count": null,
      "outputs": []
    },
    {
      "cell_type": "code",
      "source": [
        ""
      ],
      "metadata": {
        "id": "CJuDUR4w1OSq"
      },
      "execution_count": null,
      "outputs": []
    },
    {
      "cell_type": "code",
      "source": [
        "from sklearn.model_selection import train_test_split"
      ],
      "metadata": {
        "id": "vbSY-3mbnkeR"
      },
      "execution_count": null,
      "outputs": []
    },
    {
      "cell_type": "code",
      "source": [
        "feature_columns = ['comentario']\n",
        "label_column = 'classe'"
      ],
      "metadata": {
        "id": "uvASArSdzR-D"
      },
      "execution_count": null,
      "outputs": []
    },
    {
      "cell_type": "code",
      "source": [
        "frames = [result_dataset_brasilia , result_dataset_fortaleza , result_dataset_manaus , result_dataset_poa , result_dataset_sp]"
      ],
      "metadata": {
        "id": "WzG6cVbaaFJp"
      },
      "execution_count": null,
      "outputs": []
    },
    {
      "cell_type": "code",
      "source": [
        "result_dataset = result_dataset_brasilia   #pd.concat(frames, ignore_index=True, sort=False)\n",
        "\n"
      ],
      "metadata": {
        "id": "EtFtR4xTZFgP"
      },
      "execution_count": null,
      "outputs": []
    },
    {
      "cell_type": "code",
      "source": [
        "filtro = result_dataset[(result_dataset['comentario']==\"\")]\n",
        "filtro"
      ],
      "metadata": {
        "id": "4rku1LOSSpml"
      },
      "execution_count": null,
      "outputs": []
    },
    {
      "cell_type": "code",
      "source": [
        "filtro = result_dataset[(result_dataset['classe']==\"bebida\")]\n",
        "filtro"
      ],
      "metadata": {
        "id": "kg0zhyCXW_as"
      },
      "execution_count": null,
      "outputs": []
    },
    {
      "cell_type": "code",
      "source": [
        "result_dataset.shape"
      ],
      "metadata": {
        "id": "jIeBAmIZZavo"
      },
      "execution_count": null,
      "outputs": []
    },
    {
      "cell_type": "code",
      "source": [
        "result_dataset"
      ],
      "metadata": {
        "id": "g41BweApa69H"
      },
      "execution_count": null,
      "outputs": []
    },
    {
      "cell_type": "code",
      "source": [
        "from collections import Counter\n"
      ],
      "metadata": {
        "id": "sQm-A0UHwO5k"
      },
      "execution_count": null,
      "outputs": []
    },
    {
      "cell_type": "code",
      "source": [
        "scaler = MinMaxScaler()\n",
        "sdss = scaler.fit_transform(result_dataset.drop('classe', axis=1))"
      ],
      "metadata": {
        "id": "qA_M134iOD8k"
      },
      "execution_count": null,
      "outputs": []
    },
    {
      "cell_type": "code",
      "source": [
        "X_train, X_test, y_train, y_test = train_test_split(sdss, result_dataset['classe'], test_size=0.33)"
      ],
      "metadata": {
        "id": "YymQN-veOIS1"
      },
      "execution_count": null,
      "outputs": []
    },
    {
      "cell_type": "code",
      "source": [
        "def cross_validation_result(model,X_train,y_train, X_test, y_test,cv_split=10):\n",
        "    \n",
        "    tscv = TimeSeriesSplit(cv_split)\n",
        "    training_score = cross_val_score(model,X_train,y_train, scoring='accuracy', cv=tscv.n_splits) \n",
        "    testing_score = cross_val_score(model,X_test,y_test, scoring='accuracy', cv=tscv.n_splits)\n",
        "    training_predictions = cross_val_predict(model,X_train,y_train, cv=tscv.n_splits)\n",
        "    testing_predictions = cross_val_predict(model,X_test,y_test, cv=tscv.n_splits)\n",
        "    \n",
        "    training_accuracy = r2_score(y_train,training_predictions) \n",
        "    test_accuracy = r2_score(y_test,testing_predictions)\n",
        "   \n",
        "    kappa = cohen_kappa_score(y_test, testing_predictions)\n",
        "    test_accuracy = accuracy_score(y_test, testing_predictions)\n",
        "    f1_score_model = f1_score(y_test, testing_predictions, average=\"macro\")\n",
        "    precision_score_model = precision_score(y_test, testing_predictions, average=\"macro\")\n",
        "    recall_score_model = recall_score(y_test, testing_predictions, average=\"macro\")\n",
        "   # print(confusion_matrix(y_test, testing_predictions))\n",
        "    return training_accuracy,test_accuracy,f1_score_model,precision_score_model,recall_score_model,kappa"
      ],
      "metadata": {
        "id": "GX31XVncOjYg"
      },
      "execution_count": null,
      "outputs": []
    },
    {
      "cell_type": "code",
      "source": [
        "from xgboost import XGBClassifier"
      ],
      "metadata": {
        "id": "lJ7PiC7dO8NM"
      },
      "execution_count": null,
      "outputs": []
    },
    {
      "cell_type": "code",
      "source": [
        "counter = Counter(y_train)\n",
        "print(counter)"
      ],
      "metadata": {
        "id": "QK8DYKIyO-xa"
      },
      "execution_count": null,
      "outputs": []
    },
    {
      "cell_type": "code",
      "source": [
        "counter = Counter(y_test)\n",
        "print(counter)"
      ],
      "metadata": {
        "id": "do28q_tFPNEN"
      },
      "execution_count": null,
      "outputs": []
    },
    {
      "cell_type": "code",
      "source": [
        "oversample = ADASYN()\n",
        "#X_train, y_train = oversample.fit_resample(X_train, y_train)\n",
        "#X_test, y_test = oversample.fit_resample(X_test, y_test)"
      ],
      "metadata": {
        "id": "WzzqmlptPVNo"
      },
      "execution_count": null,
      "outputs": []
    },
    {
      "cell_type": "code",
      "source": [
        "xgb = XGBClassifier(n_estimators=10)\n",
        "d = np.zeros((10, 5))\n",
        "for i in range(10):\n",
        "  \n",
        "  xgb.fit(X_train, y_train)\n",
        "  training_acc_xgb, testing_acc_xgb,f1_score_xgb,precision_score_xgb,recall_score_xgb,kappa_xgb = cross_validation_result(xgb,X_train,y_train,X_test,y_test)\n",
        "  d[i,0] = testing_acc_xgb\n",
        "  d[i,1] = f1_score_xgb\n",
        "  d[i,2] = precision_score_xgb\n",
        "  d[i,3] = recall_score_xgb\n",
        "  d[i,4] = kappa_xgb\n",
        " # print(testing_acc_xgb)\n",
        "  \n",
        "print(\"media das metricas XGBoost:\", np.mean(d,axis=0)) \n",
        "print(\"desvio das metricas XGBoost:\", np.std(d,axis=0))"
      ],
      "metadata": {
        "id": "0m5xyGAzOtwj"
      },
      "execution_count": null,
      "outputs": []
    },
    {
      "cell_type": "code",
      "source": [
        "train, test = train_test_split(result_dataset,random_state=42, test_size = 0.3)\n",
        "y_train = train['classe']\n",
        "y_test = test['classe']\n",
        "test_nolab = test.drop(['classe'],axis=1)"
      ],
      "metadata": {
        "id": "U-btXJyBnUi6"
      },
      "execution_count": null,
      "outputs": []
    },
    {
      "cell_type": "code",
      "source": [
        "train.shape"
      ],
      "metadata": {
        "id": "Z_DG1E59wspC"
      },
      "execution_count": null,
      "outputs": []
    },
    {
      "cell_type": "code",
      "source": [
        "counter = Counter(y_train)\n",
        "print(counter)"
      ],
      "metadata": {
        "id": "_VsYWF-jwn1G"
      },
      "execution_count": null,
      "outputs": []
    },
    {
      "cell_type": "code",
      "source": [
        "counter = Counter(y_test)\n",
        "print(counter)"
      ],
      "metadata": {
        "id": "HrdSNPwNw8VI"
      },
      "execution_count": null,
      "outputs": []
    },
    {
      "cell_type": "code",
      "source": [
        "from imblearn.over_sampling import ADASYN"
      ],
      "metadata": {
        "id": "FBTqOMG_w-43"
      },
      "execution_count": null,
      "outputs": []
    },
    {
      "cell_type": "code",
      "source": [
        "from autogluon.tabular import TabularPredictor \n",
        "from autogluon.tabular.configs.hyperparameter_configs import get_hyperparameter_config\n",
        "hyperparameters = get_hyperparameter_config('multimodal')\n",
        "predictor = TabularPredictor(label='classe', problem_type='multiclass', path='ag_tabular_product_sentiment_multimodal')\n",
        "predictor.fit(train)"
      ],
      "metadata": {
        "id": "kXJEIN2iuYLY"
      },
      "execution_count": null,
      "outputs": []
    },
    {
      "cell_type": "code",
      "source": [
        "y_pred = predictor.predict(test_nolab)\n",
        "print(\"Predictions:  \", y_pred)\n",
        "perf = predictor.evaluate_predictions(y_true=y_test, y_pred=y_pred, auxiliary_metrics=True, detailed_report=True)"
      ],
      "metadata": {
        "id": "dYOEEgrJaoCl"
      },
      "execution_count": null,
      "outputs": []
    },
    {
      "cell_type": "markdown",
      "source": [
        "# ***TabularPredictor***"
      ],
      "metadata": {
        "id": "PH5lSVx-zp2z"
      }
    },
    {
      "cell_type": "code",
      "source": [
        "dev_test = TabularPredictor.Dataset(test_nolab)\n",
        "dev_test.head()"
      ],
      "metadata": {
        "id": "CYOiU4HCgi6y"
      },
      "execution_count": null,
      "outputs": []
    },
    {
      "cell_type": "code",
      "source": [
        "train_data = TabularPredictor.Dataset(train)\n",
        "train_data.head()"
      ],
      "metadata": {
        "id": "mU9u4ZeHVCfV"
      },
      "execution_count": null,
      "outputs": []
    },
    {
      "cell_type": "code",
      "source": [
        "test_data = TabularPredictor.Dataset(test)\n",
        "test_data.head()"
      ],
      "metadata": {
        "id": "0dR21pcDfnaG"
      },
      "execution_count": null,
      "outputs": []
    },
    {
      "cell_type": "code",
      "source": [
        "label_column = 'classe' # specifies which column do we want to predict\n",
        "savedir = 'uea_models/' # where to save trained models"
      ],
      "metadata": {
        "id": "6idGk96kVRKs"
      },
      "execution_count": null,
      "outputs": []
    },
    {
      "cell_type": "code",
      "source": [
        "predictor = TabularPredictor(label='classe', problem_type=\"multiclass\", path='ag_tabular_product_sentiment_multimodal')\n",
        "predictor.fit(train_data)"
      ],
      "metadata": {
        "id": "-c0t-WdzXmdA"
      },
      "execution_count": null,
      "outputs": []
    },
    {
      "cell_type": "markdown",
      "source": [
        "**TextPredictor**"
      ],
      "metadata": {
        "id": "lMGGiRlKCMNX"
      }
    },
    {
      "cell_type": "code",
      "source": [
        "from autogluon.text import TextPredictor"
      ],
      "metadata": {
        "id": "wb0NSJKzWUN2"
      },
      "execution_count": null,
      "outputs": []
    },
    {
      "cell_type": "code",
      "source": [
        "predictor = TextPredictor(label='classe', eval_metric='acc', path='./ag_sst')\n",
        "predictor.fit(train_data)"
      ],
      "metadata": {
        "id": "5ainy0lbauCq"
      },
      "execution_count": null,
      "outputs": []
    },
    {
      "cell_type": "code",
      "source": [
        "predictor.leaderboard(test_data)"
      ],
      "metadata": {
        "id": "Qqx6k0VReJx4"
      },
      "execution_count": null,
      "outputs": []
    },
    {
      "cell_type": "code",
      "source": [
        "y_pred = predictor.predict(test_nolab)\n",
        "print(\"Predictions:  \", y_pred)\n",
        "perf = predictor.evaluate_predictions(y_true=y_test, y_pred=y_pred,  auxiliary_metrics=True)"
      ],
      "metadata": {
        "id": "LM-zfOxuWlbX"
      },
      "execution_count": null,
      "outputs": []
    },
    {
      "cell_type": "code",
      "source": [
        "#task = TabularPredictor(label=label_column)\n",
        "#predictor = task.fit(train_data=train_data)"
      ],
      "metadata": {
        "id": "a1a4ksW6VWwF"
      },
      "execution_count": null,
      "outputs": []
    },
    {
      "cell_type": "code",
      "source": [
        "results = predictor.fit_summary()"
      ],
      "metadata": {
        "id": "BcMJeGoXWuiI"
      },
      "execution_count": null,
      "outputs": []
    },
    {
      "cell_type": "code",
      "source": [
        "from numpy.lib.function_base import average\n",
        "test_score = predictor.evaluate(test_data)\n",
        "print(test_score)"
      ],
      "metadata": {
        "id": "H9ZTFmcHkky6"
      },
      "execution_count": null,
      "outputs": []
    },
    {
      "cell_type": "code",
      "source": [
        ""
      ],
      "metadata": {
        "id": "MoO0fI_SafCp"
      },
      "execution_count": null,
      "outputs": []
    },
    {
      "cell_type": "code",
      "source": [
        "# initialize list of lists\n",
        "data = [['manaus','cerveja.'], ['manaus','experiência coco bambu ótima.'], ['sampa','ambiente agradável.'], ['brasilia','preço agradável.']]\n",
        " \n",
        "# Create the pandas DataFrame\n",
        "df = pd.DataFrame(data, columns = ['local', 'comentario'])"
      ],
      "metadata": {
        "id": "Hz36PF8xw7Cg"
      },
      "execution_count": null,
      "outputs": []
    },
    {
      "cell_type": "code",
      "source": [
        "\n",
        "predictions = predictor.predict(df)\n",
        "print('\"Sentence\":', data[0], '\"Predicted Sentiment\":', predictions[0])\n",
        "print('\"Sentence\":', data[1], '\"Predicted Sentiment\":', predictions[1])\n",
        "print('\"Sentence\":', data[2], '\"Predicted Sentiment\":', predictions[2])\n",
        "print('\"Sentence\":', data[3], '\"Predicted Sentiment\":', predictions[3])"
      ],
      "metadata": {
        "id": "JvfJKMb7wPkM"
      },
      "execution_count": null,
      "outputs": []
    },
    {
      "cell_type": "code",
      "source": [
        "predictor.leaderboard(test)"
      ],
      "metadata": {
        "id": "whj6zwjky3AE"
      },
      "execution_count": null,
      "outputs": []
    },
    {
      "cell_type": "code",
      "source": [
        "pred_probs = predictor.predict_proba(test_nolab)\n",
        "pred_probs.head(5)"
      ],
      "metadata": {
        "id": "2QmDEiHTjI0Q"
      },
      "execution_count": null,
      "outputs": []
    }
  ]
}