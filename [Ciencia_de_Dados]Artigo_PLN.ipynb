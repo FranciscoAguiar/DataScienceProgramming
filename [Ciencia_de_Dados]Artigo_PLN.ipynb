{
  "nbformat": 4,
  "nbformat_minor": 0,
  "metadata": {
    "colab": {
      "name": "[Ciencia de Dados]Artigo_PLN.ipynb",
      "private_outputs": true,
      "provenance": [],
      "authorship_tag": "ABX9TyNcpgATV9FeImMemz0Xpzug",
      "include_colab_link": true
    },
    "kernelspec": {
      "name": "python3",
      "display_name": "Python 3"
    },
    "language_info": {
      "name": "python"
    },
    "accelerator": "GPU"
  },
  "cells": [
    {
      "cell_type": "markdown",
      "metadata": {
        "id": "view-in-github",
        "colab_type": "text"
      },
      "source": [
        "<a href=\"https://colab.research.google.com/github/FranciscoAguiar/DataScienceProgramming/blob/master/%5BCiencia_de_Dados%5DArtigo_PLN.ipynb\" target=\"_parent\"><img src=\"https://colab.research.google.com/assets/colab-badge.svg\" alt=\"Open In Colab\"/></a>"
      ]
    },
    {
      "cell_type": "code",
      "execution_count": null,
      "metadata": {
        "id": "CqA1fnhG1XYQ"
      },
      "outputs": [],
      "source": [
        "%matplotlib inline\n",
        "\n",
        "import numpy as np\n",
        "import warnings\n",
        "import matplotlib.pyplot as plt\n",
        "warnings.filterwarnings('ignore')\n",
        "np.random.seed(123)"
      ]
    },
    {
      "cell_type": "code",
      "source": [
        "!pip install -U pip"
      ],
      "metadata": {
        "id": "INpMd9yc7B3C"
      },
      "execution_count": null,
      "outputs": []
    },
    {
      "cell_type": "code",
      "source": [
        "!pip install -U setuptools wheel"
      ],
      "metadata": {
        "id": "lSFk7Dwi72OW"
      },
      "execution_count": null,
      "outputs": []
    },
    {
      "cell_type": "code",
      "source": [
        "!pip install -U \"mxnet<2.0.0\""
      ],
      "metadata": {
        "id": "TnEGijCb7_Zj"
      },
      "execution_count": null,
      "outputs": []
    },
    {
      "cell_type": "code",
      "source": [
        "!pip install autogluon"
      ],
      "metadata": {
        "id": "fQURd6FW8GC1"
      },
      "execution_count": null,
      "outputs": []
    },
    {
      "cell_type": "code",
      "source": [
        "from autogluon.core.utils.loaders.load_pd import load\n",
        "train_data = load('https://autogluon-text.s3-accelerate.amazonaws.com/glue/sst/train.parquet')\n",
        "test_data = load('https://autogluon-text.s3-accelerate.amazonaws.com/glue/sst/dev.parquet')\n",
        "subsample_size = 1000  # subsample data for faster demo, try setting this to larger values\n",
        "train_data = train_data.sample(n=subsample_size, random_state=0)\n",
        "train_data.head(10)"
      ],
      "metadata": {
        "id": "AaMNoQbk6khb"
      },
      "execution_count": null,
      "outputs": []
    },
    {
      "cell_type": "code",
      "source": [
        "\n",
        "\n",
        "\n",
        "from autogluon.core.utils.utils import get_cpu_count, get_gpu_count, default_holdout_frac , get_gpu_count_mxnet, get_gpu_count_torch\n",
        "\n",
        "print(get_gpu_count_mxnet())\n",
        "print(get_gpu_count_torch()) "
      ],
      "metadata": {
        "id": "lqlm5DaH_KMh"
      },
      "execution_count": null,
      "outputs": []
    },
    {
      "cell_type": "code",
      "source": [
        "import os\n",
        "os.environ['AUTOGLUON_TEXT_TRAIN_WITHOUT_GPU']='1'"
      ],
      "metadata": {
        "id": "1MudvsWABXrV"
      },
      "execution_count": null,
      "outputs": []
    },
    {
      "cell_type": "code",
      "source": [
        "from autogluon.text import TextPredictor\n",
        "\n",
        "predictor = TextPredictor(label='label', eval_metric='acc', path='./ag_sst')\n",
        "predictor.fit(train_data, time_limit=None)"
      ],
      "metadata": {
        "id": "dBJGRgVu7km0"
      },
      "execution_count": null,
      "outputs": []
    },
    {
      "cell_type": "code",
      "source": [
        "test_score = predictor.evaluate(test_data)\n",
        "print('Accuracy = {:.2f}%'.format(test_score * 100))"
      ],
      "metadata": {
        "id": "20XOunD_CkBm"
      },
      "execution_count": null,
      "outputs": []
    },
    {
      "cell_type": "code",
      "source": [
        "test_score = predictor.evaluate(test_data, metrics=['acc', 'f1'])\n",
        "print(test_score)"
      ],
      "metadata": {
        "id": "dRyX8hKuDND4"
      },
      "execution_count": null,
      "outputs": []
    },
    {
      "cell_type": "code",
      "source": [
        "sentence1 = \"it's a charming and often affecting journey.\"\n",
        "sentence2 = \"It's slow, very, very, very slow.\"\n",
        "predictions = predictor.predict({'sentence': [sentence1, sentence2]})\n",
        "print('\"Sentence\":', sentence1, '\"Predicted Sentiment\":', predictions[0])\n",
        "print('\"Sentence\":', sentence2, '\"Predicted Sentiment\":', predictions[1])"
      ],
      "metadata": {
        "id": "YNIrG_JCDTdz"
      },
      "execution_count": null,
      "outputs": []
    }
  ]
}