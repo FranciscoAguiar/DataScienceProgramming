{
  "nbformat": 4,
  "nbformat_minor": 0,
  "metadata": {
    "colab": {
      "name": "Classificadores2.ipynb",
      "provenance": [],
      "authorship_tag": "ABX9TyOsh1ROkwFkDrfJe+vVlShH",
      "include_colab_link": true
    },
    "kernelspec": {
      "name": "python3",
      "display_name": "Python 3"
    },
    "language_info": {
      "name": "python"
    }
  },
  "cells": [
    {
      "cell_type": "markdown",
      "metadata": {
        "id": "view-in-github",
        "colab_type": "text"
      },
      "source": [
        "<a href=\"https://colab.research.google.com/github/FranciscoAguiar/DataScienceProgramming/blob/master/Classificadores4-liwc_Coh.ipynb\" target=\"_parent\"><img src=\"https://colab.research.google.com/assets/colab-badge.svg\" alt=\"Open In Colab\"/></a>"
      ]
    },
    {
      "cell_type": "code",
      "metadata": {
        "id": "L6wI9Seqb2y8"
      },
      "source": [
        "import numpy as np\n",
        "import pandas as pd\n",
        "import matplotlib.pyplot as plt\n",
        "from matplotlib import style\n",
        "import seaborn as sns\n",
        "sns.set_style('whitegrid')\n",
        "import tensorflow as tf\n",
        "from sklearn.model_selection import train_test_split, cross_val_predict, TimeSeriesSplit, cross_val_score,cross_val_predict\n",
        "from sklearn.svm import SVC\n",
        "from sklearn.ensemble import RandomForestClassifier\n",
        "from sklearn.linear_model import SGDClassifier\n",
        "from sklearn.neighbors import KNeighborsClassifier\n",
        "from sklearn.naive_bayes import GaussianNB\n",
        "from sklearn.decomposition import PCA\n",
        "from xgboost import XGBClassifier\n",
        "from sklearn.preprocessing import LabelEncoder, MinMaxScaler\n",
        "from sklearn.metrics import confusion_matrix,r2_score, precision_score, recall_score, f1_score,cohen_kappa_score\n",
        "import time\n",
        "import warnings\n",
        "from collections import Counter\n",
        "from imblearn.over_sampling import ADASYN\n",
        "warnings.filterwarnings(\"ignore\", category=DeprecationWarning)\n",
        "import shap\n",
        "%matplotlib inline\n",
        "\n",
        "SMALL_SIZE = 10\n",
        "MEDIUM_SIZE = 12\n",
        "\n",
        "plt.rc('font', size=SMALL_SIZE)\n",
        "plt.rc('axes', titlesize=MEDIUM_SIZE)\n",
        "plt.rc('axes', labelsize=MEDIUM_SIZE)\n",
        "plt.rcParams['figure.dpi']=150"
      ],
      "execution_count": 3,
      "outputs": []
    },
    {
      "cell_type": "code",
      "metadata": {
        "colab": {
          "base_uri": "https://localhost:8080/"
        },
        "id": "l1XcRrCjulVM",
        "outputId": "08bf939f-80df-4aa9-b6b6-ae6b64116010"
      },
      "source": [
        "!pip install shap"
      ],
      "execution_count": null,
      "outputs": [
        {
          "output_type": "stream",
          "name": "stdout",
          "text": [
            "Collecting shap\n",
            "  Downloading shap-0.39.0.tar.gz (356 kB)\n",
            "\u001b[?25l\r\u001b[K     |█                               | 10 kB 24.3 MB/s eta 0:00:01\r\u001b[K     |█▉                              | 20 kB 30.4 MB/s eta 0:00:01\r\u001b[K     |██▊                             | 30 kB 15.2 MB/s eta 0:00:01\r\u001b[K     |███▊                            | 40 kB 11.1 MB/s eta 0:00:01\r\u001b[K     |████▋                           | 51 kB 5.5 MB/s eta 0:00:01\r\u001b[K     |█████▌                          | 61 kB 5.8 MB/s eta 0:00:01\r\u001b[K     |██████▍                         | 71 kB 5.1 MB/s eta 0:00:01\r\u001b[K     |███████▍                        | 81 kB 5.8 MB/s eta 0:00:01\r\u001b[K     |████████▎                       | 92 kB 5.8 MB/s eta 0:00:01\r\u001b[K     |█████████▏                      | 102 kB 5.1 MB/s eta 0:00:01\r\u001b[K     |██████████▏                     | 112 kB 5.1 MB/s eta 0:00:01\r\u001b[K     |███████████                     | 122 kB 5.1 MB/s eta 0:00:01\r\u001b[K     |████████████                    | 133 kB 5.1 MB/s eta 0:00:01\r\u001b[K     |████████████▉                   | 143 kB 5.1 MB/s eta 0:00:01\r\u001b[K     |█████████████▉                  | 153 kB 5.1 MB/s eta 0:00:01\r\u001b[K     |██████████████▊                 | 163 kB 5.1 MB/s eta 0:00:01\r\u001b[K     |███████████████▋                | 174 kB 5.1 MB/s eta 0:00:01\r\u001b[K     |████████████████▋               | 184 kB 5.1 MB/s eta 0:00:01\r\u001b[K     |█████████████████▌              | 194 kB 5.1 MB/s eta 0:00:01\r\u001b[K     |██████████████████▍             | 204 kB 5.1 MB/s eta 0:00:01\r\u001b[K     |███████████████████▎            | 215 kB 5.1 MB/s eta 0:00:01\r\u001b[K     |████████████████████▎           | 225 kB 5.1 MB/s eta 0:00:01\r\u001b[K     |█████████████████████▏          | 235 kB 5.1 MB/s eta 0:00:01\r\u001b[K     |██████████████████████          | 245 kB 5.1 MB/s eta 0:00:01\r\u001b[K     |███████████████████████         | 256 kB 5.1 MB/s eta 0:00:01\r\u001b[K     |████████████████████████        | 266 kB 5.1 MB/s eta 0:00:01\r\u001b[K     |████████████████████████▉       | 276 kB 5.1 MB/s eta 0:00:01\r\u001b[K     |█████████████████████████▊      | 286 kB 5.1 MB/s eta 0:00:01\r\u001b[K     |██████████████████████████▊     | 296 kB 5.1 MB/s eta 0:00:01\r\u001b[K     |███████████████████████████▋    | 307 kB 5.1 MB/s eta 0:00:01\r\u001b[K     |████████████████████████████▌   | 317 kB 5.1 MB/s eta 0:00:01\r\u001b[K     |█████████████████████████████▍  | 327 kB 5.1 MB/s eta 0:00:01\r\u001b[K     |██████████████████████████████▍ | 337 kB 5.1 MB/s eta 0:00:01\r\u001b[K     |███████████████████████████████▎| 348 kB 5.1 MB/s eta 0:00:01\r\u001b[K     |████████████████████████████████| 356 kB 5.1 MB/s \n",
            "\u001b[?25hRequirement already satisfied: numpy in /usr/local/lib/python3.7/dist-packages (from shap) (1.19.5)\n",
            "Requirement already satisfied: scipy in /usr/local/lib/python3.7/dist-packages (from shap) (1.4.1)\n",
            "Requirement already satisfied: scikit-learn in /usr/local/lib/python3.7/dist-packages (from shap) (0.22.2.post1)\n",
            "Requirement already satisfied: pandas in /usr/local/lib/python3.7/dist-packages (from shap) (1.1.5)\n",
            "Requirement already satisfied: tqdm>4.25.0 in /usr/local/lib/python3.7/dist-packages (from shap) (4.62.3)\n",
            "Collecting slicer==0.0.7\n",
            "  Downloading slicer-0.0.7-py3-none-any.whl (14 kB)\n",
            "Requirement already satisfied: numba in /usr/local/lib/python3.7/dist-packages (from shap) (0.51.2)\n",
            "Requirement already satisfied: cloudpickle in /usr/local/lib/python3.7/dist-packages (from shap) (1.3.0)\n",
            "Requirement already satisfied: llvmlite<0.35,>=0.34.0.dev0 in /usr/local/lib/python3.7/dist-packages (from numba->shap) (0.34.0)\n",
            "Requirement already satisfied: setuptools in /usr/local/lib/python3.7/dist-packages (from numba->shap) (57.4.0)\n",
            "Requirement already satisfied: python-dateutil>=2.7.3 in /usr/local/lib/python3.7/dist-packages (from pandas->shap) (2.8.2)\n",
            "Requirement already satisfied: pytz>=2017.2 in /usr/local/lib/python3.7/dist-packages (from pandas->shap) (2018.9)\n",
            "Requirement already satisfied: six>=1.5 in /usr/local/lib/python3.7/dist-packages (from python-dateutil>=2.7.3->pandas->shap) (1.15.0)\n",
            "Requirement already satisfied: joblib>=0.11 in /usr/local/lib/python3.7/dist-packages (from scikit-learn->shap) (1.0.1)\n",
            "Building wheels for collected packages: shap\n",
            "  Building wheel for shap (setup.py) ... \u001b[?25l\u001b[?25hdone\n",
            "  Created wheel for shap: filename=shap-0.39.0-cp37-cp37m-linux_x86_64.whl size=491644 sha256=a4572402db44e7c7a71a5cd3b7ae01ffece4b93ad9bf0e9a1a01c9b553cbdf2f\n",
            "  Stored in directory: /root/.cache/pip/wheels/ca/25/8f/6ae5df62c32651cd719e972e738a8aaa4a87414c4d2b14c9c0\n",
            "Successfully built shap\n",
            "Installing collected packages: slicer, shap\n",
            "Successfully installed shap-0.39.0 slicer-0.0.7\n"
          ]
        }
      ]
    },
    {
      "cell_type": "markdown",
      "metadata": {
        "id": "609vXW5kcLL8"
      },
      "source": [
        "# Data Acquisition"
      ]
    },
    {
      "cell_type": "code",
      "metadata": {
        "id": "dDAphdELcNUy"
      },
      "source": [
        "dataset = pd.read_csv('combined.csv', sep=',')\n",
        "datasetLi = pd.read_csv('combinedLIWC.csv', sep=',')\n",
        "datasetCo = pd.read_csv('combined_CohMetrix.csv', sep=',')"
      ],
      "execution_count": 4,
      "outputs": []
    },
    {
      "cell_type": "markdown",
      "metadata": {
        "id": "-elFugUGhvAq"
      },
      "source": [
        "# Desbalanceamento"
      ]
    },
    {
      "cell_type": "markdown",
      "metadata": {
        "id": "WnnoK7Geca8g"
      },
      "source": [
        "# Data Exploration"
      ]
    },
    {
      "cell_type": "code",
      "metadata": {
        "colab": {
          "base_uri": "https://localhost:8080/",
          "height": 669
        },
        "id": "pZhSsHNsccQq",
        "outputId": "61421de6-10c8-47b5-cae2-69fece8b1fc6"
      },
      "source": [
        "dataset.head(20)"
      ],
      "execution_count": 5,
      "outputs": [
        {
          "output_type": "execute_result",
          "data": {
            "text/html": [
              "<div>\n",
              "<style scoped>\n",
              "    .dataframe tbody tr th:only-of-type {\n",
              "        vertical-align: middle;\n",
              "    }\n",
              "\n",
              "    .dataframe tbody tr th {\n",
              "        vertical-align: top;\n",
              "    }\n",
              "\n",
              "    .dataframe thead th {\n",
              "        text-align: right;\n",
              "    }\n",
              "</style>\n",
              "<table border=\"1\" class=\"dataframe\">\n",
              "  <thead>\n",
              "    <tr style=\"text-align: right;\">\n",
              "      <th></th>\n",
              "      <th>id</th>\n",
              "      <th>feedback</th>\n",
              "      <th>classe</th>\n",
              "    </tr>\n",
              "  </thead>\n",
              "  <tbody>\n",
              "    <tr>\n",
              "      <th>0</th>\n",
              "      <td>23</td>\n",
              "      <td>Ler outros textos sobre o assunto para lher da...</td>\n",
              "      <td>0</td>\n",
              "    </tr>\n",
              "    <tr>\n",
              "      <th>1</th>\n",
              "      <td>24</td>\n",
              "      <td>Procure ler mais; para escrever mais acerca do...</td>\n",
              "      <td>0</td>\n",
              "    </tr>\n",
              "    <tr>\n",
              "      <th>2</th>\n",
              "      <td>35</td>\n",
              "      <td>Texto bom; precisa apenas ler mais um pouco; p...</td>\n",
              "      <td>0</td>\n",
              "    </tr>\n",
              "    <tr>\n",
              "      <th>3</th>\n",
              "      <td>37</td>\n",
              "      <td>Ter cuidado com copias da internet.</td>\n",
              "      <td>0</td>\n",
              "    </tr>\n",
              "    <tr>\n",
              "      <th>4</th>\n",
              "      <td>68</td>\n",
              "      <td>Carssimo; o trabalho precisa de uma sistematiz...</td>\n",
              "      <td>1</td>\n",
              "    </tr>\n",
              "    <tr>\n",
              "      <th>5</th>\n",
              "      <td>286</td>\n",
              "      <td>Ol Wilma!      Na sua postagem no consta o nom...</td>\n",
              "      <td>0</td>\n",
              "    </tr>\n",
              "    <tr>\n",
              "      <th>6</th>\n",
              "      <td>665</td>\n",
              "      <td>Faltaram alguns elementos: referncias etc.</td>\n",
              "      <td>0</td>\n",
              "    </tr>\n",
              "    <tr>\n",
              "      <th>7</th>\n",
              "      <td>804</td>\n",
              "      <td>Bom dia Ana Lcia! De acordo com a tarefa da we...</td>\n",
              "      <td>1</td>\n",
              "    </tr>\n",
              "    <tr>\n",
              "      <th>8</th>\n",
              "      <td>842</td>\n",
              "      <td>Boa tarde Ccero! o motivo da sua pontuao foi i...</td>\n",
              "      <td>1</td>\n",
              "    </tr>\n",
              "    <tr>\n",
              "      <th>9</th>\n",
              "      <td>1098</td>\n",
              "      <td>Bom dia!!! cuidado com os erros ortogrficos e ...</td>\n",
              "      <td>0</td>\n",
              "    </tr>\n",
              "    <tr>\n",
              "      <th>10</th>\n",
              "      <td>1200</td>\n",
              "      <td>Seu trabalho foi bem elaborado; porm faltaram ...</td>\n",
              "      <td>0</td>\n",
              "    </tr>\n",
              "    <tr>\n",
              "      <th>11</th>\n",
              "      <td>1223</td>\n",
              "      <td>Sempre que fizer alguma atividade (Webquest) c...</td>\n",
              "      <td>1</td>\n",
              "    </tr>\n",
              "    <tr>\n",
              "      <th>12</th>\n",
              "      <td>1279</td>\n",
              "      <td>Cpia do artigo REMINISCNCIAS ENTRE MUNDOS EM C...</td>\n",
              "      <td>0</td>\n",
              "    </tr>\n",
              "    <tr>\n",
              "      <th>13</th>\n",
              "      <td>1280</td>\n",
              "      <td>H; neste texto; indcios de plgio.</td>\n",
              "      <td>0</td>\n",
              "    </tr>\n",
              "    <tr>\n",
              "      <th>14</th>\n",
              "      <td>1393</td>\n",
              "      <td>No foi apresentado o que foi pedido na web... ...</td>\n",
              "      <td>0</td>\n",
              "    </tr>\n",
              "    <tr>\n",
              "      <th>15</th>\n",
              "      <td>1399</td>\n",
              "      <td>H; neste texto; indcios de plgio. Tenha mais a...</td>\n",
              "      <td>0</td>\n",
              "    </tr>\n",
              "    <tr>\n",
              "      <th>16</th>\n",
              "      <td>1408</td>\n",
              "      <td>H; no texto; alguns indcios de plgio.  preciso...</td>\n",
              "      <td>0</td>\n",
              "    </tr>\n",
              "    <tr>\n",
              "      <th>17</th>\n",
              "      <td>1450</td>\n",
              "      <td>H; no texto; indcios de plgio.</td>\n",
              "      <td>0</td>\n",
              "    </tr>\n",
              "    <tr>\n",
              "      <th>18</th>\n",
              "      <td>1546</td>\n",
              "      <td>Seu trabalho cumpriu com os requisitos. Apenas...</td>\n",
              "      <td>0</td>\n",
              "    </tr>\n",
              "    <tr>\n",
              "      <th>19</th>\n",
              "      <td>1555</td>\n",
              "      <td>Seu trabalho cumpriu com todos os requisitos s...</td>\n",
              "      <td>1</td>\n",
              "    </tr>\n",
              "  </tbody>\n",
              "</table>\n",
              "</div>"
            ],
            "text/plain": [
              "      id                                           feedback  classe\n",
              "0     23  Ler outros textos sobre o assunto para lher da...       0\n",
              "1     24  Procure ler mais; para escrever mais acerca do...       0\n",
              "2     35  Texto bom; precisa apenas ler mais um pouco; p...       0\n",
              "3     37                Ter cuidado com copias da internet.       0\n",
              "4     68  Carssimo; o trabalho precisa de uma sistematiz...       1\n",
              "5    286  Ol Wilma!      Na sua postagem no consta o nom...       0\n",
              "6    665         Faltaram alguns elementos: referncias etc.       0\n",
              "7    804  Bom dia Ana Lcia! De acordo com a tarefa da we...       1\n",
              "8    842  Boa tarde Ccero! o motivo da sua pontuao foi i...       1\n",
              "9   1098  Bom dia!!! cuidado com os erros ortogrficos e ...       0\n",
              "10  1200  Seu trabalho foi bem elaborado; porm faltaram ...       0\n",
              "11  1223  Sempre que fizer alguma atividade (Webquest) c...       1\n",
              "12  1279  Cpia do artigo REMINISCNCIAS ENTRE MUNDOS EM C...       0\n",
              "13  1280                  H; neste texto; indcios de plgio.       0\n",
              "14  1393  No foi apresentado o que foi pedido na web... ...       0\n",
              "15  1399  H; neste texto; indcios de plgio. Tenha mais a...       0\n",
              "16  1408  H; no texto; alguns indcios de plgio.  preciso...       0\n",
              "17  1450                     H; no texto; indcios de plgio.       0\n",
              "18  1546  Seu trabalho cumpriu com os requisitos. Apenas...       0\n",
              "19  1555  Seu trabalho cumpriu com todos os requisitos s...       1"
            ]
          },
          "metadata": {},
          "execution_count": 5
        }
      ]
    },
    {
      "cell_type": "code",
      "metadata": {
        "colab": {
          "base_uri": "https://localhost:8080/",
          "height": 253
        },
        "id": "XluRVsagB0Rn",
        "outputId": "aa083025-bc67-4d5e-cf5b-4939cb250e97"
      },
      "source": [
        "datasetResult = datasetLi.join(datasetCo)\n",
        "datasetResult.head()"
      ],
      "execution_count": 6,
      "outputs": [
        {
          "output_type": "execute_result",
          "data": {
            "text/html": [
              "<div>\n",
              "<style scoped>\n",
              "    .dataframe tbody tr th:only-of-type {\n",
              "        vertical-align: middle;\n",
              "    }\n",
              "\n",
              "    .dataframe tbody tr th {\n",
              "        vertical-align: top;\n",
              "    }\n",
              "\n",
              "    .dataframe thead th {\n",
              "        text-align: right;\n",
              "    }\n",
              "</style>\n",
              "<table border=\"1\" class=\"dataframe\">\n",
              "  <thead>\n",
              "    <tr style=\"text-align: right;\">\n",
              "      <th></th>\n",
              "      <th>id</th>\n",
              "      <th>liwc.funct</th>\n",
              "      <th>liwc.pronoun</th>\n",
              "      <th>liwc.ppron</th>\n",
              "      <th>liwc.i</th>\n",
              "      <th>liwc.we</th>\n",
              "      <th>liwc.you</th>\n",
              "      <th>liwc.shehe</th>\n",
              "      <th>liwc.they</th>\n",
              "      <th>liwc.ipron</th>\n",
              "      <th>liwc.article</th>\n",
              "      <th>liwc.verb</th>\n",
              "      <th>liwc.auxverb</th>\n",
              "      <th>liwc.past</th>\n",
              "      <th>liwc.present</th>\n",
              "      <th>liwc.future</th>\n",
              "      <th>liwc.adverb</th>\n",
              "      <th>liwc.preps</th>\n",
              "      <th>liwc.conj</th>\n",
              "      <th>liwc.negate</th>\n",
              "      <th>liwc.quant</th>\n",
              "      <th>liwc.number</th>\n",
              "      <th>liwc.swear</th>\n",
              "      <th>liwc.social</th>\n",
              "      <th>liwc.family</th>\n",
              "      <th>liwc.friend</th>\n",
              "      <th>liwc.humans</th>\n",
              "      <th>liwc.affect</th>\n",
              "      <th>liwc.posemo</th>\n",
              "      <th>liwc.negemo</th>\n",
              "      <th>liwc.anx</th>\n",
              "      <th>liwc.anger</th>\n",
              "      <th>liwc.sad</th>\n",
              "      <th>liwc.cogmech</th>\n",
              "      <th>liwc.insight</th>\n",
              "      <th>liwc.cause</th>\n",
              "      <th>liwc.discrep</th>\n",
              "      <th>liwc.tentat</th>\n",
              "      <th>liwc.certain</th>\n",
              "      <th>liwc.inhib</th>\n",
              "      <th>...</th>\n",
              "      <th>cm.SMCAUSv</th>\n",
              "      <th>cm.SMCAUSvp</th>\n",
              "      <th>cm.SMCAUSr</th>\n",
              "      <th>cm.SMCAUSlsa</th>\n",
              "      <th>cm.SMCAUSwn</th>\n",
              "      <th>cm.SYNLE</th>\n",
              "      <th>cm.SYNMEDpos</th>\n",
              "      <th>cm.SYNMEDwrd</th>\n",
              "      <th>cm.SYNMEDlem</th>\n",
              "      <th>cm.SYNSTRUTa</th>\n",
              "      <th>cm.SYNSTRUTt</th>\n",
              "      <th>cm.DRNP</th>\n",
              "      <th>cm.DRVP</th>\n",
              "      <th>cm.DRAP</th>\n",
              "      <th>cm.DRPP</th>\n",
              "      <th>cm.DRPVAL</th>\n",
              "      <th>cm.DRNEG</th>\n",
              "      <th>cm.DRGERUND</th>\n",
              "      <th>cm.DRINF</th>\n",
              "      <th>cm.WRDNOUN</th>\n",
              "      <th>cm.WRDVERB</th>\n",
              "      <th>cm.WRDADJ</th>\n",
              "      <th>cm.WRDADV</th>\n",
              "      <th>cm.WRDPRO</th>\n",
              "      <th>cm.WRDPRP1s</th>\n",
              "      <th>cm.WRDPRP1p</th>\n",
              "      <th>cm.WRDPRP2</th>\n",
              "      <th>cm.WRDPRP3s</th>\n",
              "      <th>cm.WRDPRP3p</th>\n",
              "      <th>cm.WRDFRQc</th>\n",
              "      <th>cm.WRDFRQa</th>\n",
              "      <th>cm.WRDFRQmc</th>\n",
              "      <th>cm.WRDAOAc</th>\n",
              "      <th>cm.WRDFAMc</th>\n",
              "      <th>cm.WRDCNCc</th>\n",
              "      <th>cm.WRDIMGc</th>\n",
              "      <th>cm.WRDMEAc</th>\n",
              "      <th>cm.RDFRE</th>\n",
              "      <th>cm.RDFKGL</th>\n",
              "      <th>cm.RDL2</th>\n",
              "    </tr>\n",
              "  </thead>\n",
              "  <tbody>\n",
              "    <tr>\n",
              "      <th>0</th>\n",
              "      <td>23</td>\n",
              "      <td>10</td>\n",
              "      <td>3</td>\n",
              "      <td>1</td>\n",
              "      <td>0</td>\n",
              "      <td>0</td>\n",
              "      <td>1</td>\n",
              "      <td>1</td>\n",
              "      <td>0</td>\n",
              "      <td>3</td>\n",
              "      <td>1</td>\n",
              "      <td>4</td>\n",
              "      <td>1</td>\n",
              "      <td>0</td>\n",
              "      <td>4</td>\n",
              "      <td>1</td>\n",
              "      <td>0</td>\n",
              "      <td>5</td>\n",
              "      <td>1</td>\n",
              "      <td>0</td>\n",
              "      <td>1</td>\n",
              "      <td>0</td>\n",
              "      <td>2</td>\n",
              "      <td>4</td>\n",
              "      <td>0</td>\n",
              "      <td>0</td>\n",
              "      <td>0</td>\n",
              "      <td>1</td>\n",
              "      <td>1</td>\n",
              "      <td>1</td>\n",
              "      <td>0</td>\n",
              "      <td>0</td>\n",
              "      <td>1</td>\n",
              "      <td>9</td>\n",
              "      <td>2</td>\n",
              "      <td>2</td>\n",
              "      <td>2</td>\n",
              "      <td>0</td>\n",
              "      <td>1</td>\n",
              "      <td>4</td>\n",
              "      <td>...</td>\n",
              "      <td>0.0</td>\n",
              "      <td>0.0</td>\n",
              "      <td>0.0</td>\n",
              "      <td>1.000000</td>\n",
              "      <td>1.0</td>\n",
              "      <td>0.00</td>\n",
              "      <td>0.000000</td>\n",
              "      <td>0.000000</td>\n",
              "      <td>0.000000</td>\n",
              "      <td>0.000000</td>\n",
              "      <td>0.000000</td>\n",
              "      <td>0</td>\n",
              "      <td>0</td>\n",
              "      <td>0</td>\n",
              "      <td>0</td>\n",
              "      <td>0</td>\n",
              "      <td>0</td>\n",
              "      <td>0</td>\n",
              "      <td>2</td>\n",
              "      <td>5</td>\n",
              "      <td>2</td>\n",
              "      <td>2</td>\n",
              "      <td>1</td>\n",
              "      <td>0</td>\n",
              "      <td>0</td>\n",
              "      <td>0</td>\n",
              "      <td>0</td>\n",
              "      <td>0</td>\n",
              "      <td>0</td>\n",
              "      <td>6.132208</td>\n",
              "      <td>1.813555</td>\n",
              "      <td>6.132208</td>\n",
              "      <td>464.666667</td>\n",
              "      <td>559.000000</td>\n",
              "      <td>356.142857</td>\n",
              "      <td>339.285714</td>\n",
              "      <td>336.250000</td>\n",
              "      <td>25.356471</td>\n",
              "      <td>13.945882</td>\n",
              "      <td>NaN</td>\n",
              "    </tr>\n",
              "    <tr>\n",
              "      <th>1</th>\n",
              "      <td>24</td>\n",
              "      <td>8</td>\n",
              "      <td>2</td>\n",
              "      <td>2</td>\n",
              "      <td>0</td>\n",
              "      <td>1</td>\n",
              "      <td>1</td>\n",
              "      <td>1</td>\n",
              "      <td>0</td>\n",
              "      <td>1</td>\n",
              "      <td>1</td>\n",
              "      <td>2</td>\n",
              "      <td>1</td>\n",
              "      <td>1</td>\n",
              "      <td>1</td>\n",
              "      <td>0</td>\n",
              "      <td>0</td>\n",
              "      <td>5</td>\n",
              "      <td>3</td>\n",
              "      <td>0</td>\n",
              "      <td>2</td>\n",
              "      <td>0</td>\n",
              "      <td>1</td>\n",
              "      <td>4</td>\n",
              "      <td>0</td>\n",
              "      <td>0</td>\n",
              "      <td>1</td>\n",
              "      <td>1</td>\n",
              "      <td>0</td>\n",
              "      <td>1</td>\n",
              "      <td>1</td>\n",
              "      <td>0</td>\n",
              "      <td>0</td>\n",
              "      <td>9</td>\n",
              "      <td>0</td>\n",
              "      <td>1</td>\n",
              "      <td>0</td>\n",
              "      <td>1</td>\n",
              "      <td>0</td>\n",
              "      <td>1</td>\n",
              "      <td>...</td>\n",
              "      <td>1.0</td>\n",
              "      <td>1.0</td>\n",
              "      <td>0.0</td>\n",
              "      <td>0.674710</td>\n",
              "      <td>6.0</td>\n",
              "      <td>0.50</td>\n",
              "      <td>0.833333</td>\n",
              "      <td>0.916667</td>\n",
              "      <td>0.916667</td>\n",
              "      <td>0.000000</td>\n",
              "      <td>0.000000</td>\n",
              "      <td>0</td>\n",
              "      <td>2</td>\n",
              "      <td>0</td>\n",
              "      <td>0</td>\n",
              "      <td>0</td>\n",
              "      <td>0</td>\n",
              "      <td>0</td>\n",
              "      <td>5</td>\n",
              "      <td>3</td>\n",
              "      <td>7</td>\n",
              "      <td>0</td>\n",
              "      <td>3</td>\n",
              "      <td>0</td>\n",
              "      <td>0</td>\n",
              "      <td>0</td>\n",
              "      <td>0</td>\n",
              "      <td>0</td>\n",
              "      <td>0</td>\n",
              "      <td>6.640197</td>\n",
              "      <td>1.893142</td>\n",
              "      <td>6.308187</td>\n",
              "      <td>375.000000</td>\n",
              "      <td>588.666667</td>\n",
              "      <td>303.000000</td>\n",
              "      <td>323.444444</td>\n",
              "      <td>346.000000</td>\n",
              "      <td>27.485000</td>\n",
              "      <td>11.910000</td>\n",
              "      <td>95.041286</td>\n",
              "    </tr>\n",
              "    <tr>\n",
              "      <th>2</th>\n",
              "      <td>35</td>\n",
              "      <td>12</td>\n",
              "      <td>3</td>\n",
              "      <td>3</td>\n",
              "      <td>0</td>\n",
              "      <td>0</td>\n",
              "      <td>3</td>\n",
              "      <td>0</td>\n",
              "      <td>3</td>\n",
              "      <td>0</td>\n",
              "      <td>3</td>\n",
              "      <td>2</td>\n",
              "      <td>1</td>\n",
              "      <td>0</td>\n",
              "      <td>2</td>\n",
              "      <td>0</td>\n",
              "      <td>2</td>\n",
              "      <td>4</td>\n",
              "      <td>3</td>\n",
              "      <td>0</td>\n",
              "      <td>2</td>\n",
              "      <td>1</td>\n",
              "      <td>1</td>\n",
              "      <td>4</td>\n",
              "      <td>0</td>\n",
              "      <td>0</td>\n",
              "      <td>3</td>\n",
              "      <td>4</td>\n",
              "      <td>3</td>\n",
              "      <td>0</td>\n",
              "      <td>0</td>\n",
              "      <td>0</td>\n",
              "      <td>0</td>\n",
              "      <td>12</td>\n",
              "      <td>1</td>\n",
              "      <td>1</td>\n",
              "      <td>2</td>\n",
              "      <td>3</td>\n",
              "      <td>2</td>\n",
              "      <td>3</td>\n",
              "      <td>...</td>\n",
              "      <td>1.0</td>\n",
              "      <td>1.0</td>\n",
              "      <td>0.0</td>\n",
              "      <td>0.766387</td>\n",
              "      <td>5.0</td>\n",
              "      <td>0.25</td>\n",
              "      <td>0.944444</td>\n",
              "      <td>1.000000</td>\n",
              "      <td>1.000000</td>\n",
              "      <td>0.000000</td>\n",
              "      <td>0.000000</td>\n",
              "      <td>1</td>\n",
              "      <td>3</td>\n",
              "      <td>0</td>\n",
              "      <td>0</td>\n",
              "      <td>0</td>\n",
              "      <td>0</td>\n",
              "      <td>0</td>\n",
              "      <td>4</td>\n",
              "      <td>5</td>\n",
              "      <td>6</td>\n",
              "      <td>2</td>\n",
              "      <td>3</td>\n",
              "      <td>0</td>\n",
              "      <td>0</td>\n",
              "      <td>0</td>\n",
              "      <td>0</td>\n",
              "      <td>0</td>\n",
              "      <td>0</td>\n",
              "      <td>6.633897</td>\n",
              "      <td>1.892192</td>\n",
              "      <td>6.357485</td>\n",
              "      <td>403.000000</td>\n",
              "      <td>590.090909</td>\n",
              "      <td>312.333333</td>\n",
              "      <td>339.818182</td>\n",
              "      <td>375.000000</td>\n",
              "      <td>32.505000</td>\n",
              "      <td>11.706667</td>\n",
              "      <td>96.135954</td>\n",
              "    </tr>\n",
              "    <tr>\n",
              "      <th>3</th>\n",
              "      <td>37</td>\n",
              "      <td>2</td>\n",
              "      <td>0</td>\n",
              "      <td>0</td>\n",
              "      <td>0</td>\n",
              "      <td>0</td>\n",
              "      <td>0</td>\n",
              "      <td>0</td>\n",
              "      <td>0</td>\n",
              "      <td>0</td>\n",
              "      <td>0</td>\n",
              "      <td>1</td>\n",
              "      <td>0</td>\n",
              "      <td>1</td>\n",
              "      <td>0</td>\n",
              "      <td>0</td>\n",
              "      <td>0</td>\n",
              "      <td>2</td>\n",
              "      <td>0</td>\n",
              "      <td>0</td>\n",
              "      <td>0</td>\n",
              "      <td>0</td>\n",
              "      <td>0</td>\n",
              "      <td>0</td>\n",
              "      <td>0</td>\n",
              "      <td>0</td>\n",
              "      <td>1</td>\n",
              "      <td>1</td>\n",
              "      <td>1</td>\n",
              "      <td>0</td>\n",
              "      <td>0</td>\n",
              "      <td>0</td>\n",
              "      <td>0</td>\n",
              "      <td>2</td>\n",
              "      <td>0</td>\n",
              "      <td>0</td>\n",
              "      <td>0</td>\n",
              "      <td>0</td>\n",
              "      <td>0</td>\n",
              "      <td>1</td>\n",
              "      <td>...</td>\n",
              "      <td>0.0</td>\n",
              "      <td>0.0</td>\n",
              "      <td>0.0</td>\n",
              "      <td>1.000000</td>\n",
              "      <td>1.0</td>\n",
              "      <td>1.00</td>\n",
              "      <td>0.000000</td>\n",
              "      <td>0.000000</td>\n",
              "      <td>0.000000</td>\n",
              "      <td>0.000000</td>\n",
              "      <td>0.000000</td>\n",
              "      <td>0</td>\n",
              "      <td>1</td>\n",
              "      <td>0</td>\n",
              "      <td>0</td>\n",
              "      <td>0</td>\n",
              "      <td>0</td>\n",
              "      <td>0</td>\n",
              "      <td>0</td>\n",
              "      <td>2</td>\n",
              "      <td>1</td>\n",
              "      <td>0</td>\n",
              "      <td>0</td>\n",
              "      <td>0</td>\n",
              "      <td>0</td>\n",
              "      <td>0</td>\n",
              "      <td>0</td>\n",
              "      <td>0</td>\n",
              "      <td>0</td>\n",
              "      <td>6.600221</td>\n",
              "      <td>1.887103</td>\n",
              "      <td>6.600221</td>\n",
              "      <td>269.000000</td>\n",
              "      <td>561.000000</td>\n",
              "      <td>422.500000</td>\n",
              "      <td>413.500000</td>\n",
              "      <td>349.500000</td>\n",
              "      <td>31.545000</td>\n",
              "      <td>10.350000</td>\n",
              "      <td>NaN</td>\n",
              "    </tr>\n",
              "    <tr>\n",
              "      <th>4</th>\n",
              "      <td>68</td>\n",
              "      <td>9</td>\n",
              "      <td>4</td>\n",
              "      <td>4</td>\n",
              "      <td>0</td>\n",
              "      <td>0</td>\n",
              "      <td>4</td>\n",
              "      <td>2</td>\n",
              "      <td>2</td>\n",
              "      <td>2</td>\n",
              "      <td>5</td>\n",
              "      <td>4</td>\n",
              "      <td>1</td>\n",
              "      <td>0</td>\n",
              "      <td>4</td>\n",
              "      <td>0</td>\n",
              "      <td>0</td>\n",
              "      <td>3</td>\n",
              "      <td>0</td>\n",
              "      <td>0</td>\n",
              "      <td>1</td>\n",
              "      <td>0</td>\n",
              "      <td>3</td>\n",
              "      <td>6</td>\n",
              "      <td>0</td>\n",
              "      <td>0</td>\n",
              "      <td>1</td>\n",
              "      <td>3</td>\n",
              "      <td>3</td>\n",
              "      <td>0</td>\n",
              "      <td>0</td>\n",
              "      <td>0</td>\n",
              "      <td>0</td>\n",
              "      <td>9</td>\n",
              "      <td>3</td>\n",
              "      <td>1</td>\n",
              "      <td>1</td>\n",
              "      <td>1</td>\n",
              "      <td>1</td>\n",
              "      <td>3</td>\n",
              "      <td>...</td>\n",
              "      <td>0.0</td>\n",
              "      <td>0.0</td>\n",
              "      <td>0.0</td>\n",
              "      <td>0.122583</td>\n",
              "      <td>2.0</td>\n",
              "      <td>1.25</td>\n",
              "      <td>1.000000</td>\n",
              "      <td>1.000000</td>\n",
              "      <td>1.000000</td>\n",
              "      <td>0.855264</td>\n",
              "      <td>0.855264</td>\n",
              "      <td>1</td>\n",
              "      <td>2</td>\n",
              "      <td>0</td>\n",
              "      <td>0</td>\n",
              "      <td>0</td>\n",
              "      <td>0</td>\n",
              "      <td>0</td>\n",
              "      <td>1</td>\n",
              "      <td>8</td>\n",
              "      <td>5</td>\n",
              "      <td>1</td>\n",
              "      <td>0</td>\n",
              "      <td>0</td>\n",
              "      <td>0</td>\n",
              "      <td>0</td>\n",
              "      <td>0</td>\n",
              "      <td>0</td>\n",
              "      <td>0</td>\n",
              "      <td>6.422688</td>\n",
              "      <td>1.859837</td>\n",
              "      <td>5.138150</td>\n",
              "      <td>486.000000</td>\n",
              "      <td>599.444444</td>\n",
              "      <td>245.375000</td>\n",
              "      <td>264.666667</td>\n",
              "      <td>293.571429</td>\n",
              "      <td>17.755250</td>\n",
              "      <td>12.335500</td>\n",
              "      <td>122.581573</td>\n",
              "    </tr>\n",
              "  </tbody>\n",
              "</table>\n",
              "<p>5 rows × 160 columns</p>\n",
              "</div>"
            ],
            "text/plain": [
              "   id  liwc.funct  liwc.pronoun  ...   cm.RDFRE  cm.RDFKGL     cm.RDL2\n",
              "0  23          10             3  ...  25.356471  13.945882         NaN\n",
              "1  24           8             2  ...  27.485000  11.910000   95.041286\n",
              "2  35          12             3  ...  32.505000  11.706667   96.135954\n",
              "3  37           2             0  ...  31.545000  10.350000         NaN\n",
              "4  68           9             4  ...  17.755250  12.335500  122.581573\n",
              "\n",
              "[5 rows x 160 columns]"
            ]
          },
          "metadata": {},
          "execution_count": 6
        }
      ]
    },
    {
      "cell_type": "code",
      "metadata": {
        "id": "51DNgldNBBSQ",
        "colab": {
          "base_uri": "https://localhost:8080/"
        },
        "outputId": "945625b9-5526-4898-e3f6-d4a120bc9d49"
      },
      "source": [
        "len(datasetResult.columns)"
      ],
      "execution_count": 7,
      "outputs": [
        {
          "output_type": "execute_result",
          "data": {
            "text/plain": [
              "160"
            ]
          },
          "metadata": {},
          "execution_count": 7
        }
      ]
    },
    {
      "cell_type": "code",
      "metadata": {
        "id": "O3D8APgvjtey",
        "colab": {
          "base_uri": "https://localhost:8080/"
        },
        "outputId": "d1197df1-3cff-411f-fe39-58b5c031d7bf"
      },
      "source": [
        "datasetResult.shape"
      ],
      "execution_count": 9,
      "outputs": [
        {
          "output_type": "execute_result",
          "data": {
            "text/plain": [
              "(1000, 160)"
            ]
          },
          "metadata": {},
          "execution_count": 9
        }
      ]
    },
    {
      "cell_type": "code",
      "metadata": {
        "id": "XsXGeRMQCguc"
      },
      "source": [
        "datasetResult['classe'] = dataset['classe']"
      ],
      "execution_count": 10,
      "outputs": []
    },
    {
      "cell_type": "code",
      "metadata": {
        "colab": {
          "base_uri": "https://localhost:8080/",
          "height": 253
        },
        "id": "-JNPCXF_CoS4",
        "outputId": "2e1699f1-5480-41da-bfa9-4f64a5d37244"
      },
      "source": [
        "#datasetResult.drop(columns=['id'], inplace=True)\n",
        "datasetResult.drop(columns=['ID'], inplace=True)\n",
        "datasetResult.head()"
      ],
      "execution_count": 17,
      "outputs": [
        {
          "output_type": "execute_result",
          "data": {
            "text/html": [
              "<div>\n",
              "<style scoped>\n",
              "    .dataframe tbody tr th:only-of-type {\n",
              "        vertical-align: middle;\n",
              "    }\n",
              "\n",
              "    .dataframe tbody tr th {\n",
              "        vertical-align: top;\n",
              "    }\n",
              "\n",
              "    .dataframe thead th {\n",
              "        text-align: right;\n",
              "    }\n",
              "</style>\n",
              "<table border=\"1\" class=\"dataframe\">\n",
              "  <thead>\n",
              "    <tr style=\"text-align: right;\">\n",
              "      <th></th>\n",
              "      <th>liwc.funct</th>\n",
              "      <th>liwc.pronoun</th>\n",
              "      <th>liwc.ppron</th>\n",
              "      <th>liwc.i</th>\n",
              "      <th>liwc.we</th>\n",
              "      <th>liwc.you</th>\n",
              "      <th>liwc.shehe</th>\n",
              "      <th>liwc.they</th>\n",
              "      <th>liwc.ipron</th>\n",
              "      <th>liwc.article</th>\n",
              "      <th>liwc.verb</th>\n",
              "      <th>liwc.auxverb</th>\n",
              "      <th>liwc.past</th>\n",
              "      <th>liwc.present</th>\n",
              "      <th>liwc.future</th>\n",
              "      <th>liwc.adverb</th>\n",
              "      <th>liwc.preps</th>\n",
              "      <th>liwc.conj</th>\n",
              "      <th>liwc.negate</th>\n",
              "      <th>liwc.quant</th>\n",
              "      <th>liwc.number</th>\n",
              "      <th>liwc.swear</th>\n",
              "      <th>liwc.social</th>\n",
              "      <th>liwc.family</th>\n",
              "      <th>liwc.friend</th>\n",
              "      <th>liwc.humans</th>\n",
              "      <th>liwc.affect</th>\n",
              "      <th>liwc.posemo</th>\n",
              "      <th>liwc.negemo</th>\n",
              "      <th>liwc.anx</th>\n",
              "      <th>liwc.anger</th>\n",
              "      <th>liwc.sad</th>\n",
              "      <th>liwc.cogmech</th>\n",
              "      <th>liwc.insight</th>\n",
              "      <th>liwc.cause</th>\n",
              "      <th>liwc.discrep</th>\n",
              "      <th>liwc.tentat</th>\n",
              "      <th>liwc.certain</th>\n",
              "      <th>liwc.inhib</th>\n",
              "      <th>liwc.incl</th>\n",
              "      <th>...</th>\n",
              "      <th>cm.SMCAUSvp</th>\n",
              "      <th>cm.SMCAUSr</th>\n",
              "      <th>cm.SMCAUSlsa</th>\n",
              "      <th>cm.SMCAUSwn</th>\n",
              "      <th>cm.SYNLE</th>\n",
              "      <th>cm.SYNMEDpos</th>\n",
              "      <th>cm.SYNMEDwrd</th>\n",
              "      <th>cm.SYNMEDlem</th>\n",
              "      <th>cm.SYNSTRUTa</th>\n",
              "      <th>cm.SYNSTRUTt</th>\n",
              "      <th>cm.DRNP</th>\n",
              "      <th>cm.DRVP</th>\n",
              "      <th>cm.DRAP</th>\n",
              "      <th>cm.DRPP</th>\n",
              "      <th>cm.DRPVAL</th>\n",
              "      <th>cm.DRNEG</th>\n",
              "      <th>cm.DRGERUND</th>\n",
              "      <th>cm.DRINF</th>\n",
              "      <th>cm.WRDNOUN</th>\n",
              "      <th>cm.WRDVERB</th>\n",
              "      <th>cm.WRDADJ</th>\n",
              "      <th>cm.WRDADV</th>\n",
              "      <th>cm.WRDPRO</th>\n",
              "      <th>cm.WRDPRP1s</th>\n",
              "      <th>cm.WRDPRP1p</th>\n",
              "      <th>cm.WRDPRP2</th>\n",
              "      <th>cm.WRDPRP3s</th>\n",
              "      <th>cm.WRDPRP3p</th>\n",
              "      <th>cm.WRDFRQc</th>\n",
              "      <th>cm.WRDFRQa</th>\n",
              "      <th>cm.WRDFRQmc</th>\n",
              "      <th>cm.WRDAOAc</th>\n",
              "      <th>cm.WRDFAMc</th>\n",
              "      <th>cm.WRDCNCc</th>\n",
              "      <th>cm.WRDIMGc</th>\n",
              "      <th>cm.WRDMEAc</th>\n",
              "      <th>cm.RDFRE</th>\n",
              "      <th>cm.RDFKGL</th>\n",
              "      <th>cm.RDL2</th>\n",
              "      <th>classe</th>\n",
              "    </tr>\n",
              "  </thead>\n",
              "  <tbody>\n",
              "    <tr>\n",
              "      <th>0</th>\n",
              "      <td>10</td>\n",
              "      <td>3</td>\n",
              "      <td>1</td>\n",
              "      <td>0</td>\n",
              "      <td>0</td>\n",
              "      <td>1</td>\n",
              "      <td>1</td>\n",
              "      <td>0</td>\n",
              "      <td>3</td>\n",
              "      <td>1</td>\n",
              "      <td>4</td>\n",
              "      <td>1</td>\n",
              "      <td>0</td>\n",
              "      <td>4</td>\n",
              "      <td>1</td>\n",
              "      <td>0</td>\n",
              "      <td>5</td>\n",
              "      <td>1</td>\n",
              "      <td>0</td>\n",
              "      <td>1</td>\n",
              "      <td>0</td>\n",
              "      <td>2</td>\n",
              "      <td>4</td>\n",
              "      <td>0</td>\n",
              "      <td>0</td>\n",
              "      <td>0</td>\n",
              "      <td>1</td>\n",
              "      <td>1</td>\n",
              "      <td>1</td>\n",
              "      <td>0</td>\n",
              "      <td>0</td>\n",
              "      <td>1</td>\n",
              "      <td>9</td>\n",
              "      <td>2</td>\n",
              "      <td>2</td>\n",
              "      <td>2</td>\n",
              "      <td>0</td>\n",
              "      <td>1</td>\n",
              "      <td>4</td>\n",
              "      <td>2</td>\n",
              "      <td>...</td>\n",
              "      <td>0.0</td>\n",
              "      <td>0.0</td>\n",
              "      <td>1.000000</td>\n",
              "      <td>1.0</td>\n",
              "      <td>0.00</td>\n",
              "      <td>0.000000</td>\n",
              "      <td>0.000000</td>\n",
              "      <td>0.000000</td>\n",
              "      <td>0.000000</td>\n",
              "      <td>0.000000</td>\n",
              "      <td>0</td>\n",
              "      <td>0</td>\n",
              "      <td>0</td>\n",
              "      <td>0</td>\n",
              "      <td>0</td>\n",
              "      <td>0</td>\n",
              "      <td>0</td>\n",
              "      <td>2</td>\n",
              "      <td>5</td>\n",
              "      <td>2</td>\n",
              "      <td>2</td>\n",
              "      <td>1</td>\n",
              "      <td>0</td>\n",
              "      <td>0</td>\n",
              "      <td>0</td>\n",
              "      <td>0</td>\n",
              "      <td>0</td>\n",
              "      <td>0</td>\n",
              "      <td>6.132208</td>\n",
              "      <td>1.813555</td>\n",
              "      <td>6.132208</td>\n",
              "      <td>464.666667</td>\n",
              "      <td>559.000000</td>\n",
              "      <td>356.142857</td>\n",
              "      <td>339.285714</td>\n",
              "      <td>336.250000</td>\n",
              "      <td>25.356471</td>\n",
              "      <td>13.945882</td>\n",
              "      <td>NaN</td>\n",
              "      <td>0</td>\n",
              "    </tr>\n",
              "    <tr>\n",
              "      <th>1</th>\n",
              "      <td>8</td>\n",
              "      <td>2</td>\n",
              "      <td>2</td>\n",
              "      <td>0</td>\n",
              "      <td>1</td>\n",
              "      <td>1</td>\n",
              "      <td>1</td>\n",
              "      <td>0</td>\n",
              "      <td>1</td>\n",
              "      <td>1</td>\n",
              "      <td>2</td>\n",
              "      <td>1</td>\n",
              "      <td>1</td>\n",
              "      <td>1</td>\n",
              "      <td>0</td>\n",
              "      <td>0</td>\n",
              "      <td>5</td>\n",
              "      <td>3</td>\n",
              "      <td>0</td>\n",
              "      <td>2</td>\n",
              "      <td>0</td>\n",
              "      <td>1</td>\n",
              "      <td>4</td>\n",
              "      <td>0</td>\n",
              "      <td>0</td>\n",
              "      <td>1</td>\n",
              "      <td>1</td>\n",
              "      <td>0</td>\n",
              "      <td>1</td>\n",
              "      <td>1</td>\n",
              "      <td>0</td>\n",
              "      <td>0</td>\n",
              "      <td>9</td>\n",
              "      <td>0</td>\n",
              "      <td>1</td>\n",
              "      <td>0</td>\n",
              "      <td>1</td>\n",
              "      <td>0</td>\n",
              "      <td>1</td>\n",
              "      <td>4</td>\n",
              "      <td>...</td>\n",
              "      <td>1.0</td>\n",
              "      <td>0.0</td>\n",
              "      <td>0.674710</td>\n",
              "      <td>6.0</td>\n",
              "      <td>0.50</td>\n",
              "      <td>0.833333</td>\n",
              "      <td>0.916667</td>\n",
              "      <td>0.916667</td>\n",
              "      <td>0.000000</td>\n",
              "      <td>0.000000</td>\n",
              "      <td>0</td>\n",
              "      <td>2</td>\n",
              "      <td>0</td>\n",
              "      <td>0</td>\n",
              "      <td>0</td>\n",
              "      <td>0</td>\n",
              "      <td>0</td>\n",
              "      <td>5</td>\n",
              "      <td>3</td>\n",
              "      <td>7</td>\n",
              "      <td>0</td>\n",
              "      <td>3</td>\n",
              "      <td>0</td>\n",
              "      <td>0</td>\n",
              "      <td>0</td>\n",
              "      <td>0</td>\n",
              "      <td>0</td>\n",
              "      <td>0</td>\n",
              "      <td>6.640197</td>\n",
              "      <td>1.893142</td>\n",
              "      <td>6.308187</td>\n",
              "      <td>375.000000</td>\n",
              "      <td>588.666667</td>\n",
              "      <td>303.000000</td>\n",
              "      <td>323.444444</td>\n",
              "      <td>346.000000</td>\n",
              "      <td>27.485000</td>\n",
              "      <td>11.910000</td>\n",
              "      <td>95.041286</td>\n",
              "      <td>0</td>\n",
              "    </tr>\n",
              "    <tr>\n",
              "      <th>2</th>\n",
              "      <td>12</td>\n",
              "      <td>3</td>\n",
              "      <td>3</td>\n",
              "      <td>0</td>\n",
              "      <td>0</td>\n",
              "      <td>3</td>\n",
              "      <td>0</td>\n",
              "      <td>3</td>\n",
              "      <td>0</td>\n",
              "      <td>3</td>\n",
              "      <td>2</td>\n",
              "      <td>1</td>\n",
              "      <td>0</td>\n",
              "      <td>2</td>\n",
              "      <td>0</td>\n",
              "      <td>2</td>\n",
              "      <td>4</td>\n",
              "      <td>3</td>\n",
              "      <td>0</td>\n",
              "      <td>2</td>\n",
              "      <td>1</td>\n",
              "      <td>1</td>\n",
              "      <td>4</td>\n",
              "      <td>0</td>\n",
              "      <td>0</td>\n",
              "      <td>3</td>\n",
              "      <td>4</td>\n",
              "      <td>3</td>\n",
              "      <td>0</td>\n",
              "      <td>0</td>\n",
              "      <td>0</td>\n",
              "      <td>0</td>\n",
              "      <td>12</td>\n",
              "      <td>1</td>\n",
              "      <td>1</td>\n",
              "      <td>2</td>\n",
              "      <td>3</td>\n",
              "      <td>2</td>\n",
              "      <td>3</td>\n",
              "      <td>2</td>\n",
              "      <td>...</td>\n",
              "      <td>1.0</td>\n",
              "      <td>0.0</td>\n",
              "      <td>0.766387</td>\n",
              "      <td>5.0</td>\n",
              "      <td>0.25</td>\n",
              "      <td>0.944444</td>\n",
              "      <td>1.000000</td>\n",
              "      <td>1.000000</td>\n",
              "      <td>0.000000</td>\n",
              "      <td>0.000000</td>\n",
              "      <td>1</td>\n",
              "      <td>3</td>\n",
              "      <td>0</td>\n",
              "      <td>0</td>\n",
              "      <td>0</td>\n",
              "      <td>0</td>\n",
              "      <td>0</td>\n",
              "      <td>4</td>\n",
              "      <td>5</td>\n",
              "      <td>6</td>\n",
              "      <td>2</td>\n",
              "      <td>3</td>\n",
              "      <td>0</td>\n",
              "      <td>0</td>\n",
              "      <td>0</td>\n",
              "      <td>0</td>\n",
              "      <td>0</td>\n",
              "      <td>0</td>\n",
              "      <td>6.633897</td>\n",
              "      <td>1.892192</td>\n",
              "      <td>6.357485</td>\n",
              "      <td>403.000000</td>\n",
              "      <td>590.090909</td>\n",
              "      <td>312.333333</td>\n",
              "      <td>339.818182</td>\n",
              "      <td>375.000000</td>\n",
              "      <td>32.505000</td>\n",
              "      <td>11.706667</td>\n",
              "      <td>96.135954</td>\n",
              "      <td>0</td>\n",
              "    </tr>\n",
              "    <tr>\n",
              "      <th>3</th>\n",
              "      <td>2</td>\n",
              "      <td>0</td>\n",
              "      <td>0</td>\n",
              "      <td>0</td>\n",
              "      <td>0</td>\n",
              "      <td>0</td>\n",
              "      <td>0</td>\n",
              "      <td>0</td>\n",
              "      <td>0</td>\n",
              "      <td>0</td>\n",
              "      <td>1</td>\n",
              "      <td>0</td>\n",
              "      <td>1</td>\n",
              "      <td>0</td>\n",
              "      <td>0</td>\n",
              "      <td>0</td>\n",
              "      <td>2</td>\n",
              "      <td>0</td>\n",
              "      <td>0</td>\n",
              "      <td>0</td>\n",
              "      <td>0</td>\n",
              "      <td>0</td>\n",
              "      <td>0</td>\n",
              "      <td>0</td>\n",
              "      <td>0</td>\n",
              "      <td>1</td>\n",
              "      <td>1</td>\n",
              "      <td>1</td>\n",
              "      <td>0</td>\n",
              "      <td>0</td>\n",
              "      <td>0</td>\n",
              "      <td>0</td>\n",
              "      <td>2</td>\n",
              "      <td>0</td>\n",
              "      <td>0</td>\n",
              "      <td>0</td>\n",
              "      <td>0</td>\n",
              "      <td>0</td>\n",
              "      <td>1</td>\n",
              "      <td>1</td>\n",
              "      <td>...</td>\n",
              "      <td>0.0</td>\n",
              "      <td>0.0</td>\n",
              "      <td>1.000000</td>\n",
              "      <td>1.0</td>\n",
              "      <td>1.00</td>\n",
              "      <td>0.000000</td>\n",
              "      <td>0.000000</td>\n",
              "      <td>0.000000</td>\n",
              "      <td>0.000000</td>\n",
              "      <td>0.000000</td>\n",
              "      <td>0</td>\n",
              "      <td>1</td>\n",
              "      <td>0</td>\n",
              "      <td>0</td>\n",
              "      <td>0</td>\n",
              "      <td>0</td>\n",
              "      <td>0</td>\n",
              "      <td>0</td>\n",
              "      <td>2</td>\n",
              "      <td>1</td>\n",
              "      <td>0</td>\n",
              "      <td>0</td>\n",
              "      <td>0</td>\n",
              "      <td>0</td>\n",
              "      <td>0</td>\n",
              "      <td>0</td>\n",
              "      <td>0</td>\n",
              "      <td>0</td>\n",
              "      <td>6.600221</td>\n",
              "      <td>1.887103</td>\n",
              "      <td>6.600221</td>\n",
              "      <td>269.000000</td>\n",
              "      <td>561.000000</td>\n",
              "      <td>422.500000</td>\n",
              "      <td>413.500000</td>\n",
              "      <td>349.500000</td>\n",
              "      <td>31.545000</td>\n",
              "      <td>10.350000</td>\n",
              "      <td>NaN</td>\n",
              "      <td>0</td>\n",
              "    </tr>\n",
              "    <tr>\n",
              "      <th>4</th>\n",
              "      <td>9</td>\n",
              "      <td>4</td>\n",
              "      <td>4</td>\n",
              "      <td>0</td>\n",
              "      <td>0</td>\n",
              "      <td>4</td>\n",
              "      <td>2</td>\n",
              "      <td>2</td>\n",
              "      <td>2</td>\n",
              "      <td>5</td>\n",
              "      <td>4</td>\n",
              "      <td>1</td>\n",
              "      <td>0</td>\n",
              "      <td>4</td>\n",
              "      <td>0</td>\n",
              "      <td>0</td>\n",
              "      <td>3</td>\n",
              "      <td>0</td>\n",
              "      <td>0</td>\n",
              "      <td>1</td>\n",
              "      <td>0</td>\n",
              "      <td>3</td>\n",
              "      <td>6</td>\n",
              "      <td>0</td>\n",
              "      <td>0</td>\n",
              "      <td>1</td>\n",
              "      <td>3</td>\n",
              "      <td>3</td>\n",
              "      <td>0</td>\n",
              "      <td>0</td>\n",
              "      <td>0</td>\n",
              "      <td>0</td>\n",
              "      <td>9</td>\n",
              "      <td>3</td>\n",
              "      <td>1</td>\n",
              "      <td>1</td>\n",
              "      <td>1</td>\n",
              "      <td>1</td>\n",
              "      <td>3</td>\n",
              "      <td>1</td>\n",
              "      <td>...</td>\n",
              "      <td>0.0</td>\n",
              "      <td>0.0</td>\n",
              "      <td>0.122583</td>\n",
              "      <td>2.0</td>\n",
              "      <td>1.25</td>\n",
              "      <td>1.000000</td>\n",
              "      <td>1.000000</td>\n",
              "      <td>1.000000</td>\n",
              "      <td>0.855264</td>\n",
              "      <td>0.855264</td>\n",
              "      <td>1</td>\n",
              "      <td>2</td>\n",
              "      <td>0</td>\n",
              "      <td>0</td>\n",
              "      <td>0</td>\n",
              "      <td>0</td>\n",
              "      <td>0</td>\n",
              "      <td>1</td>\n",
              "      <td>8</td>\n",
              "      <td>5</td>\n",
              "      <td>1</td>\n",
              "      <td>0</td>\n",
              "      <td>0</td>\n",
              "      <td>0</td>\n",
              "      <td>0</td>\n",
              "      <td>0</td>\n",
              "      <td>0</td>\n",
              "      <td>0</td>\n",
              "      <td>6.422688</td>\n",
              "      <td>1.859837</td>\n",
              "      <td>5.138150</td>\n",
              "      <td>486.000000</td>\n",
              "      <td>599.444444</td>\n",
              "      <td>245.375000</td>\n",
              "      <td>264.666667</td>\n",
              "      <td>293.571429</td>\n",
              "      <td>17.755250</td>\n",
              "      <td>12.335500</td>\n",
              "      <td>122.581573</td>\n",
              "      <td>1</td>\n",
              "    </tr>\n",
              "  </tbody>\n",
              "</table>\n",
              "<p>5 rows × 159 columns</p>\n",
              "</div>"
            ],
            "text/plain": [
              "   liwc.funct  liwc.pronoun  liwc.ppron  ...  cm.RDFKGL     cm.RDL2  classe\n",
              "0          10             3           1  ...  13.945882         NaN       0\n",
              "1           8             2           2  ...  11.910000   95.041286       0\n",
              "2          12             3           3  ...  11.706667   96.135954       0\n",
              "3           2             0           0  ...  10.350000         NaN       0\n",
              "4           9             4           4  ...  12.335500  122.581573       1\n",
              "\n",
              "[5 rows x 159 columns]"
            ]
          },
          "metadata": {},
          "execution_count": 17
        }
      ]
    },
    {
      "cell_type": "code",
      "metadata": {
        "colab": {
          "base_uri": "https://localhost:8080/"
        },
        "id": "6eOR4zc0Aii_",
        "outputId": "d00e480f-efff-476f-a28b-278855e04324"
      },
      "source": [
        "datasetResult.shape"
      ],
      "execution_count": 18,
      "outputs": [
        {
          "output_type": "execute_result",
          "data": {
            "text/plain": [
              "(1000, 159)"
            ]
          },
          "metadata": {},
          "execution_count": 18
        }
      ]
    },
    {
      "cell_type": "code",
      "metadata": {
        "id": "00dh0bpoDF58"
      },
      "source": [
        "datasetCurrent = datasetResult"
      ],
      "execution_count": 20,
      "outputs": []
    },
    {
      "cell_type": "code",
      "metadata": {
        "colab": {
          "base_uri": "https://localhost:8080/"
        },
        "id": "wykXraT8cl5d",
        "outputId": "cc91438d-0643-416d-ddd2-50cb60984b21"
      },
      "source": [
        "datasetCurrent.info()"
      ],
      "execution_count": 21,
      "outputs": [
        {
          "output_type": "stream",
          "name": "stdout",
          "text": [
            "<class 'pandas.core.frame.DataFrame'>\n",
            "RangeIndex: 1000 entries, 0 to 999\n",
            "Columns: 159 entries, liwc.funct to classe\n",
            "dtypes: float64(63), int64(96)\n",
            "memory usage: 1.2 MB\n"
          ]
        }
      ]
    },
    {
      "cell_type": "code",
      "metadata": {
        "id": "Rk9dcAfJOJcY"
      },
      "source": [
        "pd.options.display.max_columns = None"
      ],
      "execution_count": 22,
      "outputs": []
    },
    {
      "cell_type": "code",
      "metadata": {
        "colab": {
          "base_uri": "https://localhost:8080/"
        },
        "id": "elrOlNb-O35T",
        "outputId": "a73e129c-22bf-4f44-d66e-626347032d67"
      },
      "source": [
        "datasetCurrent.isna().sum(axis=0)"
      ],
      "execution_count": 23,
      "outputs": [
        {
          "output_type": "execute_result",
          "data": {
            "text/plain": [
              "liwc.funct        0\n",
              "liwc.pronoun      0\n",
              "liwc.ppron        0\n",
              "liwc.i            0\n",
              "liwc.we           0\n",
              "               ... \n",
              "cm.WRDMEAc        0\n",
              "cm.RDFRE          0\n",
              "cm.RDFKGL         0\n",
              "cm.RDL2         165\n",
              "classe            0\n",
              "Length: 159, dtype: int64"
            ]
          },
          "metadata": {},
          "execution_count": 23
        }
      ]
    },
    {
      "cell_type": "code",
      "metadata": {
        "colab": {
          "base_uri": "https://localhost:8080/"
        },
        "id": "sfN3YisAPglV",
        "outputId": "409c3a5d-f47a-4e57-f5c5-3562adb5669b"
      },
      "source": [
        "datasetCurrent.isnull().sum(axis = 1)"
      ],
      "execution_count": 24,
      "outputs": [
        {
          "output_type": "execute_result",
          "data": {
            "text/plain": [
              "0      5\n",
              "1      0\n",
              "2      0\n",
              "3      5\n",
              "4      0\n",
              "      ..\n",
              "995    0\n",
              "996    0\n",
              "997    0\n",
              "998    0\n",
              "999    0\n",
              "Length: 1000, dtype: int64"
            ]
          },
          "metadata": {},
          "execution_count": 24
        }
      ]
    },
    {
      "cell_type": "code",
      "metadata": {
        "colab": {
          "base_uri": "https://localhost:8080/"
        },
        "id": "eTco4w5KN9l8",
        "outputId": "a400440f-1374-4b08-dd97-bfddacf55873"
      },
      "source": [
        "datasetCurrent.isnull().sum().sort_values(ascending = False)"
      ],
      "execution_count": 25,
      "outputs": [
        {
          "output_type": "execute_result",
          "data": {
            "text/plain": [
              "cm.LSASSp      362\n",
              "cm.LSASSpd     362\n",
              "cm.RDL2        165\n",
              "cm.CRFCWO1     165\n",
              "cm.CRFCWO1d    165\n",
              "              ... \n",
              "cm.CNCNeg        0\n",
              "cm.CNCPos        0\n",
              "cm.CNCAdd        0\n",
              "cm.CNCTemp       0\n",
              "liwc.funct       0\n",
              "Length: 159, dtype: int64"
            ]
          },
          "metadata": {},
          "execution_count": 25
        }
      ]
    },
    {
      "cell_type": "code",
      "metadata": {
        "colab": {
          "base_uri": "https://localhost:8080/"
        },
        "id": "EbzCuDdKc61T",
        "outputId": "4a329447-7f06-4c5a-9336-72720693ec43"
      },
      "source": [
        "datasetCurrent['classe'].value_counts()"
      ],
      "execution_count": 26,
      "outputs": [
        {
          "output_type": "execute_result",
          "data": {
            "text/plain": [
              "1    890\n",
              "0    110\n",
              "Name: classe, dtype: int64"
            ]
          },
          "metadata": {},
          "execution_count": 26
        }
      ]
    },
    {
      "cell_type": "code",
      "metadata": {
        "colab": {
          "base_uri": "https://localhost:8080/"
        },
        "id": "yJggrmyrdGtq",
        "outputId": "e3c92aec-d521-44cb-fae7-f5f6c2c77ceb"
      },
      "source": [
        "datasetCurrent.columns.values"
      ],
      "execution_count": 27,
      "outputs": [
        {
          "output_type": "execute_result",
          "data": {
            "text/plain": [
              "array(['liwc.funct', 'liwc.pronoun', 'liwc.ppron', 'liwc.i', 'liwc.we',\n",
              "       'liwc.you', 'liwc.shehe', 'liwc.they', 'liwc.ipron',\n",
              "       'liwc.article', 'liwc.verb', 'liwc.auxverb', 'liwc.past',\n",
              "       'liwc.present', 'liwc.future', 'liwc.adverb', 'liwc.preps',\n",
              "       'liwc.conj', 'liwc.negate', 'liwc.quant', 'liwc.number',\n",
              "       'liwc.swear', 'liwc.social', 'liwc.family', 'liwc.friend',\n",
              "       'liwc.humans', 'liwc.affect', 'liwc.posemo', 'liwc.negemo',\n",
              "       'liwc.anx', 'liwc.anger', 'liwc.sad', 'liwc.cogmech',\n",
              "       'liwc.insight', 'liwc.cause', 'liwc.discrep', 'liwc.tentat',\n",
              "       'liwc.certain', 'liwc.inhib', 'liwc.incl', 'liwc.excl',\n",
              "       'liwc.percept', 'liwc.see', 'liwc.hear', 'liwc.feel', 'liwc.bio',\n",
              "       'liwc.body', 'liwc.health', 'liwc.sexual', 'liwc.ingest',\n",
              "       'liwc.relativ', 'liwc.motion', 'liwc.space', 'liwc.time',\n",
              "       'liwc.work', 'liwc.achieve', 'liwc.leisure', 'liwc.home',\n",
              "       'liwc.money', 'liwc.relig', 'liwc.death', 'liwc.assent',\n",
              "       'liwc.nonfl', 'liwc.filler', 'cm.DESPC', 'cm.DESSC', 'cm.DESWC',\n",
              "       'cm.DESPL', 'cm.DESPLd', 'cm.DESSL', 'cm.DESSLd', 'cm.DESWLsy',\n",
              "       'cm.DESWLsyd', 'cm.DESWLlt', 'cm.DESWLltd', 'cm.CRFNO1',\n",
              "       'cm.CRFAO1', 'cm.CRFSO1', 'cm.CRFNOa', 'cm.CRFAOa', 'cm.CRFSOa',\n",
              "       'cm.CRFCWO1', 'cm.CRFCWO1d', 'cm.CRFCWOa', 'cm.CRFCWOad',\n",
              "       'cm.CRFANP1', 'cm.CRFANPa', 'cm.LSASS1', 'cm.LSASS1d', 'cm.LSASSp',\n",
              "       'cm.LSASSpd', 'cm.LSAPP1', 'cm.LSAPP1d', 'cm.LSAGN', 'cm.LSAGNd',\n",
              "       'cm.LDTTRc', 'cm.LDTTRa', 'cm.LDMTLDa', 'cm.LDVOCDa', 'cm.CNCAll',\n",
              "       'cm.CNCCaus', 'cm.CNCLogic', 'cm.CNCADC', 'cm.CNCTemp',\n",
              "       'cm.CNCAdd', 'cm.CNCPos', 'cm.CNCNeg', 'cm.CNCAlter',\n",
              "       'cm.CNCConclu', 'cm.CNCExpli', 'cm.CNCConce', 'cm.CNCCondi',\n",
              "       'cm.CNCConfor', 'cm.CNCFinal', 'cm.CNCProp', 'cm.CNCComp',\n",
              "       'cm.CNCConse', 'cm.CNCInte', 'cm.SMCAUSv', 'cm.SMCAUSvp',\n",
              "       'cm.SMCAUSr', 'cm.SMCAUSlsa', 'cm.SMCAUSwn', 'cm.SYNLE',\n",
              "       'cm.SYNMEDpos', 'cm.SYNMEDwrd', 'cm.SYNMEDlem', 'cm.SYNSTRUTa',\n",
              "       'cm.SYNSTRUTt', 'cm.DRNP', 'cm.DRVP', 'cm.DRAP', 'cm.DRPP',\n",
              "       'cm.DRPVAL', 'cm.DRNEG', 'cm.DRGERUND', 'cm.DRINF', 'cm.WRDNOUN',\n",
              "       'cm.WRDVERB', 'cm.WRDADJ', 'cm.WRDADV', 'cm.WRDPRO', 'cm.WRDPRP1s',\n",
              "       'cm.WRDPRP1p', 'cm.WRDPRP2', 'cm.WRDPRP3s', 'cm.WRDPRP3p',\n",
              "       'cm.WRDFRQc', 'cm.WRDFRQa', 'cm.WRDFRQmc', 'cm.WRDAOAc',\n",
              "       'cm.WRDFAMc', 'cm.WRDCNCc', 'cm.WRDIMGc', 'cm.WRDMEAc', 'cm.RDFRE',\n",
              "       'cm.RDFKGL', 'cm.RDL2', 'classe'], dtype=object)"
            ]
          },
          "metadata": {},
          "execution_count": 27
        }
      ]
    },
    {
      "cell_type": "code",
      "metadata": {
        "id": "zVf7LeujBT_Q"
      },
      "source": [
        "\n",
        "datasetCurrent.dropna(subset = [\"cm.RDL2\",\"cm.LSASSp\", \"cm.LSASSpd\"] , inplace=True)"
      ],
      "execution_count": 28,
      "outputs": []
    },
    {
      "cell_type": "markdown",
      "metadata": {
        "id": "_RJf9sM0e7yT"
      },
      "source": [
        "# Machine Learning Models - Training"
      ]
    },
    {
      "cell_type": "code",
      "metadata": {
        "id": "sF29ggr57zKe"
      },
      "source": [
        "def cross_validation_result(model,X_train,y_train, X_test, y_test,cv_split=10):\n",
        "    \n",
        "    tscv = TimeSeriesSplit(cv_split)\n",
        "    training_score = cross_val_score(model,X_train,y_train,cv=tscv.n_splits) \n",
        "    testing_score = cross_val_score(model,X_test,y_test,cv=tscv.n_splits)\n",
        "    print(\"Cross-val Training score:\", training_score.mean())\n",
        "    print(\"Cross-val Testing score:\", testing_score.mean())\n",
        "    training_predictions = cross_val_predict(model,X_train,y_train,cv=tscv.n_splits)\n",
        "    testing_predictions = cross_val_predict(model,X_test,y_test,cv=tscv.n_splits)\n",
        "    \n",
        "    training_accuracy = r2_score(y_train,training_predictions) \n",
        "    test_accuracy = r2_score(y_test,testing_predictions)\n",
        "    \n",
        "    print (\"Training-predictions accuracy:\",training_accuracy)  \n",
        "    print (\"Test-predictions accuracy:\",test_accuracy)\n",
        "\n",
        "    f1_score_model = f1_score(y_test, testing_predictions, average=\"macro\")\n",
        "    print(\"F1 score\",f1_score_model)\n",
        "    precision_score_model = precision_score(y_test, testing_predictions, average=\"macro\")\n",
        "    print(\"Precision score\",precision_score_model)\n",
        "    recall_score_model = recall_score(y_test, testing_predictions, average=\"macro\")\n",
        "    print(\"Recall score\",recall_score_model)\n",
        "    return training_accuracy,test_accuracy,f1_score_model,precision_score_model,recall_score_model\n"
      ],
      "execution_count": 29,
      "outputs": []
    },
    {
      "cell_type": "code",
      "metadata": {
        "id": "xQq0LQmNgGvT"
      },
      "source": [
        "scaler = MinMaxScaler()\n",
        "sdss = scaler.fit_transform(datasetCurrent.drop('classe', axis=1))"
      ],
      "execution_count": 30,
      "outputs": []
    },
    {
      "cell_type": "code",
      "metadata": {
        "id": "xpqWlmu0e1Lf"
      },
      "source": [
        "X_train, X_test, y_train, y_test = train_test_split(sdss, datasetCurrent['classe'], test_size=0.33)"
      ],
      "execution_count": 31,
      "outputs": []
    },
    {
      "cell_type": "code",
      "metadata": {
        "id": "cyqXEYmnW0zU",
        "colab": {
          "base_uri": "https://localhost:8080/"
        },
        "outputId": "ff648c5a-9c3b-411a-b6ae-10ac5652b62b"
      },
      "source": [
        "counter = Counter(y_train)\n",
        "print(counter)"
      ],
      "execution_count": 32,
      "outputs": [
        {
          "output_type": "stream",
          "name": "stdout",
          "text": [
            "Counter({1: 398, 0: 29})\n"
          ]
        }
      ]
    },
    {
      "cell_type": "code",
      "metadata": {
        "id": "nqDabixmXr2_",
        "colab": {
          "base_uri": "https://localhost:8080/"
        },
        "outputId": "272bac7c-6353-45cb-b5d1-e6755f313c36"
      },
      "source": [
        "counter = Counter(y_test)\n",
        "print(counter)"
      ],
      "execution_count": 33,
      "outputs": [
        {
          "output_type": "stream",
          "name": "stdout",
          "text": [
            "Counter({1: 198, 0: 13})\n"
          ]
        }
      ]
    },
    {
      "cell_type": "code",
      "metadata": {
        "id": "6l_mtpu8W_G-",
        "colab": {
          "base_uri": "https://localhost:8080/"
        },
        "outputId": "77cb1c7a-70c9-4326-fcf9-07da9849712a"
      },
      "source": [
        "oversample = ADASYN()\n",
        "X_train, y_train = oversample.fit_resample(X_train, y_train)\n",
        "X_test, y_test = oversample.fit_resample(X_test, y_test)"
      ],
      "execution_count": 34,
      "outputs": [
        {
          "output_type": "stream",
          "name": "stderr",
          "text": [
            "Function safe_indexing is deprecated; safe_indexing is deprecated in version 0.22 and will be removed in version 0.24.\n",
            "Function safe_indexing is deprecated; safe_indexing is deprecated in version 0.22 and will be removed in version 0.24.\n"
          ]
        }
      ]
    },
    {
      "cell_type": "code",
      "metadata": {
        "id": "R4wmje3lXXEW",
        "colab": {
          "base_uri": "https://localhost:8080/"
        },
        "outputId": "d56b6f15-6fdd-43f6-a51c-543a9e1d7830"
      },
      "source": [
        "counter = Counter(y_train)\n",
        "print(counter)"
      ],
      "execution_count": 35,
      "outputs": [
        {
          "output_type": "stream",
          "name": "stdout",
          "text": [
            "Counter({0: 404, 1: 398})\n"
          ]
        }
      ]
    },
    {
      "cell_type": "code",
      "metadata": {
        "id": "FlwDaQxMXoQ5",
        "colab": {
          "base_uri": "https://localhost:8080/"
        },
        "outputId": "554b1854-a44c-43e9-ab82-8cad08c079a2"
      },
      "source": [
        "counter = Counter(y_test)\n",
        "print(counter)"
      ],
      "execution_count": 36,
      "outputs": [
        {
          "output_type": "stream",
          "name": "stdout",
          "text": [
            "Counter({1: 198, 0: 198})\n"
          ]
        }
      ]
    },
    {
      "cell_type": "markdown",
      "metadata": {
        "id": "KYCScHrGfTM2"
      },
      "source": [
        "*K Nearest Neighbors¶*"
      ]
    },
    {
      "cell_type": "code",
      "metadata": {
        "colab": {
          "base_uri": "https://localhost:8080/"
        },
        "id": "1XHdTuArfHBh",
        "outputId": "5b37f198-dd94-4e3d-8824-31d174c3db49"
      },
      "source": [
        "knn = KNeighborsClassifier()\n",
        "training_start = time.perf_counter()\n",
        "knn.fit(X_train, y_train)\n",
        "training_end = time.perf_counter()\n",
        "prediction_start = time.perf_counter()\n",
        "preds = knn.predict(X_test)\n",
        "prediction_end = time.perf_counter()\n",
        "acc_knn = (preds == y_test).sum().astype(float) / len(preds)*100\n",
        "kappa_knn = cohen_kappa_score(preds,y_test,weights='quadratic')\n",
        "training_acc_knn, testing_acc_knn,f1_score_knn,precision_score_knn,recall_score_knn= cross_validation_result(knn,X_train,y_train,X_test,y_test)\n",
        "knn_train_time = training_end-training_start\n",
        "knn_prediction_time = prediction_end-prediction_start\n",
        "print(\"Scikit-Learn's K Nearest Neighbors Classifier's prediction accuracy is: %3.2f\" % (acc_knn))\n",
        "print(\"kappa_knn\", kappa_knn)  \n",
        "print(\"Time consumed for training: %4.3f seconds\" % (knn_train_time))\n",
        "print(\"Time consumed for prediction: %6.5f seconds\" % (knn_prediction_time))"
      ],
      "execution_count": 37,
      "outputs": [
        {
          "output_type": "stream",
          "name": "stdout",
          "text": [
            "Cross-val Training score: 0.9052469135802468\n",
            "Cross-val Testing score: 0.8758333333333332\n",
            "Training-predictions accuracy: 0.6209264142494652\n",
            "Test-predictions accuracy: 0.505050505050505\n",
            "F1 score 0.8743386329048344\n",
            "Precision score 0.9008097165991903\n",
            "Recall score 0.8762626262626263\n",
            "Scikit-Learn's K Nearest Neighbors Classifier's prediction accuracy is: 82.07\n",
            "kappa_knn 0.6414141414141414\n",
            "Time consumed for training: 0.009 seconds\n",
            "Time consumed for prediction: 0.10286 seconds\n"
          ]
        }
      ]
    },
    {
      "cell_type": "markdown",
      "metadata": {
        "id": "DszxmvusfjfN"
      },
      "source": [
        "*Naive Bayes*"
      ]
    },
    {
      "cell_type": "code",
      "metadata": {
        "colab": {
          "base_uri": "https://localhost:8080/"
        },
        "id": "YT_4xHQHftt7",
        "outputId": "91a36aed-feac-4ed7-d097-d894e6bad30b"
      },
      "source": [
        "#from sklearn.preprocessing import MaxAbsScaler\n",
        "#scaler_gnb = MaxAbsScaler()\n",
        "#sdss = scaler_gnb.fit_transform(datasetCurrent.drop('classe', axis=1))\n",
        "#X_train_gnb, X_test_gnb, y_train_gnb, y_test_gnb = train_test_split(sdss, datasetCurrent['classe'], test_size=0.33)\n",
        "\n",
        "gnb = GaussianNB()\n",
        "training_start = time.perf_counter()\n",
        "gnb.fit(X_train, y_train)\n",
        "training_end = time.perf_counter()\n",
        "prediction_start = time.perf_counter()\n",
        "preds = gnb.predict(X_test)\n",
        "prediction_end = time.perf_counter()\n",
        "acc_gnb = (preds == y_test).sum().astype(float) / len(preds)*100\n",
        "kappa_gnb = cohen_kappa_score(preds,y_test,weights='quadratic')\n",
        "training_acc_gnb, testing_acc_gnb,f1_score_gnb,precision_score_gnb,recall_score_gnb = cross_validation_result(gnb,X_train,y_train,X_test,y_test)\n",
        "gnb_train_time = training_end-training_start\n",
        "gnb_prediction_time = prediction_end-prediction_start\n",
        "print(\"Scikit-Learn's Gaussian Naive Bayes Classifier's prediction accuracy is: %3.2f\" % (acc_gnb))\n",
        "print(\"kappa_gnb\", kappa_gnb)\n",
        "print(\"Time consumed for training: %4.3f seconds\" % (gnb_train_time))\n",
        "print(\"Time consumed for prediction: %6.5f seconds\" % (gnb_prediction_time))"
      ],
      "execution_count": 38,
      "outputs": [
        {
          "output_type": "stream",
          "name": "stdout",
          "text": [
            "Cross-val Training score: 0.9439197530864197\n",
            "Cross-val Testing score: 0.9243589743589744\n",
            "Training-predictions accuracy: 0.7755485347529728\n",
            "Test-predictions accuracy: 0.696969696969697\n",
            "F1 score 0.9241476184395352\n",
            "Precision score 0.9263740771123872\n",
            "Recall score 0.9242424242424242\n",
            "Scikit-Learn's Gaussian Naive Bayes Classifier's prediction accuracy is: 60.61\n",
            "kappa_gnb 0.21212121212121215\n",
            "Time consumed for training: 0.007 seconds\n",
            "Time consumed for prediction: 0.00584 seconds\n"
          ]
        }
      ]
    },
    {
      "cell_type": "markdown",
      "metadata": {
        "id": "s0LhGprXgbbX"
      },
      "source": [
        "*XGBoost*"
      ]
    },
    {
      "cell_type": "code",
      "metadata": {
        "colab": {
          "base_uri": "https://localhost:8080/"
        },
        "id": "H6vikHCsgmo-",
        "outputId": "ea5be1a7-249f-437f-aee9-3156ed1d849e"
      },
      "source": [
        "xgb = XGBClassifier(n_estimators=100)\n",
        "training_start = time.perf_counter()\n",
        "xgb.fit(X_train, y_train)\n",
        "training_end = time.perf_counter()\n",
        "prediction_start = time.perf_counter()\n",
        "preds = xgb.predict(X_test)\n",
        "prediction_end = time.perf_counter()\n",
        "acc_xgb = (preds == y_test).sum().astype(float) / len(preds)*100\n",
        "kappa_xgb = cohen_kappa_score(preds,y_test,weights='quadratic')\n",
        "training_acc_xgb, testing_acc_xgb,f1_score_xgb,precision_score_xgb,recall_score_xgb = cross_validation_result(xgb,X_train,y_train,X_test,y_test)\n",
        "xgb_train_time = training_end-training_start\n",
        "xgb_prediction_time = prediction_end-prediction_start\n",
        "print(\"XGBoost's prediction accuracy is: %3.2f\" % (acc_xgb))\n",
        "print(\"kappa_xgb\", kappa_xgb)\n",
        "print(\"Time consumed for training: %4.3f\" % (xgb_train_time))\n",
        "print(\"Time consumed for prediction: %6.5f seconds\" % (xgb_prediction_time))"
      ],
      "execution_count": 39,
      "outputs": [
        {
          "output_type": "stream",
          "name": "stdout",
          "text": [
            "Cross-val Training score: 0.9800925925925927\n",
            "Cross-val Testing score: 0.9924358974358973\n",
            "Training-predictions accuracy: 0.9201950345788348\n",
            "Test-predictions accuracy: 0.9696969696969697\n",
            "F1 score 0.9924241941140834\n",
            "Precision score 0.9924368033058695\n",
            "Recall score 0.9924242424242424\n",
            "XGBoost's prediction accuracy is: 77.27\n",
            "kappa_xgb 0.5454545454545454\n",
            "Time consumed for training: 0.587\n",
            "Time consumed for prediction: 0.00265 seconds\n"
          ]
        }
      ]
    },
    {
      "cell_type": "markdown",
      "metadata": {
        "id": "OjzIIAC9kwnU"
      },
      "source": [
        "*Scitkit-Learn's Random Forest Classifier*"
      ]
    },
    {
      "cell_type": "code",
      "metadata": {
        "colab": {
          "base_uri": "https://localhost:8080/"
        },
        "id": "pfU9dlzQkpb1",
        "outputId": "e6cff65b-cd56-4e67-fa80-10500837839f"
      },
      "source": [
        "rfc = RandomForestClassifier(n_estimators=10)\n",
        "training_start = time.perf_counter()\n",
        "rfc.fit(X_train, y_train)\n",
        "training_end = time.perf_counter()\n",
        "prediction_start = time.perf_counter()\n",
        "preds = rfc.predict(X_test)\n",
        "prediction_end = time.perf_counter()\n",
        "acc_rfc = (preds == y_test).sum().astype(float) / len(preds)*100\n",
        "kappa_rfc = cohen_kappa_score(preds,y_test,weights='quadratic')\n",
        "training_acc_rfc, testing_acc_rfc,f1_score_rfc,precision_score_rfc,recall_score_rfc  = cross_validation_result(rfc,X_train,y_train,X_test,y_test)\n",
        "rfc_train_time = training_end-training_start\n",
        "rfc_prediction_time = prediction_end-prediction_start\n",
        "print(\"Scikit-Learn's Random Forest Classifier's prediction accuracy is: %3.2f\" % (acc_rfc))\n",
        "print(\"kappa_rfc\", kappa_rfc)\n",
        "print(\"Time consumed for training: %4.3f seconds\" % (rfc_train_time))\n",
        "print(\"Time consumed for prediction: %6.5f seconds\" % (rfc_prediction_time))"
      ],
      "execution_count": 40,
      "outputs": [
        {
          "output_type": "stream",
          "name": "stdout",
          "text": [
            "Cross-val Training score: 0.9800771604938271\n",
            "Cross-val Testing score: 0.9898717948717948\n",
            "Training-predictions accuracy: 0.915207224240012\n",
            "Test-predictions accuracy: 0.9292929292929293\n",
            "F1 score 0.9823222177581358\n",
            "Precision score 0.9824339839265213\n",
            "Recall score 0.9823232323232323\n",
            "Scikit-Learn's Random Forest Classifier's prediction accuracy is: 69.44\n",
            "kappa_rfc 0.38888888888888884\n",
            "Time consumed for training: 0.043 seconds\n",
            "Time consumed for prediction: 0.00256 seconds\n"
          ]
        }
      ]
    },
    {
      "cell_type": "markdown",
      "metadata": {
        "id": "-SVAX55sk75A"
      },
      "source": [
        "Support Vector Machine Classifier"
      ]
    },
    {
      "cell_type": "code",
      "metadata": {
        "colab": {
          "base_uri": "https://localhost:8080/"
        },
        "id": "gG_FR8Bhk-fZ",
        "outputId": "8dc5aebf-ae94-4df3-cb38-3eaf522b89ff"
      },
      "source": [
        "svc = SVC()\n",
        "training_start = time.perf_counter()\n",
        "svc.fit(X_train, y_train)\n",
        "training_end = time.perf_counter()\n",
        "prediction_start = time.perf_counter()\n",
        "preds = svc.predict(X_test)\n",
        "prediction_end = time.perf_counter()\n",
        "acc_svc = (preds == y_test).sum().astype(float) / len(preds)*100\n",
        "kappa_svc = cohen_kappa_score(preds,y_test,weights='quadratic')\n",
        "training_acc_svc, testing_acc_svc, f1_score_svc,precision_score_svc,recall_score_svc  = cross_validation_result(svc,X_train,y_train,X_test,y_test)\n",
        "svc_train_time = training_end-training_start\n",
        "svc_prediction_time = prediction_end-prediction_start\n",
        "print(\"Scikit-Learn's Support Vector Machine Classifier's prediction accuracy is: %3.2f\" % (acc_svc))\n",
        "print(\"kappa_svc\", kappa_svc)\n",
        "print(\"Time consumed for training: %4.3f seconds\" % (svc_train_time))\n",
        "print(\"Time consumed for prediction: %6.5f seconds\" % (svc_prediction_time))"
      ],
      "execution_count": 41,
      "outputs": [
        {
          "output_type": "stream",
          "name": "stdout",
          "text": [
            "Cross-val Training score: 0.9502006172839506\n",
            "Cross-val Testing score: 0.8711538461538462\n",
            "Training-predictions accuracy: 0.800487586447087\n",
            "Test-predictions accuracy: 0.48484848484848486\n",
            "F1 score 0.870311506675143\n",
            "Precision score 0.8818181818181818\n",
            "Recall score 0.8712121212121212\n",
            "Scikit-Learn's Support Vector Machine Classifier's prediction accuracy is: 82.07\n",
            "kappa_svc 0.6414141414141414\n",
            "Time consumed for training: 0.084 seconds\n",
            "Time consumed for prediction: 0.03651 seconds\n"
          ]
        }
      ]
    },
    {
      "cell_type": "code",
      "metadata": {
        "colab": {
          "base_uri": "https://localhost:8080/",
          "height": 235
        },
        "id": "-N4y3JddlKhk",
        "outputId": "3db1a0e9-9e12-4fc1-d697-f4b77cca2d34"
      },
      "source": [
        "results = pd.DataFrame({\n",
        "    'Model': ['KNN', 'Naive Bayes', \n",
        "              'XGBoost', 'Random Forest', 'SVC'],\n",
        "    'Acurácia': [testing_acc_knn, testing_acc_gnb, testing_acc_xgb, testing_acc_rfc, testing_acc_svc],\n",
        "    'Kappa': [kappa_knn, kappa_gnb, kappa_xgb, kappa_rfc, kappa_svc],\n",
        "    'F1' : [f1_score_knn, f1_score_gnb, f1_score_xgb, f1_score_rfc, f1_score_svc],\n",
        "    'Precisão' : [precision_score_knn, precision_score_gnb, precision_score_xgb, precision_score_rfc, precision_score_svc],\n",
        "    'Revocação' : [recall_score_knn, recall_score_gnb, recall_score_xgb, recall_score_rfc, recall_score_svc]})\n",
        "result_df = results.sort_values(by='Acurácia', ascending=False)\n",
        "result_df = result_df.set_index('Model')\n",
        "result_df"
      ],
      "execution_count": 42,
      "outputs": [
        {
          "output_type": "execute_result",
          "data": {
            "text/html": [
              "<div>\n",
              "<style scoped>\n",
              "    .dataframe tbody tr th:only-of-type {\n",
              "        vertical-align: middle;\n",
              "    }\n",
              "\n",
              "    .dataframe tbody tr th {\n",
              "        vertical-align: top;\n",
              "    }\n",
              "\n",
              "    .dataframe thead th {\n",
              "        text-align: right;\n",
              "    }\n",
              "</style>\n",
              "<table border=\"1\" class=\"dataframe\">\n",
              "  <thead>\n",
              "    <tr style=\"text-align: right;\">\n",
              "      <th></th>\n",
              "      <th>Acurácia</th>\n",
              "      <th>Kappa</th>\n",
              "      <th>F1</th>\n",
              "      <th>Precisão</th>\n",
              "      <th>Revocação</th>\n",
              "    </tr>\n",
              "    <tr>\n",
              "      <th>Model</th>\n",
              "      <th></th>\n",
              "      <th></th>\n",
              "      <th></th>\n",
              "      <th></th>\n",
              "      <th></th>\n",
              "    </tr>\n",
              "  </thead>\n",
              "  <tbody>\n",
              "    <tr>\n",
              "      <th>XGBoost</th>\n",
              "      <td>0.969697</td>\n",
              "      <td>0.545455</td>\n",
              "      <td>0.992424</td>\n",
              "      <td>0.992437</td>\n",
              "      <td>0.992424</td>\n",
              "    </tr>\n",
              "    <tr>\n",
              "      <th>Random Forest</th>\n",
              "      <td>0.929293</td>\n",
              "      <td>0.388889</td>\n",
              "      <td>0.982322</td>\n",
              "      <td>0.982434</td>\n",
              "      <td>0.982323</td>\n",
              "    </tr>\n",
              "    <tr>\n",
              "      <th>Naive Bayes</th>\n",
              "      <td>0.696970</td>\n",
              "      <td>0.212121</td>\n",
              "      <td>0.924148</td>\n",
              "      <td>0.926374</td>\n",
              "      <td>0.924242</td>\n",
              "    </tr>\n",
              "    <tr>\n",
              "      <th>KNN</th>\n",
              "      <td>0.505051</td>\n",
              "      <td>0.641414</td>\n",
              "      <td>0.874339</td>\n",
              "      <td>0.900810</td>\n",
              "      <td>0.876263</td>\n",
              "    </tr>\n",
              "    <tr>\n",
              "      <th>SVC</th>\n",
              "      <td>0.484848</td>\n",
              "      <td>0.641414</td>\n",
              "      <td>0.870312</td>\n",
              "      <td>0.881818</td>\n",
              "      <td>0.871212</td>\n",
              "    </tr>\n",
              "  </tbody>\n",
              "</table>\n",
              "</div>"
            ],
            "text/plain": [
              "               Acurácia     Kappa        F1  Precisão  Revocação\n",
              "Model                                                           \n",
              "XGBoost        0.969697  0.545455  0.992424  0.992437   0.992424\n",
              "Random Forest  0.929293  0.388889  0.982322  0.982434   0.982323\n",
              "Naive Bayes    0.696970  0.212121  0.924148  0.926374   0.924242\n",
              "KNN            0.505051  0.641414  0.874339  0.900810   0.876263\n",
              "SVC            0.484848  0.641414  0.870312  0.881818   0.871212"
            ]
          },
          "metadata": {},
          "execution_count": 42
        }
      ]
    },
    {
      "cell_type": "code",
      "metadata": {
        "id": "DyegFRiBd2Xt",
        "colab": {
          "base_uri": "https://localhost:8080/"
        },
        "outputId": "3de3480c-6e41-4005-8637-2a3448872f33"
      },
      "source": [
        "explainer = shap.Explainer(xgb.predict, X_test)\n",
        "shap_values = explainer(X_train)"
      ],
      "execution_count": 43,
      "outputs": [
        {
          "metadata": {
            "tags": null
          },
          "name": "stderr",
          "output_type": "stream",
          "text": [
            "Permutation explainer: 803it [15:09,  1.14s/it]\n"
          ]
        }
      ]
    },
    {
      "cell_type": "code",
      "metadata": {
        "colab": {
          "base_uri": "https://localhost:8080/",
          "height": 848
        },
        "id": "4cvfbLR50h7g",
        "outputId": "cd7f3ef8-e03e-4c13-a724-f1086b7680a8"
      },
      "source": [
        "plt.figure(figsize = (15,8))\n",
        "ax = shap.summary_plot(shap_values, \n",
        "                       datasetCurrent.columns,\n",
        "                       plot_type='bar')\n",
        "plt.show()"
      ],
      "execution_count": 44,
      "outputs": [
        {
          "output_type": "display_data",
          "data": {
            "image/png": "[encoded data removed]",
            "text/plain": [
              "<Figure size 1200x1425 with 1 Axes>"
            ]
          },
          "metadata": {
            "needs_background": "light"
          }
        }
      ]
    },
    {
      "cell_type": "code",
      "metadata": {
        "colab": {
          "base_uri": "https://localhost:8080/"
        },
        "id": "4K-HU_VwxUhc",
        "outputId": "1b502759-8faf-45e8-a447-fc82c59f48e4"
      },
      "source": [
        "type(shap_values)"
      ],
      "execution_count": null,
      "outputs": [
        {
          "output_type": "execute_result",
          "data": {
            "text/plain": [
              "shap._explanation.Explanation"
            ]
          },
          "metadata": {},
          "execution_count": 46
        }
      ]
    },
    {
      "cell_type": "code",
      "metadata": {
        "id": "a7BvMjoby3Ws"
      },
      "source": [
        "clustering = shap.utils.hclust(X_train, y_train)"
      ],
      "execution_count": null,
      "outputs": []
    },
    {
      "cell_type": "code",
      "metadata": {
        "colab": {
          "base_uri": "https://localhost:8080/",
          "height": 523
        },
        "id": "u3H9l6B3zp4i",
        "outputId": "87c6ae6b-d148-416e-9606-8bd94641bff6"
      },
      "source": [
        "shap.plots.bar(shap_values, clustering=clustering)"
      ],
      "execution_count": null,
      "outputs": [
        {
          "output_type": "display_data",
          "data": {
            "image/png": "[encoded data removed]",
            "text/plain": [
              "<Figure size 1200x975 with 1 Axes>"
            ]
          },
          "metadata": {}
        }
      ]
    },
    {
      "cell_type": "code",
      "metadata": {
        "colab": {
          "base_uri": "https://localhost:8080/",
          "height": 876
        },
        "id": "6zMwf6v9wwML",
        "outputId": "f90d78d5-15cd-4a8c-b7bf-ec74941e03cb"
      },
      "source": [
        "shap.plots.bar(shap_values, max_display=10)"
      ],
      "execution_count": null,
      "outputs": [
        {
          "output_type": "display_data",
          "data": {
            "image/png": "[encoded data removed]",
            "text/plain": [
              "<Figure size 1200x975 with 1 Axes>"
            ]
          },
          "metadata": {}
        }
      ]
    },
    {
      "cell_type": "markdown",
      "metadata": {
        "id": "iYveVwTMlb6n"
      },
      "source": [
        "Cross Validation - Scikit-Learn's Random Forest Classifier"
      ]
    },
    {
      "cell_type": "code",
      "metadata": {
        "colab": {
          "base_uri": "https://localhost:8080/"
        },
        "id": "Rka_g4fKlh6t",
        "outputId": "991e8bfb-d95b-477d-96c2-148e8d04c67b"
      },
      "source": [
        "#from sklearn.model_selection import cross_val_score\n",
        "#rfc_cv = RandomForestClassifier(n_estimators=100)\n",
        "#scores = cross_val_score(rfc_cv, X_train, y_train, cv=10, scoring = \"accuracy\")\n",
        "#print(\"Scores:\", scores)\n",
        "#print(\"Mean:\", scores.mean())\n",
        "#print(\"Standard Deviation:\", scores.std())"
      ],
      "execution_count": null,
      "outputs": [
        {
          "output_type": "stream",
          "name": "stdout",
          "text": [
            "Scores: [0.96875    0.97916667 0.95833333 1.         0.98947368 0.98947368\n",
            " 0.98947368 1.         0.96842105 0.98947368]\n",
            "Mean: 0.9832565789473684\n",
            "Standard Deviation: 0.013355609745452359\n"
          ]
        }
      ]
    },
    {
      "cell_type": "markdown",
      "metadata": {
        "id": "DiPtt9KQlt1F"
      },
      "source": [
        "XGBoost"
      ]
    },
    {
      "cell_type": "code",
      "metadata": {
        "colab": {
          "base_uri": "https://localhost:8080/"
        },
        "id": "hgbcKMRaluns",
        "outputId": "6165f8df-52fa-42ef-fbba-454bd3b37761"
      },
      "source": [
        "#xgb_cv = XGBClassifier(n_estimators=100)\n",
        "#scores = cross_val_score(xgb_cv, X_train, y_train, cv=10, scoring = \"accuracy\")\n",
        "#print(\"Scores:\", scores)\n",
        "#print(\"Mean:\", scores.mean())\n",
        "#print(\"Standard Deviation:\", scores.std())"
      ],
      "execution_count": null,
      "outputs": [
        {
          "output_type": "stream",
          "text": [
            "Scores: [0.95348837 0.93023256 0.93023256 0.93023256 0.93023256 0.95348837\n",
            " 0.95348837 0.95238095 1.         0.97619048]\n",
            "Mean: 0.9509966777408637\n",
            "Standard Deviation: 0.02186593140604478\n"
          ],
          "name": "stdout"
        }
      ]
    },
    {
      "cell_type": "markdown",
      "metadata": {
        "id": "JfeDEwyFmTCc"
      },
      "source": [
        "The best parameters for prediction as found by the tuning tests are:\n",
        "\n",
        "max_depth = 5\n",
        "min_child_weight = 1\n",
        "gamma = 0\n",
        "subsample = 0.8\n",
        "colsample_bytree = 0.8\n",
        "reg_alpha = 0.005"
      ]
    },
    {
      "cell_type": "code",
      "metadata": {
        "id": "1BxrnzjPmVQT"
      },
      "source": [
        "X_train, X_test, y_train, y_test = train_test_split(datasetCurrent.drop('classe', axis=1), datasetCurrent['classe'],\n",
        "                                                   test_size=0.33)"
      ],
      "execution_count": null,
      "outputs": []
    },
    {
      "cell_type": "code",
      "metadata": {
        "colab": {
          "base_uri": "https://localhost:8080/"
        },
        "id": "0l8Zw8hZmkFd",
        "outputId": "423f1d19-2053-45a1-dfbc-6d54e9cf5a61"
      },
      "source": [
        "xgboost = XGBClassifier(max_depth=5, learning_rate=0.01, n_estimators=100, gamma=0, \n",
        "                        min_child_weight=1, subsample=0.8, colsample_bytree=0.8, reg_alpha=0.005)\n",
        "\n",
        "xgboost.fit(X_train, y_train)\n",
        "preds = xgboost.predict(X_test)\n",
        "\n",
        "accuracy = (preds == y_test).sum().astype(float) / len(preds)*100\n",
        "\n",
        "print(\"XGBoost's prediction accuracy WITH optimal hyperparameters is: %3.2f\" % (accuracy))"
      ],
      "execution_count": null,
      "outputs": [
        {
          "output_type": "stream",
          "text": [
            "XGBoost's prediction accuracy WITH optimal hyperparameters is: 97.63\n"
          ],
          "name": "stdout"
        }
      ]
    },
    {
      "cell_type": "code",
      "metadata": {
        "colab": {
          "base_uri": "https://localhost:8080/"
        },
        "id": "WSIbCjCamvba",
        "outputId": "399be4ba-f3b3-4a7b-86cf-3f7094782e31"
      },
      "source": [
        "xgb_cv = XGBClassifier(n_estimators=100)\n",
        "scores = cross_val_score(xgb_cv, X_train, y_train, cv=10, scoring = \"accuracy\")\n",
        "print(\"Scores:\", scores)\n",
        "print(\"Mean:\", scores.mean())\n",
        "print(\"Standard Deviation:\", scores.std())"
      ],
      "execution_count": null,
      "outputs": [
        {
          "output_type": "stream",
          "text": [
            "Scores: [0.97674419 0.97674419 0.93023256 0.93023256 0.95348837 0.90697674\n",
            " 0.93023256 0.97619048 0.88095238 0.92857143]\n",
            "Mean: 0.9390365448504984\n",
            "Standard Deviation: 0.03029299003555244\n"
          ],
          "name": "stdout"
        }
      ]
    },
    {
      "cell_type": "markdown",
      "metadata": {
        "id": "ENYdl36Xm4EO"
      },
      "source": [
        "# XGBoost - Evaluation"
      ]
    },
    {
      "cell_type": "code",
      "metadata": {
        "colab": {
          "base_uri": "https://localhost:8080/"
        },
        "id": "NLL3wbYqm5cj",
        "outputId": "031660a2-1ae9-4066-98a1-c673a0338b80"
      },
      "source": [
        "unique, counts = np.unique(y_test, return_counts=True)\n",
        "dict(zip(unique, counts))"
      ],
      "execution_count": null,
      "outputs": [
        {
          "output_type": "execute_result",
          "data": {
            "text/plain": [
              "{0: 200, 1: 198}"
            ]
          },
          "metadata": {},
          "execution_count": 101
        }
      ]
    },
    {
      "cell_type": "code",
      "metadata": {
        "colab": {
          "base_uri": "https://localhost:8080/"
        },
        "id": "UZN6dTPpnAu0",
        "outputId": "a92c0046-0adb-40da-ebb3-8b6f47a1307e"
      },
      "source": [
        "predictions = cross_val_predict(xgb, X_test, y_test, cv=5)\n",
        "confusion_matrix(y_test, predictions)"
      ],
      "execution_count": null,
      "outputs": [
        {
          "output_type": "execute_result",
          "data": {
            "text/plain": [
              "array([[198,   2],\n",
              "       [  8, 190]])"
            ]
          },
          "metadata": {},
          "execution_count": 100
        }
      ]
    },
    {
      "cell_type": "code",
      "metadata": {
        "colab": {
          "base_uri": "https://localhost:8080/"
        },
        "id": "LXtw3QsPnbHt",
        "outputId": "cf90ae2f-0f9a-40d1-b597-21030c2909f0"
      },
      "source": [
        "print(\"Precision:\", precision_score(y_test, predictions, average='micro'))\n",
        "print(\"Recall:\",recall_score(y_test, predictions, average='micro'))"
      ],
      "execution_count": null,
      "outputs": [
        {
          "output_type": "stream",
          "name": "stdout",
          "text": [
            "Precision: 0.9748743718592965\n",
            "Recall: 0.9748743718592965\n"
          ]
        }
      ]
    },
    {
      "cell_type": "code",
      "metadata": {
        "colab": {
          "base_uri": "https://localhost:8080/"
        },
        "id": "hSQxHadHnnFN",
        "outputId": "c6c48981-9426-47b1-b2ea-4d5a7ac35f97"
      },
      "source": [
        "print(\"F1-Score:\", f1_score(y_test, predictions, average='micro'))"
      ],
      "execution_count": null,
      "outputs": [
        {
          "output_type": "stream",
          "name": "stdout",
          "text": [
            "F1-Score: 0.9748743718592965\n"
          ]
        }
      ]
    }
  ]
}