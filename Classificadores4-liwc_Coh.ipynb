{
  "nbformat": 4,
  "nbformat_minor": 0,
  "metadata": {
    "colab": {
      "name": "Classificadores2.ipynb",
      "provenance": [],
      "authorship_tag": "ABX9TyMqfSH8niF0pL+3VWB9cs2U",
      "include_colab_link": true
    },
    "kernelspec": {
      "name": "python3",
      "display_name": "Python 3"
    },
    "language_info": {
      "name": "python"
    }
  },
  "cells": [
    {
      "cell_type": "markdown",
      "metadata": {
        "id": "view-in-github",
        "colab_type": "text"
      },
      "source": [
        "<a href=\"https://colab.research.google.com/github/FranciscoAguiar/DataScienceProgramming/blob/master/Classificadores4-liwc_Coh.ipynb\" target=\"_parent\"><img src=\"https://colab.research.google.com/assets/colab-badge.svg\" alt=\"Open In Colab\"/></a>"
      ]
    },
    {
      "cell_type": "code",
      "metadata": {
        "id": "L6wI9Seqb2y8"
      },
      "source": [
        "import numpy as np\n",
        "import pandas as pd\n",
        "import matplotlib.pyplot as plt\n",
        "from matplotlib import style\n",
        "import seaborn as sns\n",
        "sns.set_style('whitegrid')\n",
        "import tensorflow as tf\n",
        "from sklearn.model_selection import train_test_split, cross_val_predict, TimeSeriesSplit, cross_val_score,cross_val_predict\n",
        "from sklearn.svm import SVC\n",
        "from sklearn.ensemble import RandomForestClassifier\n",
        "from sklearn.linear_model import SGDClassifier\n",
        "from sklearn.neighbors import KNeighborsClassifier\n",
        "from sklearn.naive_bayes import GaussianNB\n",
        "from sklearn.decomposition import PCA\n",
        "from xgboost import XGBClassifier\n",
        "from sklearn.preprocessing import LabelEncoder, MinMaxScaler\n",
        "from sklearn.metrics import confusion_matrix,r2_score, precision_score, recall_score, f1_score,cohen_kappa_score\n",
        "import time\n",
        "import warnings\n",
        "from collections import Counter\n",
        "from imblearn.over_sampling import ADASYN\n",
        "warnings.filterwarnings(\"ignore\", category=DeprecationWarning)\n",
        "import shap\n",
        "%matplotlib inline\n",
        "\n",
        "SMALL_SIZE = 10\n",
        "MEDIUM_SIZE = 12\n",
        "\n",
        "plt.rc('font', size=SMALL_SIZE)\n",
        "plt.rc('axes', titlesize=MEDIUM_SIZE)\n",
        "plt.rc('axes', labelsize=MEDIUM_SIZE)\n",
        "plt.rcParams['figure.dpi']=150"
      ],
      "execution_count": null,
      "outputs": []
    },
    {
      "cell_type": "code",
      "metadata": {
        "colab": {
          "base_uri": "https://localhost:8080/"
        },
        "id": "l1XcRrCjulVM",
        "outputId": "08bf939f-80df-4aa9-b6b6-ae6b64116010"
      },
      "source": [
        "!pip install shap"
      ],
      "execution_count": null,
      "outputs": [
        {
          "output_type": "stream",
          "name": "stdout",
          "text": [
            "Collecting shap\n",
            "  Downloading shap-0.39.0.tar.gz (356 kB)\n",
            "\u001b[?25l\r\u001b[K     |█                               | 10 kB 24.3 MB/s eta 0:00:01\r\u001b[K     |█▉                              | 20 kB 30.4 MB/s eta 0:00:01\r\u001b[K     |██▊                             | 30 kB 15.2 MB/s eta 0:00:01\r\u001b[K     |███▊                            | 40 kB 11.1 MB/s eta 0:00:01\r\u001b[K     |████▋                           | 51 kB 5.5 MB/s eta 0:00:01\r\u001b[K     |█████▌                          | 61 kB 5.8 MB/s eta 0:00:01\r\u001b[K     |██████▍                         | 71 kB 5.1 MB/s eta 0:00:01\r\u001b[K     |███████▍                        | 81 kB 5.8 MB/s eta 0:00:01\r\u001b[K     |████████▎                       | 92 kB 5.8 MB/s eta 0:00:01\r\u001b[K     |█████████▏                      | 102 kB 5.1 MB/s eta 0:00:01\r\u001b[K     |██████████▏                     | 112 kB 5.1 MB/s eta 0:00:01\r\u001b[K     |███████████                     | 122 kB 5.1 MB/s eta 0:00:01\r\u001b[K     |████████████                    | 133 kB 5.1 MB/s eta 0:00:01\r\u001b[K     |████████████▉                   | 143 kB 5.1 MB/s eta 0:00:01\r\u001b[K     |█████████████▉                  | 153 kB 5.1 MB/s eta 0:00:01\r\u001b[K     |██████████████▊                 | 163 kB 5.1 MB/s eta 0:00:01\r\u001b[K     |███████████████▋                | 174 kB 5.1 MB/s eta 0:00:01\r\u001b[K     |████████████████▋               | 184 kB 5.1 MB/s eta 0:00:01\r\u001b[K     |█████████████████▌              | 194 kB 5.1 MB/s eta 0:00:01\r\u001b[K     |██████████████████▍             | 204 kB 5.1 MB/s eta 0:00:01\r\u001b[K     |███████████████████▎            | 215 kB 5.1 MB/s eta 0:00:01\r\u001b[K     |████████████████████▎           | 225 kB 5.1 MB/s eta 0:00:01\r\u001b[K     |█████████████████████▏          | 235 kB 5.1 MB/s eta 0:00:01\r\u001b[K     |██████████████████████          | 245 kB 5.1 MB/s eta 0:00:01\r\u001b[K     |███████████████████████         | 256 kB 5.1 MB/s eta 0:00:01\r\u001b[K     |████████████████████████        | 266 kB 5.1 MB/s eta 0:00:01\r\u001b[K     |████████████████████████▉       | 276 kB 5.1 MB/s eta 0:00:01\r\u001b[K     |█████████████████████████▊      | 286 kB 5.1 MB/s eta 0:00:01\r\u001b[K     |██████████████████████████▊     | 296 kB 5.1 MB/s eta 0:00:01\r\u001b[K     |███████████████████████████▋    | 307 kB 5.1 MB/s eta 0:00:01\r\u001b[K     |████████████████████████████▌   | 317 kB 5.1 MB/s eta 0:00:01\r\u001b[K     |█████████████████████████████▍  | 327 kB 5.1 MB/s eta 0:00:01\r\u001b[K     |██████████████████████████████▍ | 337 kB 5.1 MB/s eta 0:00:01\r\u001b[K     |███████████████████████████████▎| 348 kB 5.1 MB/s eta 0:00:01\r\u001b[K     |████████████████████████████████| 356 kB 5.1 MB/s \n",
            "\u001b[?25hRequirement already satisfied: numpy in /usr/local/lib/python3.7/dist-packages (from shap) (1.19.5)\n",
            "Requirement already satisfied: scipy in /usr/local/lib/python3.7/dist-packages (from shap) (1.4.1)\n",
            "Requirement already satisfied: scikit-learn in /usr/local/lib/python3.7/dist-packages (from shap) (0.22.2.post1)\n",
            "Requirement already satisfied: pandas in /usr/local/lib/python3.7/dist-packages (from shap) (1.1.5)\n",
            "Requirement already satisfied: tqdm>4.25.0 in /usr/local/lib/python3.7/dist-packages (from shap) (4.62.3)\n",
            "Collecting slicer==0.0.7\n",
            "  Downloading slicer-0.0.7-py3-none-any.whl (14 kB)\n",
            "Requirement already satisfied: numba in /usr/local/lib/python3.7/dist-packages (from shap) (0.51.2)\n",
            "Requirement already satisfied: cloudpickle in /usr/local/lib/python3.7/dist-packages (from shap) (1.3.0)\n",
            "Requirement already satisfied: llvmlite<0.35,>=0.34.0.dev0 in /usr/local/lib/python3.7/dist-packages (from numba->shap) (0.34.0)\n",
            "Requirement already satisfied: setuptools in /usr/local/lib/python3.7/dist-packages (from numba->shap) (57.4.0)\n",
            "Requirement already satisfied: python-dateutil>=2.7.3 in /usr/local/lib/python3.7/dist-packages (from pandas->shap) (2.8.2)\n",
            "Requirement already satisfied: pytz>=2017.2 in /usr/local/lib/python3.7/dist-packages (from pandas->shap) (2018.9)\n",
            "Requirement already satisfied: six>=1.5 in /usr/local/lib/python3.7/dist-packages (from python-dateutil>=2.7.3->pandas->shap) (1.15.0)\n",
            "Requirement already satisfied: joblib>=0.11 in /usr/local/lib/python3.7/dist-packages (from scikit-learn->shap) (1.0.1)\n",
            "Building wheels for collected packages: shap\n",
            "  Building wheel for shap (setup.py) ... \u001b[?25l\u001b[?25hdone\n",
            "  Created wheel for shap: filename=shap-0.39.0-cp37-cp37m-linux_x86_64.whl size=491644 sha256=a4572402db44e7c7a71a5cd3b7ae01ffece4b93ad9bf0e9a1a01c9b553cbdf2f\n",
            "  Stored in directory: /root/.cache/pip/wheels/ca/25/8f/6ae5df62c32651cd719e972e738a8aaa4a87414c4d2b14c9c0\n",
            "Successfully built shap\n",
            "Installing collected packages: slicer, shap\n",
            "Successfully installed shap-0.39.0 slicer-0.0.7\n"
          ]
        }
      ]
    },
    {
      "cell_type": "markdown",
      "metadata": {
        "id": "609vXW5kcLL8"
      },
      "source": [
        "# Data Acquisition"
      ]
    },
    {
      "cell_type": "code",
      "metadata": {
        "id": "dDAphdELcNUy"
      },
      "source": [
        "dataset = pd.read_csv('combined.csv', sep=',')\n",
        "datasetLi = pd.read_csv('combinedLIWC.csv', sep=',')\n",
        "datasetCo = pd.read_csv('combined_CohMetrix.csv', sep=',')"
      ],
      "execution_count": 3,
      "outputs": []
    },
    {
      "cell_type": "code",
      "metadata": {
        "id": "VNVQInc271-T",
        "colab": {
          "base_uri": "https://localhost:8080/",
          "height": 297
        },
        "outputId": "b09bfeeb-4355-4511-df72-c5ac3f8fdcd7"
      },
      "source": [
        "dataset.describe()"
      ],
      "execution_count": 4,
      "outputs": [
        {
          "output_type": "execute_result",
          "data": {
            "text/html": [
              "<div>\n",
              "<style scoped>\n",
              "    .dataframe tbody tr th:only-of-type {\n",
              "        vertical-align: middle;\n",
              "    }\n",
              "\n",
              "    .dataframe tbody tr th {\n",
              "        vertical-align: top;\n",
              "    }\n",
              "\n",
              "    .dataframe thead th {\n",
              "        text-align: right;\n",
              "    }\n",
              "</style>\n",
              "<table border=\"1\" class=\"dataframe\">\n",
              "  <thead>\n",
              "    <tr style=\"text-align: right;\">\n",
              "      <th></th>\n",
              "      <th>id</th>\n",
              "      <th>classe</th>\n",
              "    </tr>\n",
              "  </thead>\n",
              "  <tbody>\n",
              "    <tr>\n",
              "      <th>count</th>\n",
              "      <td>1000.000000</td>\n",
              "      <td>1000.000000</td>\n",
              "    </tr>\n",
              "    <tr>\n",
              "      <th>mean</th>\n",
              "      <td>8887.011000</td>\n",
              "      <td>0.890000</td>\n",
              "    </tr>\n",
              "    <tr>\n",
              "      <th>std</th>\n",
              "      <td>4957.123671</td>\n",
              "      <td>0.313046</td>\n",
              "    </tr>\n",
              "    <tr>\n",
              "      <th>min</th>\n",
              "      <td>20.000000</td>\n",
              "      <td>0.000000</td>\n",
              "    </tr>\n",
              "    <tr>\n",
              "      <th>25%</th>\n",
              "      <td>1649.750000</td>\n",
              "      <td>1.000000</td>\n",
              "    </tr>\n",
              "    <tr>\n",
              "      <th>50%</th>\n",
              "      <td>11987.000000</td>\n",
              "      <td>1.000000</td>\n",
              "    </tr>\n",
              "    <tr>\n",
              "      <th>75%</th>\n",
              "      <td>12796.750000</td>\n",
              "      <td>1.000000</td>\n",
              "    </tr>\n",
              "    <tr>\n",
              "      <th>max</th>\n",
              "      <td>13814.000000</td>\n",
              "      <td>1.000000</td>\n",
              "    </tr>\n",
              "  </tbody>\n",
              "</table>\n",
              "</div>"
            ],
            "text/plain": [
              "                 id       classe\n",
              "count   1000.000000  1000.000000\n",
              "mean    8887.011000     0.890000\n",
              "std     4957.123671     0.313046\n",
              "min       20.000000     0.000000\n",
              "25%     1649.750000     1.000000\n",
              "50%    11987.000000     1.000000\n",
              "75%    12796.750000     1.000000\n",
              "max    13814.000000     1.000000"
            ]
          },
          "metadata": {},
          "execution_count": 4
        }
      ]
    },
    {
      "cell_type": "code",
      "metadata": {
        "id": "vTiTzPRd8Nu4",
        "colab": {
          "base_uri": "https://localhost:8080/"
        },
        "outputId": "18071564-09fb-49a7-d944-5833ea4f7e73"
      },
      "source": [
        "dataset.info()"
      ],
      "execution_count": 5,
      "outputs": [
        {
          "output_type": "stream",
          "name": "stdout",
          "text": [
            "<class 'pandas.core.frame.DataFrame'>\n",
            "RangeIndex: 1000 entries, 0 to 999\n",
            "Data columns (total 3 columns):\n",
            " #   Column    Non-Null Count  Dtype \n",
            "---  ------    --------------  ----- \n",
            " 0   id        1000 non-null   int64 \n",
            " 1   feedback  996 non-null    object\n",
            " 2   classe    1000 non-null   int64 \n",
            "dtypes: int64(2), object(1)\n",
            "memory usage: 23.6+ KB\n"
          ]
        }
      ]
    },
    {
      "cell_type": "code",
      "metadata": {
        "id": "ESIXRmhU8UL7",
        "colab": {
          "base_uri": "https://localhost:8080/"
        },
        "outputId": "bc14833d-076f-4cba-8614-bee952784023"
      },
      "source": [
        "dataset.shape"
      ],
      "execution_count": 6,
      "outputs": [
        {
          "output_type": "execute_result",
          "data": {
            "text/plain": [
              "(1000, 3)"
            ]
          },
          "metadata": {},
          "execution_count": 6
        }
      ]
    },
    {
      "cell_type": "code",
      "metadata": {
        "id": "N43dXPIc8v7C",
        "colab": {
          "base_uri": "https://localhost:8080/"
        },
        "outputId": "6d9beced-d533-44f9-965d-31f55241db72"
      },
      "source": [
        "dataset[\"classe\"].value_counts()"
      ],
      "execution_count": 7,
      "outputs": [
        {
          "output_type": "execute_result",
          "data": {
            "text/plain": [
              "1    890\n",
              "0    110\n",
              "Name: classe, dtype: int64"
            ]
          },
          "metadata": {},
          "execution_count": 7
        }
      ]
    },
    {
      "cell_type": "markdown",
      "metadata": {
        "id": "-elFugUGhvAq"
      },
      "source": [
        "# Desbalanceamento"
      ]
    },
    {
      "cell_type": "code",
      "metadata": {
        "id": "y7DH74oGhx8a",
        "colab": {
          "base_uri": "https://localhost:8080/",
          "height": 610
        },
        "outputId": "8a356ada-6524-41e4-ffdd-c4e5429580d3"
      },
      "source": [
        "target_count = dataset.classe.value_counts()\n",
        "print('Class 0:', target_count[0])\n",
        "print('Class 1:', target_count[1])\n",
        "print('Proportion:', round(target_count[0] / target_count[1], 2), ': 1')\n",
        "target_count.plot(kind='bar', title='Count (target)',color = ['#1F77B4', '#FF7F0E']);"
      ],
      "execution_count": 8,
      "outputs": [
        {
          "output_type": "stream",
          "name": "stdout",
          "text": [
            "Class 0: 110\n",
            "Class 1: 890\n",
            "Proportion: 0.12 : 1\n"
          ]
        },
        {
          "output_type": "display_data",
          "data": {
            "image/png": "[encoded data removed]",
            "text/plain": [
              "<Figure size 900x600 with 1 Axes>"
            ]
          },
          "metadata": {
            "needs_background": "light"
          }
        }
      ]
    },
    {
      "cell_type": "markdown",
      "metadata": {
        "id": "WnnoK7Geca8g"
      },
      "source": [
        "# Data Exploration"
      ]
    },
    {
      "cell_type": "code",
      "metadata": {
        "colab": {
          "base_uri": "https://localhost:8080/",
          "height": 669
        },
        "id": "pZhSsHNsccQq",
        "outputId": "cd351cda-7497-4586-dcf3-4f81d1efc1d2"
      },
      "source": [
        "dataset.head(20)"
      ],
      "execution_count": 9,
      "outputs": [
        {
          "output_type": "execute_result",
          "data": {
            "text/html": [
              "<div>\n",
              "<style scoped>\n",
              "    .dataframe tbody tr th:only-of-type {\n",
              "        vertical-align: middle;\n",
              "    }\n",
              "\n",
              "    .dataframe tbody tr th {\n",
              "        vertical-align: top;\n",
              "    }\n",
              "\n",
              "    .dataframe thead th {\n",
              "        text-align: right;\n",
              "    }\n",
              "</style>\n",
              "<table border=\"1\" class=\"dataframe\">\n",
              "  <thead>\n",
              "    <tr style=\"text-align: right;\">\n",
              "      <th></th>\n",
              "      <th>id</th>\n",
              "      <th>feedback</th>\n",
              "      <th>classe</th>\n",
              "    </tr>\n",
              "  </thead>\n",
              "  <tbody>\n",
              "    <tr>\n",
              "      <th>0</th>\n",
              "      <td>23</td>\n",
              "      <td>Ler outros textos sobre o assunto para lher da...</td>\n",
              "      <td>0</td>\n",
              "    </tr>\n",
              "    <tr>\n",
              "      <th>1</th>\n",
              "      <td>24</td>\n",
              "      <td>Procure ler mais; para escrever mais acerca do...</td>\n",
              "      <td>0</td>\n",
              "    </tr>\n",
              "    <tr>\n",
              "      <th>2</th>\n",
              "      <td>35</td>\n",
              "      <td>Texto bom; precisa apenas ler mais um pouco; p...</td>\n",
              "      <td>0</td>\n",
              "    </tr>\n",
              "    <tr>\n",
              "      <th>3</th>\n",
              "      <td>37</td>\n",
              "      <td>Ter cuidado com copias da internet.</td>\n",
              "      <td>0</td>\n",
              "    </tr>\n",
              "    <tr>\n",
              "      <th>4</th>\n",
              "      <td>68</td>\n",
              "      <td>Carssimo; o trabalho precisa de uma sistematiz...</td>\n",
              "      <td>1</td>\n",
              "    </tr>\n",
              "    <tr>\n",
              "      <th>5</th>\n",
              "      <td>286</td>\n",
              "      <td>Ol Wilma!      Na sua postagem no consta o nom...</td>\n",
              "      <td>0</td>\n",
              "    </tr>\n",
              "    <tr>\n",
              "      <th>6</th>\n",
              "      <td>665</td>\n",
              "      <td>Faltaram alguns elementos: referncias etc.</td>\n",
              "      <td>0</td>\n",
              "    </tr>\n",
              "    <tr>\n",
              "      <th>7</th>\n",
              "      <td>804</td>\n",
              "      <td>Bom dia Ana Lcia! De acordo com a tarefa da we...</td>\n",
              "      <td>1</td>\n",
              "    </tr>\n",
              "    <tr>\n",
              "      <th>8</th>\n",
              "      <td>842</td>\n",
              "      <td>Boa tarde Ccero! o motivo da sua pontuao foi i...</td>\n",
              "      <td>1</td>\n",
              "    </tr>\n",
              "    <tr>\n",
              "      <th>9</th>\n",
              "      <td>1098</td>\n",
              "      <td>Bom dia!!! cuidado com os erros ortogrficos e ...</td>\n",
              "      <td>0</td>\n",
              "    </tr>\n",
              "    <tr>\n",
              "      <th>10</th>\n",
              "      <td>1200</td>\n",
              "      <td>Seu trabalho foi bem elaborado; porm faltaram ...</td>\n",
              "      <td>0</td>\n",
              "    </tr>\n",
              "    <tr>\n",
              "      <th>11</th>\n",
              "      <td>1223</td>\n",
              "      <td>Sempre que fizer alguma atividade (Webquest) c...</td>\n",
              "      <td>1</td>\n",
              "    </tr>\n",
              "    <tr>\n",
              "      <th>12</th>\n",
              "      <td>1279</td>\n",
              "      <td>Cpia do artigo REMINISCNCIAS ENTRE MUNDOS EM C...</td>\n",
              "      <td>0</td>\n",
              "    </tr>\n",
              "    <tr>\n",
              "      <th>13</th>\n",
              "      <td>1280</td>\n",
              "      <td>H; neste texto; indcios de plgio.</td>\n",
              "      <td>0</td>\n",
              "    </tr>\n",
              "    <tr>\n",
              "      <th>14</th>\n",
              "      <td>1393</td>\n",
              "      <td>No foi apresentado o que foi pedido na web... ...</td>\n",
              "      <td>0</td>\n",
              "    </tr>\n",
              "    <tr>\n",
              "      <th>15</th>\n",
              "      <td>1399</td>\n",
              "      <td>H; neste texto; indcios de plgio. Tenha mais a...</td>\n",
              "      <td>0</td>\n",
              "    </tr>\n",
              "    <tr>\n",
              "      <th>16</th>\n",
              "      <td>1408</td>\n",
              "      <td>H; no texto; alguns indcios de plgio.  preciso...</td>\n",
              "      <td>0</td>\n",
              "    </tr>\n",
              "    <tr>\n",
              "      <th>17</th>\n",
              "      <td>1450</td>\n",
              "      <td>H; no texto; indcios de plgio.</td>\n",
              "      <td>0</td>\n",
              "    </tr>\n",
              "    <tr>\n",
              "      <th>18</th>\n",
              "      <td>1546</td>\n",
              "      <td>Seu trabalho cumpriu com os requisitos. Apenas...</td>\n",
              "      <td>0</td>\n",
              "    </tr>\n",
              "    <tr>\n",
              "      <th>19</th>\n",
              "      <td>1555</td>\n",
              "      <td>Seu trabalho cumpriu com todos os requisitos s...</td>\n",
              "      <td>1</td>\n",
              "    </tr>\n",
              "  </tbody>\n",
              "</table>\n",
              "</div>"
            ],
            "text/plain": [
              "      id                                           feedback  classe\n",
              "0     23  Ler outros textos sobre o assunto para lher da...       0\n",
              "1     24  Procure ler mais; para escrever mais acerca do...       0\n",
              "2     35  Texto bom; precisa apenas ler mais um pouco; p...       0\n",
              "3     37                Ter cuidado com copias da internet.       0\n",
              "4     68  Carssimo; o trabalho precisa de uma sistematiz...       1\n",
              "5    286  Ol Wilma!      Na sua postagem no consta o nom...       0\n",
              "6    665         Faltaram alguns elementos: referncias etc.       0\n",
              "7    804  Bom dia Ana Lcia! De acordo com a tarefa da we...       1\n",
              "8    842  Boa tarde Ccero! o motivo da sua pontuao foi i...       1\n",
              "9   1098  Bom dia!!! cuidado com os erros ortogrficos e ...       0\n",
              "10  1200  Seu trabalho foi bem elaborado; porm faltaram ...       0\n",
              "11  1223  Sempre que fizer alguma atividade (Webquest) c...       1\n",
              "12  1279  Cpia do artigo REMINISCNCIAS ENTRE MUNDOS EM C...       0\n",
              "13  1280                  H; neste texto; indcios de plgio.       0\n",
              "14  1393  No foi apresentado o que foi pedido na web... ...       0\n",
              "15  1399  H; neste texto; indcios de plgio. Tenha mais a...       0\n",
              "16  1408  H; no texto; alguns indcios de plgio.  preciso...       0\n",
              "17  1450                     H; no texto; indcios de plgio.       0\n",
              "18  1546  Seu trabalho cumpriu com os requisitos. Apenas...       0\n",
              "19  1555  Seu trabalho cumpriu com todos os requisitos s...       1"
            ]
          },
          "metadata": {},
          "execution_count": 9
        }
      ]
    },
    {
      "cell_type": "code",
      "metadata": {
        "colab": {
          "base_uri": "https://localhost:8080/",
          "height": 689
        },
        "id": "XluRVsagB0Rn",
        "outputId": "93155088-d3e6-4b49-d4ce-a54e88b50bc0"
      },
      "source": [
        "datasetLi.head(20)"
      ],
      "execution_count": 10,
      "outputs": [
        {
          "output_type": "execute_result",
          "data": {
            "text/html": [
              "<div>\n",
              "<style scoped>\n",
              "    .dataframe tbody tr th:only-of-type {\n",
              "        vertical-align: middle;\n",
              "    }\n",
              "\n",
              "    .dataframe tbody tr th {\n",
              "        vertical-align: top;\n",
              "    }\n",
              "\n",
              "    .dataframe thead th {\n",
              "        text-align: right;\n",
              "    }\n",
              "</style>\n",
              "<table border=\"1\" class=\"dataframe\">\n",
              "  <thead>\n",
              "    <tr style=\"text-align: right;\">\n",
              "      <th></th>\n",
              "      <th>id</th>\n",
              "      <th>liwc.funct</th>\n",
              "      <th>liwc.pronoun</th>\n",
              "      <th>liwc.ppron</th>\n",
              "      <th>liwc.i</th>\n",
              "      <th>liwc.we</th>\n",
              "      <th>liwc.you</th>\n",
              "      <th>liwc.shehe</th>\n",
              "      <th>liwc.they</th>\n",
              "      <th>liwc.ipron</th>\n",
              "      <th>liwc.article</th>\n",
              "      <th>liwc.verb</th>\n",
              "      <th>liwc.auxverb</th>\n",
              "      <th>liwc.past</th>\n",
              "      <th>liwc.present</th>\n",
              "      <th>liwc.future</th>\n",
              "      <th>liwc.adverb</th>\n",
              "      <th>liwc.preps</th>\n",
              "      <th>liwc.conj</th>\n",
              "      <th>liwc.negate</th>\n",
              "      <th>liwc.quant</th>\n",
              "      <th>liwc.number</th>\n",
              "      <th>liwc.swear</th>\n",
              "      <th>liwc.social</th>\n",
              "      <th>liwc.family</th>\n",
              "      <th>liwc.friend</th>\n",
              "      <th>liwc.humans</th>\n",
              "      <th>liwc.affect</th>\n",
              "      <th>liwc.posemo</th>\n",
              "      <th>liwc.negemo</th>\n",
              "      <th>liwc.anx</th>\n",
              "      <th>liwc.anger</th>\n",
              "      <th>liwc.sad</th>\n",
              "      <th>liwc.cogmech</th>\n",
              "      <th>liwc.insight</th>\n",
              "      <th>liwc.cause</th>\n",
              "      <th>liwc.discrep</th>\n",
              "      <th>liwc.tentat</th>\n",
              "      <th>liwc.certain</th>\n",
              "      <th>liwc.inhib</th>\n",
              "      <th>liwc.incl</th>\n",
              "      <th>liwc.excl</th>\n",
              "      <th>liwc.percept</th>\n",
              "      <th>liwc.see</th>\n",
              "      <th>liwc.hear</th>\n",
              "      <th>liwc.feel</th>\n",
              "      <th>liwc.bio</th>\n",
              "      <th>liwc.body</th>\n",
              "      <th>liwc.health</th>\n",
              "      <th>liwc.sexual</th>\n",
              "      <th>liwc.ingest</th>\n",
              "      <th>liwc.relativ</th>\n",
              "      <th>liwc.motion</th>\n",
              "      <th>liwc.space</th>\n",
              "      <th>liwc.time</th>\n",
              "      <th>liwc.work</th>\n",
              "      <th>liwc.achieve</th>\n",
              "      <th>liwc.leisure</th>\n",
              "      <th>liwc.home</th>\n",
              "      <th>liwc.money</th>\n",
              "      <th>liwc.relig</th>\n",
              "      <th>liwc.death</th>\n",
              "      <th>liwc.assent</th>\n",
              "      <th>liwc.nonfl</th>\n",
              "      <th>liwc.filler</th>\n",
              "    </tr>\n",
              "  </thead>\n",
              "  <tbody>\n",
              "    <tr>\n",
              "      <th>0</th>\n",
              "      <td>23</td>\n",
              "      <td>10</td>\n",
              "      <td>3</td>\n",
              "      <td>1</td>\n",
              "      <td>0</td>\n",
              "      <td>0</td>\n",
              "      <td>1</td>\n",
              "      <td>1</td>\n",
              "      <td>0</td>\n",
              "      <td>3</td>\n",
              "      <td>1</td>\n",
              "      <td>4</td>\n",
              "      <td>1</td>\n",
              "      <td>0</td>\n",
              "      <td>4</td>\n",
              "      <td>1</td>\n",
              "      <td>0</td>\n",
              "      <td>5</td>\n",
              "      <td>1</td>\n",
              "      <td>0</td>\n",
              "      <td>1</td>\n",
              "      <td>0</td>\n",
              "      <td>2</td>\n",
              "      <td>4</td>\n",
              "      <td>0</td>\n",
              "      <td>0</td>\n",
              "      <td>0</td>\n",
              "      <td>1</td>\n",
              "      <td>1</td>\n",
              "      <td>1</td>\n",
              "      <td>0</td>\n",
              "      <td>0</td>\n",
              "      <td>1</td>\n",
              "      <td>9</td>\n",
              "      <td>2</td>\n",
              "      <td>2</td>\n",
              "      <td>2</td>\n",
              "      <td>0</td>\n",
              "      <td>1</td>\n",
              "      <td>4</td>\n",
              "      <td>2</td>\n",
              "      <td>0</td>\n",
              "      <td>2</td>\n",
              "      <td>0</td>\n",
              "      <td>0</td>\n",
              "      <td>1</td>\n",
              "      <td>2</td>\n",
              "      <td>1</td>\n",
              "      <td>0</td>\n",
              "      <td>0</td>\n",
              "      <td>1</td>\n",
              "      <td>3</td>\n",
              "      <td>0</td>\n",
              "      <td>3</td>\n",
              "      <td>3</td>\n",
              "      <td>0</td>\n",
              "      <td>0</td>\n",
              "      <td>1</td>\n",
              "      <td>0</td>\n",
              "      <td>0</td>\n",
              "      <td>0</td>\n",
              "      <td>0</td>\n",
              "      <td>0</td>\n",
              "      <td>0</td>\n",
              "      <td>0</td>\n",
              "    </tr>\n",
              "    <tr>\n",
              "      <th>1</th>\n",
              "      <td>24</td>\n",
              "      <td>8</td>\n",
              "      <td>2</td>\n",
              "      <td>2</td>\n",
              "      <td>0</td>\n",
              "      <td>1</td>\n",
              "      <td>1</td>\n",
              "      <td>1</td>\n",
              "      <td>0</td>\n",
              "      <td>1</td>\n",
              "      <td>1</td>\n",
              "      <td>2</td>\n",
              "      <td>1</td>\n",
              "      <td>1</td>\n",
              "      <td>1</td>\n",
              "      <td>0</td>\n",
              "      <td>0</td>\n",
              "      <td>5</td>\n",
              "      <td>3</td>\n",
              "      <td>0</td>\n",
              "      <td>2</td>\n",
              "      <td>0</td>\n",
              "      <td>1</td>\n",
              "      <td>4</td>\n",
              "      <td>0</td>\n",
              "      <td>0</td>\n",
              "      <td>1</td>\n",
              "      <td>1</td>\n",
              "      <td>0</td>\n",
              "      <td>1</td>\n",
              "      <td>1</td>\n",
              "      <td>0</td>\n",
              "      <td>0</td>\n",
              "      <td>9</td>\n",
              "      <td>0</td>\n",
              "      <td>1</td>\n",
              "      <td>0</td>\n",
              "      <td>1</td>\n",
              "      <td>0</td>\n",
              "      <td>1</td>\n",
              "      <td>4</td>\n",
              "      <td>0</td>\n",
              "      <td>0</td>\n",
              "      <td>0</td>\n",
              "      <td>0</td>\n",
              "      <td>0</td>\n",
              "      <td>1</td>\n",
              "      <td>0</td>\n",
              "      <td>1</td>\n",
              "      <td>0</td>\n",
              "      <td>0</td>\n",
              "      <td>5</td>\n",
              "      <td>3</td>\n",
              "      <td>3</td>\n",
              "      <td>1</td>\n",
              "      <td>3</td>\n",
              "      <td>1</td>\n",
              "      <td>1</td>\n",
              "      <td>0</td>\n",
              "      <td>1</td>\n",
              "      <td>0</td>\n",
              "      <td>0</td>\n",
              "      <td>0</td>\n",
              "      <td>0</td>\n",
              "      <td>0</td>\n",
              "    </tr>\n",
              "    <tr>\n",
              "      <th>2</th>\n",
              "      <td>35</td>\n",
              "      <td>12</td>\n",
              "      <td>3</td>\n",
              "      <td>3</td>\n",
              "      <td>0</td>\n",
              "      <td>0</td>\n",
              "      <td>3</td>\n",
              "      <td>0</td>\n",
              "      <td>3</td>\n",
              "      <td>0</td>\n",
              "      <td>3</td>\n",
              "      <td>2</td>\n",
              "      <td>1</td>\n",
              "      <td>0</td>\n",
              "      <td>2</td>\n",
              "      <td>0</td>\n",
              "      <td>2</td>\n",
              "      <td>4</td>\n",
              "      <td>3</td>\n",
              "      <td>0</td>\n",
              "      <td>2</td>\n",
              "      <td>1</td>\n",
              "      <td>1</td>\n",
              "      <td>4</td>\n",
              "      <td>0</td>\n",
              "      <td>0</td>\n",
              "      <td>3</td>\n",
              "      <td>4</td>\n",
              "      <td>3</td>\n",
              "      <td>0</td>\n",
              "      <td>0</td>\n",
              "      <td>0</td>\n",
              "      <td>0</td>\n",
              "      <td>12</td>\n",
              "      <td>1</td>\n",
              "      <td>1</td>\n",
              "      <td>2</td>\n",
              "      <td>3</td>\n",
              "      <td>2</td>\n",
              "      <td>3</td>\n",
              "      <td>2</td>\n",
              "      <td>1</td>\n",
              "      <td>2</td>\n",
              "      <td>0</td>\n",
              "      <td>0</td>\n",
              "      <td>2</td>\n",
              "      <td>0</td>\n",
              "      <td>0</td>\n",
              "      <td>0</td>\n",
              "      <td>0</td>\n",
              "      <td>1</td>\n",
              "      <td>6</td>\n",
              "      <td>2</td>\n",
              "      <td>4</td>\n",
              "      <td>1</td>\n",
              "      <td>1</td>\n",
              "      <td>4</td>\n",
              "      <td>2</td>\n",
              "      <td>0</td>\n",
              "      <td>0</td>\n",
              "      <td>0</td>\n",
              "      <td>0</td>\n",
              "      <td>0</td>\n",
              "      <td>0</td>\n",
              "      <td>0</td>\n",
              "    </tr>\n",
              "    <tr>\n",
              "      <th>3</th>\n",
              "      <td>37</td>\n",
              "      <td>2</td>\n",
              "      <td>0</td>\n",
              "      <td>0</td>\n",
              "      <td>0</td>\n",
              "      <td>0</td>\n",
              "      <td>0</td>\n",
              "      <td>0</td>\n",
              "      <td>0</td>\n",
              "      <td>0</td>\n",
              "      <td>0</td>\n",
              "      <td>1</td>\n",
              "      <td>0</td>\n",
              "      <td>1</td>\n",
              "      <td>0</td>\n",
              "      <td>0</td>\n",
              "      <td>0</td>\n",
              "      <td>2</td>\n",
              "      <td>0</td>\n",
              "      <td>0</td>\n",
              "      <td>0</td>\n",
              "      <td>0</td>\n",
              "      <td>0</td>\n",
              "      <td>0</td>\n",
              "      <td>0</td>\n",
              "      <td>0</td>\n",
              "      <td>1</td>\n",
              "      <td>1</td>\n",
              "      <td>1</td>\n",
              "      <td>0</td>\n",
              "      <td>0</td>\n",
              "      <td>0</td>\n",
              "      <td>0</td>\n",
              "      <td>2</td>\n",
              "      <td>0</td>\n",
              "      <td>0</td>\n",
              "      <td>0</td>\n",
              "      <td>0</td>\n",
              "      <td>0</td>\n",
              "      <td>1</td>\n",
              "      <td>1</td>\n",
              "      <td>0</td>\n",
              "      <td>0</td>\n",
              "      <td>1</td>\n",
              "      <td>0</td>\n",
              "      <td>0</td>\n",
              "      <td>0</td>\n",
              "      <td>0</td>\n",
              "      <td>1</td>\n",
              "      <td>0</td>\n",
              "      <td>0</td>\n",
              "      <td>0</td>\n",
              "      <td>1</td>\n",
              "      <td>1</td>\n",
              "      <td>1</td>\n",
              "      <td>0</td>\n",
              "      <td>0</td>\n",
              "      <td>0</td>\n",
              "      <td>0</td>\n",
              "      <td>0</td>\n",
              "      <td>0</td>\n",
              "      <td>0</td>\n",
              "      <td>0</td>\n",
              "      <td>0</td>\n",
              "      <td>0</td>\n",
              "    </tr>\n",
              "    <tr>\n",
              "      <th>4</th>\n",
              "      <td>68</td>\n",
              "      <td>9</td>\n",
              "      <td>4</td>\n",
              "      <td>4</td>\n",
              "      <td>0</td>\n",
              "      <td>0</td>\n",
              "      <td>4</td>\n",
              "      <td>2</td>\n",
              "      <td>2</td>\n",
              "      <td>2</td>\n",
              "      <td>5</td>\n",
              "      <td>4</td>\n",
              "      <td>1</td>\n",
              "      <td>0</td>\n",
              "      <td>4</td>\n",
              "      <td>0</td>\n",
              "      <td>0</td>\n",
              "      <td>3</td>\n",
              "      <td>0</td>\n",
              "      <td>0</td>\n",
              "      <td>1</td>\n",
              "      <td>0</td>\n",
              "      <td>3</td>\n",
              "      <td>6</td>\n",
              "      <td>0</td>\n",
              "      <td>0</td>\n",
              "      <td>1</td>\n",
              "      <td>3</td>\n",
              "      <td>3</td>\n",
              "      <td>0</td>\n",
              "      <td>0</td>\n",
              "      <td>0</td>\n",
              "      <td>0</td>\n",
              "      <td>9</td>\n",
              "      <td>3</td>\n",
              "      <td>1</td>\n",
              "      <td>1</td>\n",
              "      <td>1</td>\n",
              "      <td>1</td>\n",
              "      <td>3</td>\n",
              "      <td>1</td>\n",
              "      <td>0</td>\n",
              "      <td>4</td>\n",
              "      <td>2</td>\n",
              "      <td>1</td>\n",
              "      <td>1</td>\n",
              "      <td>2</td>\n",
              "      <td>0</td>\n",
              "      <td>1</td>\n",
              "      <td>1</td>\n",
              "      <td>3</td>\n",
              "      <td>6</td>\n",
              "      <td>3</td>\n",
              "      <td>2</td>\n",
              "      <td>1</td>\n",
              "      <td>2</td>\n",
              "      <td>2</td>\n",
              "      <td>0</td>\n",
              "      <td>0</td>\n",
              "      <td>1</td>\n",
              "      <td>0</td>\n",
              "      <td>0</td>\n",
              "      <td>2</td>\n",
              "      <td>0</td>\n",
              "      <td>0</td>\n",
              "    </tr>\n",
              "    <tr>\n",
              "      <th>5</th>\n",
              "      <td>286</td>\n",
              "      <td>4</td>\n",
              "      <td>2</td>\n",
              "      <td>2</td>\n",
              "      <td>0</td>\n",
              "      <td>0</td>\n",
              "      <td>2</td>\n",
              "      <td>2</td>\n",
              "      <td>1</td>\n",
              "      <td>1</td>\n",
              "      <td>1</td>\n",
              "      <td>0</td>\n",
              "      <td>0</td>\n",
              "      <td>0</td>\n",
              "      <td>0</td>\n",
              "      <td>0</td>\n",
              "      <td>0</td>\n",
              "      <td>2</td>\n",
              "      <td>0</td>\n",
              "      <td>0</td>\n",
              "      <td>0</td>\n",
              "      <td>0</td>\n",
              "      <td>2</td>\n",
              "      <td>4</td>\n",
              "      <td>0</td>\n",
              "      <td>0</td>\n",
              "      <td>0</td>\n",
              "      <td>0</td>\n",
              "      <td>0</td>\n",
              "      <td>0</td>\n",
              "      <td>0</td>\n",
              "      <td>0</td>\n",
              "      <td>0</td>\n",
              "      <td>3</td>\n",
              "      <td>1</td>\n",
              "      <td>0</td>\n",
              "      <td>1</td>\n",
              "      <td>0</td>\n",
              "      <td>0</td>\n",
              "      <td>0</td>\n",
              "      <td>0</td>\n",
              "      <td>0</td>\n",
              "      <td>0</td>\n",
              "      <td>0</td>\n",
              "      <td>0</td>\n",
              "      <td>0</td>\n",
              "      <td>1</td>\n",
              "      <td>1</td>\n",
              "      <td>0</td>\n",
              "      <td>0</td>\n",
              "      <td>1</td>\n",
              "      <td>1</td>\n",
              "      <td>0</td>\n",
              "      <td>1</td>\n",
              "      <td>0</td>\n",
              "      <td>0</td>\n",
              "      <td>1</td>\n",
              "      <td>0</td>\n",
              "      <td>0</td>\n",
              "      <td>0</td>\n",
              "      <td>0</td>\n",
              "      <td>0</td>\n",
              "      <td>0</td>\n",
              "      <td>0</td>\n",
              "      <td>0</td>\n",
              "    </tr>\n",
              "    <tr>\n",
              "      <th>6</th>\n",
              "      <td>665</td>\n",
              "      <td>2</td>\n",
              "      <td>0</td>\n",
              "      <td>0</td>\n",
              "      <td>0</td>\n",
              "      <td>0</td>\n",
              "      <td>0</td>\n",
              "      <td>0</td>\n",
              "      <td>0</td>\n",
              "      <td>0</td>\n",
              "      <td>0</td>\n",
              "      <td>0</td>\n",
              "      <td>0</td>\n",
              "      <td>0</td>\n",
              "      <td>0</td>\n",
              "      <td>0</td>\n",
              "      <td>0</td>\n",
              "      <td>0</td>\n",
              "      <td>0</td>\n",
              "      <td>0</td>\n",
              "      <td>1</td>\n",
              "      <td>0</td>\n",
              "      <td>0</td>\n",
              "      <td>1</td>\n",
              "      <td>0</td>\n",
              "      <td>0</td>\n",
              "      <td>0</td>\n",
              "      <td>0</td>\n",
              "      <td>0</td>\n",
              "      <td>0</td>\n",
              "      <td>0</td>\n",
              "      <td>0</td>\n",
              "      <td>0</td>\n",
              "      <td>1</td>\n",
              "      <td>0</td>\n",
              "      <td>0</td>\n",
              "      <td>0</td>\n",
              "      <td>1</td>\n",
              "      <td>0</td>\n",
              "      <td>0</td>\n",
              "      <td>0</td>\n",
              "      <td>0</td>\n",
              "      <td>0</td>\n",
              "      <td>0</td>\n",
              "      <td>0</td>\n",
              "      <td>0</td>\n",
              "      <td>0</td>\n",
              "      <td>0</td>\n",
              "      <td>0</td>\n",
              "      <td>0</td>\n",
              "      <td>0</td>\n",
              "      <td>0</td>\n",
              "      <td>0</td>\n",
              "      <td>0</td>\n",
              "      <td>0</td>\n",
              "      <td>1</td>\n",
              "      <td>0</td>\n",
              "      <td>0</td>\n",
              "      <td>0</td>\n",
              "      <td>0</td>\n",
              "      <td>0</td>\n",
              "      <td>0</td>\n",
              "      <td>0</td>\n",
              "      <td>0</td>\n",
              "      <td>0</td>\n",
              "    </tr>\n",
              "    <tr>\n",
              "      <th>7</th>\n",
              "      <td>804</td>\n",
              "      <td>16</td>\n",
              "      <td>8</td>\n",
              "      <td>5</td>\n",
              "      <td>0</td>\n",
              "      <td>0</td>\n",
              "      <td>5</td>\n",
              "      <td>1</td>\n",
              "      <td>2</td>\n",
              "      <td>4</td>\n",
              "      <td>3</td>\n",
              "      <td>5</td>\n",
              "      <td>0</td>\n",
              "      <td>3</td>\n",
              "      <td>2</td>\n",
              "      <td>0</td>\n",
              "      <td>0</td>\n",
              "      <td>8</td>\n",
              "      <td>1</td>\n",
              "      <td>0</td>\n",
              "      <td>2</td>\n",
              "      <td>0</td>\n",
              "      <td>6</td>\n",
              "      <td>9</td>\n",
              "      <td>0</td>\n",
              "      <td>0</td>\n",
              "      <td>1</td>\n",
              "      <td>1</td>\n",
              "      <td>0</td>\n",
              "      <td>1</td>\n",
              "      <td>0</td>\n",
              "      <td>0</td>\n",
              "      <td>0</td>\n",
              "      <td>12</td>\n",
              "      <td>2</td>\n",
              "      <td>1</td>\n",
              "      <td>3</td>\n",
              "      <td>2</td>\n",
              "      <td>1</td>\n",
              "      <td>4</td>\n",
              "      <td>4</td>\n",
              "      <td>1</td>\n",
              "      <td>3</td>\n",
              "      <td>1</td>\n",
              "      <td>1</td>\n",
              "      <td>1</td>\n",
              "      <td>2</td>\n",
              "      <td>1</td>\n",
              "      <td>0</td>\n",
              "      <td>1</td>\n",
              "      <td>8</td>\n",
              "      <td>12</td>\n",
              "      <td>4</td>\n",
              "      <td>7</td>\n",
              "      <td>5</td>\n",
              "      <td>1</td>\n",
              "      <td>6</td>\n",
              "      <td>1</td>\n",
              "      <td>1</td>\n",
              "      <td>0</td>\n",
              "      <td>0</td>\n",
              "      <td>0</td>\n",
              "      <td>1</td>\n",
              "      <td>1</td>\n",
              "      <td>0</td>\n",
              "    </tr>\n",
              "    <tr>\n",
              "      <th>8</th>\n",
              "      <td>842</td>\n",
              "      <td>10</td>\n",
              "      <td>3</td>\n",
              "      <td>2</td>\n",
              "      <td>0</td>\n",
              "      <td>0</td>\n",
              "      <td>2</td>\n",
              "      <td>2</td>\n",
              "      <td>1</td>\n",
              "      <td>2</td>\n",
              "      <td>1</td>\n",
              "      <td>5</td>\n",
              "      <td>2</td>\n",
              "      <td>2</td>\n",
              "      <td>2</td>\n",
              "      <td>0</td>\n",
              "      <td>0</td>\n",
              "      <td>4</td>\n",
              "      <td>0</td>\n",
              "      <td>0</td>\n",
              "      <td>0</td>\n",
              "      <td>0</td>\n",
              "      <td>2</td>\n",
              "      <td>3</td>\n",
              "      <td>0</td>\n",
              "      <td>0</td>\n",
              "      <td>0</td>\n",
              "      <td>1</td>\n",
              "      <td>0</td>\n",
              "      <td>0</td>\n",
              "      <td>0</td>\n",
              "      <td>0</td>\n",
              "      <td>0</td>\n",
              "      <td>4</td>\n",
              "      <td>1</td>\n",
              "      <td>3</td>\n",
              "      <td>0</td>\n",
              "      <td>0</td>\n",
              "      <td>1</td>\n",
              "      <td>0</td>\n",
              "      <td>1</td>\n",
              "      <td>0</td>\n",
              "      <td>0</td>\n",
              "      <td>0</td>\n",
              "      <td>0</td>\n",
              "      <td>0</td>\n",
              "      <td>1</td>\n",
              "      <td>1</td>\n",
              "      <td>0</td>\n",
              "      <td>0</td>\n",
              "      <td>4</td>\n",
              "      <td>6</td>\n",
              "      <td>3</td>\n",
              "      <td>2</td>\n",
              "      <td>2</td>\n",
              "      <td>2</td>\n",
              "      <td>4</td>\n",
              "      <td>0</td>\n",
              "      <td>0</td>\n",
              "      <td>0</td>\n",
              "      <td>0</td>\n",
              "      <td>0</td>\n",
              "      <td>1</td>\n",
              "      <td>0</td>\n",
              "      <td>0</td>\n",
              "    </tr>\n",
              "    <tr>\n",
              "      <th>9</th>\n",
              "      <td>1098</td>\n",
              "      <td>6</td>\n",
              "      <td>1</td>\n",
              "      <td>1</td>\n",
              "      <td>0</td>\n",
              "      <td>0</td>\n",
              "      <td>1</td>\n",
              "      <td>0</td>\n",
              "      <td>1</td>\n",
              "      <td>0</td>\n",
              "      <td>1</td>\n",
              "      <td>3</td>\n",
              "      <td>0</td>\n",
              "      <td>2</td>\n",
              "      <td>1</td>\n",
              "      <td>0</td>\n",
              "      <td>0</td>\n",
              "      <td>3</td>\n",
              "      <td>2</td>\n",
              "      <td>0</td>\n",
              "      <td>1</td>\n",
              "      <td>0</td>\n",
              "      <td>1</td>\n",
              "      <td>1</td>\n",
              "      <td>0</td>\n",
              "      <td>0</td>\n",
              "      <td>3</td>\n",
              "      <td>3</td>\n",
              "      <td>2</td>\n",
              "      <td>1</td>\n",
              "      <td>0</td>\n",
              "      <td>0</td>\n",
              "      <td>0</td>\n",
              "      <td>8</td>\n",
              "      <td>1</td>\n",
              "      <td>1</td>\n",
              "      <td>0</td>\n",
              "      <td>0</td>\n",
              "      <td>0</td>\n",
              "      <td>2</td>\n",
              "      <td>4</td>\n",
              "      <td>0</td>\n",
              "      <td>1</td>\n",
              "      <td>2</td>\n",
              "      <td>1</td>\n",
              "      <td>0</td>\n",
              "      <td>1</td>\n",
              "      <td>0</td>\n",
              "      <td>1</td>\n",
              "      <td>0</td>\n",
              "      <td>3</td>\n",
              "      <td>3</td>\n",
              "      <td>1</td>\n",
              "      <td>3</td>\n",
              "      <td>3</td>\n",
              "      <td>1</td>\n",
              "      <td>2</td>\n",
              "      <td>0</td>\n",
              "      <td>0</td>\n",
              "      <td>0</td>\n",
              "      <td>0</td>\n",
              "      <td>0</td>\n",
              "      <td>1</td>\n",
              "      <td>0</td>\n",
              "      <td>0</td>\n",
              "    </tr>\n",
              "    <tr>\n",
              "      <th>10</th>\n",
              "      <td>1200</td>\n",
              "      <td>7</td>\n",
              "      <td>1</td>\n",
              "      <td>1</td>\n",
              "      <td>0</td>\n",
              "      <td>0</td>\n",
              "      <td>1</td>\n",
              "      <td>0</td>\n",
              "      <td>1</td>\n",
              "      <td>0</td>\n",
              "      <td>1</td>\n",
              "      <td>4</td>\n",
              "      <td>2</td>\n",
              "      <td>2</td>\n",
              "      <td>1</td>\n",
              "      <td>0</td>\n",
              "      <td>1</td>\n",
              "      <td>2</td>\n",
              "      <td>1</td>\n",
              "      <td>0</td>\n",
              "      <td>1</td>\n",
              "      <td>0</td>\n",
              "      <td>0</td>\n",
              "      <td>1</td>\n",
              "      <td>0</td>\n",
              "      <td>0</td>\n",
              "      <td>1</td>\n",
              "      <td>1</td>\n",
              "      <td>1</td>\n",
              "      <td>0</td>\n",
              "      <td>0</td>\n",
              "      <td>0</td>\n",
              "      <td>0</td>\n",
              "      <td>7</td>\n",
              "      <td>0</td>\n",
              "      <td>1</td>\n",
              "      <td>1</td>\n",
              "      <td>0</td>\n",
              "      <td>1</td>\n",
              "      <td>1</td>\n",
              "      <td>2</td>\n",
              "      <td>1</td>\n",
              "      <td>0</td>\n",
              "      <td>0</td>\n",
              "      <td>0</td>\n",
              "      <td>0</td>\n",
              "      <td>1</td>\n",
              "      <td>0</td>\n",
              "      <td>1</td>\n",
              "      <td>0</td>\n",
              "      <td>1</td>\n",
              "      <td>2</td>\n",
              "      <td>2</td>\n",
              "      <td>0</td>\n",
              "      <td>4</td>\n",
              "      <td>2</td>\n",
              "      <td>2</td>\n",
              "      <td>0</td>\n",
              "      <td>0</td>\n",
              "      <td>1</td>\n",
              "      <td>0</td>\n",
              "      <td>0</td>\n",
              "      <td>0</td>\n",
              "      <td>1</td>\n",
              "      <td>0</td>\n",
              "    </tr>\n",
              "    <tr>\n",
              "      <th>11</th>\n",
              "      <td>1223</td>\n",
              "      <td>11</td>\n",
              "      <td>4</td>\n",
              "      <td>2</td>\n",
              "      <td>1</td>\n",
              "      <td>0</td>\n",
              "      <td>1</td>\n",
              "      <td>1</td>\n",
              "      <td>0</td>\n",
              "      <td>3</td>\n",
              "      <td>1</td>\n",
              "      <td>2</td>\n",
              "      <td>2</td>\n",
              "      <td>0</td>\n",
              "      <td>1</td>\n",
              "      <td>0</td>\n",
              "      <td>0</td>\n",
              "      <td>3</td>\n",
              "      <td>3</td>\n",
              "      <td>0</td>\n",
              "      <td>1</td>\n",
              "      <td>0</td>\n",
              "      <td>1</td>\n",
              "      <td>6</td>\n",
              "      <td>0</td>\n",
              "      <td>1</td>\n",
              "      <td>1</td>\n",
              "      <td>1</td>\n",
              "      <td>1</td>\n",
              "      <td>0</td>\n",
              "      <td>0</td>\n",
              "      <td>0</td>\n",
              "      <td>0</td>\n",
              "      <td>7</td>\n",
              "      <td>0</td>\n",
              "      <td>1</td>\n",
              "      <td>3</td>\n",
              "      <td>4</td>\n",
              "      <td>1</td>\n",
              "      <td>1</td>\n",
              "      <td>0</td>\n",
              "      <td>3</td>\n",
              "      <td>0</td>\n",
              "      <td>0</td>\n",
              "      <td>0</td>\n",
              "      <td>0</td>\n",
              "      <td>0</td>\n",
              "      <td>0</td>\n",
              "      <td>0</td>\n",
              "      <td>0</td>\n",
              "      <td>2</td>\n",
              "      <td>5</td>\n",
              "      <td>2</td>\n",
              "      <td>3</td>\n",
              "      <td>3</td>\n",
              "      <td>3</td>\n",
              "      <td>2</td>\n",
              "      <td>0</td>\n",
              "      <td>0</td>\n",
              "      <td>0</td>\n",
              "      <td>0</td>\n",
              "      <td>0</td>\n",
              "      <td>0</td>\n",
              "      <td>0</td>\n",
              "      <td>0</td>\n",
              "    </tr>\n",
              "    <tr>\n",
              "      <th>12</th>\n",
              "      <td>1279</td>\n",
              "      <td>2</td>\n",
              "      <td>0</td>\n",
              "      <td>0</td>\n",
              "      <td>0</td>\n",
              "      <td>0</td>\n",
              "      <td>0</td>\n",
              "      <td>0</td>\n",
              "      <td>0</td>\n",
              "      <td>0</td>\n",
              "      <td>0</td>\n",
              "      <td>0</td>\n",
              "      <td>0</td>\n",
              "      <td>0</td>\n",
              "      <td>0</td>\n",
              "      <td>0</td>\n",
              "      <td>0</td>\n",
              "      <td>1</td>\n",
              "      <td>0</td>\n",
              "      <td>0</td>\n",
              "      <td>0</td>\n",
              "      <td>0</td>\n",
              "      <td>0</td>\n",
              "      <td>0</td>\n",
              "      <td>0</td>\n",
              "      <td>0</td>\n",
              "      <td>0</td>\n",
              "      <td>0</td>\n",
              "      <td>0</td>\n",
              "      <td>0</td>\n",
              "      <td>0</td>\n",
              "      <td>0</td>\n",
              "      <td>0</td>\n",
              "      <td>1</td>\n",
              "      <td>0</td>\n",
              "      <td>1</td>\n",
              "      <td>0</td>\n",
              "      <td>0</td>\n",
              "      <td>0</td>\n",
              "      <td>0</td>\n",
              "      <td>0</td>\n",
              "      <td>0</td>\n",
              "      <td>0</td>\n",
              "      <td>0</td>\n",
              "      <td>0</td>\n",
              "      <td>0</td>\n",
              "      <td>0</td>\n",
              "      <td>0</td>\n",
              "      <td>0</td>\n",
              "      <td>0</td>\n",
              "      <td>0</td>\n",
              "      <td>0</td>\n",
              "      <td>0</td>\n",
              "      <td>0</td>\n",
              "      <td>0</td>\n",
              "      <td>0</td>\n",
              "      <td>0</td>\n",
              "      <td>0</td>\n",
              "      <td>0</td>\n",
              "      <td>0</td>\n",
              "      <td>0</td>\n",
              "      <td>0</td>\n",
              "      <td>0</td>\n",
              "      <td>0</td>\n",
              "      <td>0</td>\n",
              "    </tr>\n",
              "    <tr>\n",
              "      <th>13</th>\n",
              "      <td>1280</td>\n",
              "      <td>1</td>\n",
              "      <td>0</td>\n",
              "      <td>0</td>\n",
              "      <td>0</td>\n",
              "      <td>0</td>\n",
              "      <td>0</td>\n",
              "      <td>0</td>\n",
              "      <td>0</td>\n",
              "      <td>0</td>\n",
              "      <td>0</td>\n",
              "      <td>0</td>\n",
              "      <td>0</td>\n",
              "      <td>0</td>\n",
              "      <td>0</td>\n",
              "      <td>0</td>\n",
              "      <td>0</td>\n",
              "      <td>1</td>\n",
              "      <td>0</td>\n",
              "      <td>0</td>\n",
              "      <td>0</td>\n",
              "      <td>0</td>\n",
              "      <td>0</td>\n",
              "      <td>0</td>\n",
              "      <td>0</td>\n",
              "      <td>0</td>\n",
              "      <td>0</td>\n",
              "      <td>0</td>\n",
              "      <td>0</td>\n",
              "      <td>0</td>\n",
              "      <td>0</td>\n",
              "      <td>0</td>\n",
              "      <td>0</td>\n",
              "      <td>2</td>\n",
              "      <td>0</td>\n",
              "      <td>1</td>\n",
              "      <td>0</td>\n",
              "      <td>1</td>\n",
              "      <td>0</td>\n",
              "      <td>0</td>\n",
              "      <td>1</td>\n",
              "      <td>0</td>\n",
              "      <td>0</td>\n",
              "      <td>0</td>\n",
              "      <td>0</td>\n",
              "      <td>0</td>\n",
              "      <td>0</td>\n",
              "      <td>0</td>\n",
              "      <td>0</td>\n",
              "      <td>0</td>\n",
              "      <td>0</td>\n",
              "      <td>1</td>\n",
              "      <td>0</td>\n",
              "      <td>0</td>\n",
              "      <td>0</td>\n",
              "      <td>0</td>\n",
              "      <td>0</td>\n",
              "      <td>0</td>\n",
              "      <td>0</td>\n",
              "      <td>0</td>\n",
              "      <td>0</td>\n",
              "      <td>0</td>\n",
              "      <td>0</td>\n",
              "      <td>0</td>\n",
              "      <td>0</td>\n",
              "    </tr>\n",
              "    <tr>\n",
              "      <th>14</th>\n",
              "      <td>1393</td>\n",
              "      <td>5</td>\n",
              "      <td>2</td>\n",
              "      <td>1</td>\n",
              "      <td>0</td>\n",
              "      <td>0</td>\n",
              "      <td>1</td>\n",
              "      <td>1</td>\n",
              "      <td>0</td>\n",
              "      <td>2</td>\n",
              "      <td>1</td>\n",
              "      <td>4</td>\n",
              "      <td>2</td>\n",
              "      <td>4</td>\n",
              "      <td>0</td>\n",
              "      <td>0</td>\n",
              "      <td>0</td>\n",
              "      <td>1</td>\n",
              "      <td>1</td>\n",
              "      <td>0</td>\n",
              "      <td>0</td>\n",
              "      <td>0</td>\n",
              "      <td>2</td>\n",
              "      <td>3</td>\n",
              "      <td>0</td>\n",
              "      <td>0</td>\n",
              "      <td>0</td>\n",
              "      <td>1</td>\n",
              "      <td>0</td>\n",
              "      <td>1</td>\n",
              "      <td>0</td>\n",
              "      <td>0</td>\n",
              "      <td>0</td>\n",
              "      <td>3</td>\n",
              "      <td>1</td>\n",
              "      <td>1</td>\n",
              "      <td>2</td>\n",
              "      <td>2</td>\n",
              "      <td>0</td>\n",
              "      <td>1</td>\n",
              "      <td>0</td>\n",
              "      <td>1</td>\n",
              "      <td>0</td>\n",
              "      <td>0</td>\n",
              "      <td>0</td>\n",
              "      <td>0</td>\n",
              "      <td>1</td>\n",
              "      <td>1</td>\n",
              "      <td>0</td>\n",
              "      <td>0</td>\n",
              "      <td>3</td>\n",
              "      <td>5</td>\n",
              "      <td>3</td>\n",
              "      <td>1</td>\n",
              "      <td>1</td>\n",
              "      <td>0</td>\n",
              "      <td>1</td>\n",
              "      <td>0</td>\n",
              "      <td>0</td>\n",
              "      <td>0</td>\n",
              "      <td>0</td>\n",
              "      <td>0</td>\n",
              "      <td>1</td>\n",
              "      <td>0</td>\n",
              "      <td>0</td>\n",
              "    </tr>\n",
              "    <tr>\n",
              "      <th>15</th>\n",
              "      <td>1399</td>\n",
              "      <td>5</td>\n",
              "      <td>2</td>\n",
              "      <td>1</td>\n",
              "      <td>0</td>\n",
              "      <td>0</td>\n",
              "      <td>1</td>\n",
              "      <td>1</td>\n",
              "      <td>0</td>\n",
              "      <td>2</td>\n",
              "      <td>1</td>\n",
              "      <td>0</td>\n",
              "      <td>0</td>\n",
              "      <td>0</td>\n",
              "      <td>0</td>\n",
              "      <td>0</td>\n",
              "      <td>0</td>\n",
              "      <td>4</td>\n",
              "      <td>1</td>\n",
              "      <td>0</td>\n",
              "      <td>1</td>\n",
              "      <td>0</td>\n",
              "      <td>1</td>\n",
              "      <td>1</td>\n",
              "      <td>0</td>\n",
              "      <td>0</td>\n",
              "      <td>1</td>\n",
              "      <td>2</td>\n",
              "      <td>1</td>\n",
              "      <td>0</td>\n",
              "      <td>0</td>\n",
              "      <td>0</td>\n",
              "      <td>0</td>\n",
              "      <td>7</td>\n",
              "      <td>2</td>\n",
              "      <td>1</td>\n",
              "      <td>0</td>\n",
              "      <td>1</td>\n",
              "      <td>0</td>\n",
              "      <td>1</td>\n",
              "      <td>4</td>\n",
              "      <td>0</td>\n",
              "      <td>1</td>\n",
              "      <td>1</td>\n",
              "      <td>1</td>\n",
              "      <td>0</td>\n",
              "      <td>1</td>\n",
              "      <td>0</td>\n",
              "      <td>0</td>\n",
              "      <td>0</td>\n",
              "      <td>0</td>\n",
              "      <td>2</td>\n",
              "      <td>0</td>\n",
              "      <td>2</td>\n",
              "      <td>1</td>\n",
              "      <td>2</td>\n",
              "      <td>1</td>\n",
              "      <td>0</td>\n",
              "      <td>0</td>\n",
              "      <td>0</td>\n",
              "      <td>0</td>\n",
              "      <td>0</td>\n",
              "      <td>0</td>\n",
              "      <td>1</td>\n",
              "      <td>0</td>\n",
              "    </tr>\n",
              "    <tr>\n",
              "      <th>16</th>\n",
              "      <td>1408</td>\n",
              "      <td>5</td>\n",
              "      <td>0</td>\n",
              "      <td>0</td>\n",
              "      <td>0</td>\n",
              "      <td>0</td>\n",
              "      <td>0</td>\n",
              "      <td>0</td>\n",
              "      <td>0</td>\n",
              "      <td>0</td>\n",
              "      <td>0</td>\n",
              "      <td>3</td>\n",
              "      <td>1</td>\n",
              "      <td>1</td>\n",
              "      <td>1</td>\n",
              "      <td>1</td>\n",
              "      <td>0</td>\n",
              "      <td>3</td>\n",
              "      <td>1</td>\n",
              "      <td>0</td>\n",
              "      <td>2</td>\n",
              "      <td>0</td>\n",
              "      <td>1</td>\n",
              "      <td>0</td>\n",
              "      <td>0</td>\n",
              "      <td>0</td>\n",
              "      <td>2</td>\n",
              "      <td>1</td>\n",
              "      <td>1</td>\n",
              "      <td>0</td>\n",
              "      <td>0</td>\n",
              "      <td>0</td>\n",
              "      <td>0</td>\n",
              "      <td>6</td>\n",
              "      <td>0</td>\n",
              "      <td>1</td>\n",
              "      <td>1</td>\n",
              "      <td>2</td>\n",
              "      <td>1</td>\n",
              "      <td>2</td>\n",
              "      <td>2</td>\n",
              "      <td>0</td>\n",
              "      <td>0</td>\n",
              "      <td>1</td>\n",
              "      <td>0</td>\n",
              "      <td>0</td>\n",
              "      <td>1</td>\n",
              "      <td>0</td>\n",
              "      <td>1</td>\n",
              "      <td>0</td>\n",
              "      <td>1</td>\n",
              "      <td>2</td>\n",
              "      <td>1</td>\n",
              "      <td>1</td>\n",
              "      <td>0</td>\n",
              "      <td>0</td>\n",
              "      <td>2</td>\n",
              "      <td>1</td>\n",
              "      <td>0</td>\n",
              "      <td>0</td>\n",
              "      <td>0</td>\n",
              "      <td>0</td>\n",
              "      <td>0</td>\n",
              "      <td>0</td>\n",
              "      <td>0</td>\n",
              "    </tr>\n",
              "    <tr>\n",
              "      <th>17</th>\n",
              "      <td>1450</td>\n",
              "      <td>2</td>\n",
              "      <td>0</td>\n",
              "      <td>0</td>\n",
              "      <td>0</td>\n",
              "      <td>0</td>\n",
              "      <td>0</td>\n",
              "      <td>0</td>\n",
              "      <td>0</td>\n",
              "      <td>0</td>\n",
              "      <td>0</td>\n",
              "      <td>0</td>\n",
              "      <td>0</td>\n",
              "      <td>0</td>\n",
              "      <td>0</td>\n",
              "      <td>0</td>\n",
              "      <td>0</td>\n",
              "      <td>2</td>\n",
              "      <td>0</td>\n",
              "      <td>0</td>\n",
              "      <td>0</td>\n",
              "      <td>0</td>\n",
              "      <td>0</td>\n",
              "      <td>0</td>\n",
              "      <td>0</td>\n",
              "      <td>0</td>\n",
              "      <td>0</td>\n",
              "      <td>0</td>\n",
              "      <td>0</td>\n",
              "      <td>0</td>\n",
              "      <td>0</td>\n",
              "      <td>0</td>\n",
              "      <td>0</td>\n",
              "      <td>2</td>\n",
              "      <td>0</td>\n",
              "      <td>1</td>\n",
              "      <td>0</td>\n",
              "      <td>1</td>\n",
              "      <td>0</td>\n",
              "      <td>0</td>\n",
              "      <td>1</td>\n",
              "      <td>0</td>\n",
              "      <td>0</td>\n",
              "      <td>0</td>\n",
              "      <td>0</td>\n",
              "      <td>0</td>\n",
              "      <td>0</td>\n",
              "      <td>0</td>\n",
              "      <td>0</td>\n",
              "      <td>0</td>\n",
              "      <td>1</td>\n",
              "      <td>2</td>\n",
              "      <td>0</td>\n",
              "      <td>1</td>\n",
              "      <td>0</td>\n",
              "      <td>0</td>\n",
              "      <td>0</td>\n",
              "      <td>0</td>\n",
              "      <td>0</td>\n",
              "      <td>0</td>\n",
              "      <td>0</td>\n",
              "      <td>0</td>\n",
              "      <td>0</td>\n",
              "      <td>0</td>\n",
              "      <td>0</td>\n",
              "    </tr>\n",
              "    <tr>\n",
              "      <th>18</th>\n",
              "      <td>1546</td>\n",
              "      <td>9</td>\n",
              "      <td>4</td>\n",
              "      <td>4</td>\n",
              "      <td>0</td>\n",
              "      <td>0</td>\n",
              "      <td>4</td>\n",
              "      <td>3</td>\n",
              "      <td>2</td>\n",
              "      <td>2</td>\n",
              "      <td>4</td>\n",
              "      <td>3</td>\n",
              "      <td>1</td>\n",
              "      <td>1</td>\n",
              "      <td>2</td>\n",
              "      <td>0</td>\n",
              "      <td>0</td>\n",
              "      <td>4</td>\n",
              "      <td>1</td>\n",
              "      <td>0</td>\n",
              "      <td>1</td>\n",
              "      <td>1</td>\n",
              "      <td>1</td>\n",
              "      <td>5</td>\n",
              "      <td>0</td>\n",
              "      <td>0</td>\n",
              "      <td>0</td>\n",
              "      <td>2</td>\n",
              "      <td>2</td>\n",
              "      <td>0</td>\n",
              "      <td>0</td>\n",
              "      <td>0</td>\n",
              "      <td>0</td>\n",
              "      <td>11</td>\n",
              "      <td>1</td>\n",
              "      <td>2</td>\n",
              "      <td>0</td>\n",
              "      <td>1</td>\n",
              "      <td>1</td>\n",
              "      <td>2</td>\n",
              "      <td>5</td>\n",
              "      <td>0</td>\n",
              "      <td>0</td>\n",
              "      <td>0</td>\n",
              "      <td>0</td>\n",
              "      <td>0</td>\n",
              "      <td>1</td>\n",
              "      <td>0</td>\n",
              "      <td>1</td>\n",
              "      <td>0</td>\n",
              "      <td>0</td>\n",
              "      <td>2</td>\n",
              "      <td>2</td>\n",
              "      <td>3</td>\n",
              "      <td>2</td>\n",
              "      <td>1</td>\n",
              "      <td>2</td>\n",
              "      <td>0</td>\n",
              "      <td>0</td>\n",
              "      <td>1</td>\n",
              "      <td>0</td>\n",
              "      <td>0</td>\n",
              "      <td>0</td>\n",
              "      <td>2</td>\n",
              "      <td>0</td>\n",
              "    </tr>\n",
              "    <tr>\n",
              "      <th>19</th>\n",
              "      <td>1555</td>\n",
              "      <td>10</td>\n",
              "      <td>4</td>\n",
              "      <td>3</td>\n",
              "      <td>0</td>\n",
              "      <td>0</td>\n",
              "      <td>3</td>\n",
              "      <td>1</td>\n",
              "      <td>1</td>\n",
              "      <td>2</td>\n",
              "      <td>2</td>\n",
              "      <td>6</td>\n",
              "      <td>3</td>\n",
              "      <td>3</td>\n",
              "      <td>2</td>\n",
              "      <td>1</td>\n",
              "      <td>0</td>\n",
              "      <td>3</td>\n",
              "      <td>2</td>\n",
              "      <td>0</td>\n",
              "      <td>2</td>\n",
              "      <td>0</td>\n",
              "      <td>2</td>\n",
              "      <td>3</td>\n",
              "      <td>0</td>\n",
              "      <td>0</td>\n",
              "      <td>0</td>\n",
              "      <td>1</td>\n",
              "      <td>1</td>\n",
              "      <td>0</td>\n",
              "      <td>0</td>\n",
              "      <td>0</td>\n",
              "      <td>0</td>\n",
              "      <td>13</td>\n",
              "      <td>2</td>\n",
              "      <td>2</td>\n",
              "      <td>0</td>\n",
              "      <td>1</td>\n",
              "      <td>1</td>\n",
              "      <td>4</td>\n",
              "      <td>4</td>\n",
              "      <td>1</td>\n",
              "      <td>1</td>\n",
              "      <td>1</td>\n",
              "      <td>0</td>\n",
              "      <td>0</td>\n",
              "      <td>2</td>\n",
              "      <td>1</td>\n",
              "      <td>1</td>\n",
              "      <td>0</td>\n",
              "      <td>0</td>\n",
              "      <td>2</td>\n",
              "      <td>2</td>\n",
              "      <td>3</td>\n",
              "      <td>4</td>\n",
              "      <td>2</td>\n",
              "      <td>1</td>\n",
              "      <td>0</td>\n",
              "      <td>0</td>\n",
              "      <td>2</td>\n",
              "      <td>0</td>\n",
              "      <td>0</td>\n",
              "      <td>0</td>\n",
              "      <td>1</td>\n",
              "      <td>0</td>\n",
              "    </tr>\n",
              "  </tbody>\n",
              "</table>\n",
              "</div>"
            ],
            "text/plain": [
              "      id  liwc.funct  liwc.pronoun  ...  liwc.assent  liwc.nonfl  liwc.filler\n",
              "0     23          10             3  ...            0           0            0\n",
              "1     24           8             2  ...            0           0            0\n",
              "2     35          12             3  ...            0           0            0\n",
              "3     37           2             0  ...            0           0            0\n",
              "4     68           9             4  ...            2           0            0\n",
              "5    286           4             2  ...            0           0            0\n",
              "6    665           2             0  ...            0           0            0\n",
              "7    804          16             8  ...            1           1            0\n",
              "8    842          10             3  ...            1           0            0\n",
              "9   1098           6             1  ...            1           0            0\n",
              "10  1200           7             1  ...            0           1            0\n",
              "11  1223          11             4  ...            0           0            0\n",
              "12  1279           2             0  ...            0           0            0\n",
              "13  1280           1             0  ...            0           0            0\n",
              "14  1393           5             2  ...            1           0            0\n",
              "15  1399           5             2  ...            0           1            0\n",
              "16  1408           5             0  ...            0           0            0\n",
              "17  1450           2             0  ...            0           0            0\n",
              "18  1546           9             4  ...            0           2            0\n",
              "19  1555          10             4  ...            0           1            0\n",
              "\n",
              "[20 rows x 65 columns]"
            ]
          },
          "metadata": {},
          "execution_count": 10
        }
      ]
    },
    {
      "cell_type": "code",
      "metadata": {
        "id": "51DNgldNBBSQ",
        "colab": {
          "base_uri": "https://localhost:8080/"
        },
        "outputId": "f3c6f894-227b-4cfb-a5fa-0211cebf661f"
      },
      "source": [
        "len(datasetLi.columns)"
      ],
      "execution_count": 11,
      "outputs": [
        {
          "output_type": "execute_result",
          "data": {
            "text/plain": [
              "65"
            ]
          },
          "metadata": {},
          "execution_count": 11
        }
      ]
    },
    {
      "cell_type": "code",
      "metadata": {
        "id": "O3D8APgvjtey",
        "colab": {
          "base_uri": "https://localhost:8080/"
        },
        "outputId": "43526dae-8431-4966-fc51-ab2c02da092b"
      },
      "source": [
        "datasetLi.shape"
      ],
      "execution_count": 12,
      "outputs": [
        {
          "output_type": "execute_result",
          "data": {
            "text/plain": [
              "(1000, 65)"
            ]
          },
          "metadata": {},
          "execution_count": 12
        }
      ]
    },
    {
      "cell_type": "code",
      "metadata": {
        "id": "XsXGeRMQCguc"
      },
      "source": [
        "datasetLi['classe'] = dataset['classe']"
      ],
      "execution_count": 13,
      "outputs": []
    },
    {
      "cell_type": "code",
      "metadata": {
        "colab": {
          "base_uri": "https://localhost:8080/",
          "height": 224
        },
        "id": "-JNPCXF_CoS4",
        "outputId": "00483b76-588e-40d4-85cc-64b9cc49e3dc"
      },
      "source": [
        "datasetLi.drop(columns=['id'], inplace=True)\n",
        "datasetLi.head()"
      ],
      "execution_count": 16,
      "outputs": [
        {
          "output_type": "execute_result",
          "data": {
            "text/html": [
              "<div>\n",
              "<style scoped>\n",
              "    .dataframe tbody tr th:only-of-type {\n",
              "        vertical-align: middle;\n",
              "    }\n",
              "\n",
              "    .dataframe tbody tr th {\n",
              "        vertical-align: top;\n",
              "    }\n",
              "\n",
              "    .dataframe thead th {\n",
              "        text-align: right;\n",
              "    }\n",
              "</style>\n",
              "<table border=\"1\" class=\"dataframe\">\n",
              "  <thead>\n",
              "    <tr style=\"text-align: right;\">\n",
              "      <th></th>\n",
              "      <th>liwc.funct</th>\n",
              "      <th>liwc.pronoun</th>\n",
              "      <th>liwc.ppron</th>\n",
              "      <th>liwc.i</th>\n",
              "      <th>liwc.we</th>\n",
              "      <th>liwc.you</th>\n",
              "      <th>liwc.shehe</th>\n",
              "      <th>liwc.they</th>\n",
              "      <th>liwc.ipron</th>\n",
              "      <th>liwc.article</th>\n",
              "      <th>liwc.verb</th>\n",
              "      <th>liwc.auxverb</th>\n",
              "      <th>liwc.past</th>\n",
              "      <th>liwc.present</th>\n",
              "      <th>liwc.future</th>\n",
              "      <th>liwc.adverb</th>\n",
              "      <th>liwc.preps</th>\n",
              "      <th>liwc.conj</th>\n",
              "      <th>liwc.negate</th>\n",
              "      <th>liwc.quant</th>\n",
              "      <th>liwc.number</th>\n",
              "      <th>liwc.swear</th>\n",
              "      <th>liwc.social</th>\n",
              "      <th>liwc.family</th>\n",
              "      <th>liwc.friend</th>\n",
              "      <th>liwc.humans</th>\n",
              "      <th>liwc.affect</th>\n",
              "      <th>liwc.posemo</th>\n",
              "      <th>liwc.negemo</th>\n",
              "      <th>liwc.anx</th>\n",
              "      <th>liwc.anger</th>\n",
              "      <th>liwc.sad</th>\n",
              "      <th>liwc.cogmech</th>\n",
              "      <th>liwc.insight</th>\n",
              "      <th>liwc.cause</th>\n",
              "      <th>liwc.discrep</th>\n",
              "      <th>liwc.tentat</th>\n",
              "      <th>liwc.certain</th>\n",
              "      <th>liwc.inhib</th>\n",
              "      <th>liwc.incl</th>\n",
              "      <th>liwc.excl</th>\n",
              "      <th>liwc.percept</th>\n",
              "      <th>liwc.see</th>\n",
              "      <th>liwc.hear</th>\n",
              "      <th>liwc.feel</th>\n",
              "      <th>liwc.bio</th>\n",
              "      <th>liwc.body</th>\n",
              "      <th>liwc.health</th>\n",
              "      <th>liwc.sexual</th>\n",
              "      <th>liwc.ingest</th>\n",
              "      <th>liwc.relativ</th>\n",
              "      <th>liwc.motion</th>\n",
              "      <th>liwc.space</th>\n",
              "      <th>liwc.time</th>\n",
              "      <th>liwc.work</th>\n",
              "      <th>liwc.achieve</th>\n",
              "      <th>liwc.leisure</th>\n",
              "      <th>liwc.home</th>\n",
              "      <th>liwc.money</th>\n",
              "      <th>liwc.relig</th>\n",
              "      <th>liwc.death</th>\n",
              "      <th>liwc.assent</th>\n",
              "      <th>liwc.nonfl</th>\n",
              "      <th>liwc.filler</th>\n",
              "      <th>classe</th>\n",
              "    </tr>\n",
              "  </thead>\n",
              "  <tbody>\n",
              "    <tr>\n",
              "      <th>0</th>\n",
              "      <td>10</td>\n",
              "      <td>3</td>\n",
              "      <td>1</td>\n",
              "      <td>0</td>\n",
              "      <td>0</td>\n",
              "      <td>1</td>\n",
              "      <td>1</td>\n",
              "      <td>0</td>\n",
              "      <td>3</td>\n",
              "      <td>1</td>\n",
              "      <td>4</td>\n",
              "      <td>1</td>\n",
              "      <td>0</td>\n",
              "      <td>4</td>\n",
              "      <td>1</td>\n",
              "      <td>0</td>\n",
              "      <td>5</td>\n",
              "      <td>1</td>\n",
              "      <td>0</td>\n",
              "      <td>1</td>\n",
              "      <td>0</td>\n",
              "      <td>2</td>\n",
              "      <td>4</td>\n",
              "      <td>0</td>\n",
              "      <td>0</td>\n",
              "      <td>0</td>\n",
              "      <td>1</td>\n",
              "      <td>1</td>\n",
              "      <td>1</td>\n",
              "      <td>0</td>\n",
              "      <td>0</td>\n",
              "      <td>1</td>\n",
              "      <td>9</td>\n",
              "      <td>2</td>\n",
              "      <td>2</td>\n",
              "      <td>2</td>\n",
              "      <td>0</td>\n",
              "      <td>1</td>\n",
              "      <td>4</td>\n",
              "      <td>2</td>\n",
              "      <td>0</td>\n",
              "      <td>2</td>\n",
              "      <td>0</td>\n",
              "      <td>0</td>\n",
              "      <td>1</td>\n",
              "      <td>2</td>\n",
              "      <td>1</td>\n",
              "      <td>0</td>\n",
              "      <td>0</td>\n",
              "      <td>1</td>\n",
              "      <td>3</td>\n",
              "      <td>0</td>\n",
              "      <td>3</td>\n",
              "      <td>3</td>\n",
              "      <td>0</td>\n",
              "      <td>0</td>\n",
              "      <td>1</td>\n",
              "      <td>0</td>\n",
              "      <td>0</td>\n",
              "      <td>0</td>\n",
              "      <td>0</td>\n",
              "      <td>0</td>\n",
              "      <td>0</td>\n",
              "      <td>0</td>\n",
              "      <td>0</td>\n",
              "    </tr>\n",
              "    <tr>\n",
              "      <th>1</th>\n",
              "      <td>8</td>\n",
              "      <td>2</td>\n",
              "      <td>2</td>\n",
              "      <td>0</td>\n",
              "      <td>1</td>\n",
              "      <td>1</td>\n",
              "      <td>1</td>\n",
              "      <td>0</td>\n",
              "      <td>1</td>\n",
              "      <td>1</td>\n",
              "      <td>2</td>\n",
              "      <td>1</td>\n",
              "      <td>1</td>\n",
              "      <td>1</td>\n",
              "      <td>0</td>\n",
              "      <td>0</td>\n",
              "      <td>5</td>\n",
              "      <td>3</td>\n",
              "      <td>0</td>\n",
              "      <td>2</td>\n",
              "      <td>0</td>\n",
              "      <td>1</td>\n",
              "      <td>4</td>\n",
              "      <td>0</td>\n",
              "      <td>0</td>\n",
              "      <td>1</td>\n",
              "      <td>1</td>\n",
              "      <td>0</td>\n",
              "      <td>1</td>\n",
              "      <td>1</td>\n",
              "      <td>0</td>\n",
              "      <td>0</td>\n",
              "      <td>9</td>\n",
              "      <td>0</td>\n",
              "      <td>1</td>\n",
              "      <td>0</td>\n",
              "      <td>1</td>\n",
              "      <td>0</td>\n",
              "      <td>1</td>\n",
              "      <td>4</td>\n",
              "      <td>0</td>\n",
              "      <td>0</td>\n",
              "      <td>0</td>\n",
              "      <td>0</td>\n",
              "      <td>0</td>\n",
              "      <td>1</td>\n",
              "      <td>0</td>\n",
              "      <td>1</td>\n",
              "      <td>0</td>\n",
              "      <td>0</td>\n",
              "      <td>5</td>\n",
              "      <td>3</td>\n",
              "      <td>3</td>\n",
              "      <td>1</td>\n",
              "      <td>3</td>\n",
              "      <td>1</td>\n",
              "      <td>1</td>\n",
              "      <td>0</td>\n",
              "      <td>1</td>\n",
              "      <td>0</td>\n",
              "      <td>0</td>\n",
              "      <td>0</td>\n",
              "      <td>0</td>\n",
              "      <td>0</td>\n",
              "      <td>0</td>\n",
              "    </tr>\n",
              "    <tr>\n",
              "      <th>2</th>\n",
              "      <td>12</td>\n",
              "      <td>3</td>\n",
              "      <td>3</td>\n",
              "      <td>0</td>\n",
              "      <td>0</td>\n",
              "      <td>3</td>\n",
              "      <td>0</td>\n",
              "      <td>3</td>\n",
              "      <td>0</td>\n",
              "      <td>3</td>\n",
              "      <td>2</td>\n",
              "      <td>1</td>\n",
              "      <td>0</td>\n",
              "      <td>2</td>\n",
              "      <td>0</td>\n",
              "      <td>2</td>\n",
              "      <td>4</td>\n",
              "      <td>3</td>\n",
              "      <td>0</td>\n",
              "      <td>2</td>\n",
              "      <td>1</td>\n",
              "      <td>1</td>\n",
              "      <td>4</td>\n",
              "      <td>0</td>\n",
              "      <td>0</td>\n",
              "      <td>3</td>\n",
              "      <td>4</td>\n",
              "      <td>3</td>\n",
              "      <td>0</td>\n",
              "      <td>0</td>\n",
              "      <td>0</td>\n",
              "      <td>0</td>\n",
              "      <td>12</td>\n",
              "      <td>1</td>\n",
              "      <td>1</td>\n",
              "      <td>2</td>\n",
              "      <td>3</td>\n",
              "      <td>2</td>\n",
              "      <td>3</td>\n",
              "      <td>2</td>\n",
              "      <td>1</td>\n",
              "      <td>2</td>\n",
              "      <td>0</td>\n",
              "      <td>0</td>\n",
              "      <td>2</td>\n",
              "      <td>0</td>\n",
              "      <td>0</td>\n",
              "      <td>0</td>\n",
              "      <td>0</td>\n",
              "      <td>1</td>\n",
              "      <td>6</td>\n",
              "      <td>2</td>\n",
              "      <td>4</td>\n",
              "      <td>1</td>\n",
              "      <td>1</td>\n",
              "      <td>4</td>\n",
              "      <td>2</td>\n",
              "      <td>0</td>\n",
              "      <td>0</td>\n",
              "      <td>0</td>\n",
              "      <td>0</td>\n",
              "      <td>0</td>\n",
              "      <td>0</td>\n",
              "      <td>0</td>\n",
              "      <td>0</td>\n",
              "    </tr>\n",
              "    <tr>\n",
              "      <th>3</th>\n",
              "      <td>2</td>\n",
              "      <td>0</td>\n",
              "      <td>0</td>\n",
              "      <td>0</td>\n",
              "      <td>0</td>\n",
              "      <td>0</td>\n",
              "      <td>0</td>\n",
              "      <td>0</td>\n",
              "      <td>0</td>\n",
              "      <td>0</td>\n",
              "      <td>1</td>\n",
              "      <td>0</td>\n",
              "      <td>1</td>\n",
              "      <td>0</td>\n",
              "      <td>0</td>\n",
              "      <td>0</td>\n",
              "      <td>2</td>\n",
              "      <td>0</td>\n",
              "      <td>0</td>\n",
              "      <td>0</td>\n",
              "      <td>0</td>\n",
              "      <td>0</td>\n",
              "      <td>0</td>\n",
              "      <td>0</td>\n",
              "      <td>0</td>\n",
              "      <td>1</td>\n",
              "      <td>1</td>\n",
              "      <td>1</td>\n",
              "      <td>0</td>\n",
              "      <td>0</td>\n",
              "      <td>0</td>\n",
              "      <td>0</td>\n",
              "      <td>2</td>\n",
              "      <td>0</td>\n",
              "      <td>0</td>\n",
              "      <td>0</td>\n",
              "      <td>0</td>\n",
              "      <td>0</td>\n",
              "      <td>1</td>\n",
              "      <td>1</td>\n",
              "      <td>0</td>\n",
              "      <td>0</td>\n",
              "      <td>1</td>\n",
              "      <td>0</td>\n",
              "      <td>0</td>\n",
              "      <td>0</td>\n",
              "      <td>0</td>\n",
              "      <td>1</td>\n",
              "      <td>0</td>\n",
              "      <td>0</td>\n",
              "      <td>0</td>\n",
              "      <td>1</td>\n",
              "      <td>1</td>\n",
              "      <td>1</td>\n",
              "      <td>0</td>\n",
              "      <td>0</td>\n",
              "      <td>0</td>\n",
              "      <td>0</td>\n",
              "      <td>0</td>\n",
              "      <td>0</td>\n",
              "      <td>0</td>\n",
              "      <td>0</td>\n",
              "      <td>0</td>\n",
              "      <td>0</td>\n",
              "      <td>0</td>\n",
              "    </tr>\n",
              "    <tr>\n",
              "      <th>4</th>\n",
              "      <td>9</td>\n",
              "      <td>4</td>\n",
              "      <td>4</td>\n",
              "      <td>0</td>\n",
              "      <td>0</td>\n",
              "      <td>4</td>\n",
              "      <td>2</td>\n",
              "      <td>2</td>\n",
              "      <td>2</td>\n",
              "      <td>5</td>\n",
              "      <td>4</td>\n",
              "      <td>1</td>\n",
              "      <td>0</td>\n",
              "      <td>4</td>\n",
              "      <td>0</td>\n",
              "      <td>0</td>\n",
              "      <td>3</td>\n",
              "      <td>0</td>\n",
              "      <td>0</td>\n",
              "      <td>1</td>\n",
              "      <td>0</td>\n",
              "      <td>3</td>\n",
              "      <td>6</td>\n",
              "      <td>0</td>\n",
              "      <td>0</td>\n",
              "      <td>1</td>\n",
              "      <td>3</td>\n",
              "      <td>3</td>\n",
              "      <td>0</td>\n",
              "      <td>0</td>\n",
              "      <td>0</td>\n",
              "      <td>0</td>\n",
              "      <td>9</td>\n",
              "      <td>3</td>\n",
              "      <td>1</td>\n",
              "      <td>1</td>\n",
              "      <td>1</td>\n",
              "      <td>1</td>\n",
              "      <td>3</td>\n",
              "      <td>1</td>\n",
              "      <td>0</td>\n",
              "      <td>4</td>\n",
              "      <td>2</td>\n",
              "      <td>1</td>\n",
              "      <td>1</td>\n",
              "      <td>2</td>\n",
              "      <td>0</td>\n",
              "      <td>1</td>\n",
              "      <td>1</td>\n",
              "      <td>3</td>\n",
              "      <td>6</td>\n",
              "      <td>3</td>\n",
              "      <td>2</td>\n",
              "      <td>1</td>\n",
              "      <td>2</td>\n",
              "      <td>2</td>\n",
              "      <td>0</td>\n",
              "      <td>0</td>\n",
              "      <td>1</td>\n",
              "      <td>0</td>\n",
              "      <td>0</td>\n",
              "      <td>2</td>\n",
              "      <td>0</td>\n",
              "      <td>0</td>\n",
              "      <td>1</td>\n",
              "    </tr>\n",
              "  </tbody>\n",
              "</table>\n",
              "</div>"
            ],
            "text/plain": [
              "   liwc.funct  liwc.pronoun  liwc.ppron  ...  liwc.nonfl  liwc.filler  classe\n",
              "0          10             3           1  ...           0            0       0\n",
              "1           8             2           2  ...           0            0       0\n",
              "2          12             3           3  ...           0            0       0\n",
              "3           2             0           0  ...           0            0       0\n",
              "4           9             4           4  ...           0            0       1\n",
              "\n",
              "[5 rows x 65 columns]"
            ]
          },
          "metadata": {},
          "execution_count": 16
        }
      ]
    },
    {
      "cell_type": "code",
      "metadata": {
        "id": "00dh0bpoDF58"
      },
      "source": [
        "datasetCurrent = datasetLi"
      ],
      "execution_count": 17,
      "outputs": []
    },
    {
      "cell_type": "code",
      "metadata": {
        "colab": {
          "base_uri": "https://localhost:8080/"
        },
        "id": "wykXraT8cl5d",
        "outputId": "5fa5a40c-feeb-41b4-dbb1-3f6024ae233b"
      },
      "source": [
        "datasetCurrent.info()"
      ],
      "execution_count": 18,
      "outputs": [
        {
          "output_type": "stream",
          "name": "stdout",
          "text": [
            "<class 'pandas.core.frame.DataFrame'>\n",
            "RangeIndex: 1000 entries, 0 to 999\n",
            "Data columns (total 65 columns):\n",
            " #   Column        Non-Null Count  Dtype\n",
            "---  ------        --------------  -----\n",
            " 0   liwc.funct    1000 non-null   int64\n",
            " 1   liwc.pronoun  1000 non-null   int64\n",
            " 2   liwc.ppron    1000 non-null   int64\n",
            " 3   liwc.i        1000 non-null   int64\n",
            " 4   liwc.we       1000 non-null   int64\n",
            " 5   liwc.you      1000 non-null   int64\n",
            " 6   liwc.shehe    1000 non-null   int64\n",
            " 7   liwc.they     1000 non-null   int64\n",
            " 8   liwc.ipron    1000 non-null   int64\n",
            " 9   liwc.article  1000 non-null   int64\n",
            " 10  liwc.verb     1000 non-null   int64\n",
            " 11  liwc.auxverb  1000 non-null   int64\n",
            " 12  liwc.past     1000 non-null   int64\n",
            " 13  liwc.present  1000 non-null   int64\n",
            " 14  liwc.future   1000 non-null   int64\n",
            " 15  liwc.adverb   1000 non-null   int64\n",
            " 16  liwc.preps    1000 non-null   int64\n",
            " 17  liwc.conj     1000 non-null   int64\n",
            " 18  liwc.negate   1000 non-null   int64\n",
            " 19  liwc.quant    1000 non-null   int64\n",
            " 20  liwc.number   1000 non-null   int64\n",
            " 21  liwc.swear    1000 non-null   int64\n",
            " 22  liwc.social   1000 non-null   int64\n",
            " 23  liwc.family   1000 non-null   int64\n",
            " 24  liwc.friend   1000 non-null   int64\n",
            " 25  liwc.humans   1000 non-null   int64\n",
            " 26  liwc.affect   1000 non-null   int64\n",
            " 27  liwc.posemo   1000 non-null   int64\n",
            " 28  liwc.negemo   1000 non-null   int64\n",
            " 29  liwc.anx      1000 non-null   int64\n",
            " 30  liwc.anger    1000 non-null   int64\n",
            " 31  liwc.sad      1000 non-null   int64\n",
            " 32  liwc.cogmech  1000 non-null   int64\n",
            " 33  liwc.insight  1000 non-null   int64\n",
            " 34  liwc.cause    1000 non-null   int64\n",
            " 35  liwc.discrep  1000 non-null   int64\n",
            " 36  liwc.tentat   1000 non-null   int64\n",
            " 37  liwc.certain  1000 non-null   int64\n",
            " 38  liwc.inhib    1000 non-null   int64\n",
            " 39  liwc.incl     1000 non-null   int64\n",
            " 40  liwc.excl     1000 non-null   int64\n",
            " 41  liwc.percept  1000 non-null   int64\n",
            " 42  liwc.see      1000 non-null   int64\n",
            " 43  liwc.hear     1000 non-null   int64\n",
            " 44  liwc.feel     1000 non-null   int64\n",
            " 45  liwc.bio      1000 non-null   int64\n",
            " 46  liwc.body     1000 non-null   int64\n",
            " 47  liwc.health   1000 non-null   int64\n",
            " 48  liwc.sexual   1000 non-null   int64\n",
            " 49  liwc.ingest   1000 non-null   int64\n",
            " 50  liwc.relativ  1000 non-null   int64\n",
            " 51  liwc.motion   1000 non-null   int64\n",
            " 52  liwc.space    1000 non-null   int64\n",
            " 53  liwc.time     1000 non-null   int64\n",
            " 54  liwc.work     1000 non-null   int64\n",
            " 55  liwc.achieve  1000 non-null   int64\n",
            " 56  liwc.leisure  1000 non-null   int64\n",
            " 57  liwc.home     1000 non-null   int64\n",
            " 58  liwc.money    1000 non-null   int64\n",
            " 59  liwc.relig    1000 non-null   int64\n",
            " 60  liwc.death    1000 non-null   int64\n",
            " 61  liwc.assent   1000 non-null   int64\n",
            " 62  liwc.nonfl    1000 non-null   int64\n",
            " 63  liwc.filler   1000 non-null   int64\n",
            " 64  classe        1000 non-null   int64\n",
            "dtypes: int64(65)\n",
            "memory usage: 507.9 KB\n"
          ]
        }
      ]
    },
    {
      "cell_type": "code",
      "metadata": {
        "id": "Rk9dcAfJOJcY"
      },
      "source": [
        "pd.options.display.max_columns = None"
      ],
      "execution_count": 19,
      "outputs": []
    },
    {
      "cell_type": "code",
      "metadata": {
        "colab": {
          "base_uri": "https://localhost:8080/"
        },
        "id": "elrOlNb-O35T",
        "outputId": "5c43c1c9-a5e6-4218-e464-f944b53cb251"
      },
      "source": [
        "datasetCurrent.isna().sum(axis=0)"
      ],
      "execution_count": 20,
      "outputs": [
        {
          "output_type": "execute_result",
          "data": {
            "text/plain": [
              "liwc.funct      0\n",
              "liwc.pronoun    0\n",
              "liwc.ppron      0\n",
              "liwc.i          0\n",
              "liwc.we         0\n",
              "               ..\n",
              "liwc.death      0\n",
              "liwc.assent     0\n",
              "liwc.nonfl      0\n",
              "liwc.filler     0\n",
              "classe          0\n",
              "Length: 65, dtype: int64"
            ]
          },
          "metadata": {},
          "execution_count": 20
        }
      ]
    },
    {
      "cell_type": "code",
      "metadata": {
        "colab": {
          "base_uri": "https://localhost:8080/"
        },
        "id": "sfN3YisAPglV",
        "outputId": "e724b1c3-8684-4880-a489-f1c41b692a37"
      },
      "source": [
        "datasetCurrent.isnull().sum(axis = 1)"
      ],
      "execution_count": 21,
      "outputs": [
        {
          "output_type": "execute_result",
          "data": {
            "text/plain": [
              "0      0\n",
              "1      0\n",
              "2      0\n",
              "3      0\n",
              "4      0\n",
              "      ..\n",
              "995    0\n",
              "996    0\n",
              "997    0\n",
              "998    0\n",
              "999    0\n",
              "Length: 1000, dtype: int64"
            ]
          },
          "metadata": {},
          "execution_count": 21
        }
      ]
    },
    {
      "cell_type": "code",
      "metadata": {
        "colab": {
          "base_uri": "https://localhost:8080/"
        },
        "id": "eTco4w5KN9l8",
        "outputId": "74c4ee2f-9362-4863-b762-d60892de50f5"
      },
      "source": [
        "datasetCurrent.isnull().sum().sort_values(ascending = False)"
      ],
      "execution_count": 22,
      "outputs": [
        {
          "output_type": "execute_result",
          "data": {
            "text/plain": [
              "classe          0\n",
              "liwc.sad        0\n",
              "liwc.anx        0\n",
              "liwc.negemo     0\n",
              "liwc.posemo     0\n",
              "               ..\n",
              "liwc.certain    0\n",
              "liwc.tentat     0\n",
              "liwc.discrep    0\n",
              "liwc.cause      0\n",
              "liwc.funct      0\n",
              "Length: 65, dtype: int64"
            ]
          },
          "metadata": {},
          "execution_count": 22
        }
      ]
    },
    {
      "cell_type": "code",
      "metadata": {
        "colab": {
          "base_uri": "https://localhost:8080/"
        },
        "id": "EbzCuDdKc61T",
        "outputId": "08fa0efc-08f4-4bfe-9361-4786480a30ee"
      },
      "source": [
        "datasetCurrent['classe'].value_counts()"
      ],
      "execution_count": 23,
      "outputs": [
        {
          "output_type": "execute_result",
          "data": {
            "text/plain": [
              "1    890\n",
              "0    110\n",
              "Name: classe, dtype: int64"
            ]
          },
          "metadata": {},
          "execution_count": 23
        }
      ]
    },
    {
      "cell_type": "code",
      "metadata": {
        "colab": {
          "base_uri": "https://localhost:8080/"
        },
        "id": "yJggrmyrdGtq",
        "outputId": "8350a2fb-a23a-4e07-f412-f3b4303c090a"
      },
      "source": [
        "datasetCurrent.columns.values"
      ],
      "execution_count": 24,
      "outputs": [
        {
          "output_type": "execute_result",
          "data": {
            "text/plain": [
              "array(['liwc.funct', 'liwc.pronoun', 'liwc.ppron', 'liwc.i', 'liwc.we',\n",
              "       'liwc.you', 'liwc.shehe', 'liwc.they', 'liwc.ipron',\n",
              "       'liwc.article', 'liwc.verb', 'liwc.auxverb', 'liwc.past',\n",
              "       'liwc.present', 'liwc.future', 'liwc.adverb', 'liwc.preps',\n",
              "       'liwc.conj', 'liwc.negate', 'liwc.quant', 'liwc.number',\n",
              "       'liwc.swear', 'liwc.social', 'liwc.family', 'liwc.friend',\n",
              "       'liwc.humans', 'liwc.affect', 'liwc.posemo', 'liwc.negemo',\n",
              "       'liwc.anx', 'liwc.anger', 'liwc.sad', 'liwc.cogmech',\n",
              "       'liwc.insight', 'liwc.cause', 'liwc.discrep', 'liwc.tentat',\n",
              "       'liwc.certain', 'liwc.inhib', 'liwc.incl', 'liwc.excl',\n",
              "       'liwc.percept', 'liwc.see', 'liwc.hear', 'liwc.feel', 'liwc.bio',\n",
              "       'liwc.body', 'liwc.health', 'liwc.sexual', 'liwc.ingest',\n",
              "       'liwc.relativ', 'liwc.motion', 'liwc.space', 'liwc.time',\n",
              "       'liwc.work', 'liwc.achieve', 'liwc.leisure', 'liwc.home',\n",
              "       'liwc.money', 'liwc.relig', 'liwc.death', 'liwc.assent',\n",
              "       'liwc.nonfl', 'liwc.filler', 'classe'], dtype=object)"
            ]
          },
          "metadata": {},
          "execution_count": 24
        }
      ]
    },
    {
      "cell_type": "markdown",
      "metadata": {
        "id": "_RJf9sM0e7yT"
      },
      "source": [
        "# Machine Learning Models - Training"
      ]
    },
    {
      "cell_type": "code",
      "metadata": {
        "id": "sF29ggr57zKe"
      },
      "source": [
        "def cross_validation_result(model,X_train,y_train, X_test, y_test,cv_split=10):\n",
        "    \n",
        "    tscv = TimeSeriesSplit(cv_split)\n",
        "    training_score = cross_val_score(model,X_train,y_train,cv=tscv.n_splits) \n",
        "    testing_score = cross_val_score(model,X_test,y_test,cv=tscv.n_splits)\n",
        "    print(\"Cross-val Training score:\", training_score.mean())\n",
        "    print(\"Cross-val Testing score:\", testing_score.mean())\n",
        "    training_predictions = cross_val_predict(model,X_train,y_train,cv=tscv.n_splits)\n",
        "    testing_predictions = cross_val_predict(model,X_test,y_test,cv=tscv.n_splits)\n",
        "    \n",
        "    training_accuracy = r2_score(y_train,training_predictions) \n",
        "    test_accuracy = r2_score(y_test,testing_predictions)\n",
        "    \n",
        "    print (\"Training-predictions accuracy:\",training_accuracy)  \n",
        "    print (\"Test-predictions accuracy:\",test_accuracy)\n",
        "\n",
        "    f1_score_model = f1_score(y_test, testing_predictions, average=\"macro\")\n",
        "    print(\"F1 score\",f1_score_model)\n",
        "    precision_score_model = precision_score(y_test, testing_predictions, average=\"macro\")\n",
        "    print(\"Precision score\",precision_score_model)\n",
        "    recall_score_model = recall_score(y_test, testing_predictions, average=\"macro\")\n",
        "    print(\"Recall score\",recall_score_model)\n",
        "    return training_accuracy,test_accuracy,f1_score_model,precision_score_model,recall_score_model\n"
      ],
      "execution_count": 25,
      "outputs": []
    },
    {
      "cell_type": "code",
      "metadata": {
        "id": "xQq0LQmNgGvT"
      },
      "source": [
        "scaler = MinMaxScaler()\n",
        "sdss = scaler.fit_transform(datasetCurrent.drop('classe', axis=1))"
      ],
      "execution_count": 26,
      "outputs": []
    },
    {
      "cell_type": "code",
      "metadata": {
        "id": "xpqWlmu0e1Lf"
      },
      "source": [
        "X_train, X_test, y_train, y_test = train_test_split(sdss, datasetCurrent['classe'], test_size=0.33)"
      ],
      "execution_count": 27,
      "outputs": []
    },
    {
      "cell_type": "code",
      "metadata": {
        "id": "cyqXEYmnW0zU",
        "colab": {
          "base_uri": "https://localhost:8080/"
        },
        "outputId": "b0cab025-9d97-4a0f-9180-6d18abd7b958"
      },
      "source": [
        "counter = Counter(y_train)\n",
        "print(counter)"
      ],
      "execution_count": 28,
      "outputs": [
        {
          "output_type": "stream",
          "name": "stdout",
          "text": [
            "Counter({1: 592, 0: 78})\n"
          ]
        }
      ]
    },
    {
      "cell_type": "code",
      "metadata": {
        "id": "nqDabixmXr2_",
        "colab": {
          "base_uri": "https://localhost:8080/"
        },
        "outputId": "b0b18924-bd36-4d25-ffae-9d3e00686b14"
      },
      "source": [
        "counter = Counter(y_test)\n",
        "print(counter)"
      ],
      "execution_count": 29,
      "outputs": [
        {
          "output_type": "stream",
          "name": "stdout",
          "text": [
            "Counter({1: 298, 0: 32})\n"
          ]
        }
      ]
    },
    {
      "cell_type": "code",
      "metadata": {
        "id": "6l_mtpu8W_G-",
        "colab": {
          "base_uri": "https://localhost:8080/"
        },
        "outputId": "17cd32da-4033-4f94-edac-433f2b38f2ab"
      },
      "source": [
        "oversample = ADASYN()\n",
        "X_train, y_train = oversample.fit_resample(X_train, y_train)\n",
        "X_test, y_test = oversample.fit_resample(X_test, y_test)"
      ],
      "execution_count": 30,
      "outputs": [
        {
          "output_type": "stream",
          "name": "stderr",
          "text": [
            "Function safe_indexing is deprecated; safe_indexing is deprecated in version 0.22 and will be removed in version 0.24.\n",
            "Function safe_indexing is deprecated; safe_indexing is deprecated in version 0.22 and will be removed in version 0.24.\n"
          ]
        }
      ]
    },
    {
      "cell_type": "code",
      "metadata": {
        "id": "R4wmje3lXXEW",
        "colab": {
          "base_uri": "https://localhost:8080/"
        },
        "outputId": "74d263a6-58cf-4241-f870-ca427499bc4e"
      },
      "source": [
        "counter = Counter(y_train)\n",
        "print(counter)"
      ],
      "execution_count": 31,
      "outputs": [
        {
          "output_type": "stream",
          "name": "stdout",
          "text": [
            "Counter({1: 592, 0: 588})\n"
          ]
        }
      ]
    },
    {
      "cell_type": "code",
      "metadata": {
        "id": "FlwDaQxMXoQ5",
        "colab": {
          "base_uri": "https://localhost:8080/"
        },
        "outputId": "c75c4bec-206d-4553-c10d-af5923054d33"
      },
      "source": [
        "counter = Counter(y_test)\n",
        "print(counter)"
      ],
      "execution_count": 32,
      "outputs": [
        {
          "output_type": "stream",
          "name": "stdout",
          "text": [
            "Counter({0: 299, 1: 298})\n"
          ]
        }
      ]
    },
    {
      "cell_type": "markdown",
      "metadata": {
        "id": "KYCScHrGfTM2"
      },
      "source": [
        "*K Nearest Neighbors¶*"
      ]
    },
    {
      "cell_type": "code",
      "metadata": {
        "colab": {
          "base_uri": "https://localhost:8080/"
        },
        "id": "1XHdTuArfHBh",
        "outputId": "9bd83a38-6313-4edd-b71a-1027eb855aa0"
      },
      "source": [
        "knn = KNeighborsClassifier()\n",
        "training_start = time.perf_counter()\n",
        "knn.fit(X_train, y_train)\n",
        "training_end = time.perf_counter()\n",
        "prediction_start = time.perf_counter()\n",
        "preds = knn.predict(X_test)\n",
        "prediction_end = time.perf_counter()\n",
        "acc_knn = (preds == y_test).sum().astype(float) / len(preds)*100\n",
        "kappa_knn = cohen_kappa_score(preds,y_test,weights='quadratic')\n",
        "training_acc_knn, testing_acc_knn,f1_score_knn,precision_score_knn,recall_score_knn= cross_validation_result(knn,X_train,y_train,X_test,y_test)\n",
        "knn_train_time = training_end-training_start\n",
        "knn_prediction_time = prediction_end-prediction_start\n",
        "print(\"Scikit-Learn's K Nearest Neighbors Classifier's prediction accuracy is: %3.2f\" % (acc_knn))\n",
        "print(\"kappa_knn\", kappa_knn)  \n",
        "print(\"Time consumed for training: %4.3f seconds\" % (knn_train_time))\n",
        "print(\"Time consumed for prediction: %6.5f seconds\" % (knn_prediction_time))"
      ],
      "execution_count": 33,
      "outputs": [
        {
          "output_type": "stream",
          "name": "stdout",
          "text": [
            "Cross-val Training score: 0.8847457627118643\n",
            "Cross-val Testing score: 0.8323728813559322\n",
            "Training-predictions accuracy: 0.5389777532634676\n",
            "Test-predictions accuracy: 0.32998136966622515\n",
            "F1 score 0.8303591725392134\n",
            "Precision score 0.8496634388285309\n",
            "Recall score 0.8323101613880721\n",
            "Scikit-Learn's K Nearest Neighbors Classifier's prediction accuracy is: 81.41\n",
            "kappa_knn 0.628083310416047\n",
            "Time consumed for training: 0.008 seconds\n",
            "Time consumed for prediction: 0.10025 seconds\n"
          ]
        }
      ]
    },
    {
      "cell_type": "markdown",
      "metadata": {
        "id": "DszxmvusfjfN"
      },
      "source": [
        "*Naive Bayes*"
      ]
    },
    {
      "cell_type": "code",
      "metadata": {
        "colab": {
          "base_uri": "https://localhost:8080/"
        },
        "id": "YT_4xHQHftt7",
        "outputId": "70781bb8-aaf4-47bf-dfee-3c3eed365f0c"
      },
      "source": [
        "#from sklearn.preprocessing import MaxAbsScaler\n",
        "#scaler_gnb = MaxAbsScaler()\n",
        "#sdss = scaler_gnb.fit_transform(datasetCurrent.drop('classe', axis=1))\n",
        "#X_train_gnb, X_test_gnb, y_train_gnb, y_test_gnb = train_test_split(sdss, datasetCurrent['classe'], test_size=0.33)\n",
        "\n",
        "gnb = GaussianNB()\n",
        "training_start = time.perf_counter()\n",
        "gnb.fit(X_train, y_train)\n",
        "training_end = time.perf_counter()\n",
        "prediction_start = time.perf_counter()\n",
        "preds = gnb.predict(X_test)\n",
        "prediction_end = time.perf_counter()\n",
        "acc_gnb = (preds == y_test).sum().astype(float) / len(preds)*100\n",
        "kappa_gnb = cohen_kappa_score(preds,y_test,weights='quadratic')\n",
        "training_acc_gnb, testing_acc_gnb,f1_score_gnb,precision_score_gnb,recall_score_gnb = cross_validation_result(gnb,X_train,y_train,X_test,y_test)\n",
        "gnb_train_time = training_end-training_start\n",
        "gnb_prediction_time = prediction_end-prediction_start\n",
        "print(\"Scikit-Learn's Gaussian Naive Bayes Classifier's prediction accuracy is: %3.2f\" % (acc_gnb))\n",
        "print(\"kappa_gnb\", kappa_gnb)\n",
        "print(\"Time consumed for training: %4.3f seconds\" % (gnb_train_time))\n",
        "print(\"Time consumed for prediction: %6.5f seconds\" % (gnb_prediction_time))"
      ],
      "execution_count": 34,
      "outputs": [
        {
          "output_type": "stream",
          "name": "stdout",
          "text": [
            "Cross-val Training score: 0.7915254237288135\n",
            "Cross-val Testing score: 0.8205367231638417\n",
            "Training-predictions accuracy: 0.166092112520684\n",
            "Test-predictions accuracy: 0.2830800655428609\n",
            "F1 score 0.8149362783299968\n",
            "Precision score 0.8662212076129893\n",
            "Recall score 0.8204754102040358\n",
            "Scikit-Learn's Gaussian Naive Bayes Classifier's prediction accuracy is: 81.24\n",
            "kappa_gnb 0.6245536015093323\n",
            "Time consumed for training: 0.004 seconds\n",
            "Time consumed for prediction: 0.00648 seconds\n"
          ]
        }
      ]
    },
    {
      "cell_type": "markdown",
      "metadata": {
        "id": "s0LhGprXgbbX"
      },
      "source": [
        "*XGBoost*"
      ]
    },
    {
      "cell_type": "code",
      "metadata": {
        "colab": {
          "base_uri": "https://localhost:8080/"
        },
        "id": "H6vikHCsgmo-",
        "outputId": "125a586b-5d1b-4fe0-8af0-b09322db78c7"
      },
      "source": [
        "xgb = XGBClassifier(n_estimators=100)\n",
        "training_start = time.perf_counter()\n",
        "xgb.fit(X_train, y_train)\n",
        "training_end = time.perf_counter()\n",
        "prediction_start = time.perf_counter()\n",
        "preds = xgb.predict(X_test)\n",
        "prediction_end = time.perf_counter()\n",
        "acc_xgb = (preds == y_test).sum().astype(float) / len(preds)*100\n",
        "kappa_xgb = cohen_kappa_score(preds,y_test,weights='quadratic')\n",
        "training_acc_xgb, testing_acc_xgb,f1_score_xgb,precision_score_xgb,recall_score_xgb = cross_validation_result(xgb,X_train,y_train,X_test,y_test)\n",
        "xgb_train_time = training_end-training_start\n",
        "xgb_prediction_time = prediction_end-prediction_start\n",
        "print(\"XGBoost's prediction accuracy is: %3.2f\" % (acc_xgb))\n",
        "print(\"kappa_xgb\", kappa_xgb)\n",
        "print(\"Time consumed for training: %4.3f\" % (xgb_train_time))\n",
        "print(\"Time consumed for prediction: %6.5f seconds\" % (xgb_prediction_time))"
      ],
      "execution_count": 35,
      "outputs": [
        {
          "output_type": "stream",
          "name": "stdout",
          "text": [
            "Cross-val Training score: 0.9584745762711865\n",
            "Cross-val Testing score: 0.9564689265536723\n",
            "Training-predictions accuracy: 0.8338963963963963\n",
            "Test-predictions accuracy: 0.8257951561132185\n",
            "F1 score 0.9564478114478114\n",
            "Precision score 0.9564739157762414\n",
            "Recall score 0.9564431774819869\n",
            "XGBoost's prediction accuracy is: 91.46\n",
            "kappa_xgb 0.8291653808388273\n",
            "Time consumed for training: 0.410\n",
            "Time consumed for prediction: 0.00287 seconds\n"
          ]
        }
      ]
    },
    {
      "cell_type": "markdown",
      "metadata": {
        "id": "OjzIIAC9kwnU"
      },
      "source": [
        "*Scitkit-Learn's Random Forest Classifier*"
      ]
    },
    {
      "cell_type": "code",
      "metadata": {
        "colab": {
          "base_uri": "https://localhost:8080/"
        },
        "id": "pfU9dlzQkpb1",
        "outputId": "135a7db5-5d2d-438a-8df7-55d3257d1dca"
      },
      "source": [
        "rfc = RandomForestClassifier(n_estimators=10)\n",
        "training_start = time.perf_counter()\n",
        "rfc.fit(X_train, y_train)\n",
        "training_end = time.perf_counter()\n",
        "prediction_start = time.perf_counter()\n",
        "preds = rfc.predict(X_test)\n",
        "prediction_end = time.perf_counter()\n",
        "acc_rfc = (preds == y_test).sum().astype(float) / len(preds)*100\n",
        "kappa_rfc = cohen_kappa_score(preds,y_test,weights='quadratic')\n",
        "training_acc_rfc, testing_acc_rfc,f1_score_rfc,precision_score_rfc,recall_score_rfc  = cross_validation_result(rfc,X_train,y_train,X_test,y_test)\n",
        "rfc_train_time = training_end-training_start\n",
        "rfc_prediction_time = prediction_end-prediction_start\n",
        "print(\"Scikit-Learn's Random Forest Classifier's prediction accuracy is: %3.2f\" % (acc_rfc))\n",
        "print(\"kappa_rfc\", kappa_rfc)\n",
        "print(\"Time consumed for training: %4.3f seconds\" % (rfc_train_time))\n",
        "print(\"Time consumed for prediction: %6.5f seconds\" % (rfc_prediction_time))"
      ],
      "execution_count": 36,
      "outputs": [
        {
          "output_type": "stream",
          "name": "stdout",
          "text": [
            "Cross-val Training score: 0.9516949152542373\n",
            "Cross-val Testing score: 0.9311016949152542\n",
            "Training-predictions accuracy: 0.8067774407060122\n",
            "Test-predictions accuracy: 0.7252923615631524\n",
            "F1 score 0.9313201998916926\n",
            "Precision score 0.9313727691098889\n",
            "Recall score 0.9313146730713115\n",
            "Scikit-Learn's Random Forest Classifier's prediction accuracy is: 85.76\n",
            "kappa_rfc 0.7153299412652376\n",
            "Time consumed for training: 0.035 seconds\n",
            "Time consumed for prediction: 0.00229 seconds\n"
          ]
        }
      ]
    },
    {
      "cell_type": "markdown",
      "metadata": {
        "id": "-SVAX55sk75A"
      },
      "source": [
        "Support Vector Machine Classifier"
      ]
    },
    {
      "cell_type": "code",
      "metadata": {
        "colab": {
          "base_uri": "https://localhost:8080/"
        },
        "id": "gG_FR8Bhk-fZ",
        "outputId": "f6138d2c-a199-4cfa-f537-3988ae54efee"
      },
      "source": [
        "svc = SVC()\n",
        "training_start = time.perf_counter()\n",
        "svc.fit(X_train, y_train)\n",
        "training_end = time.perf_counter()\n",
        "prediction_start = time.perf_counter()\n",
        "preds = svc.predict(X_test)\n",
        "prediction_end = time.perf_counter()\n",
        "acc_svc = (preds == y_test).sum().astype(float) / len(preds)*100\n",
        "kappa_svc = cohen_kappa_score(preds,y_test,weights='quadratic')\n",
        "training_acc_svc, testing_acc_svc, f1_score_svc,precision_score_svc,recall_score_svc  = cross_validation_result(svc,X_train,y_train,X_test,y_test)\n",
        "svc_train_time = training_end-training_start\n",
        "svc_prediction_time = prediction_end-prediction_start\n",
        "print(\"Scikit-Learn's Support Vector Machine Classifier's prediction accuracy is: %3.2f\" % (acc_svc))\n",
        "print(\"kappa_svc\", kappa_svc)\n",
        "print(\"Time consumed for training: %4.3f seconds\" % (svc_train_time))\n",
        "print(\"Time consumed for prediction: %6.5f seconds\" % (svc_prediction_time))"
      ],
      "execution_count": 37,
      "outputs": [
        {
          "output_type": "stream",
          "name": "stdout",
          "text": [
            "Cross-val Training score: 0.9076271186440676\n",
            "Cross-val Testing score: 0.8977118644067797\n",
            "Training-predictions accuracy: 0.6305042287185144\n",
            "Test-predictions accuracy: 0.5912886354963973\n",
            "F1 score 0.8976570469855241\n",
            "Precision score 0.9002371541501977\n",
            "Recall score 0.8977576260914457\n",
            "Scikit-Learn's Support Vector Machine Classifier's prediction accuracy is: 84.25\n",
            "kappa_svc 0.6851159815506851\n",
            "Time consumed for training: 0.079 seconds\n",
            "Time consumed for prediction: 0.02810 seconds\n"
          ]
        }
      ]
    },
    {
      "cell_type": "code",
      "metadata": {
        "colab": {
          "base_uri": "https://localhost:8080/",
          "height": 235
        },
        "id": "-N4y3JddlKhk",
        "outputId": "bd147110-bc08-41c4-9349-b1aaa945558a"
      },
      "source": [
        "results = pd.DataFrame({\n",
        "    'Model': ['KNN', 'Naive Bayes', \n",
        "              'XGBoost', 'Random Forest', 'SVC'],\n",
        "    'Acurácia': [testing_acc_knn, testing_acc_gnb, testing_acc_xgb, testing_acc_rfc, testing_acc_svc],\n",
        "    'Kappa': [kappa_knn, kappa_gnb, kappa_xgb, kappa_rfc, kappa_svc],\n",
        "    'F1' : [f1_score_knn, f1_score_gnb, f1_score_xgb, f1_score_rfc, f1_score_svc],\n",
        "    'Precisão' : [precision_score_knn, precision_score_gnb, precision_score_xgb, precision_score_rfc, precision_score_svc],\n",
        "    'Revocação' : [recall_score_knn, recall_score_gnb, recall_score_xgb, recall_score_rfc, recall_score_svc]})\n",
        "result_df = results.sort_values(by='Acurácia', ascending=False)\n",
        "result_df = result_df.set_index('Model')\n",
        "result_df"
      ],
      "execution_count": 38,
      "outputs": [
        {
          "output_type": "execute_result",
          "data": {
            "text/html": [
              "<div>\n",
              "<style scoped>\n",
              "    .dataframe tbody tr th:only-of-type {\n",
              "        vertical-align: middle;\n",
              "    }\n",
              "\n",
              "    .dataframe tbody tr th {\n",
              "        vertical-align: top;\n",
              "    }\n",
              "\n",
              "    .dataframe thead th {\n",
              "        text-align: right;\n",
              "    }\n",
              "</style>\n",
              "<table border=\"1\" class=\"dataframe\">\n",
              "  <thead>\n",
              "    <tr style=\"text-align: right;\">\n",
              "      <th></th>\n",
              "      <th>Acurácia</th>\n",
              "      <th>Kappa</th>\n",
              "      <th>F1</th>\n",
              "      <th>Precisão</th>\n",
              "      <th>Revocação</th>\n",
              "    </tr>\n",
              "    <tr>\n",
              "      <th>Model</th>\n",
              "      <th></th>\n",
              "      <th></th>\n",
              "      <th></th>\n",
              "      <th></th>\n",
              "      <th></th>\n",
              "    </tr>\n",
              "  </thead>\n",
              "  <tbody>\n",
              "    <tr>\n",
              "      <th>XGBoost</th>\n",
              "      <td>0.825795</td>\n",
              "      <td>0.829165</td>\n",
              "      <td>0.956448</td>\n",
              "      <td>0.956474</td>\n",
              "      <td>0.956443</td>\n",
              "    </tr>\n",
              "    <tr>\n",
              "      <th>Random Forest</th>\n",
              "      <td>0.725292</td>\n",
              "      <td>0.715330</td>\n",
              "      <td>0.931320</td>\n",
              "      <td>0.931373</td>\n",
              "      <td>0.931315</td>\n",
              "    </tr>\n",
              "    <tr>\n",
              "      <th>SVC</th>\n",
              "      <td>0.591289</td>\n",
              "      <td>0.685116</td>\n",
              "      <td>0.897657</td>\n",
              "      <td>0.900237</td>\n",
              "      <td>0.897758</td>\n",
              "    </tr>\n",
              "    <tr>\n",
              "      <th>KNN</th>\n",
              "      <td>0.329981</td>\n",
              "      <td>0.628083</td>\n",
              "      <td>0.830359</td>\n",
              "      <td>0.849663</td>\n",
              "      <td>0.832310</td>\n",
              "    </tr>\n",
              "    <tr>\n",
              "      <th>Naive Bayes</th>\n",
              "      <td>0.283080</td>\n",
              "      <td>0.624554</td>\n",
              "      <td>0.814936</td>\n",
              "      <td>0.866221</td>\n",
              "      <td>0.820475</td>\n",
              "    </tr>\n",
              "  </tbody>\n",
              "</table>\n",
              "</div>"
            ],
            "text/plain": [
              "               Acurácia     Kappa        F1  Precisão  Revocação\n",
              "Model                                                           \n",
              "XGBoost        0.825795  0.829165  0.956448  0.956474   0.956443\n",
              "Random Forest  0.725292  0.715330  0.931320  0.931373   0.931315\n",
              "SVC            0.591289  0.685116  0.897657  0.900237   0.897758\n",
              "KNN            0.329981  0.628083  0.830359  0.849663   0.832310\n",
              "Naive Bayes    0.283080  0.624554  0.814936  0.866221   0.820475"
            ]
          },
          "metadata": {},
          "execution_count": 38
        }
      ]
    },
    {
      "cell_type": "code",
      "metadata": {
        "id": "DyegFRiBd2Xt",
        "colab": {
          "base_uri": "https://localhost:8080/"
        },
        "outputId": "ade850e1-aba3-4cd2-8d83-8fea8705f39a"
      },
      "source": [
        "explainer = shap.Explainer(xgb.predict, X_test)\n",
        "shap_values = explainer(X_train)"
      ],
      "execution_count": 39,
      "outputs": [
        {
          "output_type": "stream",
          "name": "stderr",
          "text": [
            "Permutation explainer: 1181it [07:01,  2.75it/s]\n"
          ]
        }
      ]
    },
    {
      "cell_type": "code",
      "metadata": {
        "colab": {
          "base_uri": "https://localhost:8080/",
          "height": 870
        },
        "id": "4cvfbLR50h7g",
        "outputId": "882e5e9b-01db-4163-aed0-2eb417bb2493"
      },
      "source": [
        "plt.figure(figsize = (15,8))\n",
        "ax = shap.summary_plot(shap_values, \n",
        "                       datasetCurrent.columns,\n",
        "                       plot_type='bar')\n",
        "plt.show()"
      ],
      "execution_count": 40,
      "outputs": [
        {
          "output_type": "display_data",
          "data": {
            "image/png": "[encoded data removed]",
            "text/plain": [
              "<Figure size 1200x1425 with 1 Axes>"
            ]
          },
          "metadata": {
            "needs_background": "light"
          }
        }
      ]
    },
    {
      "cell_type": "code",
      "metadata": {
        "colab": {
          "base_uri": "https://localhost:8080/"
        },
        "id": "4K-HU_VwxUhc",
        "outputId": "1b502759-8faf-45e8-a447-fc82c59f48e4"
      },
      "source": [
        "type(shap_values)"
      ],
      "execution_count": null,
      "outputs": [
        {
          "output_type": "execute_result",
          "data": {
            "text/plain": [
              "shap._explanation.Explanation"
            ]
          },
          "metadata": {},
          "execution_count": 46
        }
      ]
    },
    {
      "cell_type": "code",
      "metadata": {
        "id": "a7BvMjoby3Ws"
      },
      "source": [
        "clustering = shap.utils.hclust(X_train, y_train)"
      ],
      "execution_count": null,
      "outputs": []
    },
    {
      "cell_type": "code",
      "metadata": {
        "colab": {
          "base_uri": "https://localhost:8080/",
          "height": 523
        },
        "id": "u3H9l6B3zp4i",
        "outputId": "87c6ae6b-d148-416e-9606-8bd94641bff6"
      },
      "source": [
        "shap.plots.bar(shap_values, clustering=clustering)"
      ],
      "execution_count": null,
      "outputs": [
        {
          "output_type": "display_data",
          "data": {
            "image/png": "[encoded data removed]",
            "text/plain": [
              "<Figure size 1200x975 with 1 Axes>"
            ]
          },
          "metadata": {}
        }
      ]
    },
    {
      "cell_type": "code",
      "metadata": {
        "colab": {
          "base_uri": "https://localhost:8080/",
          "height": 876
        },
        "id": "6zMwf6v9wwML",
        "outputId": "f90d78d5-15cd-4a8c-b7bf-ec74941e03cb"
      },
      "source": [
        "shap.plots.bar(shap_values, max_display=10)"
      ],
      "execution_count": null,
      "outputs": [
        {
          "output_type": "display_data",
          "data": {
            "image/png": "[encoded data removed]",
            "text/plain": [
              "<Figure size 1200x975 with 1 Axes>"
            ]
          },
          "metadata": {}
        }
      ]
    },
    {
      "cell_type": "markdown",
      "metadata": {
        "id": "iYveVwTMlb6n"
      },
      "source": [
        "Cross Validation - Scikit-Learn's Random Forest Classifier"
      ]
    },
    {
      "cell_type": "code",
      "metadata": {
        "colab": {
          "base_uri": "https://localhost:8080/"
        },
        "id": "Rka_g4fKlh6t",
        "outputId": "991e8bfb-d95b-477d-96c2-148e8d04c67b"
      },
      "source": [
        "#from sklearn.model_selection import cross_val_score\n",
        "#rfc_cv = RandomForestClassifier(n_estimators=100)\n",
        "#scores = cross_val_score(rfc_cv, X_train, y_train, cv=10, scoring = \"accuracy\")\n",
        "#print(\"Scores:\", scores)\n",
        "#print(\"Mean:\", scores.mean())\n",
        "#print(\"Standard Deviation:\", scores.std())"
      ],
      "execution_count": null,
      "outputs": [
        {
          "output_type": "stream",
          "name": "stdout",
          "text": [
            "Scores: [0.96875    0.97916667 0.95833333 1.         0.98947368 0.98947368\n",
            " 0.98947368 1.         0.96842105 0.98947368]\n",
            "Mean: 0.9832565789473684\n",
            "Standard Deviation: 0.013355609745452359\n"
          ]
        }
      ]
    },
    {
      "cell_type": "markdown",
      "metadata": {
        "id": "DiPtt9KQlt1F"
      },
      "source": [
        "XGBoost"
      ]
    },
    {
      "cell_type": "code",
      "metadata": {
        "colab": {
          "base_uri": "https://localhost:8080/"
        },
        "id": "hgbcKMRaluns",
        "outputId": "6165f8df-52fa-42ef-fbba-454bd3b37761"
      },
      "source": [
        "#xgb_cv = XGBClassifier(n_estimators=100)\n",
        "#scores = cross_val_score(xgb_cv, X_train, y_train, cv=10, scoring = \"accuracy\")\n",
        "#print(\"Scores:\", scores)\n",
        "#print(\"Mean:\", scores.mean())\n",
        "#print(\"Standard Deviation:\", scores.std())"
      ],
      "execution_count": null,
      "outputs": [
        {
          "output_type": "stream",
          "text": [
            "Scores: [0.95348837 0.93023256 0.93023256 0.93023256 0.93023256 0.95348837\n",
            " 0.95348837 0.95238095 1.         0.97619048]\n",
            "Mean: 0.9509966777408637\n",
            "Standard Deviation: 0.02186593140604478\n"
          ],
          "name": "stdout"
        }
      ]
    },
    {
      "cell_type": "markdown",
      "metadata": {
        "id": "JfeDEwyFmTCc"
      },
      "source": [
        "The best parameters for prediction as found by the tuning tests are:\n",
        "\n",
        "max_depth = 5\n",
        "min_child_weight = 1\n",
        "gamma = 0\n",
        "subsample = 0.8\n",
        "colsample_bytree = 0.8\n",
        "reg_alpha = 0.005"
      ]
    },
    {
      "cell_type": "code",
      "metadata": {
        "id": "1BxrnzjPmVQT"
      },
      "source": [
        "X_train, X_test, y_train, y_test = train_test_split(datasetCurrent.drop('classe', axis=1), datasetCurrent['classe'],\n",
        "                                                   test_size=0.33)"
      ],
      "execution_count": null,
      "outputs": []
    },
    {
      "cell_type": "code",
      "metadata": {
        "colab": {
          "base_uri": "https://localhost:8080/"
        },
        "id": "0l8Zw8hZmkFd",
        "outputId": "423f1d19-2053-45a1-dfbc-6d54e9cf5a61"
      },
      "source": [
        "xgboost = XGBClassifier(max_depth=5, learning_rate=0.01, n_estimators=100, gamma=0, \n",
        "                        min_child_weight=1, subsample=0.8, colsample_bytree=0.8, reg_alpha=0.005)\n",
        "\n",
        "xgboost.fit(X_train, y_train)\n",
        "preds = xgboost.predict(X_test)\n",
        "\n",
        "accuracy = (preds == y_test).sum().astype(float) / len(preds)*100\n",
        "\n",
        "print(\"XGBoost's prediction accuracy WITH optimal hyperparameters is: %3.2f\" % (accuracy))"
      ],
      "execution_count": null,
      "outputs": [
        {
          "output_type": "stream",
          "text": [
            "XGBoost's prediction accuracy WITH optimal hyperparameters is: 97.63\n"
          ],
          "name": "stdout"
        }
      ]
    },
    {
      "cell_type": "code",
      "metadata": {
        "colab": {
          "base_uri": "https://localhost:8080/"
        },
        "id": "WSIbCjCamvba",
        "outputId": "399be4ba-f3b3-4a7b-86cf-3f7094782e31"
      },
      "source": [
        "xgb_cv = XGBClassifier(n_estimators=100)\n",
        "scores = cross_val_score(xgb_cv, X_train, y_train, cv=10, scoring = \"accuracy\")\n",
        "print(\"Scores:\", scores)\n",
        "print(\"Mean:\", scores.mean())\n",
        "print(\"Standard Deviation:\", scores.std())"
      ],
      "execution_count": null,
      "outputs": [
        {
          "output_type": "stream",
          "text": [
            "Scores: [0.97674419 0.97674419 0.93023256 0.93023256 0.95348837 0.90697674\n",
            " 0.93023256 0.97619048 0.88095238 0.92857143]\n",
            "Mean: 0.9390365448504984\n",
            "Standard Deviation: 0.03029299003555244\n"
          ],
          "name": "stdout"
        }
      ]
    },
    {
      "cell_type": "markdown",
      "metadata": {
        "id": "ENYdl36Xm4EO"
      },
      "source": [
        "# XGBoost - Evaluation"
      ]
    },
    {
      "cell_type": "code",
      "metadata": {
        "colab": {
          "base_uri": "https://localhost:8080/"
        },
        "id": "NLL3wbYqm5cj",
        "outputId": "031660a2-1ae9-4066-98a1-c673a0338b80"
      },
      "source": [
        "unique, counts = np.unique(y_test, return_counts=True)\n",
        "dict(zip(unique, counts))"
      ],
      "execution_count": null,
      "outputs": [
        {
          "output_type": "execute_result",
          "data": {
            "text/plain": [
              "{0: 200, 1: 198}"
            ]
          },
          "metadata": {},
          "execution_count": 101
        }
      ]
    },
    {
      "cell_type": "code",
      "metadata": {
        "colab": {
          "base_uri": "https://localhost:8080/"
        },
        "id": "UZN6dTPpnAu0",
        "outputId": "a92c0046-0adb-40da-ebb3-8b6f47a1307e"
      },
      "source": [
        "predictions = cross_val_predict(xgb, X_test, y_test, cv=5)\n",
        "confusion_matrix(y_test, predictions)"
      ],
      "execution_count": null,
      "outputs": [
        {
          "output_type": "execute_result",
          "data": {
            "text/plain": [
              "array([[198,   2],\n",
              "       [  8, 190]])"
            ]
          },
          "metadata": {},
          "execution_count": 100
        }
      ]
    },
    {
      "cell_type": "code",
      "metadata": {
        "colab": {
          "base_uri": "https://localhost:8080/"
        },
        "id": "LXtw3QsPnbHt",
        "outputId": "cf90ae2f-0f9a-40d1-b597-21030c2909f0"
      },
      "source": [
        "print(\"Precision:\", precision_score(y_test, predictions, average='micro'))\n",
        "print(\"Recall:\",recall_score(y_test, predictions, average='micro'))"
      ],
      "execution_count": null,
      "outputs": [
        {
          "output_type": "stream",
          "name": "stdout",
          "text": [
            "Precision: 0.9748743718592965\n",
            "Recall: 0.9748743718592965\n"
          ]
        }
      ]
    },
    {
      "cell_type": "code",
      "metadata": {
        "colab": {
          "base_uri": "https://localhost:8080/"
        },
        "id": "hSQxHadHnnFN",
        "outputId": "c6c48981-9426-47b1-b2ea-4d5a7ac35f97"
      },
      "source": [
        "print(\"F1-Score:\", f1_score(y_test, predictions, average='micro'))"
      ],
      "execution_count": null,
      "outputs": [
        {
          "output_type": "stream",
          "name": "stdout",
          "text": [
            "F1-Score: 0.9748743718592965\n"
          ]
        }
      ]
    }
  ]
}