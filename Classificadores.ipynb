{
  "nbformat": 4,
  "nbformat_minor": 0,
  "metadata": {
    "colab": {
      "name": "Classificadores.ipynb",
      "provenance": [],
      "toc_visible": true,
      "authorship_tag": "ABX9TyOxWXbvBuoIwGbxxCp02ezf",
      "include_colab_link": true
    },
    "kernelspec": {
      "name": "python3",
      "display_name": "Python 3"
    },
    "language_info": {
      "name": "python"
    }
  },
  "cells": [
    {
      "cell_type": "markdown",
      "metadata": {
        "id": "view-in-github",
        "colab_type": "text"
      },
      "source": [
        "<a href=\"https://colab.research.google.com/github/FranciscoAguiar/DataScienceProgramming/blob/master/Classificadores.ipynb\" target=\"_parent\"><img src=\"https://colab.research.google.com/assets/colab-badge.svg\" alt=\"Open In Colab\"/></a>"
      ]
    },
    {
      "cell_type": "code",
      "metadata": {
        "id": "L6wI9Seqb2y8"
      },
      "source": [
        "import numpy as np\n",
        "import pandas as pd\n",
        "import matplotlib.pyplot as plt\n",
        "from matplotlib import style\n",
        "import seaborn as sns\n",
        "sns.set_style('whitegrid')\n",
        "import tensorflow as tf\n",
        "from sklearn.model_selection import train_test_split, cross_val_predict\n",
        "from sklearn.svm import SVC\n",
        "from sklearn.ensemble import RandomForestClassifier\n",
        "from sklearn.linear_model import SGDClassifier\n",
        "from sklearn.neighbors import KNeighborsClassifier\n",
        "from sklearn.naive_bayes import GaussianNB\n",
        "from sklearn.decomposition import PCA\n",
        "from xgboost import XGBClassifier\n",
        "from sklearn.preprocessing import LabelEncoder, MinMaxScaler\n",
        "from sklearn.metrics import confusion_matrix, precision_score, recall_score, f1_score\n",
        "import time\n",
        "import warnings\n",
        "warnings.filterwarnings(\"ignore\", category=DeprecationWarning)\n",
        "%matplotlib inline\n",
        "\n",
        "SMALL_SIZE = 10\n",
        "MEDIUM_SIZE = 12\n",
        "\n",
        "plt.rc('font', size=SMALL_SIZE)\n",
        "plt.rc('axes', titlesize=MEDIUM_SIZE)\n",
        "plt.rc('axes', labelsize=MEDIUM_SIZE)\n",
        "plt.rcParams['figure.dpi']=150"
      ],
      "execution_count": 22,
      "outputs": []
    },
    {
      "cell_type": "markdown",
      "metadata": {
        "id": "609vXW5kcLL8"
      },
      "source": [
        "# Data Acquisition"
      ]
    },
    {
      "cell_type": "code",
      "metadata": {
        "id": "dDAphdELcNUy"
      },
      "source": [
        "dataset = pd.read_csv('combined.csv', sep=',')"
      ],
      "execution_count": 23,
      "outputs": []
    },
    {
      "cell_type": "markdown",
      "metadata": {
        "id": "WnnoK7Geca8g"
      },
      "source": [
        "# Data Exploration"
      ]
    },
    {
      "cell_type": "code",
      "metadata": {
        "colab": {
          "base_uri": "https://localhost:8080/",
          "height": 204
        },
        "id": "pZhSsHNsccQq",
        "outputId": "4e604f3b-39f7-4f68-ffc1-8c69080875cd"
      },
      "source": [
        "dataset.head()"
      ],
      "execution_count": 24,
      "outputs": [
        {
          "output_type": "execute_result",
          "data": {
            "text/html": [
              "<div>\n",
              "<style scoped>\n",
              "    .dataframe tbody tr th:only-of-type {\n",
              "        vertical-align: middle;\n",
              "    }\n",
              "\n",
              "    .dataframe tbody tr th {\n",
              "        vertical-align: top;\n",
              "    }\n",
              "\n",
              "    .dataframe thead th {\n",
              "        text-align: right;\n",
              "    }\n",
              "</style>\n",
              "<table border=\"1\" class=\"dataframe\">\n",
              "  <thead>\n",
              "    <tr style=\"text-align: right;\">\n",
              "      <th></th>\n",
              "      <th>id</th>\n",
              "      <th>feedback</th>\n",
              "      <th>classe</th>\n",
              "    </tr>\n",
              "  </thead>\n",
              "  <tbody>\n",
              "    <tr>\n",
              "      <th>0</th>\n",
              "      <td>23</td>\n",
              "      <td>Ler outros textos sobre o assunto para lher da...</td>\n",
              "      <td>0</td>\n",
              "    </tr>\n",
              "    <tr>\n",
              "      <th>1</th>\n",
              "      <td>24</td>\n",
              "      <td>Procure ler mais; para escrever mais acerca do...</td>\n",
              "      <td>0</td>\n",
              "    </tr>\n",
              "    <tr>\n",
              "      <th>2</th>\n",
              "      <td>35</td>\n",
              "      <td>Texto bom; precisa apenas ler mais um pouco; p...</td>\n",
              "      <td>0</td>\n",
              "    </tr>\n",
              "    <tr>\n",
              "      <th>3</th>\n",
              "      <td>37</td>\n",
              "      <td>Ter cuidado com copias da internet.</td>\n",
              "      <td>0</td>\n",
              "    </tr>\n",
              "    <tr>\n",
              "      <th>4</th>\n",
              "      <td>68</td>\n",
              "      <td>Carssimo; o trabalho precisa de uma sistematiz...</td>\n",
              "      <td>1</td>\n",
              "    </tr>\n",
              "  </tbody>\n",
              "</table>\n",
              "</div>"
            ],
            "text/plain": [
              "   id                                           feedback  classe\n",
              "0  23  Ler outros textos sobre o assunto para lher da...       0\n",
              "1  24  Procure ler mais; para escrever mais acerca do...       0\n",
              "2  35  Texto bom; precisa apenas ler mais um pouco; p...       0\n",
              "3  37                Ter cuidado com copias da internet.       0\n",
              "4  68  Carssimo; o trabalho precisa de uma sistematiz...       1"
            ]
          },
          "metadata": {
            "tags": []
          },
          "execution_count": 24
        }
      ]
    },
    {
      "cell_type": "code",
      "metadata": {
        "colab": {
          "base_uri": "https://localhost:8080/"
        },
        "id": "wykXraT8cl5d",
        "outputId": "d312ba44-2256-4fc3-c151-744318adc195"
      },
      "source": [
        "dataset.info()"
      ],
      "execution_count": 25,
      "outputs": [
        {
          "output_type": "stream",
          "text": [
            "<class 'pandas.core.frame.DataFrame'>\n",
            "RangeIndex: 1000 entries, 0 to 999\n",
            "Data columns (total 3 columns):\n",
            " #   Column    Non-Null Count  Dtype \n",
            "---  ------    --------------  ----- \n",
            " 0   id        1000 non-null   int64 \n",
            " 1   feedback  996 non-null    object\n",
            " 2   classe    1000 non-null   int64 \n",
            "dtypes: int64(2), object(1)\n",
            "memory usage: 23.6+ KB\n"
          ],
          "name": "stdout"
        }
      ]
    },
    {
      "cell_type": "code",
      "metadata": {
        "colab": {
          "base_uri": "https://localhost:8080/",
          "height": 297
        },
        "id": "LukqNpZwctHR",
        "outputId": "9ccdc4c1-05c0-402a-a7b3-3df21a0b6eba"
      },
      "source": [
        "dataset.describe()"
      ],
      "execution_count": 26,
      "outputs": [
        {
          "output_type": "execute_result",
          "data": {
            "text/html": [
              "<div>\n",
              "<style scoped>\n",
              "    .dataframe tbody tr th:only-of-type {\n",
              "        vertical-align: middle;\n",
              "    }\n",
              "\n",
              "    .dataframe tbody tr th {\n",
              "        vertical-align: top;\n",
              "    }\n",
              "\n",
              "    .dataframe thead th {\n",
              "        text-align: right;\n",
              "    }\n",
              "</style>\n",
              "<table border=\"1\" class=\"dataframe\">\n",
              "  <thead>\n",
              "    <tr style=\"text-align: right;\">\n",
              "      <th></th>\n",
              "      <th>id</th>\n",
              "      <th>classe</th>\n",
              "    </tr>\n",
              "  </thead>\n",
              "  <tbody>\n",
              "    <tr>\n",
              "      <th>count</th>\n",
              "      <td>1000.000000</td>\n",
              "      <td>1000.000000</td>\n",
              "    </tr>\n",
              "    <tr>\n",
              "      <th>mean</th>\n",
              "      <td>8887.011000</td>\n",
              "      <td>0.890000</td>\n",
              "    </tr>\n",
              "    <tr>\n",
              "      <th>std</th>\n",
              "      <td>4957.123671</td>\n",
              "      <td>0.313046</td>\n",
              "    </tr>\n",
              "    <tr>\n",
              "      <th>min</th>\n",
              "      <td>20.000000</td>\n",
              "      <td>0.000000</td>\n",
              "    </tr>\n",
              "    <tr>\n",
              "      <th>25%</th>\n",
              "      <td>1649.750000</td>\n",
              "      <td>1.000000</td>\n",
              "    </tr>\n",
              "    <tr>\n",
              "      <th>50%</th>\n",
              "      <td>11987.000000</td>\n",
              "      <td>1.000000</td>\n",
              "    </tr>\n",
              "    <tr>\n",
              "      <th>75%</th>\n",
              "      <td>12796.750000</td>\n",
              "      <td>1.000000</td>\n",
              "    </tr>\n",
              "    <tr>\n",
              "      <th>max</th>\n",
              "      <td>13814.000000</td>\n",
              "      <td>1.000000</td>\n",
              "    </tr>\n",
              "  </tbody>\n",
              "</table>\n",
              "</div>"
            ],
            "text/plain": [
              "                 id       classe\n",
              "count   1000.000000  1000.000000\n",
              "mean    8887.011000     0.890000\n",
              "std     4957.123671     0.313046\n",
              "min       20.000000     0.000000\n",
              "25%     1649.750000     1.000000\n",
              "50%    11987.000000     1.000000\n",
              "75%    12796.750000     1.000000\n",
              "max    13814.000000     1.000000"
            ]
          },
          "metadata": {
            "tags": []
          },
          "execution_count": 26
        }
      ]
    },
    {
      "cell_type": "code",
      "metadata": {
        "colab": {
          "base_uri": "https://localhost:8080/"
        },
        "id": "EbzCuDdKc61T",
        "outputId": "d19ef439-4129-4626-9182-502cc4777567"
      },
      "source": [
        "dataset['classe'].value_counts()"
      ],
      "execution_count": 27,
      "outputs": [
        {
          "output_type": "execute_result",
          "data": {
            "text/plain": [
              "1    890\n",
              "0    110\n",
              "Name: classe, dtype: int64"
            ]
          },
          "metadata": {
            "tags": []
          },
          "execution_count": 27
        }
      ]
    },
    {
      "cell_type": "code",
      "metadata": {
        "colab": {
          "base_uri": "https://localhost:8080/"
        },
        "id": "yJggrmyrdGtq",
        "outputId": "32deacac-b0a4-4093-e37d-dbc08865bce0"
      },
      "source": [
        "dataset.columns.values"
      ],
      "execution_count": 28,
      "outputs": [
        {
          "output_type": "execute_result",
          "data": {
            "text/plain": [
              "array(['id', 'feedback', 'classe'], dtype=object)"
            ]
          },
          "metadata": {
            "tags": []
          },
          "execution_count": 28
        }
      ]
    },
    {
      "cell_type": "code",
      "metadata": {
        "id": "wR5UJk0qd13W"
      },
      "source": [
        "le = LabelEncoder()\n",
        "dataset[\"feedback\"] = le.fit_transform(dataset[\"feedback\"].astype(str))\n",
        "str_cols = dataset.columns[dataset.columns.str.contains('(?:feedback)')]\n",
        "clfs = {c:LabelEncoder() for c in str_cols}\n",
        "\n",
        "for col, clf in clfs.items():\n",
        "    dataset[col] = clfs[col].fit_transform(dataset[col])"
      ],
      "execution_count": 29,
      "outputs": []
    },
    {
      "cell_type": "code",
      "metadata": {
        "colab": {
          "base_uri": "https://localhost:8080/",
          "height": 368
        },
        "id": "vwO8K33NdUHv",
        "outputId": "a5d77e4a-847d-401a-ce3c-0361b2f0993a"
      },
      "source": [
        "fig, axes = plt.subplots(nrows=1, ncols=2,figsize=(16, 4))\n",
        "ax = sns.distplot(dataset[dataset['classe']==0].feedback, bins = 30, ax = axes[0], kde = False)\n",
        "ax.set_title('Negative')\n",
        "ax = sns.distplot(dataset[dataset['classe']==1].feedback, bins = 30, ax = axes[1], kde = False)\n",
        "ax.set_title('Positive')"
      ],
      "execution_count": 30,
      "outputs": [
        {
          "output_type": "stream",
          "text": [
            "/usr/local/lib/python3.7/dist-packages/seaborn/distributions.py:2557: FutureWarning: `distplot` is a deprecated function and will be removed in a future version. Please adapt your code to use either `displot` (a figure-level function with similar flexibility) or `histplot` (an axes-level function for histograms).\n",
            "  warnings.warn(msg, FutureWarning)\n",
            "/usr/local/lib/python3.7/dist-packages/seaborn/distributions.py:2557: FutureWarning: `distplot` is a deprecated function and will be removed in a future version. Please adapt your code to use either `displot` (a figure-level function with similar flexibility) or `histplot` (an axes-level function for histograms).\n",
            "  warnings.warn(msg, FutureWarning)\n"
          ],
          "name": "stderr"
        },
        {
          "output_type": "execute_result",
          "data": {
            "text/plain": [
              "Text(0.5, 1.0, 'Positive')"
            ]
          },
          "metadata": {
            "tags": []
          },
          "execution_count": 30
        },
        {
          "output_type": "display_data",
          "data": {
            "image/png": "[encoded data removed]",
            "text/plain": [
              "<Figure size 2400x600 with 2 Axes>"
            ]
          },
          "metadata": {
            "tags": [],
            "needs_background": "light"
          }
        }
      ]
    },
    {
      "cell_type": "markdown",
      "metadata": {
        "id": "_RJf9sM0e7yT"
      },
      "source": [
        "# Machine Learning Models - Training"
      ]
    },
    {
      "cell_type": "code",
      "metadata": {
        "id": "xQq0LQmNgGvT"
      },
      "source": [
        "scaler = MinMaxScaler()\n",
        "sdss = scaler.fit_transform(dataset.drop('classe', axis=1))"
      ],
      "execution_count": 31,
      "outputs": []
    },
    {
      "cell_type": "code",
      "metadata": {
        "id": "xpqWlmu0e1Lf"
      },
      "source": [
        "X_train, X_test, y_train, y_test = train_test_split(sdss, dataset['classe'], test_size=0.33)"
      ],
      "execution_count": 32,
      "outputs": []
    },
    {
      "cell_type": "markdown",
      "metadata": {
        "id": "KYCScHrGfTM2"
      },
      "source": [
        "*K Nearest Neighbors¶*"
      ]
    },
    {
      "cell_type": "code",
      "metadata": {
        "colab": {
          "base_uri": "https://localhost:8080/"
        },
        "id": "1XHdTuArfHBh",
        "outputId": "3d9d15c3-4ac8-43be-bac2-013eec04d677"
      },
      "source": [
        "knn = KNeighborsClassifier()\n",
        "training_start = time.perf_counter()\n",
        "knn.fit(X_train, y_train)\n",
        "training_end = time.perf_counter()\n",
        "prediction_start = time.perf_counter()\n",
        "preds = knn.predict(X_test)\n",
        "prediction_end = time.perf_counter()\n",
        "acc_knn = (preds == y_test).sum().astype(float) / len(preds)*100\n",
        "knn_train_time = training_end-training_start\n",
        "knn_prediction_time = prediction_end-prediction_start\n",
        "print(\"Scikit-Learn's K Nearest Neighbors Classifier's prediction accuracy is: %3.2f\" % (acc_knn))\n",
        "print(\"Time consumed for training: %4.3f seconds\" % (knn_train_time))\n",
        "print(\"Time consumed for prediction: %6.5f seconds\" % (knn_prediction_time))"
      ],
      "execution_count": 36,
      "outputs": [
        {
          "output_type": "stream",
          "text": [
            "Scikit-Learn's K Nearest Neighbors Classifier's prediction accuracy is: 87.27\n",
            "Time consumed for training: 0.004 seconds\n",
            "Time consumed for prediction: 0.01267 seconds\n"
          ],
          "name": "stdout"
        }
      ]
    },
    {
      "cell_type": "markdown",
      "metadata": {
        "id": "DszxmvusfjfN"
      },
      "source": [
        "*Naive Bayes*"
      ]
    },
    {
      "cell_type": "code",
      "metadata": {
        "colab": {
          "base_uri": "https://localhost:8080/"
        },
        "id": "YT_4xHQHftt7",
        "outputId": "b8b0eb8d-7ed4-4788-8f19-e07e4fc7c958"
      },
      "source": [
        "from sklearn.preprocessing import MaxAbsScaler\n",
        "scaler_gnb = MaxAbsScaler()\n",
        "sdss = scaler_gnb.fit_transform(dataset.drop('classe', axis=1))\n",
        "X_train_gnb, X_test_gnb, y_train_gnb, y_test_gnb = train_test_split(sdss, dataset['classe'], test_size=0.33)\n",
        "\n",
        "gnb = GaussianNB()\n",
        "training_start = time.perf_counter()\n",
        "gnb.fit(X_train_gnb, y_train_gnb)\n",
        "training_end = time.perf_counter()\n",
        "prediction_start = time.perf_counter()\n",
        "preds = gnb.predict(X_test_gnb)\n",
        "prediction_end = time.perf_counter()\n",
        "acc_gnb = (preds == y_test_gnb).sum().astype(float) / len(preds)*100\n",
        "gnb_train_time = training_end-training_start\n",
        "gnb_prediction_time = prediction_end-prediction_start\n",
        "print(\"Scikit-Learn's Gaussian Naive Bayes Classifier's prediction accuracy is: %3.2f\" % (acc_gnb))\n",
        "print(\"Time consumed for training: %4.3f seconds\" % (gnb_train_time))\n",
        "print(\"Time consumed for prediction: %6.5f seconds\" % (gnb_prediction_time))"
      ],
      "execution_count": 37,
      "outputs": [
        {
          "output_type": "stream",
          "text": [
            "Scikit-Learn's Gaussian Naive Bayes Classifier's prediction accuracy is: 88.18\n",
            "Time consumed for training: 0.001 seconds\n",
            "Time consumed for prediction: 0.00035 seconds\n"
          ],
          "name": "stdout"
        }
      ]
    },
    {
      "cell_type": "markdown",
      "metadata": {
        "id": "s0LhGprXgbbX"
      },
      "source": [
        "*XGBoost*"
      ]
    },
    {
      "cell_type": "code",
      "metadata": {
        "colab": {
          "base_uri": "https://localhost:8080/"
        },
        "id": "H6vikHCsgmo-",
        "outputId": "faca112a-1767-4951-cac2-29ca90092a6b"
      },
      "source": [
        "xgb = XGBClassifier(n_estimators=100)\n",
        "training_start = time.perf_counter()\n",
        "xgb.fit(X_train, y_train)\n",
        "training_end = time.perf_counter()\n",
        "prediction_start = time.perf_counter()\n",
        "preds = xgb.predict(X_test)\n",
        "prediction_end = time.perf_counter()\n",
        "acc_xgb = (preds == y_test).sum().astype(float) / len(preds)*100\n",
        "xgb_train_time = training_end-training_start\n",
        "xgb_prediction_time = prediction_end-prediction_start\n",
        "print(\"XGBoost's prediction accuracy is: %3.2f\" % (acc_xgb))\n",
        "print(\"Time consumed for training: %4.3f\" % (xgb_train_time))\n",
        "print(\"Time consumed for prediction: %6.5f seconds\" % (xgb_prediction_time))"
      ],
      "execution_count": 39,
      "outputs": [
        {
          "output_type": "stream",
          "text": [
            "XGBoost's prediction accuracy is: 88.79\n",
            "Time consumed for training: 0.028\n",
            "Time consumed for prediction: 0.00141 seconds\n"
          ],
          "name": "stdout"
        }
      ]
    },
    {
      "cell_type": "markdown",
      "metadata": {
        "id": "OjzIIAC9kwnU"
      },
      "source": [
        "*Scitkit-Learn's Random Forest Classifier*"
      ]
    },
    {
      "cell_type": "code",
      "metadata": {
        "colab": {
          "base_uri": "https://localhost:8080/"
        },
        "id": "pfU9dlzQkpb1",
        "outputId": "7ec6e423-a318-4a55-c1ee-28ccfe623fa5"
      },
      "source": [
        "rfc = RandomForestClassifier(n_estimators=10)\n",
        "training_start = time.perf_counter()\n",
        "rfc.fit(X_train, y_train)\n",
        "training_end = time.perf_counter()\n",
        "prediction_start = time.perf_counter()\n",
        "preds = rfc.predict(X_test)\n",
        "prediction_end = time.perf_counter()\n",
        "acc_rfc = (preds == y_test).sum().astype(float) / len(preds)*100\n",
        "rfc_train_time = training_end-training_start\n",
        "rfc_prediction_time = prediction_end-prediction_start\n",
        "print(\"Scikit-Learn's Random Forest Classifier's prediction accuracy is: %3.2f\" % (acc_rfc))\n",
        "print(\"Time consumed for training: %4.3f seconds\" % (rfc_train_time))\n",
        "print(\"Time consumed for prediction: %6.5f seconds\" % (rfc_prediction_time))"
      ],
      "execution_count": 40,
      "outputs": [
        {
          "output_type": "stream",
          "text": [
            "Scikit-Learn's Random Forest Classifier's prediction accuracy is: 86.36\n",
            "Time consumed for training: 0.020 seconds\n",
            "Time consumed for prediction: 0.00176 seconds\n"
          ],
          "name": "stdout"
        }
      ]
    },
    {
      "cell_type": "markdown",
      "metadata": {
        "id": "-SVAX55sk75A"
      },
      "source": [
        "Support Vector Machine Classifier"
      ]
    },
    {
      "cell_type": "code",
      "metadata": {
        "colab": {
          "base_uri": "https://localhost:8080/"
        },
        "id": "gG_FR8Bhk-fZ",
        "outputId": "9b791531-ca1b-4fa5-df8a-0af43ef9c844"
      },
      "source": [
        "svc = SVC()\n",
        "training_start = time.perf_counter()\n",
        "svc.fit(X_train, y_train)\n",
        "training_end = time.perf_counter()\n",
        "prediction_start = time.perf_counter()\n",
        "preds = svc.predict(X_test)\n",
        "prediction_end = time.perf_counter()\n",
        "acc_svc = (preds == y_test).sum().astype(float) / len(preds)*100\n",
        "svc_train_time = training_end-training_start\n",
        "svc_prediction_time = prediction_end-prediction_start\n",
        "print(\"Scikit-Learn's Support Vector Machine Classifier's prediction accuracy is: %3.2f\" % (acc_svc))\n",
        "print(\"Time consumed for training: %4.3f seconds\" % (svc_train_time))\n",
        "print(\"Time consumed for prediction: %6.5f seconds\" % (svc_prediction_time))"
      ],
      "execution_count": 41,
      "outputs": [
        {
          "output_type": "stream",
          "text": [
            "Scikit-Learn's Support Vector Machine Classifier's prediction accuracy is: 88.48\n",
            "Time consumed for training: 0.015 seconds\n",
            "Time consumed for prediction: 0.00217 seconds\n"
          ],
          "name": "stdout"
        }
      ]
    },
    {
      "cell_type": "code",
      "metadata": {
        "colab": {
          "base_uri": "https://localhost:8080/",
          "height": 235
        },
        "id": "-N4y3JddlKhk",
        "outputId": "68bb68b9-b622-472e-b2c0-fb5200d55c3b"
      },
      "source": [
        "results = pd.DataFrame({\n",
        "    'Model': ['KNN', 'Naive Bayes', \n",
        "              'XGBoost', 'Random Forest', 'SVC'],\n",
        "    'Score': [acc_knn, acc_gnb, acc_xgb, acc_rfc, acc_svc],\n",
        "    'Runtime Training': [knn_train_time, gnb_train_time, xgb_train_time, rfc_train_time, \n",
        "                         svc_train_time],\n",
        "    'Runtime Prediction': [knn_prediction_time, gnb_prediction_time, xgb_prediction_time, rfc_prediction_time,\n",
        "                          svc_prediction_time]})\n",
        "result_df = results.sort_values(by='Score', ascending=False)\n",
        "result_df = result_df.set_index('Model')\n",
        "result_df"
      ],
      "execution_count": 42,
      "outputs": [
        {
          "output_type": "execute_result",
          "data": {
            "text/html": [
              "<div>\n",
              "<style scoped>\n",
              "    .dataframe tbody tr th:only-of-type {\n",
              "        vertical-align: middle;\n",
              "    }\n",
              "\n",
              "    .dataframe tbody tr th {\n",
              "        vertical-align: top;\n",
              "    }\n",
              "\n",
              "    .dataframe thead th {\n",
              "        text-align: right;\n",
              "    }\n",
              "</style>\n",
              "<table border=\"1\" class=\"dataframe\">\n",
              "  <thead>\n",
              "    <tr style=\"text-align: right;\">\n",
              "      <th></th>\n",
              "      <th>Score</th>\n",
              "      <th>Runtime Training</th>\n",
              "      <th>Runtime Prediction</th>\n",
              "    </tr>\n",
              "    <tr>\n",
              "      <th>Model</th>\n",
              "      <th></th>\n",
              "      <th></th>\n",
              "      <th></th>\n",
              "    </tr>\n",
              "  </thead>\n",
              "  <tbody>\n",
              "    <tr>\n",
              "      <th>XGBoost</th>\n",
              "      <td>88.787879</td>\n",
              "      <td>0.028176</td>\n",
              "      <td>0.001408</td>\n",
              "    </tr>\n",
              "    <tr>\n",
              "      <th>SVC</th>\n",
              "      <td>88.484848</td>\n",
              "      <td>0.015393</td>\n",
              "      <td>0.002171</td>\n",
              "    </tr>\n",
              "    <tr>\n",
              "      <th>Naive Bayes</th>\n",
              "      <td>88.181818</td>\n",
              "      <td>0.000844</td>\n",
              "      <td>0.000349</td>\n",
              "    </tr>\n",
              "    <tr>\n",
              "      <th>KNN</th>\n",
              "      <td>87.272727</td>\n",
              "      <td>0.003750</td>\n",
              "      <td>0.012670</td>\n",
              "    </tr>\n",
              "    <tr>\n",
              "      <th>Random Forest</th>\n",
              "      <td>86.363636</td>\n",
              "      <td>0.019710</td>\n",
              "      <td>0.001762</td>\n",
              "    </tr>\n",
              "  </tbody>\n",
              "</table>\n",
              "</div>"
            ],
            "text/plain": [
              "                   Score  Runtime Training  Runtime Prediction\n",
              "Model                                                         \n",
              "XGBoost        88.787879          0.028176            0.001408\n",
              "SVC            88.484848          0.015393            0.002171\n",
              "Naive Bayes    88.181818          0.000844            0.000349\n",
              "KNN            87.272727          0.003750            0.012670\n",
              "Random Forest  86.363636          0.019710            0.001762"
            ]
          },
          "metadata": {
            "tags": []
          },
          "execution_count": 42
        }
      ]
    },
    {
      "cell_type": "markdown",
      "metadata": {
        "id": "iYveVwTMlb6n"
      },
      "source": [
        "Cross Validation - Scikit-Learn's Random Forest Classifier"
      ]
    },
    {
      "cell_type": "code",
      "metadata": {
        "colab": {
          "base_uri": "https://localhost:8080/"
        },
        "id": "Rka_g4fKlh6t",
        "outputId": "efb5226b-4a7a-4339-85f4-860b132ceed7"
      },
      "source": [
        "from sklearn.model_selection import cross_val_score\n",
        "rfc_cv = RandomForestClassifier(n_estimators=100)\n",
        "scores = cross_val_score(rfc_cv, X_train, y_train, cv=10, scoring = \"accuracy\")\n",
        "print(\"Scores:\", scores)\n",
        "print(\"Mean:\", scores.mean())\n",
        "print(\"Standard Deviation:\", scores.std())"
      ],
      "execution_count": 43,
      "outputs": [
        {
          "output_type": "stream",
          "text": [
            "Scores: [0.89552239 0.89552239 0.88059701 0.89552239 0.91044776 0.86567164\n",
            " 0.85074627 0.86567164 0.89552239 0.88059701]\n",
            "Mean: 0.8835820895522388\n",
            "Standard Deviation: 0.017405826551777026\n"
          ],
          "name": "stdout"
        }
      ]
    },
    {
      "cell_type": "markdown",
      "metadata": {
        "id": "DiPtt9KQlt1F"
      },
      "source": [
        "XGBoost"
      ]
    },
    {
      "cell_type": "code",
      "metadata": {
        "colab": {
          "base_uri": "https://localhost:8080/"
        },
        "id": "hgbcKMRaluns",
        "outputId": "de5b1501-ade1-4f5e-a136-290035febf7e"
      },
      "source": [
        "xgb_cv = XGBClassifier(n_estimators=100)\n",
        "scores = cross_val_score(xgb_cv, X_train, y_train, cv=10, scoring = \"accuracy\")\n",
        "print(\"Scores:\", scores)\n",
        "print(\"Mean:\", scores.mean())\n",
        "print(\"Standard Deviation:\", scores.std())"
      ],
      "execution_count": 44,
      "outputs": [
        {
          "output_type": "stream",
          "text": [
            "Scores: [0.89552239 0.91044776 0.88059701 0.91044776 0.89552239 0.88059701\n",
            " 0.86567164 0.92537313 0.91044776 0.88059701]\n",
            "Mean: 0.8955223880597014\n",
            "Standard Deviation: 0.01765993965104363\n"
          ],
          "name": "stdout"
        }
      ]
    },
    {
      "cell_type": "markdown",
      "metadata": {
        "id": "JfeDEwyFmTCc"
      },
      "source": [
        "The best parameters for prediction as found by the tuning tests are:\n",
        "\n",
        "max_depth = 5\n",
        "min_child_weight = 1\n",
        "gamma = 0\n",
        "subsample = 0.8\n",
        "colsample_bytree = 0.8\n",
        "reg_alpha = 0.005"
      ]
    },
    {
      "cell_type": "code",
      "metadata": {
        "id": "1BxrnzjPmVQT"
      },
      "source": [
        "X_train, X_test, y_train, y_test = train_test_split(dataset.drop('classe', axis=1), dataset['classe'],\n",
        "                                                   test_size=0.33)"
      ],
      "execution_count": 45,
      "outputs": []
    },
    {
      "cell_type": "code",
      "metadata": {
        "colab": {
          "base_uri": "https://localhost:8080/"
        },
        "id": "0l8Zw8hZmkFd",
        "outputId": "80c25d82-3a5b-4989-9c26-c27c77a04650"
      },
      "source": [
        "xgboost = XGBClassifier(max_depth=5, learning_rate=0.01, n_estimators=100, gamma=0, \n",
        "                        min_child_weight=1, subsample=0.8, colsample_bytree=0.8, reg_alpha=0.005)\n",
        "\n",
        "xgboost.fit(X_train, y_train)\n",
        "preds = xgboost.predict(X_test)\n",
        "\n",
        "accuracy = (preds == y_test).sum().astype(float) / len(preds)*100\n",
        "\n",
        "print(\"XGBoost's prediction accuracy WITH optimal hyperparameters is: %3.2f\" % (accuracy))"
      ],
      "execution_count": 57,
      "outputs": [
        {
          "output_type": "stream",
          "text": [
            "XGBoost's prediction accuracy WITH optimal hyperparameters is: 88.48\n"
          ],
          "name": "stdout"
        }
      ]
    },
    {
      "cell_type": "code",
      "metadata": {
        "colab": {
          "base_uri": "https://localhost:8080/"
        },
        "id": "WSIbCjCamvba",
        "outputId": "3176fd96-12d4-4aeb-bd2f-209d02b2fa86"
      },
      "source": [
        "xgb_cv = XGBClassifier(n_estimators=100)\n",
        "scores = cross_val_score(xgb_cv, X_train, y_train, cv=10, scoring = \"accuracy\")\n",
        "print(\"Scores:\", scores)\n",
        "print(\"Mean:\", scores.mean())\n",
        "print(\"Standard Deviation:\", scores.std())"
      ],
      "execution_count": 47,
      "outputs": [
        {
          "output_type": "stream",
          "text": [
            "Scores: [0.88059701 0.89552239 0.89552239 0.92537313 0.89552239 0.91044776\n",
            " 0.91044776 0.89552239 0.91044776 0.88059701]\n",
            "Mean: 0.9\n",
            "Standard Deviation: 0.013432835820895515\n"
          ],
          "name": "stdout"
        }
      ]
    },
    {
      "cell_type": "markdown",
      "metadata": {
        "id": "ENYdl36Xm4EO"
      },
      "source": [
        "# XGBoost - Evaluation"
      ]
    },
    {
      "cell_type": "code",
      "metadata": {
        "colab": {
          "base_uri": "https://localhost:8080/"
        },
        "id": "NLL3wbYqm5cj",
        "outputId": "a469676c-7f86-4cde-8b9d-e99e8af5b288"
      },
      "source": [
        "unique, counts = np.unique(dataset['classe'], return_counts=True)\n",
        "dict(zip(unique, counts))"
      ],
      "execution_count": 48,
      "outputs": [
        {
          "output_type": "execute_result",
          "data": {
            "text/plain": [
              "{0: 110, 1: 890}"
            ]
          },
          "metadata": {
            "tags": []
          },
          "execution_count": 48
        }
      ]
    },
    {
      "cell_type": "code",
      "metadata": {
        "colab": {
          "base_uri": "https://localhost:8080/"
        },
        "id": "UZN6dTPpnAu0",
        "outputId": "a37ffcee-4201-4fa0-f523-95c4554fee16"
      },
      "source": [
        "predictions = cross_val_predict(xgb, dataset.drop('classe', axis=1), dataset['classe'], cv=3)\n",
        "confusion_matrix(dataset['classe'], predictions)"
      ],
      "execution_count": 49,
      "outputs": [
        {
          "output_type": "execute_result",
          "data": {
            "text/plain": [
              "array([[ 23,  87],\n",
              "       [431, 459]])"
            ]
          },
          "metadata": {
            "tags": []
          },
          "execution_count": 49
        }
      ]
    },
    {
      "cell_type": "code",
      "metadata": {
        "colab": {
          "base_uri": "https://localhost:8080/"
        },
        "id": "LXtw3QsPnbHt",
        "outputId": "13d736b2-a96d-4dcf-a015-a1e594c24207"
      },
      "source": [
        "print(\"Precision:\", precision_score(dataset['classe'], predictions, average='micro'))\n",
        "print(\"Recall:\",recall_score(dataset['classe'], predictions, average='micro'))"
      ],
      "execution_count": 50,
      "outputs": [
        {
          "output_type": "stream",
          "text": [
            "Precision: 0.482\n",
            "Recall: 0.482\n"
          ],
          "name": "stdout"
        }
      ]
    },
    {
      "cell_type": "code",
      "metadata": {
        "colab": {
          "base_uri": "https://localhost:8080/"
        },
        "id": "hSQxHadHnnFN",
        "outputId": "43dde400-81ec-4e98-f9e2-eb0751d1c742"
      },
      "source": [
        "print(\"F1-Score:\", f1_score(dataset['classe'], predictions, average='micro'))"
      ],
      "execution_count": 51,
      "outputs": [
        {
          "output_type": "stream",
          "text": [
            "F1-Score: 0.482\n"
          ],
          "name": "stdout"
        }
      ]
    }
  ]
}