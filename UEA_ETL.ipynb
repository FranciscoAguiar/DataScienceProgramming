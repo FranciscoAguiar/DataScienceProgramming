{
  "nbformat": 4,
  "nbformat_minor": 0,
  "metadata": {
    "colab": {
      "name": "UEA_Statistics.ipynb",
      "provenance": [],
      "collapsed_sections": [],
      "include_colab_link": true
    },
    "kernelspec": {
      "name": "python3",
      "display_name": "Python 3"
    }
  },
  "cells": [
    {
      "cell_type": "markdown",
      "metadata": {
        "id": "view-in-github",
        "colab_type": "text"
      },
      "source": [
        "<a href=\"https://colab.research.google.com/github/FranciscoAguiar/DataScienceProgramming/blob/master/UEA_ETL.ipynb\" target=\"_parent\"><img src=\"https://colab.research.google.com/assets/colab-badge.svg\" alt=\"Open In Colab\"/></a>"
      ]
    },
    {
      "cell_type": "markdown",
      "metadata": {
        "id": "9-FX1cw-cXza"
      },
      "source": [
        "# Análise descritiva dos dados sobre doentes cardíacos e não cardíacos\n",
        "\n",
        "\n",
        "**Autores:**\n",
        "\n",
        "Francisco de Assis Marinho Aguiar\n",
        "\n",
        "Julio Cesar Horta Pereira\n",
        "\n",
        "Juliana Ferreguette Sena \n",
        "\n",
        "Leandro Da Cruz Farias\n",
        "\n",
        "**Fonte:** https://www.kaggle.com/sulianova/cardiovascular-disease-dataset?select=cardio_train.csv"
      ]
    },
    {
      "cell_type": "markdown",
      "metadata": {
        "id": "rltT5rp6djy4"
      },
      "source": [
        "## Bibliotecas"
      ]
    },
    {
      "cell_type": "code",
      "metadata": {
        "id": "EOX_e4ofX4RH"
      },
      "source": [
        "from scipy.stats import binom, nbinom, poisson, uniform, expon, norm, t, ttest_1samp, ttest_ind, chi2_contingency\n",
        "import numpy as np\n",
        "import matplotlib.pyplot as plt\n",
        "import seaborn as sbn\n",
        "import statistics as st\n",
        "import pandas as pd\n",
        "from scipy import stats"
      ],
      "execution_count": null,
      "outputs": []
    },
    {
      "cell_type": "markdown",
      "metadata": {
        "id": "fGD6jnFRdoXY"
      },
      "source": [
        "## Banco de dados"
      ]
    },
    {
      "cell_type": "code",
      "metadata": {
        "id": "OIG5pTnQatmp",
        "colab": {
          "base_uri": "https://localhost:8080/"
        },
        "outputId": "1db436c9-2e1c-446b-c6af-78db758f08a1"
      },
      "source": [
        "!ls"
      ],
      "execution_count": null,
      "outputs": [
        {
          "output_type": "stream",
          "text": [
            "sample_data\n"
          ],
          "name": "stdout"
        }
      ]
    },
    {
      "cell_type": "code",
      "metadata": {
        "id": "XYp8yD_UaAng"
      },
      "source": [
        "cardiodb = pd.read_csv('sample_data/cardio_train.csv',sep=';')"
      ],
      "execution_count": null,
      "outputs": []
    },
    {
      "cell_type": "code",
      "metadata": {
        "id": "Y4FYuVvScAau",
        "colab": {
          "base_uri": "https://localhost:8080/",
          "height": 402
        },
        "outputId": "1819aaa8-f3a4-4ab4-e78f-3a7d5ce2b03e"
      },
      "source": [
        "cardiodb"
      ],
      "execution_count": null,
      "outputs": [
        {
          "output_type": "execute_result",
          "data": {
            "text/html": [
              "<div>\n",
              "<style scoped>\n",
              "    .dataframe tbody tr th:only-of-type {\n",
              "        vertical-align: middle;\n",
              "    }\n",
              "\n",
              "    .dataframe tbody tr th {\n",
              "        vertical-align: top;\n",
              "    }\n",
              "\n",
              "    .dataframe thead th {\n",
              "        text-align: right;\n",
              "    }\n",
              "</style>\n",
              "<table border=\"1\" class=\"dataframe\">\n",
              "  <thead>\n",
              "    <tr style=\"text-align: right;\">\n",
              "      <th></th>\n",
              "      <th>id</th>\n",
              "      <th>age</th>\n",
              "      <th>gender</th>\n",
              "      <th>height</th>\n",
              "      <th>weight</th>\n",
              "      <th>ap_hi</th>\n",
              "      <th>ap_lo</th>\n",
              "      <th>cholesterol</th>\n",
              "      <th>gluc</th>\n",
              "      <th>smoke</th>\n",
              "      <th>alco</th>\n",
              "      <th>active</th>\n",
              "      <th>cardio</th>\n",
              "    </tr>\n",
              "  </thead>\n",
              "  <tbody>\n",
              "    <tr>\n",
              "      <th>0</th>\n",
              "      <td>0</td>\n",
              "      <td>18393</td>\n",
              "      <td>2</td>\n",
              "      <td>168</td>\n",
              "      <td>62.0</td>\n",
              "      <td>110</td>\n",
              "      <td>80</td>\n",
              "      <td>1</td>\n",
              "      <td>1</td>\n",
              "      <td>0</td>\n",
              "      <td>0</td>\n",
              "      <td>1</td>\n",
              "      <td>0</td>\n",
              "    </tr>\n",
              "    <tr>\n",
              "      <th>1</th>\n",
              "      <td>1</td>\n",
              "      <td>20228</td>\n",
              "      <td>1</td>\n",
              "      <td>156</td>\n",
              "      <td>85.0</td>\n",
              "      <td>140</td>\n",
              "      <td>90</td>\n",
              "      <td>3</td>\n",
              "      <td>1</td>\n",
              "      <td>0</td>\n",
              "      <td>0</td>\n",
              "      <td>1</td>\n",
              "      <td>1</td>\n",
              "    </tr>\n",
              "    <tr>\n",
              "      <th>2</th>\n",
              "      <td>2</td>\n",
              "      <td>18857</td>\n",
              "      <td>1</td>\n",
              "      <td>165</td>\n",
              "      <td>64.0</td>\n",
              "      <td>130</td>\n",
              "      <td>70</td>\n",
              "      <td>3</td>\n",
              "      <td>1</td>\n",
              "      <td>0</td>\n",
              "      <td>0</td>\n",
              "      <td>0</td>\n",
              "      <td>1</td>\n",
              "    </tr>\n",
              "    <tr>\n",
              "      <th>3</th>\n",
              "      <td>3</td>\n",
              "      <td>17623</td>\n",
              "      <td>2</td>\n",
              "      <td>169</td>\n",
              "      <td>82.0</td>\n",
              "      <td>150</td>\n",
              "      <td>100</td>\n",
              "      <td>1</td>\n",
              "      <td>1</td>\n",
              "      <td>0</td>\n",
              "      <td>0</td>\n",
              "      <td>1</td>\n",
              "      <td>1</td>\n",
              "    </tr>\n",
              "    <tr>\n",
              "      <th>4</th>\n",
              "      <td>4</td>\n",
              "      <td>17474</td>\n",
              "      <td>1</td>\n",
              "      <td>156</td>\n",
              "      <td>56.0</td>\n",
              "      <td>100</td>\n",
              "      <td>60</td>\n",
              "      <td>1</td>\n",
              "      <td>1</td>\n",
              "      <td>0</td>\n",
              "      <td>0</td>\n",
              "      <td>0</td>\n",
              "      <td>0</td>\n",
              "    </tr>\n",
              "    <tr>\n",
              "      <th>...</th>\n",
              "      <td>...</td>\n",
              "      <td>...</td>\n",
              "      <td>...</td>\n",
              "      <td>...</td>\n",
              "      <td>...</td>\n",
              "      <td>...</td>\n",
              "      <td>...</td>\n",
              "      <td>...</td>\n",
              "      <td>...</td>\n",
              "      <td>...</td>\n",
              "      <td>...</td>\n",
              "      <td>...</td>\n",
              "      <td>...</td>\n",
              "    </tr>\n",
              "    <tr>\n",
              "      <th>69995</th>\n",
              "      <td>99993</td>\n",
              "      <td>19240</td>\n",
              "      <td>2</td>\n",
              "      <td>168</td>\n",
              "      <td>76.0</td>\n",
              "      <td>120</td>\n",
              "      <td>80</td>\n",
              "      <td>1</td>\n",
              "      <td>1</td>\n",
              "      <td>1</td>\n",
              "      <td>0</td>\n",
              "      <td>1</td>\n",
              "      <td>0</td>\n",
              "    </tr>\n",
              "    <tr>\n",
              "      <th>69996</th>\n",
              "      <td>99995</td>\n",
              "      <td>22601</td>\n",
              "      <td>1</td>\n",
              "      <td>158</td>\n",
              "      <td>126.0</td>\n",
              "      <td>140</td>\n",
              "      <td>90</td>\n",
              "      <td>2</td>\n",
              "      <td>2</td>\n",
              "      <td>0</td>\n",
              "      <td>0</td>\n",
              "      <td>1</td>\n",
              "      <td>1</td>\n",
              "    </tr>\n",
              "    <tr>\n",
              "      <th>69997</th>\n",
              "      <td>99996</td>\n",
              "      <td>19066</td>\n",
              "      <td>2</td>\n",
              "      <td>183</td>\n",
              "      <td>105.0</td>\n",
              "      <td>180</td>\n",
              "      <td>90</td>\n",
              "      <td>3</td>\n",
              "      <td>1</td>\n",
              "      <td>0</td>\n",
              "      <td>1</td>\n",
              "      <td>0</td>\n",
              "      <td>1</td>\n",
              "    </tr>\n",
              "    <tr>\n",
              "      <th>69998</th>\n",
              "      <td>99998</td>\n",
              "      <td>22431</td>\n",
              "      <td>1</td>\n",
              "      <td>163</td>\n",
              "      <td>72.0</td>\n",
              "      <td>135</td>\n",
              "      <td>80</td>\n",
              "      <td>1</td>\n",
              "      <td>2</td>\n",
              "      <td>0</td>\n",
              "      <td>0</td>\n",
              "      <td>0</td>\n",
              "      <td>1</td>\n",
              "    </tr>\n",
              "    <tr>\n",
              "      <th>69999</th>\n",
              "      <td>99999</td>\n",
              "      <td>20540</td>\n",
              "      <td>1</td>\n",
              "      <td>170</td>\n",
              "      <td>72.0</td>\n",
              "      <td>120</td>\n",
              "      <td>80</td>\n",
              "      <td>2</td>\n",
              "      <td>1</td>\n",
              "      <td>0</td>\n",
              "      <td>0</td>\n",
              "      <td>1</td>\n",
              "      <td>0</td>\n",
              "    </tr>\n",
              "  </tbody>\n",
              "</table>\n",
              "<p>70000 rows × 13 columns</p>\n",
              "</div>"
            ],
            "text/plain": [
              "          id    age  gender  height  weight  ...  gluc  smoke  alco  active  cardio\n",
              "0          0  18393       2     168    62.0  ...     1      0     0       1       0\n",
              "1          1  20228       1     156    85.0  ...     1      0     0       1       1\n",
              "2          2  18857       1     165    64.0  ...     1      0     0       0       1\n",
              "3          3  17623       2     169    82.0  ...     1      0     0       1       1\n",
              "4          4  17474       1     156    56.0  ...     1      0     0       0       0\n",
              "...      ...    ...     ...     ...     ...  ...   ...    ...   ...     ...     ...\n",
              "69995  99993  19240       2     168    76.0  ...     1      1     0       1       0\n",
              "69996  99995  22601       1     158   126.0  ...     2      0     0       1       1\n",
              "69997  99996  19066       2     183   105.0  ...     1      0     1       0       1\n",
              "69998  99998  22431       1     163    72.0  ...     2      0     0       0       1\n",
              "69999  99999  20540       1     170    72.0  ...     1      0     0       1       0\n",
              "\n",
              "[70000 rows x 13 columns]"
            ]
          },
          "metadata": {
            "tags": []
          },
          "execution_count": 132
        }
      ]
    },
    {
      "cell_type": "code",
      "metadata": {
        "id": "ZbzP8M90m_kM",
        "colab": {
          "base_uri": "https://localhost:8080/"
        },
        "outputId": "89e928e2-ccbc-4483-a913-409103017915"
      },
      "source": [
        "cardiodb.info"
      ],
      "execution_count": null,
      "outputs": [
        {
          "output_type": "execute_result",
          "data": {
            "text/plain": [
              "<bound method DataFrame.info of           id    age  gender  height  weight  ...  gluc  smoke  alco  active  cardio\n",
              "0          0  18393       2     168    62.0  ...     1      0     0       1       0\n",
              "1          1  20228       1     156    85.0  ...     1      0     0       1       1\n",
              "2          2  18857       1     165    64.0  ...     1      0     0       0       1\n",
              "3          3  17623       2     169    82.0  ...     1      0     0       1       1\n",
              "4          4  17474       1     156    56.0  ...     1      0     0       0       0\n",
              "...      ...    ...     ...     ...     ...  ...   ...    ...   ...     ...     ...\n",
              "69995  99993  19240       2     168    76.0  ...     1      1     0       1       0\n",
              "69996  99995  22601       1     158   126.0  ...     2      0     0       1       1\n",
              "69997  99996  19066       2     183   105.0  ...     1      0     1       0       1\n",
              "69998  99998  22431       1     163    72.0  ...     2      0     0       0       1\n",
              "69999  99999  20540       1     170    72.0  ...     1      0     0       1       0\n",
              "\n",
              "[70000 rows x 13 columns]>"
            ]
          },
          "metadata": {
            "tags": []
          },
          "execution_count": 133
        }
      ]
    },
    {
      "cell_type": "markdown",
      "metadata": {
        "id": "3e0nIhSMdcp1"
      },
      "source": [
        "Features : \n",
        "\n",
        "Age    | int (days)\n",
        "\n",
        "Height | int (cm) |\n",
        "\n",
        "Weight | float (kg) |\n",
        "\n",
        "Gender | categorical code | 1 - women, 2 - men\n",
        "\n",
        "ap_hi | Systolic blood pressure   |  int |\n",
        "\n",
        "ap_lo | Diastolic blood pressure  |  int |\n",
        "\n",
        "Cholesterol | 1: normal, 2: above normal, 3: well above normal |\n",
        "\n",
        "Glucose | 1: normal, 2: above normal, 3: well above normal |\n",
        "\n",
        "Smoking  | binary |\n",
        "\n",
        "Alcohol intake | binary |\n",
        "\n",
        "Physical activity | binary |\n",
        "\n",
        "Presence or absence of cardiovascular disease  | Target Variable | cardio | binary |\n",
        "\n",
        "All of the dataset values were collected at the moment of medical examination."
      ]
    },
    {
      "cell_type": "markdown",
      "metadata": {
        "id": "2VWBM2FxqqUs"
      },
      "source": [
        "# Análise"
      ]
    },
    {
      "cell_type": "markdown",
      "metadata": {
        "id": "PY_W_U_fpQ-E"
      },
      "source": [
        "## Exibição das variáveis"
      ]
    },
    {
      "cell_type": "code",
      "metadata": {
        "id": "TRclzg2vv610",
        "colab": {
          "base_uri": "https://localhost:8080/"
        },
        "outputId": "e6d6aa05-176e-4869-e0da-84c94c334bf0"
      },
      "source": [
        "cardiodb.info()"
      ],
      "execution_count": null,
      "outputs": [
        {
          "output_type": "stream",
          "text": [
            "<class 'pandas.core.frame.DataFrame'>\n",
            "RangeIndex: 70000 entries, 0 to 69999\n",
            "Data columns (total 13 columns):\n",
            " #   Column       Non-Null Count  Dtype  \n",
            "---  ------       --------------  -----  \n",
            " 0   id           70000 non-null  int64  \n",
            " 1   age          70000 non-null  int64  \n",
            " 2   gender       70000 non-null  int64  \n",
            " 3   height       70000 non-null  int64  \n",
            " 4   weight       70000 non-null  float64\n",
            " 5   ap_hi        70000 non-null  int64  \n",
            " 6   ap_lo        70000 non-null  int64  \n",
            " 7   cholesterol  70000 non-null  int64  \n",
            " 8   gluc         70000 non-null  int64  \n",
            " 9   smoke        70000 non-null  int64  \n",
            " 10  alco         70000 non-null  int64  \n",
            " 11  active       70000 non-null  int64  \n",
            " 12  cardio       70000 non-null  int64  \n",
            "dtypes: float64(1), int64(12)\n",
            "memory usage: 6.9 MB\n"
          ],
          "name": "stdout"
        }
      ]
    },
    {
      "cell_type": "code",
      "metadata": {
        "id": "dpptLsMBzBCX",
        "colab": {
          "base_uri": "https://localhost:8080/"
        },
        "outputId": "28160a3b-7f62-4d63-bdf0-a3d6e2e5cb57"
      },
      "source": [
        "data = cardiodb[['id', 'age']]\n",
        "df = pd.DataFrame(data)\n",
        "df.columns"
      ],
      "execution_count": null,
      "outputs": [
        {
          "output_type": "execute_result",
          "data": {
            "text/plain": [
              "Index(['id', 'age'], dtype='object')"
            ]
          },
          "metadata": {
            "tags": []
          },
          "execution_count": 199
        }
      ]
    },
    {
      "cell_type": "code",
      "metadata": {
        "id": "zSClkhj71zEf",
        "colab": {
          "base_uri": "https://localhost:8080/",
          "height": 281
        },
        "outputId": "d21c1ae2-b6b6-49b0-9044-8e90c026bce5"
      },
      "source": [
        "plt.hist(df['age'])\n",
        "plt.title(\"Histograma da variável Age\")\n",
        "plt.show() "
      ],
      "execution_count": null,
      "outputs": [
        {
          "output_type": "display_data",
          "data": {
            "image/png": "[encoded data removed]",
            "text/plain": [
              "<Figure size 432x288 with 1 Axes>"
            ]
          },
          "metadata": {
            "tags": [],
            "needs_background": "light"
          }
        }
      ]
    },
    {
      "cell_type": "code",
      "metadata": {
        "id": "14546Q5T6u8q",
        "colab": {
          "base_uri": "https://localhost:8080/",
          "height": 315
        },
        "outputId": "ed010b27-e810-452f-c9ee-dda66fe5bc6e"
      },
      "source": [
        "labels = 'Mulher', 'Homem'\n",
        "genderdb = cardiodb.value_counts(['gender'])\n",
        "print(genderdb)\n",
        "#1 - women, 2 - men\n",
        "genderdb.to_list()\n",
        "women = genderdb.to_list()[0]\n",
        "men = genderdb.to_list()[1]\n",
        "sizes = [women, men]\n",
        "fig1, ax1 = plt.subplots();\n",
        "ax1.pie(sizes, labels=labels, autopct='%1.1f', shadow=True, startangle=90)\n",
        "ax1.axis('equal')\n",
        "plt.show()"
      ],
      "execution_count": null,
      "outputs": [
        {
          "output_type": "stream",
          "text": [
            "gender\n",
            "1         45530\n",
            "2         24470\n",
            "dtype: int64\n"
          ],
          "name": "stdout"
        },
        {
          "output_type": "display_data",
          "data": {
            "image/png": "[encoded data removed]",
            "text/plain": [
              "<Figure size 432x288 with 1 Axes>"
            ]
          },
          "metadata": {
            "tags": []
          }
        }
      ]
    },
    {
      "cell_type": "code",
      "metadata": {
        "id": "CLzS3ZhKWrrQ",
        "colab": {
          "base_uri": "https://localhost:8080/",
          "height": 295
        },
        "outputId": "81f4a4bf-f77f-4ad8-c30b-712854e21ac7"
      },
      "source": [
        "data = cardiodb[['id', 'height']]\n",
        "df = pd.DataFrame(data)\n",
        "df.columns\n",
        "plt.hist(df['height'])\n",
        "plt.title(\"Histograma da variável Height\")\n",
        "plt.xlabel(\"Height\")\n",
        "plt.ylabel(\"Frequencia\")\n",
        "plt.show() "
      ],
      "execution_count": null,
      "outputs": [
        {
          "output_type": "display_data",
          "data": {
            "image/png": "[encoded data removed]",
            "text/plain": [
              "<Figure size 432x288 with 1 Axes>"
            ]
          },
          "metadata": {
            "tags": [],
            "needs_background": "light"
          }
        }
      ]
    },
    {
      "cell_type": "code",
      "metadata": {
        "id": "HolAn7wGYjG6",
        "colab": {
          "base_uri": "https://localhost:8080/",
          "height": 295
        },
        "outputId": "766fd7bd-3ed9-49f1-a081-65990ccdaf7e"
      },
      "source": [
        "data = cardiodb[['id', 'weight']]\n",
        "df = pd.DataFrame(data)\n",
        "df.columns\n",
        "plt.hist(df['weight'])\n",
        "plt.title(\"Histograma da variável weight\")\n",
        "plt.xlabel(\"weight\")\n",
        "plt.ylabel(\"Frequencia\")\n",
        "plt.show() "
      ],
      "execution_count": null,
      "outputs": [
        {
          "output_type": "display_data",
          "data": {
            "image/png": "[encoded data removed]",
            "text/plain": [
              "<Figure size 432x288 with 1 Axes>"
            ]
          },
          "metadata": {
            "tags": [],
            "needs_background": "light"
          }
        }
      ]
    },
    {
      "cell_type": "code",
      "metadata": {
        "id": "qjHFN4XFZJUV",
        "colab": {
          "base_uri": "https://localhost:8080/",
          "height": 296
        },
        "outputId": "81c24e7a-06b1-452d-de32-e69a1ece401f"
      },
      "source": [
        "data = cardiodb[['id', 'ap_hi']]\n",
        "df = pd.DataFrame(data)\n",
        "df.columns\n",
        "plt.hist(df['ap_hi'])\n",
        "plt.title(\"Histograma da variável ap_hi\")\n",
        "plt.xlabel(\"ap_hi\")\n",
        "plt.ylabel(\"Frequencia\")\n",
        "plt.show() "
      ],
      "execution_count": null,
      "outputs": [
        {
          "output_type": "display_data",
          "data": {
            "image/png": "[encoded data removed]",
            "text/plain": [
              "<Figure size 432x288 with 1 Axes>"
            ]
          },
          "metadata": {
            "tags": [],
            "needs_background": "light"
          }
        }
      ]
    },
    {
      "cell_type": "code",
      "metadata": {
        "id": "i3EssyyfZaqB",
        "colab": {
          "base_uri": "https://localhost:8080/",
          "height": 296
        },
        "outputId": "69c971c3-5eda-4f4e-a04d-55ebf606d031"
      },
      "source": [
        "data = cardiodb[['id', 'ap_lo']]\n",
        "df = pd.DataFrame(data)\n",
        "df.columns\n",
        "plt.hist(df['ap_lo'])\n",
        "plt.title(\"Histograma da variável ap_lo\")\n",
        "plt.xlabel(\"ap_lo\")\n",
        "plt.ylabel(\"Frequencia\")\n",
        "plt.show() "
      ],
      "execution_count": null,
      "outputs": [
        {
          "output_type": "display_data",
          "data": {
            "image/png": "[encoded data removed]",
            "text/plain": [
              "<Figure size 432x288 with 1 Axes>"
            ]
          },
          "metadata": {
            "tags": [],
            "needs_background": "light"
          }
        }
      ]
    },
    {
      "cell_type": "code",
      "metadata": {
        "id": "bRfHMyQWZ4xY",
        "colab": {
          "base_uri": "https://localhost:8080/",
          "height": 332
        },
        "outputId": "ac68b583-d070-4b1e-8f4b-963433ded007"
      },
      "source": [
        "labels = '1: normal','2: above normal', '3: well above normal'\n",
        "cholesteroldb = cardiodb.value_counts(['cholesterol'])\n",
        "print(cholesteroldb)\n",
        "cholesteroldb.to_list()\n",
        "normal = cholesteroldb.to_list()[0]\n",
        "above = cholesteroldb.to_list()[1]\n",
        "wellAbove = cholesteroldb.to_list()[2]\n",
        "sizes = [normal, above, wellAbove]\n",
        "fig1, ax1 = plt.subplots();\n",
        "ax1.pie(sizes, labels=labels, autopct='%1.1f', shadow=True, startangle=90)\n",
        "ax1.axis('equal')\n",
        "plt.show()"
      ],
      "execution_count": null,
      "outputs": [
        {
          "output_type": "stream",
          "text": [
            "cholesterol\n",
            "1              52385\n",
            "2               9549\n",
            "3               8066\n",
            "dtype: int64\n"
          ],
          "name": "stdout"
        },
        {
          "output_type": "display_data",
          "data": {
            "image/png": "[encoded data removed]",
            "text/plain": [
              "<Figure size 432x288 with 1 Axes>"
            ]
          },
          "metadata": {
            "tags": []
          }
        }
      ]
    },
    {
      "cell_type": "code",
      "metadata": {
        "id": "dqOjp78zbjLs",
        "colab": {
          "base_uri": "https://localhost:8080/",
          "height": 334
        },
        "outputId": "77101c53-1f70-47a6-f120-9ac97348e476"
      },
      "source": [
        "labels = '1: normal','2: above normal', '3: well above normal'\n",
        "glucosedb = cardiodb.value_counts(['gluc'])\n",
        "print(glucosedb)\n",
        "glucosedb.to_list()\n",
        "normal = glucosedb.to_list()[0]\n",
        "above = glucosedb.to_list()[1]\n",
        "wellAbove = glucosedb.to_list()[2]\n",
        "sizes = [normal, above, wellAbove]\n",
        "fig1, ax1 = plt.subplots();\n",
        "ax1.pie(sizes, labels=labels, autopct='%1.1f', shadow=True, startangle=90)\n",
        "ax1.axis('equal')\n",
        "plt.show()"
      ],
      "execution_count": null,
      "outputs": [
        {
          "output_type": "stream",
          "text": [
            "gluc\n",
            "1       59479\n",
            "3        5331\n",
            "2        5190\n",
            "dtype: int64\n"
          ],
          "name": "stdout"
        },
        {
          "output_type": "display_data",
          "data": {
            "image/png": "[encoded data removed]",
            "text/plain": [
              "<Figure size 432x288 with 1 Axes>"
            ]
          },
          "metadata": {
            "tags": []
          }
        }
      ]
    },
    {
      "cell_type": "code",
      "metadata": {
        "id": "IkdyTehScmJg",
        "colab": {
          "base_uri": "https://localhost:8080/",
          "height": 316
        },
        "outputId": "ee3864e3-a70d-4cb9-ddf3-2fca57b80ddb"
      },
      "source": [
        "#smoke\n",
        "\n",
        "labels = '0: No','1: Yes'\n",
        "smokedb = cardiodb.value_counts(['smoke'])\n",
        "print(smokedb)\n",
        "smokedb.to_list()\n",
        "no = smokedb.to_list()[0]\n",
        "yes = smokedb.to_list()[1]\n",
        "\n",
        "sizes = [no, yes]\n",
        "fig1, ax1 = plt.subplots();\n",
        "ax1.pie(sizes, labels=labels, autopct='%1.1f', shadow=True, startangle=90)\n",
        "ax1.axis('equal')\n",
        "plt.show()"
      ],
      "execution_count": null,
      "outputs": [
        {
          "output_type": "stream",
          "text": [
            "smoke\n",
            "0        63831\n",
            "1         6169\n",
            "dtype: int64\n"
          ],
          "name": "stdout"
        },
        {
          "output_type": "display_data",
          "data": {
            "image/png": "[encoded data removed]",
            "text/plain": [
              "<Figure size 432x288 with 1 Axes>"
            ]
          },
          "metadata": {
            "tags": []
          }
        }
      ]
    },
    {
      "cell_type": "code",
      "metadata": {
        "id": "LJF0j14wdPkn",
        "colab": {
          "base_uri": "https://localhost:8080/",
          "height": 322
        },
        "outputId": "85a8a609-3045-4263-fc2f-a203276b5d7a"
      },
      "source": [
        "#Alcohol intake - Ingestão de Alcool\n",
        "labels = '0: No','1: Yes'\n",
        "alcoholdb = cardiodb.value_counts(['alco'])\n",
        "print(alcoholdb)\n",
        "alcoholdb.to_list()\n",
        "no = alcoholdb.to_list()[0]\n",
        "yes = alcoholdb.to_list()[1]\n",
        "\n",
        "sizes = [no, yes]\n",
        "fig1, ax1 = plt.subplots();\n",
        "ax1.pie(sizes, labels=labels, autopct='%1.1f', shadow=True, startangle=90)\n",
        "ax1.axis('equal')\n",
        "plt.show()"
      ],
      "execution_count": null,
      "outputs": [
        {
          "output_type": "stream",
          "text": [
            "alco\n",
            "0       66236\n",
            "1        3764\n",
            "dtype: int64\n"
          ],
          "name": "stdout"
        },
        {
          "output_type": "display_data",
          "data": {
            "image/png": "[encoded data removed]",
            "text/plain": [
              "<Figure size 432x288 with 1 Axes>"
            ]
          },
          "metadata": {
            "tags": []
          }
        }
      ]
    },
    {
      "cell_type": "code",
      "metadata": {
        "id": "vplx-JK0evq1",
        "colab": {
          "base_uri": "https://localhost:8080/",
          "height": 315
        },
        "outputId": "84a4a238-3377-4745-c118-80011de2b176"
      },
      "source": [
        "#active\n",
        "labels = '0: No','1: Yes'\n",
        "activedb = cardiodb.value_counts(['active'])\n",
        "print(activedb)\n",
        "activedb.to_list()\n",
        "no = activedb.to_list()[0]\n",
        "yes = activedb.to_list()[1]\n",
        "\n",
        "sizes = [no, yes]\n",
        "fig1, ax1 = plt.subplots();\n",
        "ax1.pie(sizes, labels=labels, autopct='%1.1f', shadow=True, startangle=90)\n",
        "ax1.axis('equal')\n",
        "plt.show()"
      ],
      "execution_count": null,
      "outputs": [
        {
          "output_type": "stream",
          "text": [
            "active\n",
            "1         56261\n",
            "0         13739\n",
            "dtype: int64\n"
          ],
          "name": "stdout"
        },
        {
          "output_type": "display_data",
          "data": {
            "image/png": "[encoded data removed]",
            "text/plain": [
              "<Figure size 432x288 with 1 Axes>"
            ]
          },
          "metadata": {
            "tags": []
          }
        }
      ]
    },
    {
      "cell_type": "code",
      "metadata": {
        "id": "pYyDCk3XfXtm",
        "colab": {
          "base_uri": "https://localhost:8080/",
          "height": 315
        },
        "outputId": "e5f319b3-d321-461a-82aa-135d85133aa3"
      },
      "source": [
        "#cardio\n",
        "labels = '0: No','1: Yes'\n",
        "cardioTargetDb = cardiodb.value_counts(['cardio'])\n",
        "print(cardioTargetDb)\n",
        "cardioTargetDb.to_list()\n",
        "no = cardioTargetDb.to_list()[0]\n",
        "yes = cardioTargetDb.to_list()[1]\n",
        "\n",
        "sizes = [no, yes]\n",
        "fig1, ax1 = plt.subplots();\n",
        "ax1.pie(sizes, labels=labels, autopct='%1.1f', shadow=True, startangle=90)\n",
        "ax1.axis('equal')\n",
        "plt.show()"
      ],
      "execution_count": null,
      "outputs": [
        {
          "output_type": "stream",
          "text": [
            "cardio\n",
            "0         35021\n",
            "1         34979\n",
            "dtype: int64\n"
          ],
          "name": "stdout"
        },
        {
          "output_type": "display_data",
          "data": {
            "image/png": "[encoded data removed]",
            "text/plain": [
              "<Figure size 432x288 with 1 Axes>"
            ]
          },
          "metadata": {
            "tags": []
          }
        }
      ]
    },
    {
      "cell_type": "markdown",
      "metadata": {
        "id": "OxLnT4ufbEVN"
      },
      "source": [
        "## Análise dos campos numéricos"
      ]
    },
    {
      "cell_type": "code",
      "metadata": {
        "id": "arf_IrqtjHfv"
      },
      "source": [
        "def get_coefficient_variation(df):\n",
        "  return round(100 * df.std() / df.mean(), 2)\n",
        "\n",
        "def show_distribution(df):\n",
        "  sbn.displot(df, kind='kde')\n",
        "  plt.title('Distribuição')\n",
        "  plt.show()\n",
        "\n",
        "def show_boxplot(df):\n",
        "  sbn.boxplot(x=df)\n",
        "  plt.title('Box plot')\n",
        "  plt.show()"
      ],
      "execution_count": null,
      "outputs": []
    },
    {
      "cell_type": "markdown",
      "metadata": {
        "id": "Eg8cFVfCg_S2"
      },
      "source": [
        "### Idade"
      ]
    },
    {
      "cell_type": "markdown",
      "metadata": {
        "id": "A2zCaCdHrSLG"
      },
      "source": [
        "**Média em anos**"
      ]
    },
    {
      "cell_type": "code",
      "metadata": {
        "id": "55-k8CowrMBW",
        "colab": {
          "base_uri": "https://localhost:8080/"
        },
        "outputId": "8bacfc27-1219-43d1-da1d-c30dbb84cfc1"
      },
      "source": [
        "year_age = cardiodb.age // 365\n",
        "round(year_age.mean(), 2)"
      ],
      "execution_count": null,
      "outputs": [
        {
          "output_type": "execute_result",
          "data": {
            "text/plain": [
              "52.84"
            ]
          },
          "metadata": {
            "tags": []
          },
          "execution_count": 149
        }
      ]
    },
    {
      "cell_type": "markdown",
      "metadata": {
        "id": "4ENQdEKIsVZW"
      },
      "source": [
        "**Mediana**"
      ]
    },
    {
      "cell_type": "code",
      "metadata": {
        "id": "Q6KWY806scSf",
        "colab": {
          "base_uri": "https://localhost:8080/"
        },
        "outputId": "ffb86fe5-f8cf-4ced-bde3-b2175b2df001"
      },
      "source": [
        "year_age.median()"
      ],
      "execution_count": null,
      "outputs": [
        {
          "output_type": "execute_result",
          "data": {
            "text/plain": [
              "53.0"
            ]
          },
          "metadata": {
            "tags": []
          },
          "execution_count": 150
        }
      ]
    },
    {
      "cell_type": "markdown",
      "metadata": {
        "id": "LdwS23x1sqwq"
      },
      "source": [
        "**Moda**"
      ]
    },
    {
      "cell_type": "code",
      "metadata": {
        "id": "qkqfnm3OssOb",
        "colab": {
          "base_uri": "https://localhost:8080/"
        },
        "outputId": "8b661d43-cedc-476b-e2f5-f7dbacf99ba1"
      },
      "source": [
        "year_age.mode()"
      ],
      "execution_count": null,
      "outputs": [
        {
          "output_type": "execute_result",
          "data": {
            "text/plain": [
              "0    55\n",
              "dtype: int64"
            ]
          },
          "metadata": {
            "tags": []
          },
          "execution_count": 151
        }
      ]
    },
    {
      "cell_type": "markdown",
      "metadata": {
        "id": "JSmm8bfwtD9f"
      },
      "source": [
        "**Desvio-padrão**"
      ]
    },
    {
      "cell_type": "code",
      "metadata": {
        "id": "YyIV7pLCtLFH",
        "colab": {
          "base_uri": "https://localhost:8080/"
        },
        "outputId": "f3399947-39fe-41cc-f867-a1951fe713ae"
      },
      "source": [
        "round(year_age.std(), 2)"
      ],
      "execution_count": null,
      "outputs": [
        {
          "output_type": "execute_result",
          "data": {
            "text/plain": [
              "6.77"
            ]
          },
          "metadata": {
            "tags": []
          },
          "execution_count": 152
        }
      ]
    },
    {
      "cell_type": "markdown",
      "metadata": {
        "id": "K7vmJ5zgt4sC"
      },
      "source": [
        "**Coeficiente de variação**"
      ]
    },
    {
      "cell_type": "code",
      "metadata": {
        "id": "7v0OUP1Et8by",
        "colab": {
          "base_uri": "https://localhost:8080/"
        },
        "outputId": "4c840842-072d-41a0-95ec-347884f2d68d"
      },
      "source": [
        "get_coefficient_variation(year_age)"
      ],
      "execution_count": null,
      "outputs": [
        {
          "output_type": "execute_result",
          "data": {
            "text/plain": [
              "12.81"
            ]
          },
          "metadata": {
            "tags": []
          },
          "execution_count": 153
        }
      ]
    },
    {
      "cell_type": "code",
      "metadata": {
        "id": "4MbI6RIihkY3",
        "colab": {
          "base_uri": "https://localhost:8080/",
          "height": 295
        },
        "outputId": "072fbf16-bfe9-4b7b-ea4e-9d90c49f2854"
      },
      "source": [
        "show_boxplot(year_age)"
      ],
      "execution_count": null,
      "outputs": [
        {
          "output_type": "display_data",
          "data": {
            "image/png": "[encoded data removed]",
            "text/plain": [
              "<Figure size 432x288 with 1 Axes>"
            ]
          },
          "metadata": {
            "tags": [],
            "needs_background": "light"
          }
        }
      ]
    },
    {
      "cell_type": "markdown",
      "metadata": {
        "id": "VkXA5_ACbG5v"
      },
      "source": [
        "Distribuição assimétrica negativa com presença de outliers."
      ]
    },
    {
      "cell_type": "code",
      "metadata": {
        "id": "MzJrAo-4eQtM",
        "colab": {
          "base_uri": "https://localhost:8080/",
          "height": 385
        },
        "outputId": "67b3ac72-5c30-4b2d-d351-9fc603104067"
      },
      "source": [
        "show_distribution(year_age)"
      ],
      "execution_count": null,
      "outputs": [
        {
          "output_type": "display_data",
          "data": {
            "image/png": "[encoded data removed]",
            "text/plain": [
              "<Figure size 360x360 with 1 Axes>"
            ]
          },
          "metadata": {
            "tags": [],
            "needs_background": "light"
          }
        }
      ]
    },
    {
      "cell_type": "markdown",
      "metadata": {
        "id": "rprrlagvkg1x"
      },
      "source": [
        "### Altura"
      ]
    },
    {
      "cell_type": "markdown",
      "metadata": {
        "id": "4LOizENkvgRA"
      },
      "source": [
        "**Média**"
      ]
    },
    {
      "cell_type": "code",
      "metadata": {
        "id": "UbtB7gX4vkYB",
        "colab": {
          "base_uri": "https://localhost:8080/"
        },
        "outputId": "d0bb36b9-5161-4524-f412-993f16ad8e62"
      },
      "source": [
        "round(cardiodb.height.mean(), 2)"
      ],
      "execution_count": null,
      "outputs": [
        {
          "output_type": "execute_result",
          "data": {
            "text/plain": [
              "164.36"
            ]
          },
          "metadata": {
            "tags": []
          },
          "execution_count": 156
        }
      ]
    },
    {
      "cell_type": "markdown",
      "metadata": {
        "id": "Jq3kjwoGvwz_"
      },
      "source": [
        "**Mediana**"
      ]
    },
    {
      "cell_type": "code",
      "metadata": {
        "id": "iWgrpVeWvyJJ",
        "colab": {
          "base_uri": "https://localhost:8080/"
        },
        "outputId": "92c9e561-a534-48c1-b9b9-6f83b05c49ed"
      },
      "source": [
        "cardiodb.height.median()"
      ],
      "execution_count": null,
      "outputs": [
        {
          "output_type": "execute_result",
          "data": {
            "text/plain": [
              "165.0"
            ]
          },
          "metadata": {
            "tags": []
          },
          "execution_count": 157
        }
      ]
    },
    {
      "cell_type": "markdown",
      "metadata": {
        "id": "UvfWY-JDv3RY"
      },
      "source": [
        "**Moda**"
      ]
    },
    {
      "cell_type": "code",
      "metadata": {
        "id": "v3oIZRZiv4ix",
        "colab": {
          "base_uri": "https://localhost:8080/"
        },
        "outputId": "6e176deb-77ed-44dc-a022-748360e30de9"
      },
      "source": [
        "cardiodb.height.mode()"
      ],
      "execution_count": null,
      "outputs": [
        {
          "output_type": "execute_result",
          "data": {
            "text/plain": [
              "0    165\n",
              "dtype: int64"
            ]
          },
          "metadata": {
            "tags": []
          },
          "execution_count": 158
        }
      ]
    },
    {
      "cell_type": "markdown",
      "metadata": {
        "id": "BYB79fw8v9rG"
      },
      "source": [
        "**Desvio-padrão**"
      ]
    },
    {
      "cell_type": "code",
      "metadata": {
        "id": "qH11V5RiwEHs",
        "colab": {
          "base_uri": "https://localhost:8080/"
        },
        "outputId": "2a60b175-ad3d-4913-9c4c-c8b107c70fa4"
      },
      "source": [
        "round(cardiodb.height.std(), 2)"
      ],
      "execution_count": null,
      "outputs": [
        {
          "output_type": "execute_result",
          "data": {
            "text/plain": [
              "8.21"
            ]
          },
          "metadata": {
            "tags": []
          },
          "execution_count": 159
        }
      ]
    },
    {
      "cell_type": "markdown",
      "metadata": {
        "id": "yt5owfxexHu9"
      },
      "source": [
        "**Coeficiente de variação**"
      ]
    },
    {
      "cell_type": "code",
      "metadata": {
        "id": "9jCx9x4YxLLq",
        "colab": {
          "base_uri": "https://localhost:8080/"
        },
        "outputId": "fe92df7a-c0cf-4ca4-b172-66f30aa52cbb"
      },
      "source": [
        "get_coefficient_variation(cardiodb.height)"
      ],
      "execution_count": null,
      "outputs": [
        {
          "output_type": "execute_result",
          "data": {
            "text/plain": [
              "5.0"
            ]
          },
          "metadata": {
            "tags": []
          },
          "execution_count": 160
        }
      ]
    },
    {
      "cell_type": "code",
      "metadata": {
        "id": "ly9xoV_4kiPt",
        "colab": {
          "base_uri": "https://localhost:8080/",
          "height": 385
        },
        "outputId": "5f1af6d3-feb9-4ebd-9762-e2eb5be18355"
      },
      "source": [
        "show_distribution(cardiodb.height)"
      ],
      "execution_count": null,
      "outputs": [
        {
          "output_type": "display_data",
          "data": {
            "image/png": "[encoded data removed]",
            "text/plain": [
              "<Figure size 360x360 with 1 Axes>"
            ]
          },
          "metadata": {
            "tags": [],
            "needs_background": "light"
          }
        }
      ]
    },
    {
      "cell_type": "code",
      "metadata": {
        "id": "ieWQbgEHkpW0",
        "colab": {
          "base_uri": "https://localhost:8080/",
          "height": 295
        },
        "outputId": "e94f9c07-8387-44df-e42a-2cc78658e019"
      },
      "source": [
        "show_boxplot(cardiodb.height)"
      ],
      "execution_count": null,
      "outputs": [
        {
          "output_type": "display_data",
          "data": {
            "image/png": "[encoded data removed]",
            "text/plain": [
              "<Figure size 432x288 with 1 Axes>"
            ]
          },
          "metadata": {
            "tags": [],
            "needs_background": "light"
          }
        }
      ]
    },
    {
      "cell_type": "markdown",
      "metadata": {
        "id": "iH8FA0GHbUrj"
      },
      "source": [
        "Distribuição assimétrica negativa com presença de outliers."
      ]
    },
    {
      "cell_type": "markdown",
      "metadata": {
        "id": "U3tXMJKAhLVt"
      },
      "source": [
        "### Peso"
      ]
    },
    {
      "cell_type": "markdown",
      "metadata": {
        "id": "s-R3NMjpxda8"
      },
      "source": [
        "**Média**"
      ]
    },
    {
      "cell_type": "code",
      "metadata": {
        "id": "rh4wNovtxd8T",
        "colab": {
          "base_uri": "https://localhost:8080/"
        },
        "outputId": "e2f7326f-ef81-4f77-aee3-f788267af995"
      },
      "source": [
        "round(cardiodb.weight.mean(), 2)"
      ],
      "execution_count": null,
      "outputs": [
        {
          "output_type": "execute_result",
          "data": {
            "text/plain": [
              "74.21"
            ]
          },
          "metadata": {
            "tags": []
          },
          "execution_count": 163
        }
      ]
    },
    {
      "cell_type": "markdown",
      "metadata": {
        "id": "RDmvyh_8xluS"
      },
      "source": [
        "**Mediana**"
      ]
    },
    {
      "cell_type": "code",
      "metadata": {
        "id": "qrfRNZl7xoAb",
        "colab": {
          "base_uri": "https://localhost:8080/"
        },
        "outputId": "82d822ec-0fae-4f08-bd77-a205f95a557b"
      },
      "source": [
        "cardiodb.weight.median()"
      ],
      "execution_count": null,
      "outputs": [
        {
          "output_type": "execute_result",
          "data": {
            "text/plain": [
              "72.0"
            ]
          },
          "metadata": {
            "tags": []
          },
          "execution_count": 164
        }
      ]
    },
    {
      "cell_type": "markdown",
      "metadata": {
        "id": "Q-zoFVqoxr6p"
      },
      "source": [
        "**Moda**"
      ]
    },
    {
      "cell_type": "code",
      "metadata": {
        "id": "cZyHRYPExucK",
        "colab": {
          "base_uri": "https://localhost:8080/"
        },
        "outputId": "47c0e674-299c-4fae-c73f-cca01a7e852f"
      },
      "source": [
        "cardiodb.weight.mode()"
      ],
      "execution_count": null,
      "outputs": [
        {
          "output_type": "execute_result",
          "data": {
            "text/plain": [
              "0    65.0\n",
              "dtype: float64"
            ]
          },
          "metadata": {
            "tags": []
          },
          "execution_count": 165
        }
      ]
    },
    {
      "cell_type": "markdown",
      "metadata": {
        "id": "gIf06oTwx3xS"
      },
      "source": [
        "**Desvio-padrão**"
      ]
    },
    {
      "cell_type": "code",
      "metadata": {
        "id": "lxgvBZvUx6a_",
        "colab": {
          "base_uri": "https://localhost:8080/"
        },
        "outputId": "003dbca3-81e1-490c-e694-6db5857fa23e"
      },
      "source": [
        "round(cardiodb.weight.std(), 2)"
      ],
      "execution_count": null,
      "outputs": [
        {
          "output_type": "execute_result",
          "data": {
            "text/plain": [
              "14.4"
            ]
          },
          "metadata": {
            "tags": []
          },
          "execution_count": 166
        }
      ]
    },
    {
      "cell_type": "markdown",
      "metadata": {
        "id": "Kj5Ta4_fyFP6"
      },
      "source": [
        "**Coeficiente de variação**"
      ]
    },
    {
      "cell_type": "code",
      "metadata": {
        "id": "IU78VhKAyFxW",
        "colab": {
          "base_uri": "https://localhost:8080/"
        },
        "outputId": "db53150c-0027-4f68-a0bf-c69026871191"
      },
      "source": [
        "get_coefficient_variation(cardiodb.weight)"
      ],
      "execution_count": null,
      "outputs": [
        {
          "output_type": "execute_result",
          "data": {
            "text/plain": [
              "19.4"
            ]
          },
          "metadata": {
            "tags": []
          },
          "execution_count": 167
        }
      ]
    },
    {
      "cell_type": "code",
      "metadata": {
        "id": "cBx3SIrfj-n_",
        "colab": {
          "base_uri": "https://localhost:8080/",
          "height": 295
        },
        "outputId": "6bebcee0-d85a-40cc-db04-3ad07cc82782"
      },
      "source": [
        "show_boxplot(cardiodb.weight)"
      ],
      "execution_count": null,
      "outputs": [
        {
          "output_type": "display_data",
          "data": {
            "image/png": "[encoded data removed]",
            "text/plain": [
              "<Figure size 432x288 with 1 Axes>"
            ]
          },
          "metadata": {
            "tags": [],
            "needs_background": "light"
          }
        }
      ]
    },
    {
      "cell_type": "markdown",
      "metadata": {
        "id": "eibpAq32cAsD"
      },
      "source": [
        "Distribuição assimétrica positiva com presença de outliers."
      ]
    },
    {
      "cell_type": "code",
      "metadata": {
        "id": "gjLpxMc1bDS-",
        "colab": {
          "base_uri": "https://localhost:8080/",
          "height": 385
        },
        "outputId": "28db9f0e-b919-497f-cec7-199f7aac669d"
      },
      "source": [
        "show_distribution(cardiodb.weight)"
      ],
      "execution_count": null,
      "outputs": [
        {
          "output_type": "display_data",
          "data": {
            "image/png": "[encoded data removed]",
            "text/plain": [
              "<Figure size 360x360 with 1 Axes>"
            ]
          },
          "metadata": {
            "tags": [],
            "needs_background": "light"
          }
        }
      ]
    },
    {
      "cell_type": "markdown",
      "metadata": {
        "id": "hvCCg2LopDnj"
      },
      "source": [
        "### Sístole"
      ]
    },
    {
      "cell_type": "markdown",
      "metadata": {
        "id": "G8z6oAa9yQwb"
      },
      "source": [
        "**Média**"
      ]
    },
    {
      "cell_type": "code",
      "metadata": {
        "id": "xZ06hRj4ySK1",
        "colab": {
          "base_uri": "https://localhost:8080/"
        },
        "outputId": "e2b38e1c-fb72-4b66-825e-6e8ee5a91cc5"
      },
      "source": [
        "round(cardiodb.ap_hi.mean(), 2)"
      ],
      "execution_count": null,
      "outputs": [
        {
          "output_type": "execute_result",
          "data": {
            "text/plain": [
              "128.82"
            ]
          },
          "metadata": {
            "tags": []
          },
          "execution_count": 170
        }
      ]
    },
    {
      "cell_type": "markdown",
      "metadata": {
        "id": "d--QdCNdyXmF"
      },
      "source": [
        "**Mediana**"
      ]
    },
    {
      "cell_type": "code",
      "metadata": {
        "id": "9NdVklPEyYw9",
        "colab": {
          "base_uri": "https://localhost:8080/"
        },
        "outputId": "717a77f8-5a9e-4361-d210-7540265ef014"
      },
      "source": [
        "cardiodb.ap_hi.median()"
      ],
      "execution_count": null,
      "outputs": [
        {
          "output_type": "execute_result",
          "data": {
            "text/plain": [
              "120.0"
            ]
          },
          "metadata": {
            "tags": []
          },
          "execution_count": 171
        }
      ]
    },
    {
      "cell_type": "markdown",
      "metadata": {
        "id": "ziFJakBuybG6"
      },
      "source": [
        "**Moda**"
      ]
    },
    {
      "cell_type": "code",
      "metadata": {
        "id": "2t5H3ME7ycyj",
        "colab": {
          "base_uri": "https://localhost:8080/"
        },
        "outputId": "05799413-dbc3-44b5-f479-a3333f601116"
      },
      "source": [
        "cardiodb.ap_hi.mode()"
      ],
      "execution_count": null,
      "outputs": [
        {
          "output_type": "execute_result",
          "data": {
            "text/plain": [
              "0    120\n",
              "dtype: int64"
            ]
          },
          "metadata": {
            "tags": []
          },
          "execution_count": 172
        }
      ]
    },
    {
      "cell_type": "markdown",
      "metadata": {
        "id": "Hkiu98Bsyf5q"
      },
      "source": [
        "**Desvio-padrão**"
      ]
    },
    {
      "cell_type": "code",
      "metadata": {
        "id": "8eH5oDTyyisR",
        "colab": {
          "base_uri": "https://localhost:8080/"
        },
        "outputId": "36f7a3cf-ff6e-4c95-cc57-00a7ac912363"
      },
      "source": [
        "round(cardiodb.ap_hi.std(), 2)"
      ],
      "execution_count": null,
      "outputs": [
        {
          "output_type": "execute_result",
          "data": {
            "text/plain": [
              "154.01"
            ]
          },
          "metadata": {
            "tags": []
          },
          "execution_count": 173
        }
      ]
    },
    {
      "cell_type": "markdown",
      "metadata": {
        "id": "_o9rSJnAymxj"
      },
      "source": [
        "**Coeficiente de variação**"
      ]
    },
    {
      "cell_type": "code",
      "metadata": {
        "id": "dHmls2LCysBg",
        "colab": {
          "base_uri": "https://localhost:8080/"
        },
        "outputId": "a5c8bc9f-8614-47ab-8855-062a87e4f48d"
      },
      "source": [
        "get_coefficient_variation(cardiodb.ap_hi)"
      ],
      "execution_count": null,
      "outputs": [
        {
          "output_type": "execute_result",
          "data": {
            "text/plain": [
              "119.56"
            ]
          },
          "metadata": {
            "tags": []
          },
          "execution_count": 174
        }
      ]
    },
    {
      "cell_type": "code",
      "metadata": {
        "id": "DSxDD7mwpzMx",
        "colab": {
          "base_uri": "https://localhost:8080/",
          "height": 296
        },
        "outputId": "0c616bda-2a23-42c0-a2fb-2767403767a7"
      },
      "source": [
        "show_boxplot(cardiodb.ap_hi)"
      ],
      "execution_count": null,
      "outputs": [
        {
          "output_type": "display_data",
          "data": {
            "image/png": "[encoded data removed]",
            "text/plain": [
              "<Figure size 432x288 with 1 Axes>"
            ]
          },
          "metadata": {
            "tags": [],
            "needs_background": "light"
          }
        }
      ]
    },
    {
      "cell_type": "markdown",
      "metadata": {
        "id": "8tLkufCqcHzH"
      },
      "source": [
        "Distribuição assimétrica positiva com presença de outliers."
      ]
    },
    {
      "cell_type": "code",
      "metadata": {
        "id": "EzCPg663prnq",
        "colab": {
          "base_uri": "https://localhost:8080/",
          "height": 385
        },
        "outputId": "fafd21ac-88df-49fa-85be-92d5f5f753c4"
      },
      "source": [
        "show_distribution(cardiodb.ap_hi)"
      ],
      "execution_count": null,
      "outputs": [
        {
          "output_type": "display_data",
          "data": {
            "image/png": "[encoded data removed]",
            "text/plain": [
              "<Figure size 360x360 with 1 Axes>"
            ]
          },
          "metadata": {
            "tags": [],
            "needs_background": "light"
          }
        }
      ]
    },
    {
      "cell_type": "markdown",
      "metadata": {
        "id": "pqlNoAmjo4Ye"
      },
      "source": [
        "### Diástole"
      ]
    },
    {
      "cell_type": "markdown",
      "metadata": {
        "id": "yrxD3cFQzQek"
      },
      "source": [
        "**Média**"
      ]
    },
    {
      "cell_type": "code",
      "metadata": {
        "id": "CZnTTG3fzRl_",
        "colab": {
          "base_uri": "https://localhost:8080/"
        },
        "outputId": "8dbbe910-04c5-45b3-9a4b-ed03aa904f26"
      },
      "source": [
        "round(cardiodb.ap_lo.mean(), 2)"
      ],
      "execution_count": null,
      "outputs": [
        {
          "output_type": "execute_result",
          "data": {
            "text/plain": [
              "96.63"
            ]
          },
          "metadata": {
            "tags": []
          },
          "execution_count": 177
        }
      ]
    },
    {
      "cell_type": "markdown",
      "metadata": {
        "id": "Y-9QXuYKzWVx"
      },
      "source": [
        "**Mediana**"
      ]
    },
    {
      "cell_type": "code",
      "metadata": {
        "id": "0fLQL-APzXTq",
        "colab": {
          "base_uri": "https://localhost:8080/"
        },
        "outputId": "56e930f8-581f-4d4d-f157-22d9a89b562c"
      },
      "source": [
        "cardiodb.ap_lo.median()"
      ],
      "execution_count": null,
      "outputs": [
        {
          "output_type": "execute_result",
          "data": {
            "text/plain": [
              "80.0"
            ]
          },
          "metadata": {
            "tags": []
          },
          "execution_count": 178
        }
      ]
    },
    {
      "cell_type": "markdown",
      "metadata": {
        "id": "Ihd1YTT9zaOz"
      },
      "source": [
        "**Moda**"
      ]
    },
    {
      "cell_type": "code",
      "metadata": {
        "id": "sYizHh0dzbFE",
        "colab": {
          "base_uri": "https://localhost:8080/"
        },
        "outputId": "9c736d77-6fdd-401e-f2d2-104f0850b45c"
      },
      "source": [
        "cardiodb.ap_lo.mode()"
      ],
      "execution_count": null,
      "outputs": [
        {
          "output_type": "execute_result",
          "data": {
            "text/plain": [
              "0    80\n",
              "dtype: int64"
            ]
          },
          "metadata": {
            "tags": []
          },
          "execution_count": 179
        }
      ]
    },
    {
      "cell_type": "markdown",
      "metadata": {
        "id": "p-1CTdRTzdsJ"
      },
      "source": [
        "**Desvio-padrão**"
      ]
    },
    {
      "cell_type": "code",
      "metadata": {
        "id": "fvgbHsS0ziSp",
        "colab": {
          "base_uri": "https://localhost:8080/"
        },
        "outputId": "c3076a4f-13b6-4616-b825-71573e6a77a3"
      },
      "source": [
        "round(cardiodb.ap_lo.std(), 2)"
      ],
      "execution_count": null,
      "outputs": [
        {
          "output_type": "execute_result",
          "data": {
            "text/plain": [
              "188.47"
            ]
          },
          "metadata": {
            "tags": []
          },
          "execution_count": 180
        }
      ]
    },
    {
      "cell_type": "markdown",
      "metadata": {
        "id": "HGCr6xd4z1YB"
      },
      "source": [
        "**Coeficiente de variação**"
      ]
    },
    {
      "cell_type": "code",
      "metadata": {
        "id": "PByeuhwjz4Ei",
        "colab": {
          "base_uri": "https://localhost:8080/"
        },
        "outputId": "d05059d1-9d8e-4c71-f866-66cbe095aee1"
      },
      "source": [
        "get_coefficient_variation(cardiodb.ap_lo)"
      ],
      "execution_count": null,
      "outputs": [
        {
          "output_type": "execute_result",
          "data": {
            "text/plain": [
              "195.04"
            ]
          },
          "metadata": {
            "tags": []
          },
          "execution_count": 181
        }
      ]
    },
    {
      "cell_type": "code",
      "metadata": {
        "id": "PO_fAMA4qG5h",
        "colab": {
          "base_uri": "https://localhost:8080/",
          "height": 296
        },
        "outputId": "e9945287-8659-44bf-d18d-39ad690b119b"
      },
      "source": [
        "show_boxplot(cardiodb.ap_lo)"
      ],
      "execution_count": null,
      "outputs": [
        {
          "output_type": "display_data",
          "data": {
            "image/png": "[encoded data removed]",
            "text/plain": [
              "<Figure size 432x288 with 1 Axes>"
            ]
          },
          "metadata": {
            "tags": [],
            "needs_background": "light"
          }
        }
      ]
    },
    {
      "cell_type": "markdown",
      "metadata": {
        "id": "My0wFXshcP92"
      },
      "source": [
        "Distribuição assimétrica positiva com presença de outliers."
      ]
    },
    {
      "cell_type": "code",
      "metadata": {
        "id": "tEnC6Uh6qC4X",
        "colab": {
          "base_uri": "https://localhost:8080/",
          "height": 385
        },
        "outputId": "d7ace49e-dcae-43c4-ef89-35e5f94527c7"
      },
      "source": [
        "show_distribution(cardiodb.ap_lo)"
      ],
      "execution_count": null,
      "outputs": [
        {
          "output_type": "display_data",
          "data": {
            "image/png": "[encoded data removed]",
            "text/plain": [
              "<Figure size 360x360 with 1 Axes>"
            ]
          },
          "metadata": {
            "tags": [],
            "needs_background": "light"
          }
        }
      ]
    },
    {
      "cell_type": "markdown",
      "metadata": {
        "id": "ZF9WCIn31S-L"
      },
      "source": [
        "### Homogeneidade"
      ]
    },
    {
      "cell_type": "markdown",
      "metadata": {
        "id": "Fmp1XHOw0jmh"
      },
      "source": [
        "Entre os campos numéricos, a **altura** apresenta mais homogeneidade por ter coeficiente de variação igual a 5%, o menor entre eles."
      ]
    },
    {
      "cell_type": "markdown",
      "metadata": {
        "id": "CFmx6Pqt1vpY"
      },
      "source": [
        "## Intervalos de confiança"
      ]
    },
    {
      "cell_type": "markdown",
      "metadata": {
        "id": "gUdxli7dYoDA"
      },
      "source": [
        "d) (Vale 1,0 ponto) Calcular os respectivos Intervalos de Confiança ao nível de 95% para cada campo do data frame; Av. + ou - 1,96*sigma/raiz(n) (z(a/2)=1,96 para a=5%)"
      ]
    },
    {
      "cell_type": "code",
      "metadata": {
        "id": "9XANB3nCrzsm"
      },
      "source": [
        "def get_confidence_interval(df):\n",
        "  df_size = df.size\n",
        "  bottom, higher = t.interval(0.95, df_size-1, loc=df.mean(), scale=df.std()/np.sqrt(df_size))\n",
        "  return bottom, higher"
      ],
      "execution_count": null,
      "outputs": []
    },
    {
      "cell_type": "markdown",
      "metadata": {
        "id": "9_0-wwhx11Fp"
      },
      "source": [
        "### Idade"
      ]
    },
    {
      "cell_type": "markdown",
      "metadata": {
        "id": "zu6bpPOV2jyZ"
      },
      "source": [
        "**Limite inferior (95%)**"
      ]
    },
    {
      "cell_type": "code",
      "metadata": {
        "id": "nhAUuW7t13ZO",
        "colab": {
          "base_uri": "https://localhost:8080/"
        },
        "outputId": "2ebd44c7-2260-458e-fdff-738cc4e891c8"
      },
      "source": [
        "bottom_age, higher_age = get_confidence_interval(year_age)\n",
        "round(bottom_age, 2)"
      ],
      "execution_count": null,
      "outputs": [
        {
          "output_type": "execute_result",
          "data": {
            "text/plain": [
              "52.79"
            ]
          },
          "metadata": {
            "tags": []
          },
          "execution_count": 185
        }
      ]
    },
    {
      "cell_type": "markdown",
      "metadata": {
        "id": "6PMwek9121-k"
      },
      "source": [
        "**Limite superior (95%)**"
      ]
    },
    {
      "cell_type": "code",
      "metadata": {
        "id": "y_emy1Vx26PK",
        "colab": {
          "base_uri": "https://localhost:8080/"
        },
        "outputId": "42990c8e-84b0-44d1-aa14-becdeb8d2ea4"
      },
      "source": [
        "round(higher_age, 2)"
      ],
      "execution_count": null,
      "outputs": [
        {
          "output_type": "execute_result",
          "data": {
            "text/plain": [
              "52.89"
            ]
          },
          "metadata": {
            "tags": []
          },
          "execution_count": 186
        }
      ]
    },
    {
      "cell_type": "markdown",
      "metadata": {
        "id": "gBGDaSj8rpZZ"
      },
      "source": [
        "### Altura"
      ]
    },
    {
      "cell_type": "markdown",
      "metadata": {
        "id": "HkOfzVlhrwEO"
      },
      "source": [
        "**Limite inferior (95%)**"
      ]
    },
    {
      "cell_type": "code",
      "metadata": {
        "id": "oCn2IbXJrsYx",
        "colab": {
          "base_uri": "https://localhost:8080/"
        },
        "outputId": "b9fd1d27-a469-4504-9beb-1acd56c24c03"
      },
      "source": [
        "bottom_height, higher_height = get_confidence_interval(cardiodb.height)\n",
        "round(bottom_height, 2)"
      ],
      "execution_count": null,
      "outputs": [
        {
          "output_type": "execute_result",
          "data": {
            "text/plain": [
              "164.3"
            ]
          },
          "metadata": {
            "tags": []
          },
          "execution_count": 187
        }
      ]
    },
    {
      "cell_type": "markdown",
      "metadata": {
        "id": "WWba37FCtwaS"
      },
      "source": [
        "**Limite superior (95%)**"
      ]
    },
    {
      "cell_type": "code",
      "metadata": {
        "id": "eJzkB35ttx3E",
        "colab": {
          "base_uri": "https://localhost:8080/"
        },
        "outputId": "61c5a4d7-6bc8-4502-e528-b9ec0804e5b2"
      },
      "source": [
        "round(higher_height, 2)"
      ],
      "execution_count": null,
      "outputs": [
        {
          "output_type": "execute_result",
          "data": {
            "text/plain": [
              "164.42"
            ]
          },
          "metadata": {
            "tags": []
          },
          "execution_count": 188
        }
      ]
    },
    {
      "cell_type": "markdown",
      "metadata": {
        "id": "_QmIPwTrOclf"
      },
      "source": [
        "### Peso"
      ]
    },
    {
      "cell_type": "markdown",
      "metadata": {
        "id": "_5ivDim4Oq_i"
      },
      "source": [
        "**Limite inferior (95%)**"
      ]
    },
    {
      "cell_type": "code",
      "metadata": {
        "id": "AOwNTq_VOsVQ",
        "colab": {
          "base_uri": "https://localhost:8080/"
        },
        "outputId": "106ed2e9-0ab5-4fe4-f488-ba66922df8b0"
      },
      "source": [
        "bottom_weight, higher_weight = get_confidence_interval(cardiodb.weight)\n",
        "round(bottom_weight, 2)"
      ],
      "execution_count": null,
      "outputs": [
        {
          "output_type": "execute_result",
          "data": {
            "text/plain": [
              "74.1"
            ]
          },
          "metadata": {
            "tags": []
          },
          "execution_count": 189
        }
      ]
    },
    {
      "cell_type": "markdown",
      "metadata": {
        "id": "3ISD0jM6QUGK"
      },
      "source": [
        "**Limite superior (95%)**"
      ]
    },
    {
      "cell_type": "code",
      "metadata": {
        "id": "469WjO1KQWHI",
        "colab": {
          "base_uri": "https://localhost:8080/"
        },
        "outputId": "47c31aa7-6eb4-458d-da72-075e0b695afa"
      },
      "source": [
        "round(higher_weight, 2)"
      ],
      "execution_count": null,
      "outputs": [
        {
          "output_type": "execute_result",
          "data": {
            "text/plain": [
              "74.31"
            ]
          },
          "metadata": {
            "tags": []
          },
          "execution_count": 190
        }
      ]
    },
    {
      "cell_type": "markdown",
      "metadata": {
        "id": "7BR5nAHwQkKu"
      },
      "source": [
        "### Sístole"
      ]
    },
    {
      "cell_type": "markdown",
      "metadata": {
        "id": "L7QG6_iUQqe2"
      },
      "source": [
        "**Limite inferior (95%)**"
      ]
    },
    {
      "cell_type": "code",
      "metadata": {
        "id": "dx4qmDk9QuGV",
        "colab": {
          "base_uri": "https://localhost:8080/"
        },
        "outputId": "d8fae136-1b8a-4895-a716-ac4766ce37d1"
      },
      "source": [
        "bottom_ap_hi, higher_ap_hi = get_confidence_interval(cardiodb.ap_hi)\n",
        "round(bottom_ap_hi, 2)"
      ],
      "execution_count": null,
      "outputs": [
        {
          "output_type": "execute_result",
          "data": {
            "text/plain": [
              "127.68"
            ]
          },
          "metadata": {
            "tags": []
          },
          "execution_count": 191
        }
      ]
    },
    {
      "cell_type": "markdown",
      "metadata": {
        "id": "Dvk0JSXPQ6By"
      },
      "source": [
        "**Limite superior (95%)**"
      ]
    },
    {
      "cell_type": "code",
      "metadata": {
        "id": "h4kconYpQ-EK",
        "colab": {
          "base_uri": "https://localhost:8080/"
        },
        "outputId": "6906ccc2-a91f-4ee5-e48e-9b955725d3ec"
      },
      "source": [
        "round(higher_ap_hi, 2)"
      ],
      "execution_count": null,
      "outputs": [
        {
          "output_type": "execute_result",
          "data": {
            "text/plain": [
              "129.96"
            ]
          },
          "metadata": {
            "tags": []
          },
          "execution_count": 192
        }
      ]
    },
    {
      "cell_type": "markdown",
      "metadata": {
        "id": "4KuNJcmqR7oS"
      },
      "source": [
        "### Diástole"
      ]
    },
    {
      "cell_type": "markdown",
      "metadata": {
        "id": "ou2wM_4zS6TJ"
      },
      "source": [
        "**Limite inferior (95%)**"
      ]
    },
    {
      "cell_type": "code",
      "metadata": {
        "id": "Aioc7VZAS_WJ",
        "colab": {
          "base_uri": "https://localhost:8080/"
        },
        "outputId": "7511180e-9bbd-444a-d188-80b1f0543c9c"
      },
      "source": [
        "bottom_ap_lo, higher_ap_lo = get_confidence_interval(cardiodb.ap_lo)\n",
        "round(bottom_ap_lo, 2)"
      ],
      "execution_count": null,
      "outputs": [
        {
          "output_type": "execute_result",
          "data": {
            "text/plain": [
              "95.23"
            ]
          },
          "metadata": {
            "tags": []
          },
          "execution_count": 193
        }
      ]
    },
    {
      "cell_type": "markdown",
      "metadata": {
        "id": "Ztt6InfqS8zR"
      },
      "source": [
        "**Limite superior (95%)**"
      ]
    },
    {
      "cell_type": "code",
      "metadata": {
        "id": "lMk26YLeaXxd",
        "colab": {
          "base_uri": "https://localhost:8080/"
        },
        "outputId": "4ecb6403-8a09-47cf-ee5e-6b4ae50e9331"
      },
      "source": [
        "round(higher_ap_lo, 2)"
      ],
      "execution_count": null,
      "outputs": [
        {
          "output_type": "execute_result",
          "data": {
            "text/plain": [
              "98.03"
            ]
          },
          "metadata": {
            "tags": []
          },
          "execution_count": 194
        }
      ]
    },
    {
      "cell_type": "markdown",
      "metadata": {
        "id": "DioKSyc9Yr3t"
      },
      "source": [
        "## Comparação da média do campo numérico peso em relação a um campo categórico cardíaco"
      ]
    },
    {
      "cell_type": "code",
      "metadata": {
        "id": "KmFloZOpV8KJ",
        "colab": {
          "base_uri": "https://localhost:8080/"
        },
        "outputId": "d5adf276-8edc-4a00-9fe8-6ecae1dafd00"
      },
      "source": [
        "no_cardio_df = cardiodb.loc[cardiodb.cardio == 0]\n",
        "cardio_df = cardiodb.loc[cardiodb.cardio == 1]\n",
        "print(\"Saudável:\", no_cardio_df.shape)\n",
        "print(\"Doente:\", cardio_df.shape)"
      ],
      "execution_count": null,
      "outputs": [
        {
          "output_type": "stream",
          "text": [
            "Saudável: (35021, 13)\n",
            "Doente: (34979, 13)\n"
          ],
          "name": "stdout"
        }
      ]
    },
    {
      "cell_type": "code",
      "metadata": {
        "id": "IH-CXljqWTc7",
        "colab": {
          "base_uri": "https://localhost:8080/"
        },
        "outputId": "57267afe-84c3-43b8-b533-528fb58034fd"
      },
      "source": [
        "alfa=0.05\n",
        "\n",
        "print(\"Média do peso dos saudáveis =\", round(no_cardio_df.weight.mean(), 2))\n",
        "print(\"Desvio-padrão do peso dos saudáveis =\", round(no_cardio_df.weight.std(), 2))\n",
        "\n",
        "print(\"\\nMédia do peso dos doentes =\", round(cardio_df.weight.mean(), 2))\n",
        "print(\"Desvio-padrão do peso dos doentes =\", round(cardio_df.weight.std(), 2))\n",
        "\n",
        "t,p = ttest_ind(no_cardio_df.weight, cardio_df.weight)\n",
        "print('\\nt = %0.3f, p = %0.3f' % (t, p))\n",
        "if p > alfa:\n",
        "   print (\"\\nConclusão: aceita-se Ho, ou seja, as médias são estatisticamente iguais ao nível de significância de 5%.\")\n",
        "else:\n",
        "   print (\"\\nConclusão: rejeita-se Ho, ou seja, as médias são estatisticamente diferentes ao nível de significância de 5%.\")"
      ],
      "execution_count": null,
      "outputs": [
        {
          "output_type": "stream",
          "text": [
            "Média do peso dos saudáveis = 71.59\n",
            "Desvio-padrão do peso dos saudáveis = 13.31\n",
            "\n",
            "Média do peso dos doentes = 76.82\n",
            "Desvio-padrão do peso dos doentes = 14.96\n",
            "\n",
            "t = -48.875, p = 0.000\n",
            "\n",
            "Conclusão: rejeita-se Ho, ou seja, as médias são estatisticamente diferentes ao nível de significância de 5%.\n"
          ],
          "name": "stdout"
        }
      ]
    },
    {
      "cell_type": "markdown",
      "metadata": {
        "id": "YOBEc-ruYwr8"
      },
      "source": [
        "## Cruzamento do campo categórico fumante e o campo categórico cardíaco"
      ]
    },
    {
      "cell_type": "code",
      "metadata": {
        "id": "5g3LJDcRVDFF",
        "colab": {
          "base_uri": "https://localhost:8080/",
          "height": 136
        },
        "outputId": "a39c071f-82b2-455d-f9a1-daddc720533b"
      },
      "source": [
        "contigence_df = pd.crosstab(cardiodb.cardio, cardiodb.smoke) \n",
        "contigence_df"
      ],
      "execution_count": null,
      "outputs": [
        {
          "output_type": "execute_result",
          "data": {
            "text/html": [
              "<div>\n",
              "<style scoped>\n",
              "    .dataframe tbody tr th:only-of-type {\n",
              "        vertical-align: middle;\n",
              "    }\n",
              "\n",
              "    .dataframe tbody tr th {\n",
              "        vertical-align: top;\n",
              "    }\n",
              "\n",
              "    .dataframe thead th {\n",
              "        text-align: right;\n",
              "    }\n",
              "</style>\n",
              "<table border=\"1\" class=\"dataframe\">\n",
              "  <thead>\n",
              "    <tr style=\"text-align: right;\">\n",
              "      <th>smoke</th>\n",
              "      <th>0</th>\n",
              "      <th>1</th>\n",
              "    </tr>\n",
              "    <tr>\n",
              "      <th>cardio</th>\n",
              "      <th></th>\n",
              "      <th></th>\n",
              "    </tr>\n",
              "  </thead>\n",
              "  <tbody>\n",
              "    <tr>\n",
              "      <th>0</th>\n",
              "      <td>31781</td>\n",
              "      <td>3240</td>\n",
              "    </tr>\n",
              "    <tr>\n",
              "      <th>1</th>\n",
              "      <td>32050</td>\n",
              "      <td>2929</td>\n",
              "    </tr>\n",
              "  </tbody>\n",
              "</table>\n",
              "</div>"
            ],
            "text/plain": [
              "smoke       0     1\n",
              "cardio             \n",
              "0       31781  3240\n",
              "1       32050  2929"
            ]
          },
          "metadata": {
            "tags": []
          },
          "execution_count": 197
        }
      ]
    },
    {
      "cell_type": "code",
      "metadata": {
        "id": "hGKsY_AoUWee",
        "colab": {
          "base_uri": "https://localhost:8080/"
        },
        "outputId": "2d18f4eb-f3c7-4bd4-e0a0-6a01db66d1d5"
      },
      "source": [
        "qui, p, gl, esperado = chi2_contingency(contigence_df, correction=False)\n",
        "print(\"Valores esperados:\")\n",
        "print(esperado)\n",
        "print('\\nqui = %.3f, p = %.3f\\n' % (qui, p))\n",
        "if p > 0.05:\n",
        "\tprint('Conclusão: as variáveis são independentes. São estatisticamente iguais ao nível de significância de 5%.')\n",
        "else:\n",
        "\tprint('Conclusão: as variáveis são dependentes. São estatisticamente diferentes ao nível de significância de 5%.')"
      ],
      "execution_count": null,
      "outputs": [
        {
          "output_type": "stream",
          "text": [
            "Valores esperados:\n",
            "[[31934.6493  3086.3507]\n",
            " [31896.3507  3082.6493]]\n",
            "\n",
            "qui = 16.787, p = 0.000\n",
            "\n",
            "Conclusão: as variáveis são dependentes. São estatisticamente diferentes ao nível de significância de 5%.\n"
          ],
          "name": "stdout"
        }
      ]
    },
    {
      "cell_type": "markdown",
      "metadata": {
        "id": "mHEC2wMi2j91"
      },
      "source": [
        "# Perguntas"
      ]
    },
    {
      "cell_type": "markdown",
      "metadata": {
        "id": "lmkt6z5U3VwO"
      },
      "source": [
        "# Coleta dos Dados"
      ]
    },
    {
      "cell_type": "markdown",
      "metadata": {
        "id": "8nx1dsHG2x_a"
      },
      "source": [
        "# Pré Processamento"
      ]
    },
    {
      "cell_type": "markdown",
      "metadata": {
        "id": "3FAAo1kZ3PDk"
      },
      "source": [
        "# Exploração dos Dados"
      ]
    }
  ]
}