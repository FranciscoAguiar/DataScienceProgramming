{
  "nbformat": 4,
  "nbformat_minor": 0,
  "metadata": {
    "anaconda-cloud": {},
    "kernelspec": {
      "display_name": "Python 3",
      "language": "python",
      "name": "python3"
    },
    "language_info": {
      "codemirror_mode": {
        "name": "ipython",
        "version": 3
      },
      "file_extension": ".py",
      "mimetype": "text/x-python",
      "name": "python",
      "nbconvert_exporter": "python",
      "pygments_lexer": "ipython3",
      "version": "3.7.9"
    },
    "colab": {
      "name": "regressaoLinearSimples.ipynb",
      "provenance": [],
      "include_colab_link": true
    }
  },
  "cells": [
    {
      "cell_type": "markdown",
      "metadata": {
        "id": "view-in-github",
        "colab_type": "text"
      },
      "source": [
        "<a href=\"https://colab.research.google.com/github/FranciscoAguiar/DataScienceProgramming/blob/master/regressaoLinearMult.ipynb\" target=\"_parent\"><img src=\"https://colab.research.google.com/assets/colab-badge.svg\" alt=\"Open In Colab\"/></a>"
      ]
    },
    {
      "cell_type": "markdown",
      "metadata": {
        "id": "TS9lOpi9kEpV"
      },
      "source": [
        "# Regressão Linear Simples"
      ]
    },
    {
      "cell_type": "markdown",
      "metadata": {
        "id": "rbeP3_T7CJT6"
      },
      "source": [
        "**Aluno: Francisco de Assis Marinho Aguiar**"
      ]
    },
    {
      "cell_type": "markdown",
      "metadata": {
        "id": "IHfh0XpTkEpc"
      },
      "source": [
        "## Objetivo\n",
        "\n",
        "Construir um modelo de regressão linear simples, que seja capaz de fazer previsões sobre o valor médio das casas em função do valor total da taxa de imposto."
      ]
    },
    {
      "cell_type": "markdown",
      "metadata": {
        "id": "DM-XD_1qkEpd"
      },
      "source": [
        "## Dataset \n",
        "\n",
        "Boston Housing Dataset "
      ]
    },
    {
      "cell_type": "markdown",
      "metadata": {
        "id": "Nl7mI8gTkEpe"
      },
      "source": [
        "Dataset: https://archive.ics.uci.edu/ml/machine-learning-databases/housing/"
      ]
    },
    {
      "cell_type": "markdown",
      "metadata": {
        "id": "jmvvix4dkEpe"
      },
      "source": [
        "1. CRIM: per capita crime rate by town                                        (taxa de criminalidade per capita na cidade )\n",
        "2. ZN: proportion of residential land zoned for lots over 25,000 sq.ft. (proporção de terrenos residenciais zoneados para lotes com mais de 25.000 pés quadrados. )\n",
        "3. INDUS: proportion of non-retail business acres per town (proporção de acres de negócios não varejistas por cidade )\n",
        "4. CHAS: Charles River dummy variable (= 1 if tract bounds river; 0 otherwise) (Variável dummy de Charles River (= 1 se a área limita o rio; 0 caso contrário))\n",
        "5. NOX: nitric oxides concentration (parts per 10 million) (concentração de óxidos nítricos (partes por 10 milhões) )\n",
        "6. RM: average number of rooms per dwelling (número médio de quartos por habitação)\n",
        "7. AGE: proportion of owner-occupied units built prior to 1940 (proporção de unidades ocupadas pelo proprietário construídas antes de 1940 )\n",
        "8. DIS: weighted distances to five Boston employment centres (distâncias ponderadas até cinco centros de empregos de Boston )\n",
        "9. RAD: index of accessibility to radial highways (índice de acessibilidade a rodovias radiais )\n",
        "10. TAX: full-value property-tax rate per 10,000 (valor total da taxa de imposto sobre a propriedade por 10.000 )\n",
        "11. PTRATIO: pupil-teacher ratio by town (proporção aluno-professor por cidade )\n",
        "12. B: 1000(Bk - 0.63)^2 where Bk is the proportion of blacks by town (1000 (Bk - 0,63) ^ 2, onde Bk é a proporção de negros por cidade )\n",
        "13. LSTAT: % lower status of the population (% de status inferior da população )\n",
        "14. TARGET: Median value of owner-occupied homes in 1000 dolarés (Valor médio das casas ocupadas pelo proprietário em US $ 1.000 )"
      ]
    },
    {
      "cell_type": "code",
      "metadata": {
        "id": "5axfEFdYkEpf"
      },
      "source": [
        "# Carregando o Dataset Boston Houses\n",
        "from sklearn.datasets import load_boston\n",
        "boston = load_boston() \n",
        "\n",
        "# Carregando Bibliotecas Python\n",
        "import numpy as np\n",
        "import pandas as pd\n",
        "import matplotlib.pyplot as plt\n",
        "import matplotlib as mpl\n",
        "import warnings\n",
        "import statsmodels.api as sm\n",
        "warnings.filterwarnings(\"ignore\")\n",
        "%matplotlib inline "
      ],
      "execution_count": 70,
      "outputs": []
    },
    {
      "cell_type": "markdown",
      "metadata": {
        "id": "tbpcOR6_kEpl"
      },
      "source": [
        "## Regressão Linear com statsmodel"
      ]
    },
    {
      "cell_type": "code",
      "metadata": {
        "id": "BUB9sF3rzLrH"
      },
      "source": [
        "x = sm.add_constant(dataset['PTRATIO'])"
      ],
      "execution_count": 137,
      "outputs": []
    },
    {
      "cell_type": "code",
      "metadata": {
        "id": "fJUScGMskEpm",
        "colab": {
          "base_uri": "https://localhost:8080/"
        },
        "outputId": "eb6aa3bf-4804-4524-c5b8-c7ed23cc687a"
      },
      "source": [
        "X = dataset['PTRATIO'] \n",
        "Y = dataset['target']\n",
        "\n",
        "X = sm.add_constant(X) # adding a constant\n",
        "\n",
        "model = sm.OLS(Y, X).fit()\n",
        "predictions = model.predict(X) \n",
        "\n",
        "print_model = model.summary()\n",
        "print(print_model)"
      ],
      "execution_count": 143,
      "outputs": [
        {
          "output_type": "stream",
          "text": [
            "                            OLS Regression Results                            \n",
            "==============================================================================\n",
            "Dep. Variable:                 target   R-squared:                       0.258\n",
            "Model:                            OLS   Adj. R-squared:                  0.256\n",
            "Method:                 Least Squares   F-statistic:                     175.1\n",
            "Date:                Fri, 07 May 2021   Prob (F-statistic):           1.61e-34\n",
            "Time:                        18:25:06   Log-Likelihood:                -1764.8\n",
            "No. Observations:                 506   AIC:                             3534.\n",
            "Df Residuals:                     504   BIC:                             3542.\n",
            "Df Model:                           1                                         \n",
            "Covariance Type:            nonrobust                                         \n",
            "==============================================================================\n",
            "                 coef    std err          t      P>|t|      [0.025      0.975]\n",
            "------------------------------------------------------------------------------\n",
            "const         62.3446      3.029     20.581      0.000      56.393      68.296\n",
            "PTRATIO       -2.1572      0.163    -13.233      0.000      -2.477      -1.837\n",
            "==============================================================================\n",
            "Omnibus:                       92.924   Durbin-Watson:                   0.725\n",
            "Prob(Omnibus):                  0.000   Jarque-Bera (JB):              191.444\n",
            "Skew:                           1.001   Prob(JB):                     2.68e-42\n",
            "Kurtosis:                       5.252   Cond. No.                         160.\n",
            "==============================================================================\n",
            "\n",
            "Warnings:\n",
            "[1] Standard Errors assume that the covariance matrix of the errors is correctly specified.\n"
          ],
          "name": "stdout"
        }
      ]
    },
    {
      "cell_type": "markdown",
      "metadata": {
        "id": "FWt3dCeq8o0v"
      },
      "source": [
        "# Interpretanto os resultados\n",
        "\n",
        "Adj. R-squared : R-quadrado reflete o ajuste do modelo. Os valores de R ao quadrado variam de 0 a 1, onde um valor mais alto geralmente indica um melhor ajuste, supondo que certas condições sejam atendidas.\n",
        "\n",
        "std err: reflete o nível de precisão dos coeficientes. Quanto menor for, maior será o nível de precisão\n",
        "\n",
        "P> | t |: é o seu p-value. Um valor de p inferior a 0,05 é considerado estatisticamente significativo.\n",
        "\n",
        "Confidence Interval : O intervalo de confiança ."
      ]
    },
    {
      "cell_type": "code",
      "metadata": {
        "colab": {
          "base_uri": "https://localhost:8080/"
        },
        "id": "QBQBohQ0zTEm",
        "outputId": "3ee00a55-e13f-4836-8493-66d95ef0b1a0"
      },
      "source": [
        "type(X)"
      ],
      "execution_count": 132,
      "outputs": [
        {
          "output_type": "execute_result",
          "data": {
            "text/plain": [
              "pandas.core.frame.DataFrame"
            ]
          },
          "metadata": {
            "tags": []
          },
          "execution_count": 132
        }
      ]
    },
    {
      "cell_type": "code",
      "metadata": {
        "colab": {
          "base_uri": "https://localhost:8080/",
          "height": 111
        },
        "id": "So68eJvG60Iw",
        "outputId": "0cb1966f-6bd7-41fd-b919-7f8566728a02"
      },
      "source": [
        "d = {'col1': [6.9, 7.0]} #testando alguns valores no modelo\n",
        "df = pd.DataFrame(data=d)\n",
        "df"
      ],
      "execution_count": 133,
      "outputs": [
        {
          "output_type": "execute_result",
          "data": {
            "text/html": [
              "<div>\n",
              "<style scoped>\n",
              "    .dataframe tbody tr th:only-of-type {\n",
              "        vertical-align: middle;\n",
              "    }\n",
              "\n",
              "    .dataframe tbody tr th {\n",
              "        vertical-align: top;\n",
              "    }\n",
              "\n",
              "    .dataframe thead th {\n",
              "        text-align: right;\n",
              "    }\n",
              "</style>\n",
              "<table border=\"1\" class=\"dataframe\">\n",
              "  <thead>\n",
              "    <tr style=\"text-align: right;\">\n",
              "      <th></th>\n",
              "      <th>col1</th>\n",
              "    </tr>\n",
              "  </thead>\n",
              "  <tbody>\n",
              "    <tr>\n",
              "      <th>0</th>\n",
              "      <td>6.9</td>\n",
              "    </tr>\n",
              "    <tr>\n",
              "      <th>1</th>\n",
              "      <td>7.0</td>\n",
              "    </tr>\n",
              "  </tbody>\n",
              "</table>\n",
              "</div>"
            ],
            "text/plain": [
              "   col1\n",
              "0   6.9\n",
              "1   7.0"
            ]
          },
          "metadata": {
            "tags": []
          },
          "execution_count": 133
        }
      ]
    },
    {
      "cell_type": "code",
      "metadata": {
        "id": "YE3pXu_47CsP"
      },
      "source": [
        "X = sm.add_constant(df)\n",
        "predictions = model.predict(X) "
      ],
      "execution_count": 134,
      "outputs": []
    },
    {
      "cell_type": "code",
      "metadata": {
        "colab": {
          "base_uri": "https://localhost:8080/"
        },
        "id": "PrdIGtXi7Jpz",
        "outputId": "3c3e2d86-d613-429a-819a-950a16d27177"
      },
      "source": [
        "print(predictions)"
      ],
      "execution_count": 135,
      "outputs": [
        {
          "output_type": "stream",
          "text": [
            "0    28.133931\n",
            "1    29.044142\n",
            "dtype: float64\n"
          ],
          "name": "stdout"
        }
      ]
    },
    {
      "cell_type": "markdown",
      "metadata": {
        "id": "mXokOIhckEpp"
      },
      "source": [
        "### Gerando um ScatterPlot com a Linha de Regressão"
      ]
    },
    {
      "cell_type": "code",
      "metadata": {
        "id": "zyrsA2G3BTfJ"
      },
      "source": [
        "valores_previstos = model.predict(X)"
      ],
      "execution_count": 144,
      "outputs": []
    },
    {
      "cell_type": "code",
      "metadata": {
        "id": "_RAw6j-QkEpq"
      },
      "source": [
        "# Range de valores para x e y\n",
        "x_range = [dataset['PTRATIO'].min(), dataset['PTRATIO'].max()]\n",
        "y_range = [dataset['target'].min(), dataset['target'].max()]"
      ],
      "execution_count": 145,
      "outputs": []
    },
    {
      "cell_type": "code",
      "metadata": {
        "id": "IQgFLa84kEpq",
        "colab": {
          "base_uri": "https://localhost:8080/",
          "height": 283
        },
        "outputId": "191e2839-b36f-48de-8bc7-368fa1cd8c09"
      },
      "source": [
        "# Primeira camada do Scatter Plot\n",
        "scatter_plot = dataset.plot(kind = 'scatter', x = 'PTRATIO', y = 'target', xlim = x_range, ylim = y_range)\n",
        "\n",
        "# Segunda camada do Scatter Plot (médias)\n",
        "meanY = scatter_plot.plot(x_range, [dataset['target'].mean(),dataset['target'].mean()], '--', color = 'red', linewidth = 1)\n",
        "meanX = scatter_plot.plot([dataset['PTRATIO'].mean(),dataset['PTRATIO'].mean()], y_range, '--', color = 'red', linewidth = 1)\n",
        "\n",
        "# Terceira camada do Scatter Plot (linha de regressão)\n",
        "regression_line = scatter_plot.plot(dataset['PTRATIO'], valores_previstos, '-', color = 'orange', linewidth = 2)"
      ],
      "execution_count": 146,
      "outputs": [
        {
          "output_type": "display_data",
          "data": {
            "image/png": "[encoded data removed]",
            "text/plain": [
              "<Figure size 432x288 with 1 Axes>"
            ]
          },
          "metadata": {
            "tags": [],
            "needs_background": "light"
          }
        }
      ]
    }
  ]
}