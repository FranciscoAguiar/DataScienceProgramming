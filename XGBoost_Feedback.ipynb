{
  "nbformat": 4,
  "nbformat_minor": 0,
  "metadata": {
    "colab": {
      "name": "Untitled7.ipynb",
      "provenance": [],
      "authorship_tag": "ABX9TyM7dKfmDHJRMMtvIzO7jNox",
      "include_colab_link": true
    },
    "kernelspec": {
      "name": "python3",
      "display_name": "Python 3"
    },
    "language_info": {
      "name": "python"
    }
  },
  "cells": [
    {
      "cell_type": "markdown",
      "metadata": {
        "id": "view-in-github",
        "colab_type": "text"
      },
      "source": [
        "<a href=\"https://colab.research.google.com/github/FranciscoAguiar/DataScienceProgramming/blob/master/XGBoost_Feedback.ipynb\" target=\"_parent\"><img src=\"https://colab.research.google.com/assets/colab-badge.svg\" alt=\"Open In Colab\"/></a>"
      ]
    },
    {
      "cell_type": "code",
      "metadata": {
        "id": "9Xim7aCI4R8B"
      },
      "source": [
        "from numpy import loadtxt\n",
        "from xgboost import XGBClassifier\n",
        "from sklearn.model_selection import train_test_split,RepeatedStratifiedKFold\n",
        "from sklearn.metrics import accuracy_score, confusion_matrix, cohen_kappa_score, classification_report\n",
        "import pandas as pd\n",
        "import numpy as np\n",
        "from sklearn.preprocessing import LabelBinarizer, LabelEncoder"
      ],
      "execution_count": 14,
      "outputs": []
    },
    {
      "cell_type": "code",
      "metadata": {
        "id": "he2OIkHp8MNF"
      },
      "source": [
        "dataset = pd.read_csv('combined.csv', sep=',')"
      ],
      "execution_count": 2,
      "outputs": []
    },
    {
      "cell_type": "code",
      "metadata": {
        "id": "Rec6k0vMFDU9",
        "colab": {
          "base_uri": "https://localhost:8080/"
        },
        "outputId": "5ec3997c-9940-48cc-aed0-3582b520e853"
      },
      "source": [
        "dataset.dtypes"
      ],
      "execution_count": 3,
      "outputs": [
        {
          "output_type": "execute_result",
          "data": {
            "text/plain": [
              "id           int64\n",
              "feedback    object\n",
              "classe       int64\n",
              "dtype: object"
            ]
          },
          "metadata": {
            "tags": []
          },
          "execution_count": 3
        }
      ]
    },
    {
      "cell_type": "code",
      "metadata": {
        "id": "R74SByXq8qFL",
        "colab": {
          "base_uri": "https://localhost:8080/",
          "height": 204
        },
        "outputId": "d53dfed8-60d5-4288-bcbc-f49ed271ab6e"
      },
      "source": [
        "dataset.head(5)"
      ],
      "execution_count": 4,
      "outputs": [
        {
          "output_type": "execute_result",
          "data": {
            "text/html": [
              "<div>\n",
              "<style scoped>\n",
              "    .dataframe tbody tr th:only-of-type {\n",
              "        vertical-align: middle;\n",
              "    }\n",
              "\n",
              "    .dataframe tbody tr th {\n",
              "        vertical-align: top;\n",
              "    }\n",
              "\n",
              "    .dataframe thead th {\n",
              "        text-align: right;\n",
              "    }\n",
              "</style>\n",
              "<table border=\"1\" class=\"dataframe\">\n",
              "  <thead>\n",
              "    <tr style=\"text-align: right;\">\n",
              "      <th></th>\n",
              "      <th>id</th>\n",
              "      <th>feedback</th>\n",
              "      <th>classe</th>\n",
              "    </tr>\n",
              "  </thead>\n",
              "  <tbody>\n",
              "    <tr>\n",
              "      <th>0</th>\n",
              "      <td>23</td>\n",
              "      <td>Ler outros textos sobre o assunto para lher da...</td>\n",
              "      <td>0</td>\n",
              "    </tr>\n",
              "    <tr>\n",
              "      <th>1</th>\n",
              "      <td>24</td>\n",
              "      <td>Procure ler mais; para escrever mais acerca do...</td>\n",
              "      <td>0</td>\n",
              "    </tr>\n",
              "    <tr>\n",
              "      <th>2</th>\n",
              "      <td>35</td>\n",
              "      <td>Texto bom; precisa apenas ler mais um pouco; p...</td>\n",
              "      <td>0</td>\n",
              "    </tr>\n",
              "    <tr>\n",
              "      <th>3</th>\n",
              "      <td>37</td>\n",
              "      <td>Ter cuidado com copias da internet.</td>\n",
              "      <td>0</td>\n",
              "    </tr>\n",
              "    <tr>\n",
              "      <th>4</th>\n",
              "      <td>68</td>\n",
              "      <td>Carssimo; o trabalho precisa de uma sistematiz...</td>\n",
              "      <td>1</td>\n",
              "    </tr>\n",
              "  </tbody>\n",
              "</table>\n",
              "</div>"
            ],
            "text/plain": [
              "   id                                           feedback  classe\n",
              "0  23  Ler outros textos sobre o assunto para lher da...       0\n",
              "1  24  Procure ler mais; para escrever mais acerca do...       0\n",
              "2  35  Texto bom; precisa apenas ler mais um pouco; p...       0\n",
              "3  37                Ter cuidado com copias da internet.       0\n",
              "4  68  Carssimo; o trabalho precisa de uma sistematiz...       1"
            ]
          },
          "metadata": {
            "tags": []
          },
          "execution_count": 4
        }
      ]
    },
    {
      "cell_type": "code",
      "metadata": {
        "id": "XQNPRxqmIQUl"
      },
      "source": [
        "le = LabelEncoder()\n",
        "dataset[\"feedback\"] = le.fit_transform(dataset[\"feedback\"].astype(str))"
      ],
      "execution_count": 6,
      "outputs": []
    },
    {
      "cell_type": "code",
      "metadata": {
        "id": "ziRio2NmGqqw"
      },
      "source": [
        "str_cols = dataset.columns[dataset.columns.str.contains('(?:feedback)')]\n",
        "clfs = {c:LabelEncoder() for c in str_cols}\n",
        "\n",
        "for col, clf in clfs.items():\n",
        "    dataset[col] = clfs[col].fit_transform(dataset[col])"
      ],
      "execution_count": 7,
      "outputs": []
    },
    {
      "cell_type": "code",
      "metadata": {
        "id": "aNgYouoa5TDD"
      },
      "source": [
        "# split data into X and y\n",
        "X = dataset.iloc[:, :-1]\n",
        "Y = dataset.iloc[:, -1]"
      ],
      "execution_count": 8,
      "outputs": []
    },
    {
      "cell_type": "code",
      "metadata": {
        "colab": {
          "base_uri": "https://localhost:8080/"
        },
        "id": "OfsH0vRB5WO0",
        "outputId": "e179931c-029b-4519-9697-5bae46b7c05f"
      },
      "source": [
        "X.shape"
      ],
      "execution_count": 9,
      "outputs": [
        {
          "output_type": "execute_result",
          "data": {
            "text/plain": [
              "(1000, 2)"
            ]
          },
          "metadata": {
            "tags": []
          },
          "execution_count": 9
        }
      ]
    },
    {
      "cell_type": "code",
      "metadata": {
        "colab": {
          "base_uri": "https://localhost:8080/"
        },
        "id": "xQDEJXr95Yma",
        "outputId": "dfd37150-395c-41aa-979a-f00621bd02d5"
      },
      "source": [
        "Y.shape"
      ],
      "execution_count": 10,
      "outputs": [
        {
          "output_type": "execute_result",
          "data": {
            "text/plain": [
              "(1000,)"
            ]
          },
          "metadata": {
            "tags": []
          },
          "execution_count": 10
        }
      ]
    },
    {
      "cell_type": "code",
      "metadata": {
        "id": "TyXkpfR4GQYe",
        "colab": {
          "base_uri": "https://localhost:8080/",
          "height": 419
        },
        "outputId": "88e86477-4df7-407d-9984-700eaa1adfdd"
      },
      "source": [
        "X"
      ],
      "execution_count": 11,
      "outputs": [
        {
          "output_type": "execute_result",
          "data": {
            "text/html": [
              "<div>\n",
              "<style scoped>\n",
              "    .dataframe tbody tr th:only-of-type {\n",
              "        vertical-align: middle;\n",
              "    }\n",
              "\n",
              "    .dataframe tbody tr th {\n",
              "        vertical-align: top;\n",
              "    }\n",
              "\n",
              "    .dataframe thead th {\n",
              "        text-align: right;\n",
              "    }\n",
              "</style>\n",
              "<table border=\"1\" class=\"dataframe\">\n",
              "  <thead>\n",
              "    <tr style=\"text-align: right;\">\n",
              "      <th></th>\n",
              "      <th>id</th>\n",
              "      <th>feedback</th>\n",
              "    </tr>\n",
              "  </thead>\n",
              "  <tbody>\n",
              "    <tr>\n",
              "      <th>0</th>\n",
              "      <td>23</td>\n",
              "      <td>389</td>\n",
              "    </tr>\n",
              "    <tr>\n",
              "      <th>1</th>\n",
              "      <td>24</td>\n",
              "      <td>635</td>\n",
              "    </tr>\n",
              "    <tr>\n",
              "      <th>2</th>\n",
              "      <td>35</td>\n",
              "      <td>732</td>\n",
              "    </tr>\n",
              "    <tr>\n",
              "      <th>3</th>\n",
              "      <td>37</td>\n",
              "      <td>726</td>\n",
              "    </tr>\n",
              "    <tr>\n",
              "      <th>4</th>\n",
              "      <td>68</td>\n",
              "      <td>236</td>\n",
              "    </tr>\n",
              "    <tr>\n",
              "      <th>...</th>\n",
              "      <td>...</td>\n",
              "      <td>...</td>\n",
              "    </tr>\n",
              "    <tr>\n",
              "      <th>995</th>\n",
              "      <td>13809</td>\n",
              "      <td>648</td>\n",
              "    </tr>\n",
              "    <tr>\n",
              "      <th>996</th>\n",
              "      <td>13810</td>\n",
              "      <td>650</td>\n",
              "    </tr>\n",
              "    <tr>\n",
              "      <th>997</th>\n",
              "      <td>13811</td>\n",
              "      <td>713</td>\n",
              "    </tr>\n",
              "    <tr>\n",
              "      <th>998</th>\n",
              "      <td>13813</td>\n",
              "      <td>720</td>\n",
              "    </tr>\n",
              "    <tr>\n",
              "      <th>999</th>\n",
              "      <td>13814</td>\n",
              "      <td>722</td>\n",
              "    </tr>\n",
              "  </tbody>\n",
              "</table>\n",
              "<p>1000 rows × 2 columns</p>\n",
              "</div>"
            ],
            "text/plain": [
              "        id  feedback\n",
              "0       23       389\n",
              "1       24       635\n",
              "2       35       732\n",
              "3       37       726\n",
              "4       68       236\n",
              "..     ...       ...\n",
              "995  13809       648\n",
              "996  13810       650\n",
              "997  13811       713\n",
              "998  13813       720\n",
              "999  13814       722\n",
              "\n",
              "[1000 rows x 2 columns]"
            ]
          },
          "metadata": {
            "tags": []
          },
          "execution_count": 11
        }
      ]
    },
    {
      "cell_type": "code",
      "metadata": {
        "id": "7OE8wxiO1_Mb"
      },
      "source": [
        "def erro_por_classe(matriz_confusao, resultados):\n",
        "    # A PARTIR DA MATRIZ DE CONFUSÃO CALCULA O ERRO POR CLASSE\n",
        "    # **\n",
        "    # matriz_confusao - soma das matrize de confusão de cada fold do tipo ndarray(numpy) de forma NxN\n",
        "    # resultados - dicionário de todos os resultados\n",
        "    # **\n",
        "    # retorna o dicionário resultados com os erros de cada classe preenchidos\n",
        "\n",
        "    tam = matriz_confusao.shape[0]\n",
        "\n",
        "    for i in range(tam):\n",
        "\n",
        "        acerto = matriz_confusao[i][i]\n",
        "        total = sum(matriz_confusao[i])\n",
        "\n",
        "        taxa_erro = round(1 - (acerto / total),4)\n",
        "\n",
        "        resultados[\"erro_classe_\"+str(i)].append(taxa_erro)"
      ],
      "execution_count": 15,
      "outputs": []
    },
    {
      "cell_type": "code",
      "metadata": {
        "id": "Njbf8Lf32JhG"
      },
      "source": [
        "def validacao_cruzada(X, y, features, k, ntree, resultados ):\n",
        "    ##É REALIZADO OS O EXPERIMENTO COM VALIDAÇÃO CRUZADA E OS RESULTADOS É ADICIONADO A UM DICIONÁRIO\n",
        "    # **\n",
        "    # X - dados\n",
        "    # y - classes\n",
        "    # k - número de folds\n",
        "    # ntree - Número de árvores\n",
        "    # mtry - número de features\n",
        "    # metricas - lista de metricas que serão utilizadas na avaliacão( \"acurácia\",\"kappa\", \"OOB_erro\")\n",
        "    # resultados - dicionário que vai ser utilizado para cada experimento, salvando os resultados em um dicionário para ser salvo em CSV\n",
        "    # **\n",
        "    # retorna o dicionário resultados com os resultados desse experimento adicionados\n",
        "\n",
        "    resultados_parciais = {} #SALVAR RESULTADOS DE CADA RODADA DA VALIDAÇÃO CRUZADA\n",
        "    resultados_parciais.update({'ntree': []})\n",
        "    resultados_parciais.update({'mtry': []})\n",
        "    resultados_parciais.update({'acurácia': []})\n",
        "    resultados_parciais.update({'kappa': []})\n",
        "    resultados_parciais.update({'accuracy': []})\n",
        "    resultados_parciais.update({'erro': []})\n",
        "\n",
        "    ## VALIDAÇÃO CRUZADA\n",
        "\n",
        "    rkf = RepeatedStratifiedKFold(n_splits=5, n_repeats=1, random_state=54321) #DIVIDI OS DADOS NOS CONJUNTOS QUE SERÃO DE      TREINO E TESTE EM CADA RODADA DA VALIDAÇÃO CRUZZADA\n",
        "\n",
        "    matriz_confusao = np.zeros((2,2))\n",
        "\n",
        "\n",
        "    for train_index, test_index in rkf.split(X, y):\n",
        "        X_train, X_test = [X.iloc[i] for i in train_index], [X.iloc[j] for j in test_index]\n",
        "        y_train, y_test = [y.iloc[i] for i in train_index], [y.iloc[j] for j in test_index]\n",
        "\n",
        "        X_train_np = np.asarray(X_train)\n",
        "        X_test_np = np.asarray(X_test)\n",
        "        y_train_np = np.asarray(y_train)\n",
        "        y_test_np = np.asarray(y_test)\n",
        "\n",
        "        classificador = XGBClassifier(n_estimators=ntree)\n",
        "        classificador.fit(X_train_np, y_train_np)\n",
        "        y_pred = classificador.predict(X_test_np)\n",
        "\n",
        "        resultados_parciais[\"acurácia\"].append(accuracy_score(y_pred, y_test_np))\n",
        "        resultados_parciais[\"kappa\"].append(cohen_kappa_score(y_pred, y_test_np))\n",
        "\n",
        "        matriz_confusao = matriz_confusao + confusion_matrix(y_pred=y_pred, y_true=y_test_np) ##A MATRIZ DE CONFUSÃO FINAL SERÁ A SOMA DAS MATRIZES DE CONFUSÃO DE CADA RODADA DO KFOLD\n",
        "\n",
        "\n",
        "    ## SALVANDO OS PARÊMTROS E RESULTADOS DO EXPERIMENTO\n",
        "\n",
        "\n",
        "    #print(matriz_confusao)\n",
        "    resultados['ntree'].append(classificador.n_estimators)\n",
        "    erro_por_classe(matriz_confusao, resultados)\n",
        "\n",
        "    media = np.mean(resultados_parciais[\"acurácia\"])\n",
        "    std = np.std(resultados_parciais[\"acurácia\"])\n",
        "    resultados[\"acurácia\"].append(str(round(media,4))+\"(\"+str(round(std,4))+\")\")\n",
        "\n",
        "    resultados[\"accuracy\"].append(round(media, 4))\n",
        "    resultados[\"erro\"].append(round(1 - media, 4))\n",
        "\n",
        "    media = np.mean(resultados_parciais[\"kappa\"])\n",
        "    std = np.std(resultados_parciais[\"kappa\"])\n",
        "    resultados[\"kappa\"].append(str(round(media, 4)) + \"(\" + str(round(std, 4)) + \")\")\n",
        "\n",
        "\n",
        "\n",
        "    return resultados, classificador\n"
      ],
      "execution_count": 16,
      "outputs": []
    },
    {
      "cell_type": "code",
      "metadata": {
        "id": "jP_1iNPr2jF9",
        "outputId": "f3c1f060-7665-4ff7-e79c-4ae10ccca988",
        "colab": {
          "base_uri": "https://localhost:8080/"
        }
      },
      "source": [
        "features = dataset.columns.difference(['id_feedback','class'])\n",
        "print(features)\n"
      ],
      "execution_count": 17,
      "outputs": [
        {
          "output_type": "stream",
          "text": [
            "Index(['classe', 'feedback', 'id'], dtype='object')\n"
          ],
          "name": "stdout"
        }
      ]
    },
    {
      "cell_type": "code",
      "metadata": {
        "id": "moZCS3l95njM"
      },
      "source": [
        "X_train, X_test, y_train, y_test = train_test_split(X, Y, test_size=0.2, random_state=123)\n"
      ],
      "execution_count": 18,
      "outputs": []
    },
    {
      "cell_type": "code",
      "metadata": {
        "id": "8SjrChh221Ig"
      },
      "source": [
        "resultados = {}\n",
        "resultados.update({'ntree': []})\n",
        "resultados.update({'mtry': []})\n",
        "resultados.update({'acurácia': []})\n",
        "resultados.update({'kappa': []})\n",
        "resultados.update({'accuracy': []})\n",
        "resultados.update({'erro': []})"
      ],
      "execution_count": 20,
      "outputs": []
    },
    {
      "cell_type": "code",
      "metadata": {
        "id": "1zzZ_knd261b"
      },
      "source": [
        "classes = set(y_train)\n",
        "for i in classes:\n",
        "    resultados.update({\"erro_classe_\"+str(i):[]})\n"
      ],
      "execution_count": 21,
      "outputs": []
    },
    {
      "cell_type": "code",
      "metadata": {
        "id": "E9p32-K-29sT"
      },
      "source": [
        "j = 0\n",
        "maior = 0.0\n",
        "best_mtree = 0\n",
        "\n",
        "##NTREE - TREINAMENTO\n",
        "for i in range(100,601,50):\n",
        "   #mtry = randint(5, 116)\n",
        "\n",
        "  resultados, classificador = validacao_cruzada(X_train, y_train, features, k=10, ntree=i, resultados=resultados)\n",
        "\n",
        "  if resultados[\"accuracy\"][j] > maior:\n",
        "    maior = resultados[\"accuracy\"][j]\n",
        "    best_classifier = classificador\n",
        "    best_mtree = i\n",
        "  j = j+1"
      ],
      "execution_count": 23,
      "outputs": []
    },
    {
      "cell_type": "code",
      "metadata": {
        "id": "au7afIo03iOS"
      },
      "source": [
        "def printResults(vector):\n",
        "    for element in vector:\n",
        "        print(element)"
      ],
      "execution_count": 25,
      "outputs": []
    },
    {
      "cell_type": "code",
      "metadata": {
        "id": "sf3AJcK73Uto",
        "outputId": "20d7eb6a-4849-4767-87e5-d79f1b47e209",
        "colab": {
          "base_uri": "https://localhost:8080/"
        }
      },
      "source": [
        "print(\"RESULTADOS: \\n\")\n",
        "print(resultados)\n",
        "\n",
        "printResults(resultados['acurácia'])\n",
        "printResults(resultados['kappa'])"
      ],
      "execution_count": 26,
      "outputs": [
        {
          "output_type": "stream",
          "text": [
            "RESULTADOS: \n",
            "\n",
            "{'ntree': [100, 150, 200, 250, 300, 350, 400, 450, 500, 550, 600], 'mtry': [], 'acurácia': ['0.89(0.005)', '0.8862(0.0073)', '0.8838(0.0161)', '0.88(0.015)', '0.8875(0.0168)', '0.8788(0.0184)', '0.8775(0.02)', '0.875(0.0224)', '0.8762(0.0218)', '0.8775(0.02)', '0.8788(0.0196)'], 'kappa': ['0.027(0.0486)', '0.0528(0.0441)', '0.0945(0.0622)', '0.0855(0.0566)', '0.1552(0.0991)', '0.1352(0.0985)', '0.1334(0.1008)', '0.1292(0.1039)', '0.141(0.1195)', '0.155(0.1049)', '0.1691(0.101)'], 'accuracy': [0.89, 0.8862, 0.8838, 0.88, 0.8875, 0.8788, 0.8775, 0.875, 0.8762, 0.8775, 0.8788], 'erro': [0.11, 0.1138, 0.1162, 0.12, 0.1125, 0.1212, 0.1225, 0.125, 0.1237, 0.1225, 0.1212], 'erro_classe_0': [0.9765, 0.9529, 0.9176, 0.9176, 0.8706, 0.8706, 0.8706, 0.8706, 0.8588, 0.8471, 0.8353], 'erro_classe_1': [0.007, 0.014, 0.021, 0.0252, 0.0224, 0.0322, 0.0336, 0.0364, 0.0364, 0.0364, 0.0364]}\n",
            "0.89(0.005)\n",
            "0.8862(0.0073)\n",
            "0.8838(0.0161)\n",
            "0.88(0.015)\n",
            "0.8875(0.0168)\n",
            "0.8788(0.0184)\n",
            "0.8775(0.02)\n",
            "0.875(0.0224)\n",
            "0.8762(0.0218)\n",
            "0.8775(0.02)\n",
            "0.8788(0.0196)\n",
            "0.027(0.0486)\n",
            "0.0528(0.0441)\n",
            "0.0945(0.0622)\n",
            "0.0855(0.0566)\n",
            "0.1552(0.0991)\n",
            "0.1352(0.0985)\n",
            "0.1334(0.1008)\n",
            "0.1292(0.1039)\n",
            "0.141(0.1195)\n",
            "0.155(0.1049)\n",
            "0.1691(0.101)\n"
          ],
          "name": "stdout"
        }
      ]
    },
    {
      "cell_type": "code",
      "metadata": {
        "id": "T6I-kiXi93Yq"
      },
      "source": [
        "rkf = RepeatedStratifiedKFold(n_splits=5, n_repeats=1, random_state=54321) #DIVIDI OS DADOS NOS CONJUNTOS QUE SERÃO DE      TREINO E TESTE EM CADA RODADA DA VALIDAÇÃO CRUZZADA\n"
      ],
      "execution_count": null,
      "outputs": []
    },
    {
      "cell_type": "code",
      "metadata": {
        "id": "GlAvP_WQ-KF0"
      },
      "source": [
        "        X_train, X_test = [X.iloc[i] for i in train_index], [X.iloc[j] for j in test_index]\n",
        "        y_train, y_test = [Y.iloc[i] for i in train_index], [Y.iloc[j] for j in test_index]\n",
        "\n",
        "        X_train_np = np.asarray(X_train)\n",
        "        X_test_np = np.asarray(X_test)\n",
        "        y_train_np = np.asarray(y_train)\n",
        "        y_test_np = np.asarray(y_test)\n",
        "\n",
        "       \n",
        "       "
      ],
      "execution_count": null,
      "outputs": []
    },
    {
      "cell_type": "code",
      "metadata": {
        "colab": {
          "base_uri": "https://localhost:8080/"
        },
        "id": "sxuQhxis5zGq",
        "outputId": "a29e2b20-172d-4ae3-8064-5ee385bc7856"
      },
      "source": [
        "model = XGBClassifier()\n",
        "model.fit(X_train_np, y_train_np)"
      ],
      "execution_count": null,
      "outputs": [
        {
          "output_type": "execute_result",
          "data": {
            "text/plain": [
              "XGBClassifier(base_score=0.5, booster='gbtree', colsample_bylevel=1,\n",
              "              colsample_bynode=1, colsample_bytree=1, gamma=0,\n",
              "              learning_rate=0.1, max_delta_step=0, max_depth=3,\n",
              "              min_child_weight=1, missing=None, n_estimators=100, n_jobs=1,\n",
              "              nthread=None, objective='binary:logistic', random_state=0,\n",
              "              reg_alpha=0, reg_lambda=1, scale_pos_weight=1, seed=None,\n",
              "              silent=None, subsample=1, verbosity=1)"
            ]
          },
          "metadata": {
            "tags": []
          },
          "execution_count": 98
        }
      ]
    },
    {
      "cell_type": "code",
      "metadata": {
        "colab": {
          "base_uri": "https://localhost:8080/"
        },
        "id": "F1Aej-Pg57UJ",
        "outputId": "cbaf7c86-ba74-42fe-aa69-e663990cd417"
      },
      "source": [
        "print(model)"
      ],
      "execution_count": null,
      "outputs": [
        {
          "output_type": "stream",
          "text": [
            "XGBClassifier(base_score=0.5, booster='gbtree', colsample_bylevel=1,\n",
            "              colsample_bynode=1, colsample_bytree=1, gamma=0,\n",
            "              learning_rate=0.1, max_delta_step=0, max_depth=3,\n",
            "              min_child_weight=1, missing=None, n_estimators=100, n_jobs=1,\n",
            "              nthread=None, objective='binary:logistic', random_state=0,\n",
            "              reg_alpha=0, reg_lambda=1, scale_pos_weight=1, seed=None,\n",
            "              silent=None, subsample=1, verbosity=1)\n"
          ],
          "name": "stdout"
        }
      ]
    },
    {
      "cell_type": "code",
      "metadata": {
        "id": "dzxm2lEB5-gN"
      },
      "source": [
        "# make predictions for test data\n",
        "y_pred = model.predict(X_test)\n",
        "predictions = [round(value) for value in y_pred]\n"
      ],
      "execution_count": null,
      "outputs": []
    },
    {
      "cell_type": "code",
      "metadata": {
        "colab": {
          "base_uri": "https://localhost:8080/"
        },
        "id": "cyw4_Ic36OGZ",
        "outputId": "21c1984a-7321-4fbb-88ec-8d1d1bd2523a"
      },
      "source": [
        "# evaluate predictions\n",
        "accuracy = accuracy_score(y_test, predictions)\n",
        "print(\"Accuracy: %.2f%%\" % (accuracy * 100.0))\n"
      ],
      "execution_count": null,
      "outputs": [
        {
          "output_type": "stream",
          "text": [
            "Accuracy: 66.67%\n"
          ],
          "name": "stdout"
        }
      ]
    }
  ]
}